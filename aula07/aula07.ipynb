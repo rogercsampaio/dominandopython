{
  "cells": [
    {
      "cell_type": "markdown",
      "source": [
        "# Aula 07 - LOOPS"
      ],
      "metadata": {
        "nteract": {
          "transient": {
            "deleting": false
          }
        }
      }
    },
    {
      "cell_type": "markdown",
      "source": [
        "## Exemplo 1: Vamos contar de 1 até 10?"
      ],
      "metadata": {
        "nteract": {
          "transient": {
            "deleting": false
          }
        }
      }
    },
    {
      "cell_type": "code",
      "source": [
        "# Aprendendo consultar a documentação oficial\r\n",
        "help(range)"
      ],
      "outputs": [],
      "execution_count": null,
      "metadata": {
        "jupyter": {
          "source_hidden": false,
          "outputs_hidden": false
        },
        "nteract": {
          "transient": {
            "deleting": false
          }
        },
        "gather": {
          "logged": 1659094939907
        }
      }
    },
    {
      "cell_type": "code",
      "source": [
        "sequencia = list(range(0,10,1))\r\n",
        "sequencia"
      ],
      "outputs": [],
      "execution_count": null,
      "metadata": {
        "jupyter": {
          "source_hidden": false,
          "outputs_hidden": false
        },
        "nteract": {
          "transient": {
            "deleting": false
          }
        },
        "gather": {
          "logged": 1659095275272
        }
      }
    },
    {
      "cell_type": "code",
      "source": [
        "sequencia = list(range(0,10))\r\n",
        "sequencia"
      ],
      "outputs": [],
      "execution_count": null,
      "metadata": {
        "jupyter": {
          "source_hidden": false,
          "outputs_hidden": false
        },
        "nteract": {
          "transient": {
            "deleting": false
          }
        },
        "gather": {
          "logged": 1659095306174
        }
      }
    },
    {
      "cell_type": "code",
      "source": [
        "sequencia = list(range(0,10,2))\r\n",
        "sequencia"
      ],
      "outputs": [],
      "execution_count": null,
      "metadata": {
        "jupyter": {
          "source_hidden": false,
          "outputs_hidden": false
        },
        "nteract": {
          "transient": {
            "deleting": false
          }
        },
        "gather": {
          "logged": 1659095330226
        }
      }
    },
    {
      "cell_type": "code",
      "source": [
        "# Contando de 1 em 1.\r\n",
        "# RANGE já gerou a sequência, o FOR irá apenas percorrer ela.\r\n",
        "# numero = numero + 1\r\n",
        "for numero in range(0,10,1):\r\n",
        "    print('Estou no número: ',numero)"
      ],
      "outputs": [
        {
          "output_type": "stream",
          "name": "stdout",
          "text": "Estou no número:  0\nEstou no número:  1\nEstou no número:  2\nEstou no número:  3\nEstou no número:  4\nEstou no número:  5\nEstou no número:  6\nEstou no número:  7\nEstou no número:  8\nEstou no número:  9\n"
        }
      ],
      "execution_count": 14,
      "metadata": {
        "jupyter": {
          "source_hidden": false,
          "outputs_hidden": false
        },
        "nteract": {
          "transient": {
            "deleting": false
          }
        },
        "gather": {
          "logged": 1659096657795
        }
      }
    },
    {
      "cell_type": "code",
      "source": [
        "# Contando de 1 em 1, não levando em consideração o zero\r\n",
        "for numero in range(1,11,1):\r\n",
        "    print('Estou no número: ',numero)"
      ],
      "outputs": [
        {
          "output_type": "stream",
          "name": "stdout",
          "text": "Estou no número:  1\nEstou no número:  2\nEstou no número:  3\nEstou no número:  4\nEstou no número:  5\nEstou no número:  6\nEstou no número:  7\nEstou no número:  8\nEstou no número:  9\nEstou no número:  10\n"
        }
      ],
      "execution_count": 15,
      "metadata": {
        "jupyter": {
          "source_hidden": false,
          "outputs_hidden": false
        },
        "nteract": {
          "transient": {
            "deleting": false
          }
        },
        "gather": {
          "logged": 1659096717748
        }
      }
    },
    {
      "cell_type": "code",
      "source": [
        "# Contando de 2 em 2.\r\n",
        "# RANGE, numero = numero + 2\r\n",
        "for numero in range(0,10,2):\r\n",
        "    print('Estou no número: ',numero)\r\n",
        "    "
      ],
      "outputs": [
        {
          "output_type": "stream",
          "name": "stdout",
          "text": "Estou no número:  0\nEstou no número:  2\nEstou no número:  4\nEstou no número:  6\nEstou no número:  8\n"
        }
      ],
      "execution_count": 16,
      "metadata": {
        "jupyter": {
          "source_hidden": false,
          "outputs_hidden": false
        },
        "nteract": {
          "transient": {
            "deleting": false
          }
        },
        "gather": {
          "logged": 1659096975122
        }
      }
    },
    {
      "cell_type": "markdown",
      "source": [
        "## Exemplo 2: Exibir número pares entre 0 e 10"
      ],
      "metadata": {
        "nteract": {
          "transient": {
            "deleting": false
          }
        }
      }
    },
    {
      "cell_type": "code",
      "source": [
        "for numero in range(0,10,1):\r\n",
        "    if(numero % 2 == 0):\r\n",
        "        # número par\r\n",
        "        print('Número par: ', numero)\r\n"
      ],
      "outputs": [
        {
          "output_type": "stream",
          "name": "stdout",
          "text": "Número par:  0\nNúmero par:  2\nNúmero par:  4\nNúmero par:  6\nNúmero par:  8\n"
        }
      ],
      "execution_count": 17,
      "metadata": {
        "jupyter": {
          "source_hidden": false,
          "outputs_hidden": false
        },
        "nteract": {
          "transient": {
            "deleting": false
          }
        },
        "gather": {
          "logged": 1659097018604
        }
      }
    },
    {
      "cell_type": "code",
      "source": [
        "for numero in range(0,10):\r\n",
        "    if(numero % 2 != 0):\r\n",
        "        # número ímpar\r\n",
        "        print('Número ímpar ',numero)"
      ],
      "outputs": [
        {
          "output_type": "stream",
          "name": "stdout",
          "text": "Número ímpar  1\nNúmero ímpar  3\nNúmero ímpar  5\nNúmero ímpar  7\nNúmero ímpar  9\n"
        }
      ],
      "execution_count": 18,
      "metadata": {
        "jupyter": {
          "source_hidden": false,
          "outputs_hidden": false
        },
        "nteract": {
          "transient": {
            "deleting": false
          }
        },
        "gather": {
          "logged": 1659097038318
        }
      }
    },
    {
      "cell_type": "markdown",
      "source": [
        "## Outra proposta de solução: contando número de 1 até 10, com WHILE"
      ],
      "metadata": {
        "nteract": {
          "transient": {
            "deleting": false
          }
        }
      }
    },
    {
      "cell_type": "code",
      "source": [
        "# Obs: WHILE não possui um CONTROLE, cuidado para não entrar em LOOP INFINITO. WHILE precisamos: 1. inicializar a variável de controle antes do loop, 2. definir\r\n",
        "# a condição de parada, 3. especificar o incremento\r\n",
        "contador = 0\r\n",
        "while (contador < 10): #condição de parada\r\n",
        "    print('Estou no número: ',contador)\r\n",
        "    # incremento, a cada passada, iteração\r\n",
        "    contador = contador + 1\r\n"
      ],
      "outputs": [
        {
          "output_type": "stream",
          "name": "stdout",
          "text": "Estou no número:  0\nEstou no número:  1\nEstou no número:  2\nEstou no número:  3\nEstou no número:  4\nEstou no número:  5\nEstou no número:  6\nEstou no número:  7\nEstou no número:  8\nEstou no número:  9\n"
        }
      ],
      "execution_count": 19,
      "metadata": {
        "jupyter": {
          "source_hidden": false,
          "outputs_hidden": false
        },
        "nteract": {
          "transient": {
            "deleting": false
          }
        },
        "gather": {
          "logged": 1659097257734
        }
      }
    },
    {
      "cell_type": "markdown",
      "source": [
        "## Outra proposta de solução: contando número de 1 até 10, com WHILE, mostrando apenas números PARES"
      ],
      "metadata": {
        "nteract": {
          "transient": {
            "deleting": false
          }
        }
      }
    },
    {
      "cell_type": "code",
      "source": [
        "\r\n",
        "contador = 0\r\n",
        "while (contador < 10): #condição de parada\r\n",
        "    if (contador % 2 == 0):\r\n",
        "        print('Número par ',contador)\r\n",
        "    contador = contador + 1"
      ],
      "outputs": [
        {
          "output_type": "stream",
          "name": "stdout",
          "text": "Número par  0\nNúmero par  2\nNúmero par  4\nNúmero par  6\nNúmero par  8\n"
        }
      ],
      "execution_count": 20,
      "metadata": {
        "jupyter": {
          "source_hidden": false,
          "outputs_hidden": false
        },
        "nteract": {
          "transient": {
            "deleting": false
          }
        },
        "gather": {
          "logged": 1659097307770
        }
      }
    },
    {
      "cell_type": "markdown",
      "source": [
        "## WHILE COM ELSE"
      ],
      "metadata": {
        "nteract": {
          "transient": {
            "deleting": false
          }
        }
      }
    },
    {
      "cell_type": "code",
      "source": [
        "# WHILE com ELSE. O ELSE é opcional, mas caso esteja disponível será executado após terminar o WHILE.\r\n",
        "contador = 0\r\n",
        "while (contador < 10): #condição de parada\r\n",
        "    if (contador % 2 == 0):\r\n",
        "        print('Número par ',contador)\r\n",
        "    contador = contador + 1\r\n",
        "else:\r\n",
        "    print('O comando WHILE foi devidamente encerrado')"
      ],
      "outputs": [
        {
          "output_type": "stream",
          "name": "stdout",
          "text": "Número par  0\nNúmero par  2\nNúmero par  4\nNúmero par  6\nNúmero par  8\nO comando WHILE foi devidamente encerrado\n"
        }
      ],
      "execution_count": 21,
      "metadata": {
        "jupyter": {
          "source_hidden": false,
          "outputs_hidden": false
        },
        "nteract": {
          "transient": {
            "deleting": false
          }
        },
        "gather": {
          "logged": 1659097352055
        }
      }
    },
    {
      "cell_type": "markdown",
      "source": [
        "## BREAK e CONTINUE.\r\n",
        "Ambos podem ser utilizados tanto no FOR como WHILE, sendo opcional seu uso. Comando BREAK interrompe o loop, enquanto CONTINUE prossegue com o loop.\r\n"
      ],
      "metadata": {
        "nteract": {
          "transient": {
            "deleting": false
          }
        }
      }
    },
    {
      "cell_type": "markdown",
      "source": [
        "## Exemplo 3: Exibir número pares entre 0 e 10, interrompendo no número 6."
      ],
      "metadata": {
        "nteract": {
          "transient": {
            "deleting": false
          }
        }
      }
    },
    {
      "cell_type": "code",
      "source": [
        "for numero in range(0,10,1):\r\n",
        "    if(numero % 2 == 0):\r\n",
        "        # número par\r\n",
        "        print('Número par: ', numero)\r\n",
        "        if (numero == 6):\r\n",
        "            print('LOOP INTERROMPIDO')\r\n",
        "            break\r\n"
      ],
      "outputs": [
        {
          "output_type": "stream",
          "name": "stdout",
          "text": "Número par:  0\nNúmero par:  2\nNúmero par:  4\nNúmero par:  6\nLOOP INTERROMPIDO\n"
        }
      ],
      "execution_count": 23,
      "metadata": {
        "jupyter": {
          "source_hidden": false,
          "outputs_hidden": false
        },
        "nteract": {
          "transient": {
            "deleting": false
          }
        },
        "gather": {
          "logged": 1659221394044
        }
      }
    },
    {
      "cell_type": "code",
      "source": [
        "# Outra proposta de solução: exibir apenas pares sem usar IF.\r\n",
        "for numero in range(0,10,2):\r\n",
        "    print(numero)\r\n",
        "    if (numero == 6):\r\n",
        "            print('LOOP INTERROMPIDO')\r\n",
        "            break"
      ],
      "outputs": [
        {
          "output_type": "stream",
          "name": "stdout",
          "text": "0\n2\n4\n6\nLOOP INTERROMPIDO\n"
        }
      ],
      "execution_count": 24,
      "metadata": {
        "jupyter": {
          "source_hidden": false,
          "outputs_hidden": false
        },
        "nteract": {
          "transient": {
            "deleting": false
          }
        },
        "gather": {
          "logged": 1659221446220
        }
      }
    },
    {
      "cell_type": "markdown",
      "source": [
        "## Exemplo 4: Exibir número pares entre 0 e 10, dando uma mensagem no número 6 e interrompendo no número 8."
      ],
      "metadata": {
        "nteract": {
          "transient": {
            "deleting": false
          }
        }
      }
    },
    {
      "cell_type": "code",
      "source": [
        "# Outra proposta de solução: exibir apenas pares sem usar IF.\r\n",
        "for numero in range(0,10,2):\r\n",
        "    print(numero)\r\n",
        "    if (numero == 6):\r\n",
        "            print('Cheguei no número 6')\r\n",
        "            continue\r\n",
        "    if (numero == 8):\r\n",
        "            break        \r\n",
        "    "
      ],
      "outputs": [
        {
          "output_type": "stream",
          "name": "stdout",
          "text": "0\n2\n4\n6\nCheguei no número 6\n8\n"
        }
      ],
      "execution_count": 25,
      "metadata": {
        "jupyter": {
          "source_hidden": false,
          "outputs_hidden": false
        },
        "nteract": {
          "transient": {
            "deleting": false
          }
        },
        "gather": {
          "logged": 1659221488478
        }
      }
    },
    {
      "cell_type": "markdown",
      "source": [
        "## Loops infinitos"
      ],
      "metadata": {
        "nteract": {
          "transient": {
            "deleting": false
          }
        }
      }
    },
    {
      "cell_type": "markdown",
      "source": [
        "O comando WHILE não tem um número certo de iterações (repetições), porque depende exclusivamente da condição estabelecida. Enquanto a condinção for VERDADEIRA, o comando WHILE continuará sendo executado. Devemos ter cuidado em especial para garantir que uma hora a condição será FALSA, caso contrário estaremos diante de um LOOP infinito (o programa NUNCA será encerrado)."
      ],
      "metadata": {
        "nteract": {
          "transient": {
            "deleting": false
          }
        }
      }
    },
    {
      "cell_type": "code",
      "source": [
        "nome = input('Informe um nome: ')"
      ],
      "outputs": [],
      "execution_count": 26,
      "metadata": {
        "jupyter": {
          "source_hidden": false,
          "outputs_hidden": false
        },
        "nteract": {
          "transient": {
            "deleting": false
          }
        },
        "gather": {
          "logged": 1659221555804
        }
      }
    },
    {
      "cell_type": "code",
      "source": [
        "while (nome):\r\n",
        "    nome = input('Informe um nome: ')"
      ],
      "outputs": [
        {
          "output_type": "error",
          "ename": "KeyboardInterrupt",
          "evalue": "Interrupted by user",
          "traceback": [
            "\u001b[0;31m---------------------------------------------------------------------------\u001b[0m",
            "\u001b[0;31mKeyboardInterrupt\u001b[0m                         Traceback (most recent call last)",
            "Input \u001b[0;32mIn [27]\u001b[0m, in \u001b[0;36m<cell line: 1>\u001b[0;34m()\u001b[0m\n\u001b[1;32m      1\u001b[0m \u001b[38;5;28;01mwhile\u001b[39;00m (nome):\n\u001b[0;32m----> 2\u001b[0m     nome \u001b[38;5;241m=\u001b[39m \u001b[38;5;28;43minput\u001b[39;49m\u001b[43m(\u001b[49m\u001b[38;5;124;43m'\u001b[39;49m\u001b[38;5;124;43mInforme um nome: \u001b[39;49m\u001b[38;5;124;43m'\u001b[39;49m\u001b[43m)\u001b[49m\n",
            "File \u001b[0;32m/anaconda/envs/azureml_py38/lib/python3.8/site-packages/ipykernel/kernelbase.py:1007\u001b[0m, in \u001b[0;36mKernel.raw_input\u001b[0;34m(self, prompt)\u001b[0m\n\u001b[1;32m   1003\u001b[0m \u001b[38;5;28;01mif\u001b[39;00m \u001b[38;5;129;01mnot\u001b[39;00m \u001b[38;5;28mself\u001b[39m\u001b[38;5;241m.\u001b[39m_allow_stdin:\n\u001b[1;32m   1004\u001b[0m     \u001b[38;5;28;01mraise\u001b[39;00m StdinNotImplementedError(\n\u001b[1;32m   1005\u001b[0m         \u001b[38;5;124m\"\u001b[39m\u001b[38;5;124mraw_input was called, but this frontend does not support input requests.\u001b[39m\u001b[38;5;124m\"\u001b[39m\n\u001b[1;32m   1006\u001b[0m     )\n\u001b[0;32m-> 1007\u001b[0m \u001b[38;5;28;01mreturn\u001b[39;00m \u001b[38;5;28;43mself\u001b[39;49m\u001b[38;5;241;43m.\u001b[39;49m\u001b[43m_input_request\u001b[49m\u001b[43m(\u001b[49m\n\u001b[1;32m   1008\u001b[0m \u001b[43m    \u001b[49m\u001b[38;5;28;43mstr\u001b[39;49m\u001b[43m(\u001b[49m\u001b[43mprompt\u001b[49m\u001b[43m)\u001b[49m\u001b[43m,\u001b[49m\n\u001b[1;32m   1009\u001b[0m \u001b[43m    \u001b[49m\u001b[38;5;28;43mself\u001b[39;49m\u001b[38;5;241;43m.\u001b[39;49m\u001b[43m_parent_ident\u001b[49m\u001b[43m[\u001b[49m\u001b[38;5;124;43m\"\u001b[39;49m\u001b[38;5;124;43mshell\u001b[39;49m\u001b[38;5;124;43m\"\u001b[39;49m\u001b[43m]\u001b[49m\u001b[43m,\u001b[49m\n\u001b[1;32m   1010\u001b[0m \u001b[43m    \u001b[49m\u001b[38;5;28;43mself\u001b[39;49m\u001b[38;5;241;43m.\u001b[39;49m\u001b[43mget_parent\u001b[49m\u001b[43m(\u001b[49m\u001b[38;5;124;43m\"\u001b[39;49m\u001b[38;5;124;43mshell\u001b[39;49m\u001b[38;5;124;43m\"\u001b[39;49m\u001b[43m)\u001b[49m\u001b[43m,\u001b[49m\n\u001b[1;32m   1011\u001b[0m \u001b[43m    \u001b[49m\u001b[43mpassword\u001b[49m\u001b[38;5;241;43m=\u001b[39;49m\u001b[38;5;28;43;01mFalse\u001b[39;49;00m\u001b[43m,\u001b[49m\n\u001b[1;32m   1012\u001b[0m \u001b[43m\u001b[49m\u001b[43m)\u001b[49m\n",
            "File \u001b[0;32m/anaconda/envs/azureml_py38/lib/python3.8/site-packages/ipykernel/kernelbase.py:1052\u001b[0m, in \u001b[0;36mKernel._input_request\u001b[0;34m(self, prompt, ident, parent, password)\u001b[0m\n\u001b[1;32m   1049\u001b[0m             \u001b[38;5;28;01mbreak\u001b[39;00m\n\u001b[1;32m   1050\u001b[0m \u001b[38;5;28;01mexcept\u001b[39;00m \u001b[38;5;167;01mKeyboardInterrupt\u001b[39;00m:\n\u001b[1;32m   1051\u001b[0m     \u001b[38;5;66;03m# re-raise KeyboardInterrupt, to truncate traceback\u001b[39;00m\n\u001b[0;32m-> 1052\u001b[0m     \u001b[38;5;28;01mraise\u001b[39;00m \u001b[38;5;167;01mKeyboardInterrupt\u001b[39;00m(\u001b[38;5;124m\"\u001b[39m\u001b[38;5;124mInterrupted by user\u001b[39m\u001b[38;5;124m\"\u001b[39m) \u001b[38;5;28;01mfrom\u001b[39;00m \u001b[38;5;28mNone\u001b[39m\n\u001b[1;32m   1053\u001b[0m \u001b[38;5;28;01mexcept\u001b[39;00m \u001b[38;5;167;01mException\u001b[39;00m:\n\u001b[1;32m   1054\u001b[0m     \u001b[38;5;28mself\u001b[39m\u001b[38;5;241m.\u001b[39mlog\u001b[38;5;241m.\u001b[39mwarning(\u001b[38;5;124m\"\u001b[39m\u001b[38;5;124mInvalid Message:\u001b[39m\u001b[38;5;124m\"\u001b[39m, exc_info\u001b[38;5;241m=\u001b[39m\u001b[38;5;28;01mTrue\u001b[39;00m)\n",
            "\u001b[0;31mKeyboardInterrupt\u001b[0m: Interrupted by user"
          ]
        }
      ],
      "execution_count": 27,
      "metadata": {
        "jupyter": {
          "source_hidden": false,
          "outputs_hidden": false
        },
        "nteract": {
          "transient": {
            "deleting": false
          }
        },
        "gather": {
          "logged": 1659221589416
        }
      }
    },
    {
      "cell_type": "code",
      "source": [
        "## Corrigindo o loop infinito\r\n",
        "opcao = 'S'\r\n",
        "nome = input('Informe um nome: ')\r\n",
        "while (opcao != 'N'):\r\n",
        "    nome = input('Informe um nome: ')\r\n",
        "    opcao = input('Deseja continuar? N para não.')\r\n"
      ],
      "outputs": [],
      "execution_count": 28,
      "metadata": {
        "jupyter": {
          "source_hidden": false,
          "outputs_hidden": false
        },
        "nteract": {
          "transient": {
            "deleting": false
          }
        },
        "gather": {
          "logged": 1659221675852
        }
      }
    },
    {
      "cell_type": "markdown",
      "source": [
        "Importante ressaltar que podemos combinar os LOOPS, ou seja, dentro do FOR um comando WHILE ou ao contrário, tudo depende do que pretendemos construir."
      ],
      "metadata": {
        "nteract": {
          "transient": {
            "deleting": false
          }
        }
      }
    }
  ],
  "metadata": {
    "kernelspec": {
      "name": "python38-azureml",
      "language": "python",
      "display_name": "Python 3.8 - AzureML"
    },
    "language_info": {
      "name": "python",
      "version": "3.8.5",
      "mimetype": "text/x-python",
      "codemirror_mode": {
        "name": "ipython",
        "version": 3
      },
      "pygments_lexer": "ipython3",
      "nbconvert_exporter": "python",
      "file_extension": ".py"
    },
    "kernel_info": {
      "name": "python38-azureml"
    },
    "nteract": {
      "version": "nteract-front-end@1.0.0"
    }
  },
  "nbformat": 4,
  "nbformat_minor": 2
}