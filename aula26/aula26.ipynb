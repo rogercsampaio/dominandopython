{
  "cells": [
    {
      "cell_type": "markdown",
      "source": [
        "<img src=\"imagens/logo_oficial.jpg\"/>"
      ],
      "metadata": {
        "nteract": {
          "transient": {
            "deleting": false
          }
        }
      }
    },
    {
      "cell_type": "markdown",
      "source": [
        "<h2> Exercício 1 </h2>"
      ],
      "metadata": {
        "nteract": {
          "transient": {
            "deleting": false
          }
        }
      }
    },
    {
      "cell_type": "code",
      "source": [
        "class Bola:\r\n",
        "    # Método construtor\r\n",
        "    def __init__(self,cor,circunferencia,material):\r\n",
        "        self.cor = cor\r\n",
        "        self.circunferencia = circunferencia\r\n",
        "        self.material = material\r\n",
        "        print(\"Bola fabricada\")\r\n",
        "\r\n",
        "    # Método especial acionado automaticamente quando executamos o print(objeto)\r\n",
        "    def __str__(self):\r\n",
        "        descricao_obj = f\"Cor da bola {self.cor},circunferência {self.circunferencia}, material {self.material} \"\r\n",
        "        return descricao_obj\r\n",
        "    \r\n",
        "    def trocarCor(self,nova_cor):\r\n",
        "        cor_antiga = self.cor\r\n",
        "        self.cor = nova_cor\r\n",
        "        print(f'''Cor antiga {cor_antiga}, nova cor {self.cor}''')\r\n",
        "    \r\n",
        "    def mostrarCor(self):\r\n",
        "        print(f'''Cor atual {self.cor}''')\r\n",
        "    \r\n",
        "        "
      ],
      "outputs": [],
      "execution_count": 50,
      "metadata": {
        "jupyter": {
          "source_hidden": false,
          "outputs_hidden": false
        },
        "nteract": {
          "transient": {
            "deleting": false
          }
        },
        "gather": {
          "logged": 1674615014264
        }
      }
    },
    {
      "cell_type": "code",
      "source": [
        "bola1 = Bola(\"branco\",68.5,\"plástico\")\r\n",
        "bola2 = Bola(\"preto\",66.7,\"plástico\")\r\n",
        "bola3 = Bola(\"branco\",68.1,\"plástico\")\r\n",
        "print(\"Bolas fabricadas\")"
      ],
      "outputs": [
        {
          "output_type": "stream",
          "name": "stdout",
          "text": "Bola fabricada\nBola fabricada\nBola fabricada\nBolas fabricadas\n"
        }
      ],
      "execution_count": 51,
      "metadata": {
        "jupyter": {
          "source_hidden": false,
          "outputs_hidden": false
        },
        "nteract": {
          "transient": {
            "deleting": false
          }
        },
        "gather": {
          "logged": 1674615016797
        }
      }
    },
    {
      "cell_type": "code",
      "source": [
        "print(bola1)"
      ],
      "outputs": [
        {
          "output_type": "stream",
          "name": "stdout",
          "text": "Cor da bola branco,circunferência 68.5, material plástico \n"
        }
      ],
      "execution_count": 52,
      "metadata": {
        "jupyter": {
          "source_hidden": false,
          "outputs_hidden": false
        },
        "nteract": {
          "transient": {
            "deleting": false
          }
        },
        "gather": {
          "logged": 1674615019019
        }
      }
    },
    {
      "cell_type": "code",
      "source": [
        "print(bola1.cor)"
      ],
      "outputs": [
        {
          "output_type": "stream",
          "name": "stdout",
          "text": "branco\n"
        }
      ],
      "execution_count": 53,
      "metadata": {
        "jupyter": {
          "source_hidden": false,
          "outputs_hidden": false
        },
        "nteract": {
          "transient": {
            "deleting": false
          }
        },
        "gather": {
          "logged": 1674615024708
        }
      }
    },
    {
      "cell_type": "code",
      "source": [
        "print(bola2)"
      ],
      "outputs": [
        {
          "output_type": "stream",
          "name": "stdout",
          "text": "Cor da bola preto,circunferência 66.7, material plástico \n"
        }
      ],
      "execution_count": 54,
      "metadata": {
        "jupyter": {
          "source_hidden": false,
          "outputs_hidden": false
        },
        "nteract": {
          "transient": {
            "deleting": false
          }
        },
        "gather": {
          "logged": 1674615029829
        }
      }
    },
    {
      "cell_type": "code",
      "source": [
        "print(bola3)"
      ],
      "outputs": [
        {
          "output_type": "stream",
          "name": "stdout",
          "text": "Cor da bola branco,circunferência 68.1, material plástico \n"
        }
      ],
      "execution_count": 55,
      "metadata": {
        "jupyter": {
          "source_hidden": false,
          "outputs_hidden": false
        },
        "nteract": {
          "transient": {
            "deleting": false
          }
        },
        "gather": {
          "logged": 1674615036748
        }
      }
    },
    {
      "cell_type": "code",
      "source": [
        "bola3.trocarCor(\"rosa\")\r\n",
        "bola3.mostrarCor()"
      ],
      "outputs": [
        {
          "output_type": "stream",
          "name": "stdout",
          "text": "Cor antiga branco, nova cor rosa\nCor atual rosa\n"
        }
      ],
      "execution_count": 56,
      "metadata": {
        "jupyter": {
          "source_hidden": false,
          "outputs_hidden": false
        },
        "nteract": {
          "transient": {
            "deleting": false
          }
        },
        "gather": {
          "logged": 1674615046036
        }
      }
    },
    {
      "cell_type": "markdown",
      "source": [
        "<h2> Exercício 2 </h2>"
      ],
      "metadata": {
        "nteract": {
          "transient": {
            "deleting": false
          }
        }
      }
    },
    {
      "cell_type": "code",
      "source": [
        "class ContaCorrente:\r\n",
        "\r\n",
        "    def __init__(self,numero_conta,nome_correntista,saldo = 0):\r\n",
        "        self.numero_conta = numero_conta\r\n",
        "        self.nome_correntista = nome_correntista\r\n",
        "        self.saldo = saldo\r\n",
        "        print(f\"A conta corrente de número {numero_conta} foi criada com êxito\")\r\n",
        "\r\n",
        "    def alterarNome(self,novo_nome):\r\n",
        "        print(f\"Nome atual {self.nome_correntista}\")\r\n",
        "        self.nome_correntista = novo_nome\r\n",
        "        print(f\"Nome novo {self.nome_correntista}\")\r\n",
        "        print(f\"Nome alterado com êxito\")\r\n",
        "    \r\n",
        "    def depositar(self,novo_valor_saldo):\r\n",
        "        print(f\"Saldo atual {self.saldo}\")\r\n",
        "        self.saldo += novo_valor_saldo\r\n",
        "        print(f\"Saldo novo {self.saldo}\")\r\n",
        "        print(f\"Saldo alterado com êxito\")\r\n",
        "    \r\n",
        "    def sacar(self,valor_saque):\r\n",
        "        print(f\"Saldo atual {self.saldo}\")\r\n",
        "        if(valor_saque <= 0):\r\n",
        "            print(f\"Não é permitido saques zerados ou negativos.\")\r\n",
        "        elif(valor_saque <= self.saldo):\r\n",
        "            self.saldo -= valor_saque\r\n",
        "            print(f\"Saldo novo {self.saldo}\")\r\n",
        "            print(f\"Saque efetivado com êxito\")\r\n",
        "        else:\r\n",
        "            print(f\"Não há saldo suficiente\")\r\n",
        "    \r\n",
        "    def mostrar_resumo(self):\r\n",
        "        print(f\"Nome {self.nome_correntista}\")\r\n",
        "        print(f\"Número da conta {self.numero_conta}\")\r\n",
        "        print(f\"Saldo {self.saldo}\")\r\n"
      ],
      "outputs": [],
      "execution_count": 61,
      "metadata": {
        "jupyter": {
          "source_hidden": false,
          "outputs_hidden": false
        },
        "nteract": {
          "transient": {
            "deleting": false
          }
        },
        "gather": {
          "logged": 1674615645958
        }
      }
    },
    {
      "cell_type": "code",
      "source": [
        "conta1 = ContaCorrente(\"12345\",\"Roger Sampaio\")\r\n",
        "conta1.mostrar_resumo()"
      ],
      "outputs": [
        {
          "output_type": "stream",
          "name": "stdout",
          "text": "A conta corrente de número 12345 foi criada com êxito\nNome Roger Sampaio\nNúmero da conta 12345\nSaldo 0\n"
        }
      ],
      "execution_count": 62,
      "metadata": {
        "jupyter": {
          "source_hidden": false,
          "outputs_hidden": false
        },
        "nteract": {
          "transient": {
            "deleting": false
          }
        },
        "gather": {
          "logged": 1674615648378
        }
      }
    },
    {
      "cell_type": "code",
      "source": [
        "conta1.sacar(200.00)"
      ],
      "outputs": [
        {
          "output_type": "stream",
          "name": "stdout",
          "text": "Saldo atual 0\nNão há saldo suficiente\n"
        }
      ],
      "execution_count": 63,
      "metadata": {
        "jupyter": {
          "source_hidden": false,
          "outputs_hidden": false
        },
        "nteract": {
          "transient": {
            "deleting": false
          }
        },
        "gather": {
          "logged": 1674615651147
        }
      }
    },
    {
      "cell_type": "code",
      "source": [
        "conta1.sacar(0)"
      ],
      "outputs": [
        {
          "output_type": "stream",
          "name": "stdout",
          "text": "Saldo atual 0\nNão é permitido saques zerados ou negativos.\n"
        }
      ],
      "execution_count": 64,
      "metadata": {
        "jupyter": {
          "source_hidden": false,
          "outputs_hidden": false
        },
        "nteract": {
          "transient": {
            "deleting": false
          }
        },
        "gather": {
          "logged": 1674615652765
        }
      }
    },
    {
      "cell_type": "code",
      "source": [
        "conta1.mostrar_resumo()"
      ],
      "outputs": [
        {
          "output_type": "stream",
          "name": "stdout",
          "text": "Nome Roger Sampaio\nNúmero da conta 12345\nSaldo 0\n"
        }
      ],
      "execution_count": 65,
      "metadata": {
        "jupyter": {
          "source_hidden": false,
          "outputs_hidden": false
        },
        "nteract": {
          "transient": {
            "deleting": false
          }
        },
        "gather": {
          "logged": 1674615658219
        }
      }
    },
    {
      "cell_type": "code",
      "source": [
        "conta2 = ContaCorrente(\"56789\",\"Ane Silva\",100)\r\n",
        "conta2.mostrar_resumo()"
      ],
      "outputs": [
        {
          "output_type": "stream",
          "name": "stdout",
          "text": "A conta corrente de número 56789 foi criada com êxito\nNome Ane Silva\nNúmero da conta 56789\nSaldo 100\n"
        }
      ],
      "execution_count": 66,
      "metadata": {
        "jupyter": {
          "source_hidden": false,
          "outputs_hidden": false
        },
        "nteract": {
          "transient": {
            "deleting": false
          }
        },
        "gather": {
          "logged": 1674615674100
        }
      }
    },
    {
      "cell_type": "code",
      "source": [
        "conta2.mostrar_resumo()"
      ],
      "outputs": [
        {
          "output_type": "stream",
          "name": "stdout",
          "text": "Nome Ane Silva\nNúmero da conta 56789\nSaldo 100\n"
        }
      ],
      "execution_count": 69,
      "metadata": {
        "jupyter": {
          "source_hidden": false,
          "outputs_hidden": false
        },
        "nteract": {
          "transient": {
            "deleting": false
          }
        },
        "gather": {
          "logged": 1674615701697
        }
      }
    },
    {
      "cell_type": "code",
      "source": [
        "conta2.sacar(400)"
      ],
      "outputs": [
        {
          "output_type": "stream",
          "name": "stdout",
          "text": "Saldo atual 100\nNão há saldo suficiente\n"
        }
      ],
      "execution_count": 68,
      "metadata": {
        "jupyter": {
          "source_hidden": false,
          "outputs_hidden": false
        },
        "nteract": {
          "transient": {
            "deleting": false
          }
        },
        "gather": {
          "logged": 1674615695639
        }
      }
    },
    {
      "cell_type": "code",
      "source": [
        "conta2.sacar(50)"
      ],
      "outputs": [
        {
          "output_type": "stream",
          "name": "stdout",
          "text": "Saldo atual 100\nSaldo novo 50\nSaque efetivado com êxito\n"
        }
      ],
      "execution_count": 70,
      "metadata": {
        "jupyter": {
          "source_hidden": false,
          "outputs_hidden": false
        },
        "nteract": {
          "transient": {
            "deleting": false
          }
        },
        "gather": {
          "logged": 1674615709232
        }
      }
    },
    {
      "cell_type": "code",
      "source": [
        "conta2.mostrar_resumo()"
      ],
      "outputs": [
        {
          "output_type": "stream",
          "name": "stdout",
          "text": "Nome Ane Silva\nNúmero da conta 56789\nSaldo 50\n"
        }
      ],
      "execution_count": 71,
      "metadata": {
        "jupyter": {
          "source_hidden": false,
          "outputs_hidden": false
        },
        "nteract": {
          "transient": {
            "deleting": false
          }
        },
        "gather": {
          "logged": 1674615724902
        }
      }
    },
    {
      "cell_type": "code",
      "source": [
        "conta2.depositar(400)"
      ],
      "outputs": [
        {
          "output_type": "stream",
          "name": "stdout",
          "text": "Saldo atual 50\nSaldo novo 450\nSaldo alterado com êxito\n"
        }
      ],
      "execution_count": 72,
      "metadata": {
        "jupyter": {
          "source_hidden": false,
          "outputs_hidden": false
        },
        "nteract": {
          "transient": {
            "deleting": false
          }
        },
        "gather": {
          "logged": 1674615732655
        }
      }
    },
    {
      "cell_type": "code",
      "source": [
        "conta2.sacar(300)"
      ],
      "outputs": [
        {
          "output_type": "stream",
          "name": "stdout",
          "text": "Saldo atual 450\nSaldo novo 150\nSaque efetivado com êxito\n"
        }
      ],
      "execution_count": 73,
      "metadata": {
        "jupyter": {
          "source_hidden": false,
          "outputs_hidden": false
        },
        "nteract": {
          "transient": {
            "deleting": false
          }
        },
        "gather": {
          "logged": 1674615741801
        }
      }
    },
    {
      "cell_type": "code",
      "source": [
        "conta2.mostrar_resumo()"
      ],
      "outputs": [
        {
          "output_type": "stream",
          "name": "stdout",
          "text": "Nome Ane Silva\nNúmero da conta 56789\nSaldo 150\n"
        }
      ],
      "execution_count": 74,
      "metadata": {
        "jupyter": {
          "source_hidden": false,
          "outputs_hidden": false
        },
        "nteract": {
          "transient": {
            "deleting": false
          }
        },
        "gather": {
          "logged": 1674615746490
        }
      }
    },
    {
      "cell_type": "markdown",
      "source": [
        "<h2> Exercício 3 </h2>"
      ],
      "metadata": {
        "nteract": {
          "transient": {
            "deleting": false
          }
        }
      }
    },
    {
      "cell_type": "code",
      "source": [
        "class bombaCombustivel:\r\n",
        "\r\n",
        "    \r\n",
        "    class tiposCombustiveis:\r\n",
        "        def __init__(self):\r\n",
        "            self.tipos_combustiveis = {\"1\":\"gasolina\",\"2\":\"alcool\",\"3\":\"diesel\"}\r\n",
        "            print(\"Combustíveis criados\")\r\n",
        "        \r\n",
        "        def escolher_combustivel(self,tipo):\r\n",
        "            try:\r\n",
        "                nome_combustivel = self.tipos_combustiveis[tipo]\r\n",
        "            except KeyError: \r\n",
        "                print(\"Combustível inválido\")\r\n",
        "                return \"INVÁLIDO\"\r\n",
        "            else:\r\n",
        "                return nome_combustivel\r\n",
        "\r\n",
        "    def __init__(self):\r\n",
        "        self.tipoCombustivel = self.tiposCombustiveis()\r\n",
        "        self.str_tipo_combustivel = \"\"\r\n",
        "        self.valorLitro = 0.0\r\n",
        "        self.quantidadeCombustivelTotal = 0 # bomba\r\n",
        "        print(\"Bomba de posto criada.\")\r\n",
        "    \r\n",
        "    def __str__(self):\r\n",
        "        if(self.str_tipo_combustivel == \"\"):\r\n",
        "            descricao_obj = f''' Valor litro R$ {self.valorLitro}, tipo de combustível NENHUM\r\n",
        "            quantidade total na bomba em litros {self.quantidadeCombustivelTotal}'''\r\n",
        "        else:\r\n",
        "            descricao_obj = f''' Valor litro R$ {self.valorLitro},  tipo de combustível {self.str_tipo_combustivel}\r\n",
        "            quantidade total na bomba em litros {self.quantidadeCombustivelTotal}'''\r\n",
        "        return descricao_obj\r\n",
        "\r\n",
        "\r\n",
        "    # Métodos ligados ao comportamento da bomba\r\n",
        "    def alterar_valor(self,novo_valor_litro):\r\n",
        "        self.valorLitro = novo_valor_litro\r\n",
        "    \r\n",
        "    def alterar_combustivel(self,novo_combustivel_id):\r\n",
        "        self.str_tipo_combustivel = self.tipoCombustivel.escolher_combustivel(novo_combustivel_id)\r\n",
        "        print(f\"TIPO DE COMBUSTÍVEL {self.str_tipo_combustivel}\")\r\n",
        "\r\n",
        "    def alterar_quantidade_combustivel(self,quantidadeCombustivelTotal):\r\n",
        "        self.quantidadeCombustivelTotal = quantidadeCombustivelTotal\r\n",
        "        print(\"Bomba abastecida.\")\r\n",
        "\r\n",
        "\r\n",
        "    # Métodos ligados ao consumidor\r\n",
        "    def abastecer_por_valor(self,valor):\r\n",
        "        print(\"Valor a abastecer em R$ \",valor)\r\n",
        "        if(self.valorLitro == 0):\r\n",
        "            print(\"O valor do LITRO em R$ está zerado, retifique!\")\r\n",
        "            return\r\n",
        "        elif (self.quantidadeCombustivelTotal <= 0):\r\n",
        "            print(\"A bomba está vazia, retifique!\")\r\n",
        "            return\r\n",
        "        else:\r\n",
        "            qtde_litros = valor//self.valorLitro\r\n",
        "            print(\"Qtde de litros \",qtde_litros)\r\n",
        "            self.quantidadeCombustivelTotal -= qtde_litros\r\n",
        "\r\n",
        "\r\n",
        "    def abastecer_por_litro(self,litros):\r\n",
        "        print(\"Qtde de litros a abastecer: \",litros)\r\n",
        "        if(self.valorLitro == 0):\r\n",
        "            print(\"O valor do LITRO em R$ está zerado, retifique!\")\r\n",
        "            return\r\n",
        "        elif (self.quantidadeCombustivelTotal <= 0):\r\n",
        "            print(\"A bomba está vazia, retifique!\")\r\n",
        "            return\r\n",
        "        elif (litros > self.quantidadeCombustivelTotal):\r\n",
        "            print(\"Não há combustível suficiente!\")\r\n",
        "            return\r\n",
        "        else:\r\n",
        "            print(\"Valor final a ser pago R$ \",litros * self.valorLitro)\r\n",
        "            # atualizando o valor de litros\r\n",
        "            self.quantidadeCombustivelTotal -= litros\r\n",
        "        \r\n",
        "    \r\n",
        "\r\n"
      ],
      "outputs": [],
      "execution_count": 94,
      "metadata": {
        "jupyter": {
          "source_hidden": false,
          "outputs_hidden": false
        },
        "nteract": {
          "transient": {
            "deleting": false
          }
        },
        "gather": {
          "logged": 1674617667553
        }
      }
    },
    {
      "cell_type": "code",
      "source": [
        "bomba1 = bombaCombustivel()"
      ],
      "outputs": [
        {
          "output_type": "stream",
          "name": "stdout",
          "text": "Combustíveis criados\nBomba de posto criada.\n"
        }
      ],
      "execution_count": 95,
      "metadata": {
        "jupyter": {
          "source_hidden": false,
          "outputs_hidden": false
        },
        "nteract": {
          "transient": {
            "deleting": false
          }
        },
        "gather": {
          "logged": 1674617671148
        }
      }
    },
    {
      "cell_type": "code",
      "source": [
        "print(bomba1)"
      ],
      "outputs": [
        {
          "output_type": "stream",
          "name": "stdout",
          "text": " Valor litro R$ 0.0, tipo de combustível NENHUM\n            quantidade total na bomba em litros 0\n"
        }
      ],
      "execution_count": 96,
      "metadata": {
        "jupyter": {
          "source_hidden": false,
          "outputs_hidden": false
        },
        "nteract": {
          "transient": {
            "deleting": false
          }
        },
        "gather": {
          "logged": 1674617673115
        }
      }
    },
    {
      "cell_type": "code",
      "source": [
        "bomba1.alterar_combustivel(\"2\")"
      ],
      "outputs": [
        {
          "output_type": "stream",
          "name": "stdout",
          "text": "TIPO DE COMBUSTÍVEL alcool\n"
        }
      ],
      "execution_count": 97,
      "metadata": {
        "jupyter": {
          "source_hidden": false,
          "outputs_hidden": false
        },
        "nteract": {
          "transient": {
            "deleting": false
          }
        },
        "gather": {
          "logged": 1674617676043
        }
      }
    },
    {
      "cell_type": "code",
      "source": [
        "print(bomba1)"
      ],
      "outputs": [
        {
          "output_type": "stream",
          "name": "stdout",
          "text": " Valor litro R$ 0.0,  tipo de combustível alcool\n            quantidade total na bomba em litros 0\n"
        }
      ],
      "execution_count": 83,
      "metadata": {
        "jupyter": {
          "source_hidden": false,
          "outputs_hidden": false
        },
        "nteract": {
          "transient": {
            "deleting": false
          }
        },
        "gather": {
          "logged": 1674617379141
        }
      }
    },
    {
      "cell_type": "code",
      "source": [
        "bomba1.alterar_quantidade_combustivel(400)"
      ],
      "outputs": [
        {
          "output_type": "stream",
          "name": "stdout",
          "text": "Bomba abastecida.\n"
        }
      ],
      "execution_count": 98,
      "metadata": {
        "jupyter": {
          "source_hidden": false,
          "outputs_hidden": false
        },
        "nteract": {
          "transient": {
            "deleting": false
          }
        },
        "gather": {
          "logged": 1674617679824
        }
      }
    },
    {
      "cell_type": "code",
      "source": [
        "bomba1.alterar_valor(5.0)"
      ],
      "outputs": [],
      "execution_count": 99,
      "metadata": {
        "jupyter": {
          "source_hidden": false,
          "outputs_hidden": false
        },
        "nteract": {
          "transient": {
            "deleting": false
          }
        },
        "gather": {
          "logged": 1674617681440
        }
      }
    },
    {
      "cell_type": "code",
      "source": [
        "print(bomba1)"
      ],
      "outputs": [
        {
          "output_type": "stream",
          "name": "stdout",
          "text": " Valor litro R$ 5.0,  tipo de combustível alcool\n            quantidade total na bomba em litros 400\n"
        }
      ],
      "execution_count": 100,
      "metadata": {
        "jupyter": {
          "source_hidden": false,
          "outputs_hidden": false
        },
        "nteract": {
          "transient": {
            "deleting": false
          }
        },
        "gather": {
          "logged": 1674617685424
        }
      }
    },
    {
      "cell_type": "code",
      "source": [
        "bomba1.abastecer_por_valor(float(input(\"Informe o valor em R$ que deseja abastecer: \")))"
      ],
      "outputs": [
        {
          "output_type": "stream",
          "name": "stdout",
          "text": "Valor a abastecer em R$  100.0\nQtde de litros  20.0\n"
        }
      ],
      "execution_count": 90,
      "metadata": {
        "jupyter": {
          "source_hidden": false,
          "outputs_hidden": false
        },
        "nteract": {
          "transient": {
            "deleting": false
          }
        },
        "gather": {
          "logged": 1674617504618
        }
      }
    },
    {
      "cell_type": "code",
      "source": [
        "bomba1.abastecer_por_litro(float(input(\"Informe a quantidade em LITROS que deseja abastecer: \")))"
      ],
      "outputs": [
        {
          "output_type": "stream",
          "name": "stdout",
          "text": "Qtde de litros a abastecer:  500.0\nNão há combustível suficiente!\n"
        }
      ],
      "execution_count": 101,
      "metadata": {
        "jupyter": {
          "source_hidden": false,
          "outputs_hidden": false
        },
        "nteract": {
          "transient": {
            "deleting": false
          }
        },
        "gather": {
          "logged": 1674617693207
        }
      }
    },
    {
      "cell_type": "code",
      "source": [
        "print(bomba1)"
      ],
      "outputs": [
        {
          "output_type": "stream",
          "name": "stdout",
          "text": " Valor litro R$ 5.0,  tipo de combustível alcool\n            quantidade total na bomba em litros 328.0\n"
        }
      ],
      "execution_count": 91,
      "metadata": {
        "jupyter": {
          "source_hidden": false,
          "outputs_hidden": false
        },
        "nteract": {
          "transient": {
            "deleting": false
          }
        },
        "gather": {
          "logged": 1674617518735
        }
      }
    },
    {
      "cell_type": "code",
      "source": [
        "print(bomba1)"
      ],
      "outputs": [
        {
          "output_type": "stream",
          "name": "stdout",
          "text": " Valor litro R$ 5.0,  tipo de combustível alcool\n            quantidade total na bomba em litros -71.0\n"
        }
      ],
      "execution_count": 93,
      "metadata": {
        "jupyter": {
          "source_hidden": false,
          "outputs_hidden": false
        },
        "nteract": {
          "transient": {
            "deleting": false
          }
        },
        "gather": {
          "logged": 1674617569103
        }
      }
    },
    {
      "cell_type": "code",
      "source": [
        "bomba1.abastecer_por_litro(float(input(\"Informe a quantidade em LITROS que deseja abastecer: \")))"
      ],
      "outputs": [
        {
          "output_type": "stream",
          "name": "stdout",
          "text": "Qtde de litros a abastecer:  399.0\nValor final a ser pago R$  1995.0\n"
        }
      ],
      "execution_count": 92,
      "metadata": {
        "jupyter": {
          "source_hidden": false,
          "outputs_hidden": false
        },
        "nteract": {
          "transient": {
            "deleting": false
          }
        },
        "gather": {
          "logged": 1674617547000
        }
      }
    },
    {
      "cell_type": "markdown",
      "source": [
        "<h2> Exercício 4 </h2>"
      ],
      "metadata": {
        "nteract": {
          "transient": {
            "deleting": false
          }
        }
      }
    },
    {
      "cell_type": "code",
      "source": [
        "class TV:\r\n",
        "    canal = 10\r\n",
        "    volume = 0\r\n",
        "   \r\n",
        "    # def __init__(self):\r\n",
        "    #     # Valores padrões\r\n",
        "    #     self.canal = 10\r\n",
        "    #     self.volume = 0\r\n",
        "\r\n",
        "    def trocar_canal(self,novo_canal):\r\n",
        "        canal_atual = self.canal\r\n",
        "        self.canal = novo_canal\r\n",
        "        print(f\"Canal antigo: {canal_atual}\")\r\n",
        "        print(f\"Canal trocado: {self.canal}\")\r\n",
        "    \r\n",
        "    def alterar_volume(self):\r\n",
        "        niveis_volume = int(input(\"Informe a quantidade de níveis que deseja: \"))\r\n",
        "        aumentar_diminuir = input(\"Informe + para aumentar o volume ou - para reduzir: \")\r\n",
        "        if((aumentar_diminuir != \"+\") and (aumentar_diminuir != \"-\")):\r\n",
        "            print(\"Opção inválida\")\r\n",
        "        else:\r\n",
        "            if(aumentar_diminuir == \"+\"):\r\n",
        "                self.volume = self.volume + niveis_volume\r\n",
        "                print(f\"VOLUME: {self.volume}\")\r\n",
        "            else:\r\n",
        "                self.volume = self.volume - niveis_volume\r\n",
        "                print(f\"VOLUME: {self.volume}\")\r\n",
        "\r\n",
        "    def __str__(self):\r\n",
        "        descricao_obj = f\"VOLUME {self.volume},CANAL {self.canal} \"\r\n",
        "        return descricao_obj\r\n"
      ],
      "outputs": [],
      "execution_count": 102,
      "metadata": {
        "jupyter": {
          "source_hidden": false,
          "outputs_hidden": false
        },
        "nteract": {
          "transient": {
            "deleting": false
          }
        },
        "gather": {
          "logged": 1674617893059
        }
      }
    },
    {
      "cell_type": "code",
      "source": [
        "tv1 = TV()\r\n",
        "print(tv1)"
      ],
      "outputs": [
        {
          "output_type": "stream",
          "name": "stdout",
          "text": "VOLUME 0,CANAL 10 \n"
        }
      ],
      "execution_count": 103,
      "metadata": {
        "jupyter": {
          "source_hidden": false,
          "outputs_hidden": false
        },
        "nteract": {
          "transient": {
            "deleting": false
          }
        },
        "gather": {
          "logged": 1674617895428
        }
      }
    },
    {
      "cell_type": "code",
      "source": [
        "tv2 = TV()\r\n",
        "print(tv2)"
      ],
      "outputs": [
        {
          "output_type": "stream",
          "name": "stdout",
          "text": "VOLUME 0,CANAL 10 \n"
        }
      ],
      "execution_count": 104,
      "metadata": {
        "jupyter": {
          "source_hidden": false,
          "outputs_hidden": false
        },
        "nteract": {
          "transient": {
            "deleting": false
          }
        },
        "gather": {
          "logged": 1674617900030
        }
      }
    },
    {
      "cell_type": "code",
      "source": [
        "tv2.trocar_canal(4)"
      ],
      "outputs": [
        {
          "output_type": "stream",
          "name": "stdout",
          "text": "Canal antigo: 10\nCanal trocado: 4\n"
        }
      ],
      "execution_count": 105,
      "metadata": {
        "jupyter": {
          "source_hidden": false,
          "outputs_hidden": false
        },
        "nteract": {
          "transient": {
            "deleting": false
          }
        },
        "gather": {
          "logged": 1674617907264
        }
      }
    },
    {
      "cell_type": "code",
      "source": [
        "print(tv2)"
      ],
      "outputs": [
        {
          "output_type": "stream",
          "name": "stdout",
          "text": "VOLUME 0,CANAL 4 \n"
        }
      ],
      "execution_count": 106,
      "metadata": {
        "jupyter": {
          "source_hidden": false,
          "outputs_hidden": false
        },
        "nteract": {
          "transient": {
            "deleting": false
          }
        },
        "gather": {
          "logged": 1674617913292
        }
      }
    },
    {
      "cell_type": "code",
      "source": [
        "tv2.alterar_volume()"
      ],
      "outputs": [
        {
          "output_type": "stream",
          "name": "stdout",
          "text": "Opção inválida\n"
        }
      ],
      "execution_count": 111,
      "metadata": {
        "jupyter": {
          "source_hidden": false,
          "outputs_hidden": false
        },
        "nteract": {
          "transient": {
            "deleting": false
          }
        },
        "gather": {
          "logged": 1674617961877
        }
      }
    },
    {
      "cell_type": "code",
      "source": [
        "print(tv2)"
      ],
      "outputs": [
        {
          "output_type": "stream",
          "name": "stdout",
          "text": "VOLUME 25,CANAL 4 \n"
        }
      ],
      "execution_count": 112,
      "metadata": {
        "jupyter": {
          "source_hidden": false,
          "outputs_hidden": false
        },
        "nteract": {
          "transient": {
            "deleting": false
          }
        },
        "gather": {
          "logged": 1674617964319
        }
      }
    }
  ],
  "metadata": {
    "kernelspec": {
      "name": "python3",
      "language": "python",
      "display_name": "Python 3 (ipykernel)"
    },
    "language_info": {
      "name": "python",
      "version": "3.8.5",
      "mimetype": "text/x-python",
      "codemirror_mode": {
        "name": "ipython",
        "version": 3
      },
      "pygments_lexer": "ipython3",
      "nbconvert_exporter": "python",
      "file_extension": ".py"
    },
    "nteract": {
      "version": "nteract-front-end@1.0.0"
    },
    "kernel_info": {
      "name": "python3"
    },
    "microsoft": {
      "host": {
        "AzureML": {
          "notebookHasBeenCompleted": true
        }
      }
    }
  },
  "nbformat": 4,
  "nbformat_minor": 2
}