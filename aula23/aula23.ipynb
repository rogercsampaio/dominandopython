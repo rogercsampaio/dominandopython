{
  "cells": [
    {
      "cell_type": "markdown",
      "source": [
        "<img src=\"imagens/logo_oficial.jpg\"/>"
      ],
      "metadata": {
        "nteract": {
          "transient": {
            "deleting": false
          }
        }
      }
    },
    {
      "cell_type": "markdown",
      "source": [
        "## Aula 23 - Data e Hora (módulo datetime)"
      ],
      "metadata": {
        "nteract": {
          "transient": {
            "deleting": false
          }
        }
      }
    },
    {
      "cell_type": "markdown",
      "source": [
        "Módulo que fornece funções para manipular data e horas, emboras ambos não sejam em si um tipo de dado nativo."
      ],
      "metadata": {
        "nteract": {
          "transient": {
            "deleting": false
          }
        }
      }
    },
    {
      "cell_type": "code",
      "source": [
        "# importação dos módulos\n",
        "import datetime as dt"
      ],
      "outputs": [],
      "execution_count": 30,
      "metadata": {
        "gather": {
          "logged": 1670700385448
        }
      }
    },
    {
      "cell_type": "markdown",
      "source": [
        "Tipos comuns\r\n",
        "<p> </p>\r\n",
        "<b> date </b> = formato gregoriano. yyyy/mm/dd. Atributos: year, month, day. Módulo datetime.\r\n",
        "<p> </p>\r\n",
        "<b> time </b> = formato para horas. Um dia é dado por: 24*60*60 segundos. hour, minute, second, microsecond e tzinfo. Módulo time.\r\n",
        "<p> </p>\r\n",
        "<b> datetime </b> = formato combinando data e hora. Temos os atributos: year, month, day, hour, minute, second, microsecond, e tzinfo. Módulo datetime."
      ],
      "metadata": {
        "nteract": {
          "transient": {
            "deleting": false
          }
        }
      }
    },
    {
      "cell_type": "markdown",
      "source": [
        "#### Obtendo a data,hora atual"
      ],
      "metadata": {}
    },
    {
      "cell_type": "code",
      "source": [
        "dir(dt.datetime)"
      ],
      "outputs": [
        {
          "output_type": "execute_result",
          "execution_count": 32,
          "data": {
            "text/plain": "['__add__',\n '__class__',\n '__delattr__',\n '__dir__',\n '__doc__',\n '__eq__',\n '__format__',\n '__ge__',\n '__getattribute__',\n '__gt__',\n '__hash__',\n '__init__',\n '__init_subclass__',\n '__le__',\n '__lt__',\n '__ne__',\n '__new__',\n '__radd__',\n '__reduce__',\n '__reduce_ex__',\n '__repr__',\n '__rsub__',\n '__setattr__',\n '__sizeof__',\n '__str__',\n '__sub__',\n '__subclasshook__',\n 'astimezone',\n 'combine',\n 'ctime',\n 'date',\n 'day',\n 'dst',\n 'fold',\n 'fromisocalendar',\n 'fromisoformat',\n 'fromordinal',\n 'fromtimestamp',\n 'hour',\n 'isocalendar',\n 'isoformat',\n 'isoweekday',\n 'max',\n 'microsecond',\n 'min',\n 'minute',\n 'month',\n 'now',\n 'replace',\n 'resolution',\n 'second',\n 'strftime',\n 'strptime',\n 'time',\n 'timestamp',\n 'timetuple',\n 'timetz',\n 'today',\n 'toordinal',\n 'tzinfo',\n 'tzname',\n 'utcfromtimestamp',\n 'utcnow',\n 'utcoffset',\n 'utctimetuple',\n 'weekday',\n 'year']"
          },
          "metadata": {}
        }
      ],
      "execution_count": 32,
      "metadata": {
        "jupyter": {
          "source_hidden": false,
          "outputs_hidden": false
        },
        "nteract": {
          "transient": {
            "deleting": false
          }
        },
        "gather": {
          "logged": 1670700613716
        }
      }
    },
    {
      "cell_type": "code",
      "source": [
        "momentoAtual = dt.datetime.now()"
      ],
      "outputs": [],
      "execution_count": 33,
      "metadata": {
        "gather": {
          "logged": 1670700646913
        }
      }
    },
    {
      "cell_type": "code",
      "source": [
        "print(momentoAtual)"
      ],
      "outputs": [
        {
          "output_type": "stream",
          "name": "stdout",
          "text": "2022-12-10 19:30:46.475187\n"
        }
      ],
      "execution_count": 34,
      "metadata": {
        "gather": {
          "logged": 1670700649599
        }
      }
    },
    {
      "cell_type": "code",
      "source": [
        "print(type(momentoAtual))"
      ],
      "outputs": [
        {
          "output_type": "stream",
          "name": "stdout",
          "text": "<class 'datetime.datetime'>\n"
        }
      ],
      "execution_count": 35,
      "metadata": {
        "gather": {
          "logged": 1670700689012
        }
      }
    },
    {
      "cell_type": "code",
      "source": [
        "data_atual = dt.datetime.now().date()\r\n",
        "print(data_atual)\r\n",
        "print('Tipo: ',type(data_atual))"
      ],
      "outputs": [
        {
          "output_type": "stream",
          "name": "stdout",
          "text": "2022-12-10\nTipo:  <class 'datetime.date'>\n"
        }
      ],
      "execution_count": 36,
      "metadata": {
        "jupyter": {
          "source_hidden": false,
          "outputs_hidden": false
        },
        "nteract": {
          "transient": {
            "deleting": false
          }
        },
        "gather": {
          "logged": 1670700740727
        }
      }
    },
    {
      "cell_type": "code",
      "source": [
        "horario_atual = dt.datetime.now().time()\r\n",
        "print(horario_atual)\r\n",
        "print('Tipo: ',type(horario_atual))"
      ],
      "outputs": [
        {
          "output_type": "stream",
          "name": "stdout",
          "text": "19:33:02.170147\nTipo:  <class 'datetime.time'>\n"
        }
      ],
      "execution_count": 37,
      "metadata": {
        "jupyter": {
          "source_hidden": false,
          "outputs_hidden": false
        },
        "nteract": {
          "transient": {
            "deleting": false
          }
        },
        "gather": {
          "logged": 1670700781958
        }
      }
    },
    {
      "cell_type": "markdown",
      "source": [
        "#### Extraindo elementos de um objeto datetime: horas, minutos, dia ... por meio de atributos."
      ],
      "metadata": {}
    },
    {
      "cell_type": "code",
      "source": [
        "momentoAtual"
      ],
      "outputs": [
        {
          "output_type": "execute_result",
          "execution_count": 38,
          "data": {
            "text/plain": "datetime.datetime(2022, 12, 10, 19, 30, 46, 475187)"
          },
          "metadata": {}
        }
      ],
      "execution_count": 38,
      "metadata": {
        "jupyter": {
          "source_hidden": false,
          "outputs_hidden": false
        },
        "nteract": {
          "transient": {
            "deleting": false
          }
        },
        "gather": {
          "logged": 1670700955256
        }
      }
    },
    {
      "cell_type": "code",
      "source": [
        "# Extração da hora\n",
        "print('A hora é %d' % momentoAtual.hour)"
      ],
      "outputs": [
        {
          "output_type": "stream",
          "name": "stdout",
          "text": "A hora é 19\n"
        }
      ],
      "execution_count": 39,
      "metadata": {
        "gather": {
          "logged": 1670701007269
        }
      }
    },
    {
      "cell_type": "code",
      "source": [
        "# Extração dos minutos\n",
        "print('Os minutos são %d' % momentoAtual.minute)"
      ],
      "outputs": [
        {
          "output_type": "stream",
          "name": "stdout",
          "text": "Os minutos são 30\n"
        }
      ],
      "execution_count": 40,
      "metadata": {
        "gather": {
          "logged": 1670701023491
        }
      }
    },
    {
      "cell_type": "code",
      "source": [
        "# Extração dos segundos\n",
        "print('Os minutos são %d' % momentoAtual.second)"
      ],
      "outputs": [
        {
          "output_type": "stream",
          "name": "stdout",
          "text": "Os minutos são 46\n"
        }
      ],
      "execution_count": 41,
      "metadata": {
        "gather": {
          "logged": 1670701040685
        }
      }
    },
    {
      "cell_type": "code",
      "source": [
        "# Extração do dia\n",
        "print('O dia é %d' % momentoAtual.day)"
      ],
      "outputs": [
        {
          "output_type": "stream",
          "name": "stdout",
          "text": "O dia é 10\n"
        }
      ],
      "execution_count": 42,
      "metadata": {
        "gather": {
          "logged": 1670701068480
        }
      }
    },
    {
      "cell_type": "code",
      "source": [
        "# Extração do mês (começa em 1 = janeiro, 12 = dezembro)\n",
        "print('O mês é %d' % momentoAtual.month)"
      ],
      "outputs": [
        {
          "output_type": "stream",
          "name": "stdout",
          "text": "O mês é 12\n"
        }
      ],
      "execution_count": 43,
      "metadata": {
        "gather": {
          "logged": 1670701090509
        }
      }
    },
    {
      "cell_type": "code",
      "source": [
        "# Extração do ano\n",
        "print('O dia é %d' % momentoAtual.year)"
      ],
      "outputs": [
        {
          "output_type": "stream",
          "name": "stdout",
          "text": "O dia é 2022\n"
        }
      ],
      "execution_count": 44,
      "metadata": {
        "gather": {
          "logged": 1670701146271
        }
      }
    },
    {
      "cell_type": "code",
      "source": [
        "# Extração do dia da semana. A semana começa com segunda sendo dia 0 até 6 \n",
        "# (domingo). Resumo: 0-6.\n",
        "print('O dia da semana é %d' % momentoAtual.weekday())"
      ],
      "outputs": [
        {
          "output_type": "stream",
          "name": "stdout",
          "text": "O dia da semana é 5\n"
        }
      ],
      "execution_count": 45,
      "metadata": {
        "gather": {
          "logged": 1670701194210
        }
      }
    },
    {
      "cell_type": "code",
      "source": [
        "diasSemanas = ['Segunda','Terça','Quarta','Quinta','Sexta','Sábado','Domingo']\n",
        "print('Hoje é %s' % diasSemanas[momentoAtual.weekday()])"
      ],
      "outputs": [
        {
          "output_type": "stream",
          "name": "stdout",
          "text": "Hoje é Sábado\n"
        }
      ],
      "execution_count": 46,
      "metadata": {
        "gather": {
          "logged": 1670701222479
        }
      }
    },
    {
      "cell_type": "code",
      "source": [
        "# Retorna uma tupla com year-week-weekday (ano-semana-dia da semana)\n",
        "momentoAtual.isocalendar() # 1 - 7"
      ],
      "outputs": [
        {
          "output_type": "execute_result",
          "execution_count": 47,
          "data": {
            "text/plain": "(2022, 49, 6)"
          },
          "metadata": {}
        }
      ],
      "execution_count": 47,
      "metadata": {
        "gather": {
          "logged": 1670701241927
        }
      }
    },
    {
      "cell_type": "markdown",
      "source": [
        "#### Criando objetos Data.\n",
        "Embora não seja um novo tipo, converter para datetime facilita muito nosso trabalho."
      ],
      "metadata": {}
    },
    {
      "cell_type": "code",
      "source": [
        "# Caso nada seja definido para as horas,minutos e segundos, o valor padrão\n",
        "# será 0 para todos.\n",
        "novaData = dt.datetime(2021,2,2)"
      ],
      "outputs": [],
      "execution_count": 48,
      "metadata": {
        "gather": {
          "logged": 1670701529609
        }
      }
    },
    {
      "cell_type": "code",
      "source": [
        "print(novaData)"
      ],
      "outputs": [
        {
          "output_type": "stream",
          "name": "stdout",
          "text": "2021-02-02 00:00:00\n"
        }
      ],
      "execution_count": 49,
      "metadata": {
        "gather": {
          "logged": 1670701533077
        }
      }
    },
    {
      "cell_type": "code",
      "source": [
        "type(novaData)"
      ],
      "outputs": [
        {
          "output_type": "execute_result",
          "execution_count": 50,
          "data": {
            "text/plain": "datetime.datetime"
          },
          "metadata": {}
        }
      ],
      "execution_count": 50,
      "metadata": {
        "jupyter": {
          "source_hidden": false,
          "outputs_hidden": false
        },
        "nteract": {
          "transient": {
            "deleting": false
          }
        },
        "gather": {
          "logged": 1670701554113
        }
      }
    },
    {
      "cell_type": "code",
      "source": [
        "novaData2 = dt.datetime(2021,2,2,11,12,00)"
      ],
      "outputs": [],
      "execution_count": 51,
      "metadata": {
        "gather": {
          "logged": 1670701573968
        }
      }
    },
    {
      "cell_type": "code",
      "source": [
        "print(novaData2)"
      ],
      "outputs": [
        {
          "output_type": "stream",
          "name": "stdout",
          "text": "2021-02-02 11:12:00\n"
        }
      ],
      "execution_count": 52,
      "metadata": {
        "gather": {
          "logged": 1670701576236
        }
      }
    },
    {
      "cell_type": "code",
      "source": [
        "type(novaData2)"
      ],
      "outputs": [
        {
          "output_type": "execute_result",
          "execution_count": 53,
          "data": {
            "text/plain": "datetime.datetime"
          },
          "metadata": {}
        }
      ],
      "execution_count": 53,
      "metadata": {
        "jupyter": {
          "source_hidden": false,
          "outputs_hidden": false
        },
        "nteract": {
          "transient": {
            "deleting": false
          }
        },
        "gather": {
          "logged": 1670701591222
        }
      }
    },
    {
      "cell_type": "code",
      "source": [
        "novaData3 = dt.datetime(2022,12,10)\r\n",
        "novaData3"
      ],
      "outputs": [
        {
          "output_type": "execute_result",
          "execution_count": 54,
          "data": {
            "text/plain": "datetime.datetime(2022, 12, 10, 0, 0)"
          },
          "metadata": {}
        }
      ],
      "execution_count": 54,
      "metadata": {
        "jupyter": {
          "source_hidden": false,
          "outputs_hidden": false
        },
        "nteract": {
          "transient": {
            "deleting": false
          }
        },
        "gather": {
          "logged": 1670701616053
        }
      }
    },
    {
      "cell_type": "code",
      "source": [
        "type(novaData3)"
      ],
      "outputs": [
        {
          "output_type": "execute_result",
          "execution_count": 55,
          "data": {
            "text/plain": "datetime.datetime"
          },
          "metadata": {}
        }
      ],
      "execution_count": 55,
      "metadata": {
        "jupyter": {
          "source_hidden": false,
          "outputs_hidden": false
        },
        "nteract": {
          "transient": {
            "deleting": false
          }
        },
        "gather": {
          "logged": 1670701636086
        }
      }
    },
    {
      "cell_type": "code",
      "source": [
        "somente_data = novaData3.date()\r\n",
        "print(somente_data)\r\n",
        "print(type(somente_data))"
      ],
      "outputs": [
        {
          "output_type": "stream",
          "name": "stdout",
          "text": "2022-12-10\n<class 'datetime.date'>\n"
        }
      ],
      "execution_count": 56,
      "metadata": {
        "jupyter": {
          "source_hidden": false,
          "outputs_hidden": false
        },
        "nteract": {
          "transient": {
            "deleting": false
          }
        },
        "gather": {
          "logged": 1670701678886
        }
      }
    },
    {
      "cell_type": "markdown",
      "source": [
        "#### Formatando datas\n",
        "Usaremos o método strftime( ) e usaremos um placeholder."
      ],
      "metadata": {}
    },
    {
      "cell_type": "markdown",
      "source": [],
      "metadata": {}
    },
    {
      "cell_type": "code",
      "source": [
        "dataX = dt.datetime(2019, 6, 11) #YYYY-MM-DD\n",
        "# %B retorna o mês completo.\n",
        "print(dataX.strftime(\"%B\"))"
      ],
      "outputs": [
        {
          "output_type": "stream",
          "name": "stdout",
          "text": "June\n"
        }
      ],
      "execution_count": 57,
      "metadata": {
        "gather": {
          "logged": 1670701770813
        }
      }
    },
    {
      "cell_type": "code",
      "source": [
        "# %B retorna o mês na versão abreviada\n",
        "print(dataX.strftime(\"%b\"))"
      ],
      "outputs": [
        {
          "output_type": "stream",
          "name": "stdout",
          "text": "Jun\n"
        }
      ],
      "execution_count": 58,
      "metadata": {
        "gather": {
          "logged": 1670701808843
        }
      }
    },
    {
      "cell_type": "code",
      "source": [
        "# %Y retorna o ano na versão completa (ano com quatro dígitos)\n",
        "print(dataX.strftime(\"%Y\"))"
      ],
      "outputs": [
        {
          "output_type": "stream",
          "name": "stdout",
          "text": "2019\n"
        }
      ],
      "execution_count": 59,
      "metadata": {
        "gather": {
          "logged": 1670701832076
        }
      }
    },
    {
      "cell_type": "code",
      "source": [
        "# %y retorna o ano na versão abreviada (ano com dois últimos dígitos)\n",
        "print(dataX.strftime(\"%y\"))"
      ],
      "outputs": [
        {
          "output_type": "stream",
          "name": "stdout",
          "text": "19\n"
        }
      ],
      "execution_count": 60,
      "metadata": {
        "gather": {
          "logged": 1670701858542
        }
      }
    },
    {
      "cell_type": "code",
      "source": [
        "# %A retorna o nome da semana completa\n",
        "print(dataX.strftime(\"%A\"))"
      ],
      "outputs": [
        {
          "output_type": "stream",
          "name": "stdout",
          "text": "Tuesday\n"
        }
      ],
      "execution_count": 61,
      "metadata": {
        "gather": {
          "logged": 1670701878810
        }
      }
    },
    {
      "cell_type": "code",
      "source": [
        "# %a retorna o nome da semana abreviado\n",
        "print(dataX.strftime(\"%a\"))"
      ],
      "outputs": [
        {
          "output_type": "stream",
          "name": "stdout",
          "text": "Tue\n"
        }
      ],
      "execution_count": 63,
      "metadata": {
        "gather": {
          "logged": 1670701934611
        }
      }
    },
    {
      "cell_type": "code",
      "source": [
        "dataX"
      ],
      "outputs": [
        {
          "output_type": "execute_result",
          "execution_count": 80,
          "data": {
            "text/plain": "datetime.datetime(2019, 6, 11, 0, 0)"
          },
          "metadata": {}
        }
      ],
      "execution_count": 80,
      "metadata": {
        "jupyter": {
          "source_hidden": false,
          "outputs_hidden": false
        },
        "nteract": {
          "transient": {
            "deleting": false
          }
        },
        "gather": {
          "logged": 1670702478710
        }
      }
    },
    {
      "cell_type": "code",
      "source": [
        "# %w retorna o dia da semana 0-6, 0 é Segunda, 6 Domingo\n",
        "diasSemanas2 = ['Domingo','Segunda','Terça','Quarta','Quinta','Sexta','Sábado']\n",
        "print(dataX.strftime(\"%w\"))\n",
        "print(diasSemanas2[int(dataX.strftime(\"%w\"))])"
      ],
      "outputs": [
        {
          "output_type": "stream",
          "name": "stdout",
          "text": "2\nTerça\n"
        }
      ],
      "execution_count": 81,
      "metadata": {
        "gather": {
          "logged": 1670702549533
        }
      }
    },
    {
      "cell_type": "code",
      "source": [],
      "outputs": [],
      "execution_count": null,
      "metadata": {
        "jupyter": {
          "source_hidden": false,
          "outputs_hidden": false
        },
        "nteract": {
          "transient": {
            "deleting": false
          }
        }
      }
    },
    {
      "cell_type": "code",
      "source": [
        "# %H retorna a hora em formato 00-23\n",
        "print(dataX.strftime(\"%H\"))"
      ],
      "outputs": [
        {
          "output_type": "stream",
          "name": "stdout",
          "text": "00\n"
        }
      ],
      "execution_count": 82,
      "metadata": {
        "gather": {
          "logged": 1670702601379
        }
      }
    },
    {
      "cell_type": "code",
      "source": [
        "# %I retorna a hora em formato 00-12\n",
        "print(dataX.strftime(\"%I\"))"
      ],
      "outputs": [
        {
          "output_type": "stream",
          "name": "stdout",
          "text": "12\n"
        }
      ],
      "execution_count": 83,
      "metadata": {
        "gather": {
          "logged": 1670702614195
        }
      }
    },
    {
      "cell_type": "code",
      "source": [
        "# datetime (formato americano AAAA-MM-DD)\r\n",
        "data = dt.datetime(2022, 12, 8).date()\r\n",
        "# Retorna uma string com a data formatada \r\n",
        "data_formatada = data.strftime(\"%d/%m/%Y\")\r\n",
        "print(\"Data formato americano:\", data)\r\n",
        "print(\"Data formato brasileiro:\", data_formatada)"
      ],
      "outputs": [
        {
          "output_type": "stream",
          "name": "stdout",
          "text": "Data formato americano: 2022-12-08\nData formato brasileiro: 08/12/2022\n"
        }
      ],
      "execution_count": 84,
      "metadata": {
        "jupyter": {
          "source_hidden": false,
          "outputs_hidden": false
        },
        "nteract": {
          "transient": {
            "deleting": false
          }
        },
        "gather": {
          "logged": 1670702731563
        }
      }
    },
    {
      "cell_type": "code",
      "source": [
        "type(data_formatada)"
      ],
      "outputs": [
        {
          "output_type": "execute_result",
          "execution_count": 85,
          "data": {
            "text/plain": "str"
          },
          "metadata": {}
        }
      ],
      "execution_count": 85,
      "metadata": {
        "jupyter": {
          "source_hidden": false,
          "outputs_hidden": false
        },
        "nteract": {
          "transient": {
            "deleting": false
          }
        },
        "gather": {
          "logged": 1670702743278
        }
      }
    },
    {
      "cell_type": "code",
      "source": [
        "now = dt.datetime.now()\r\n",
        "date_time = now.strftime(\"%d/%M/%Y, %H:%M:%S\")\r\n",
        "print(\"Data e hora:\",date_time)"
      ],
      "outputs": [
        {
          "output_type": "stream",
          "name": "stdout",
          "text": "Data e hora: 10/06/2022, 20:06:25\n"
        }
      ],
      "execution_count": 86,
      "metadata": {
        "jupyter": {
          "source_hidden": false,
          "outputs_hidden": false
        },
        "nteract": {
          "transient": {
            "deleting": false
          }
        },
        "gather": {
          "logged": 1670702785776
        }
      }
    },
    {
      "cell_type": "markdown",
      "source": [
        "## Convertendo de STRING para DATA"
      ],
      "metadata": {
        "nteract": {
          "transient": {
            "deleting": false
          }
        }
      }
    },
    {
      "cell_type": "code",
      "source": [
        "date_string = '2021-12-31'\r\n",
        "datetime = dt.datetime.strptime(date_string, '%Y-%m-%d').date()\r\n",
        "print(datetime)\r\n",
        "print('TIPO: ',type(datetime))"
      ],
      "outputs": [
        {
          "output_type": "stream",
          "name": "stdout",
          "text": "2021-12-31\nTIPO:  <class 'datetime.date'>\n"
        }
      ],
      "execution_count": 88,
      "metadata": {
        "jupyter": {
          "source_hidden": false,
          "outputs_hidden": false
        },
        "nteract": {
          "transient": {
            "deleting": false
          }
        },
        "gather": {
          "logged": 1670702888894
        }
      }
    },
    {
      "cell_type": "markdown",
      "source": [
        "#### Mais informações em: \n",
        "https://www.w3schools.com/python/python_datetime.asp\n",
        "<p> </p>\n",
        "https://docs.python.org/pt-br/3/library/datetime.html\n",
        "<p> </p>\n",
        "https://www.programiz.com/python-programming/datetime/strftime"
      ],
      "metadata": {}
    },
    {
      "cell_type": "markdown",
      "source": [
        "#### Calculando a diferença entre 2 datas"
      ],
      "metadata": {}
    },
    {
      "cell_type": "code",
      "source": [
        "from dateutil.relativedelta import relativedelta"
      ],
      "outputs": [],
      "execution_count": null,
      "metadata": {
        "jupyter": {
          "source_hidden": false,
          "outputs_hidden": false
        },
        "nteract": {
          "transient": {
            "deleting": false
          }
        },
        "gather": {
          "logged": 1670696322283
        }
      }
    },
    {
      "cell_type": "code",
      "source": [
        "data_atual = dt.date.today() \r\n",
        "print('Data atual: ',data_atual)\r\n",
        "# Adicionando dias\r\n",
        "print('Acrescentando 1 dia: ',data_atual + relativedelta(days=1)) "
      ],
      "outputs": [
        {
          "output_type": "stream",
          "name": "stdout",
          "text": "Data atual:  2022-12-10\nAcrescentando 1 dia:  2022-12-11\n"
        }
      ],
      "execution_count": 89,
      "metadata": {
        "jupyter": {
          "source_hidden": false,
          "outputs_hidden": false
        },
        "nteract": {
          "transient": {
            "deleting": false
          }
        },
        "gather": {
          "logged": 1670702978989
        }
      }
    },
    {
      "cell_type": "code",
      "source": [
        "print('Data atual: ',data_atual)\r\n",
        "# Retirando dias\r\n",
        "print('Retirando 20 dias: ',data_atual - relativedelta(days=20)) "
      ],
      "outputs": [
        {
          "output_type": "stream",
          "name": "stdout",
          "text": "Data atual:  2022-12-10\nRetirando 20 dias:  2022-11-20\n"
        }
      ],
      "execution_count": 90,
      "metadata": {
        "jupyter": {
          "source_hidden": false,
          "outputs_hidden": false
        },
        "nteract": {
          "transient": {
            "deleting": false
          }
        },
        "gather": {
          "logged": 1670703002328
        }
      }
    },
    {
      "cell_type": "code",
      "source": [
        "print('Data atual: ',data_atual)\r\n",
        "# Adicionando 2 meses\r\n",
        "print('Adicionando 2 meses: ',data_atual + relativedelta(months=2)) "
      ],
      "outputs": [
        {
          "output_type": "stream",
          "name": "stdout",
          "text": "Data atual:  2022-12-10\nAdicionando 2 meses:  2023-02-10\n"
        }
      ],
      "execution_count": 91,
      "metadata": {
        "jupyter": {
          "source_hidden": false,
          "outputs_hidden": false
        },
        "nteract": {
          "transient": {
            "deleting": false
          }
        },
        "gather": {
          "logged": 1670703038136
        }
      }
    },
    {
      "cell_type": "code",
      "source": [
        "print('Data atual: ',data_atual)\r\n",
        "# Adicionando 5 anos\r\n",
        "print('Adicionando 5 anos: ',data_atual + relativedelta(years=5)) "
      ],
      "outputs": [
        {
          "output_type": "stream",
          "name": "stdout",
          "text": "Data atual:  2022-12-10\nAdicionando 5 anos:  2027-12-10\n"
        }
      ],
      "execution_count": 92,
      "metadata": {
        "jupyter": {
          "source_hidden": false,
          "outputs_hidden": false
        },
        "nteract": {
          "transient": {
            "deleting": false
          }
        },
        "gather": {
          "logged": 1670703061191
        }
      }
    },
    {
      "cell_type": "markdown",
      "source": [
        "#### Calculando a data daqui a tantos dias X"
      ],
      "metadata": {}
    },
    {
      "cell_type": "code",
      "source": [
        "# Convertendo para quantidade de dias ocorridos desde 1/1/1 até esse data\n",
        "# 1º janeiro corresponde a 1.\n",
        "hoje = dt.datetime.today()\n",
        "futuro = dt.datetime.fromordinal(hoje.toordinal()+90) # hoje + 90 dias\n",
        "print('Hoje %s ' % str(hoje))\n",
        "print('Futuro em 90 dias %s ' % str(futuro))"
      ],
      "outputs": [
        {
          "output_type": "stream",
          "name": "stdout",
          "text": "Hoje 2022-12-10 20:12:12.808748 \nFuturo em 90 dias 2023-03-10 00:00:00 \n"
        }
      ],
      "execution_count": 93,
      "metadata": {
        "gather": {
          "logged": 1670703132725
        }
      }
    }
  ],
  "metadata": {
    "kernelspec": {
      "name": "python3",
      "language": "python",
      "display_name": "Python 3 (ipykernel)"
    },
    "language_info": {
      "name": "python",
      "version": "3.8.5",
      "mimetype": "text/x-python",
      "codemirror_mode": {
        "name": "ipython",
        "version": 3
      },
      "pygments_lexer": "ipython3",
      "nbconvert_exporter": "python",
      "file_extension": ".py"
    },
    "nteract": {
      "version": "nteract-front-end@1.0.0"
    },
    "kernel_info": {
      "name": "python3"
    }
  },
  "nbformat": 4,
  "nbformat_minor": 2
}