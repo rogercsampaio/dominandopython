{
  "cells": [
    {
      "cell_type": "markdown",
      "source": [
        "<img src=\"imagens/logo_oficial.jpg\"/>"
      ],
      "metadata": {}
    },
    {
      "cell_type": "markdown",
      "source": [
        "# Aula 19 - Exceções"
      ],
      "metadata": {
        "nteract": {
          "transient": {
            "deleting": false
          }
        }
      }
    },
    {
      "cell_type": "markdown",
      "source": [
        "Em Python existem 2 tipos de erros: </br> 1. sintaxe (antes de executar o programa, são erros ligados a escrita incorreta dos comandos da linguagem). Ex. na língua portuguesa: Os portugueses são corajoso.  </br> 2. exceção (identificados somente durante a execução do programa). Sintaticamente estão corretos. Ex: erro ao conectar o banco de dados, acessar uma API indisponível via WEB, etc. Eles devem ser tratados, embora não impeça a execução do programa. </br>\r\n",
        "Podemos tratar as exceções. https://docs.python.org/pt-br/3/library/exceptions.html"
      ],
      "metadata": {}
    },
    {
      "cell_type": "markdown",
      "source": [
        "### Erros de Sintaxe.\n",
        "Tem que corrigir obrigatoriamente para que o interpretador possa avançar. Note que o interpretador mostra a linha e onde ocorreu o erro."
      ],
      "metadata": {}
    },
    {
      "cell_type": "code",
      "source": [
        "valor = input(Solicite um valor)"
      ],
      "outputs": [
        {
          "output_type": "error",
          "ename": "SyntaxError",
          "evalue": "invalid syntax (1583041154.py, line 1)",
          "traceback": [
            "\u001b[0;36m  File \u001b[0;32m\"/tmp/ipykernel_8091/1583041154.py\"\u001b[0;36m, line \u001b[0;32m1\u001b[0m\n\u001b[0;31m    valor = input(Solicite um valor)\u001b[0m\n\u001b[0m                           ^\u001b[0m\n\u001b[0;31mSyntaxError\u001b[0m\u001b[0;31m:\u001b[0m invalid syntax\n"
          ]
        }
      ],
      "execution_count": 13,
      "metadata": {
        "gather": {
          "logged": 1666873299671
        }
      }
    },
    {
      "cell_type": "code",
      "source": [
        "valor = input(\"Solicite um valor\")\r\n",
        "valor"
      ],
      "outputs": [
        {
          "output_type": "execute_result",
          "execution_count": 14,
          "data": {
            "text/plain": "'4'"
          },
          "metadata": {}
        }
      ],
      "execution_count": 14,
      "metadata": {
        "jupyter": {
          "source_hidden": false,
          "outputs_hidden": false
        },
        "nteract": {
          "transient": {
            "deleting": false
          }
        },
        "gather": {
          "logged": 1666873323959
        }
      }
    },
    {
      "cell_type": "code",
      "source": [
        "cont = 0\n",
        "while cont <= 10\n",
        " cont+=1"
      ],
      "outputs": [
        {
          "output_type": "error",
          "ename": "SyntaxError",
          "evalue": "invalid syntax (508642767.py, line 2)",
          "traceback": [
            "\u001b[0;36m  File \u001b[0;32m\"/tmp/ipykernel_8091/508642767.py\"\u001b[0;36m, line \u001b[0;32m2\u001b[0m\n\u001b[0;31m    while cont <= 10\u001b[0m\n\u001b[0m                    ^\u001b[0m\n\u001b[0;31mSyntaxError\u001b[0m\u001b[0;31m:\u001b[0m invalid syntax\n"
          ]
        }
      ],
      "execution_count": 15,
      "metadata": {
        "gather": {
          "logged": 1666873343841
        }
      }
    },
    {
      "cell_type": "code",
      "source": [
        "cont = 0\r\n",
        "while cont <= 10:\r\n",
        " cont+=1"
      ],
      "outputs": [],
      "execution_count": null,
      "metadata": {
        "jupyter": {
          "source_hidden": false,
          "outputs_hidden": false
        },
        "nteract": {
          "transient": {
            "deleting": false
          }
        }
      }
    },
    {
      "cell_type": "code",
      "source": [
        "valor = \r\n",
        "print(valor)"
      ],
      "outputs": [
        {
          "output_type": "error",
          "ename": "SyntaxError",
          "evalue": "invalid syntax (3470564397.py, line 1)",
          "traceback": [
            "\u001b[0;36m  File \u001b[0;32m\"/tmp/ipykernel_8091/3470564397.py\"\u001b[0;36m, line \u001b[0;32m1\u001b[0m\n\u001b[0;31m    valor =\u001b[0m\n\u001b[0m            ^\u001b[0m\n\u001b[0;31mSyntaxError\u001b[0m\u001b[0;31m:\u001b[0m invalid syntax\n"
          ]
        }
      ],
      "execution_count": 16,
      "metadata": {
        "jupyter": {
          "source_hidden": false,
          "outputs_hidden": false
        },
        "nteract": {
          "transient": {
            "deleting": false
          }
        },
        "gather": {
          "logged": 1666873397651
        }
      }
    },
    {
      "cell_type": "code",
      "source": [
        "valor = 4\r\n",
        "print(valor)"
      ],
      "outputs": [
        {
          "output_type": "stream",
          "name": "stdout",
          "text": "4\n"
        }
      ],
      "execution_count": 17,
      "metadata": {
        "jupyter": {
          "source_hidden": false,
          "outputs_hidden": false
        },
        "nteract": {
          "transient": {
            "deleting": false
          }
        },
        "gather": {
          "logged": 1666873414913
        }
      }
    },
    {
      "cell_type": "markdown",
      "source": [
        "### Exceção\n",
        "Ocorrem no momento da execução. Alguns exemplos: NameError, TypeError. As exceções são herdadas da classe BaseException, exceto aquelas definidas pelo usuário."
      ],
      "metadata": {}
    },
    {
      "cell_type": "code",
      "source": [
        "# Tipo de Exceção: ZeroDivisionError:\n",
        "print(10/0)"
      ],
      "outputs": [
        {
          "output_type": "error",
          "ename": "ZeroDivisionError",
          "evalue": "division by zero",
          "traceback": [
            "\u001b[0;31m---------------------------------------------------------------------------\u001b[0m",
            "\u001b[0;31mZeroDivisionError\u001b[0m                         Traceback (most recent call last)",
            "\u001b[0;32m/tmp/ipykernel_8091/3878456465.py\u001b[0m in \u001b[0;36m<module>\u001b[0;34m\u001b[0m\n\u001b[1;32m      1\u001b[0m \u001b[0;31m# Tipo de Exceção: ZeroDivisionError:\u001b[0m\u001b[0;34m\u001b[0m\u001b[0;34m\u001b[0m\u001b[0;34m\u001b[0m\u001b[0m\n\u001b[0;32m----> 2\u001b[0;31m \u001b[0mprint\u001b[0m\u001b[0;34m(\u001b[0m\u001b[0;36m10\u001b[0m\u001b[0;34m/\u001b[0m\u001b[0;36m0\u001b[0m\u001b[0;34m)\u001b[0m\u001b[0;34m\u001b[0m\u001b[0;34m\u001b[0m\u001b[0m\n\u001b[0m",
            "\u001b[0;31mZeroDivisionError\u001b[0m: division by zero"
          ]
        }
      ],
      "execution_count": 18,
      "metadata": {
        "gather": {
          "logged": 1666873894225
        }
      }
    },
    {
      "cell_type": "code",
      "source": [
        "# Tipo de Exceção: NameError\n",
        "print(valor1)"
      ],
      "outputs": [
        {
          "output_type": "error",
          "ename": "NameError",
          "evalue": "name 'valor1' is not defined",
          "traceback": [
            "\u001b[0;31m---------------------------------------------------------------------------\u001b[0m",
            "\u001b[0;31mNameError\u001b[0m                                 Traceback (most recent call last)",
            "\u001b[0;32m/tmp/ipykernel_8091/780315890.py\u001b[0m in \u001b[0;36m<module>\u001b[0;34m\u001b[0m\n\u001b[1;32m      1\u001b[0m \u001b[0;31m# Tipo de Exceção: NameError\u001b[0m\u001b[0;34m\u001b[0m\u001b[0;34m\u001b[0m\u001b[0;34m\u001b[0m\u001b[0m\n\u001b[0;32m----> 2\u001b[0;31m \u001b[0mprint\u001b[0m\u001b[0;34m(\u001b[0m\u001b[0mvalor1\u001b[0m\u001b[0;34m)\u001b[0m\u001b[0;34m\u001b[0m\u001b[0;34m\u001b[0m\u001b[0m\n\u001b[0m",
            "\u001b[0;31mNameError\u001b[0m: name 'valor1' is not defined"
          ]
        }
      ],
      "execution_count": 19,
      "metadata": {
        "gather": {
          "logged": 1666873943185
        }
      }
    },
    {
      "cell_type": "code",
      "source": [
        "# Tipo de Exceção: TypeError\n",
        "print(3 + '300')"
      ],
      "outputs": [
        {
          "output_type": "error",
          "ename": "TypeError",
          "evalue": "unsupported operand type(s) for +: 'int' and 'str'",
          "traceback": [
            "\u001b[0;31m---------------------------------------------------------------------------\u001b[0m",
            "\u001b[0;31mTypeError\u001b[0m                                 Traceback (most recent call last)",
            "\u001b[0;32m/tmp/ipykernel_8091/1955127277.py\u001b[0m in \u001b[0;36m<module>\u001b[0;34m\u001b[0m\n\u001b[1;32m      1\u001b[0m \u001b[0;31m# Tipo de Exceção: TypeError\u001b[0m\u001b[0;34m\u001b[0m\u001b[0;34m\u001b[0m\u001b[0;34m\u001b[0m\u001b[0m\n\u001b[0;32m----> 2\u001b[0;31m \u001b[0mprint\u001b[0m\u001b[0;34m(\u001b[0m\u001b[0;36m3\u001b[0m \u001b[0;34m+\u001b[0m \u001b[0;34m'300'\u001b[0m\u001b[0;34m)\u001b[0m\u001b[0;34m\u001b[0m\u001b[0;34m\u001b[0m\u001b[0m\n\u001b[0m",
            "\u001b[0;31mTypeError\u001b[0m: unsupported operand type(s) for +: 'int' and 'str'"
          ]
        }
      ],
      "execution_count": 20,
      "metadata": {
        "gather": {
          "logged": 1666873993344
        }
      }
    },
    {
      "cell_type": "code",
      "source": [
        "print(3 + 300)"
      ],
      "outputs": [
        {
          "output_type": "stream",
          "name": "stdout",
          "text": "303\n"
        }
      ],
      "execution_count": 21,
      "metadata": {
        "jupyter": {
          "source_hidden": false,
          "outputs_hidden": false
        },
        "nteract": {
          "transient": {
            "deleting": false
          }
        },
        "gather": {
          "logged": 1666874039521
        }
      }
    },
    {
      "cell_type": "code",
      "source": [
        "# Tipo de Exceção: FileNotFoundError\n",
        "with open (\"tabelaCelulares.txt\",\"r\") as arquivo:\n",
        "    arquivo.readlines()"
      ],
      "outputs": [
        {
          "output_type": "error",
          "ename": "FileNotFoundError",
          "evalue": "[Errno 2] No such file or directory: 'tabelaCelulares.txt'",
          "traceback": [
            "\u001b[0;31m---------------------------------------------------------------------------\u001b[0m",
            "\u001b[0;31mFileNotFoundError\u001b[0m                         Traceback (most recent call last)",
            "\u001b[0;32m/tmp/ipykernel_8091/1331649633.py\u001b[0m in \u001b[0;36m<module>\u001b[0;34m\u001b[0m\n\u001b[1;32m      1\u001b[0m \u001b[0;31m# Tipo de Exceção: FileNotFoundError\u001b[0m\u001b[0;34m\u001b[0m\u001b[0;34m\u001b[0m\u001b[0;34m\u001b[0m\u001b[0m\n\u001b[0;32m----> 2\u001b[0;31m \u001b[0;32mwith\u001b[0m \u001b[0mopen\u001b[0m \u001b[0;34m(\u001b[0m\u001b[0;34m\"tabelaCelulares.txt\"\u001b[0m\u001b[0;34m,\u001b[0m\u001b[0;34m\"r\"\u001b[0m\u001b[0;34m)\u001b[0m \u001b[0;32mas\u001b[0m \u001b[0marquivo\u001b[0m\u001b[0;34m:\u001b[0m\u001b[0;34m\u001b[0m\u001b[0;34m\u001b[0m\u001b[0m\n\u001b[0m\u001b[1;32m      3\u001b[0m     \u001b[0marquivo\u001b[0m\u001b[0;34m.\u001b[0m\u001b[0mreadlines\u001b[0m\u001b[0;34m(\u001b[0m\u001b[0;34m)\u001b[0m\u001b[0;34m\u001b[0m\u001b[0;34m\u001b[0m\u001b[0m\n",
            "\u001b[0;31mFileNotFoundError\u001b[0m: [Errno 2] No such file or directory: 'tabelaCelulares.txt'"
          ]
        }
      ],
      "execution_count": 22,
      "metadata": {
        "gather": {
          "logged": 1666874072460
        }
      }
    },
    {
      "cell_type": "code",
      "source": [
        "# Tipo de Exceção: AttributeError\n",
        "with (\"tabelaCelulares.txt\",\"r\") as arquivo:\n",
        "     arquivo.readlines()"
      ],
      "outputs": [
        {
          "output_type": "error",
          "ename": "AttributeError",
          "evalue": "__enter__",
          "traceback": [
            "\u001b[0;31m---------------------------------------------------------------------------\u001b[0m",
            "\u001b[0;31mAttributeError\u001b[0m                            Traceback (most recent call last)",
            "\u001b[0;32m/tmp/ipykernel_8091/3704690964.py\u001b[0m in \u001b[0;36m<module>\u001b[0;34m\u001b[0m\n\u001b[1;32m      1\u001b[0m \u001b[0;31m# Tipo de Exceção: AttributeError\u001b[0m\u001b[0;34m\u001b[0m\u001b[0;34m\u001b[0m\u001b[0;34m\u001b[0m\u001b[0m\n\u001b[0;32m----> 2\u001b[0;31m \u001b[0;32mwith\u001b[0m \u001b[0;34m(\u001b[0m\u001b[0;34m\"tabelaCelulares.txt\"\u001b[0m\u001b[0;34m,\u001b[0m\u001b[0;34m\"r\"\u001b[0m\u001b[0;34m)\u001b[0m \u001b[0;32mas\u001b[0m \u001b[0marquivo\u001b[0m\u001b[0;34m:\u001b[0m\u001b[0;34m\u001b[0m\u001b[0;34m\u001b[0m\u001b[0m\n\u001b[0m\u001b[1;32m      3\u001b[0m      \u001b[0marquivo\u001b[0m\u001b[0;34m.\u001b[0m\u001b[0mreadlines\u001b[0m\u001b[0;34m(\u001b[0m\u001b[0;34m)\u001b[0m\u001b[0;34m\u001b[0m\u001b[0;34m\u001b[0m\u001b[0m\n",
            "\u001b[0;31mAttributeError\u001b[0m: __enter__"
          ]
        }
      ],
      "execution_count": 23,
      "metadata": {
        "gather": {
          "logged": 1666874113130
        }
      }
    },
    {
      "cell_type": "code",
      "source": [
        "#Tipo de Exceção: IndexError\n",
        "nome = \"Roger Sampaio\"\n",
        "print(nome[41])"
      ],
      "outputs": [
        {
          "output_type": "error",
          "ename": "IndexError",
          "evalue": "string index out of range",
          "traceback": [
            "\u001b[0;31m---------------------------------------------------------------------------\u001b[0m",
            "\u001b[0;31mIndexError\u001b[0m                                Traceback (most recent call last)",
            "\u001b[0;32m/tmp/ipykernel_8091/1717257968.py\u001b[0m in \u001b[0;36m<module>\u001b[0;34m\u001b[0m\n\u001b[1;32m      1\u001b[0m \u001b[0;31m#Tipo de Exceção: IndexError\u001b[0m\u001b[0;34m\u001b[0m\u001b[0;34m\u001b[0m\u001b[0;34m\u001b[0m\u001b[0m\n\u001b[1;32m      2\u001b[0m \u001b[0mnome\u001b[0m \u001b[0;34m=\u001b[0m \u001b[0;34m\"Roger Sampaio\"\u001b[0m\u001b[0;34m\u001b[0m\u001b[0;34m\u001b[0m\u001b[0m\n\u001b[0;32m----> 3\u001b[0;31m \u001b[0mprint\u001b[0m\u001b[0;34m(\u001b[0m\u001b[0mnome\u001b[0m\u001b[0;34m[\u001b[0m\u001b[0;36m41\u001b[0m\u001b[0;34m]\u001b[0m\u001b[0;34m)\u001b[0m\u001b[0;34m\u001b[0m\u001b[0;34m\u001b[0m\u001b[0m\n\u001b[0m",
            "\u001b[0;31mIndexError\u001b[0m: string index out of range"
          ]
        }
      ],
      "execution_count": 25,
      "metadata": {
        "gather": {
          "logged": 1666874175474
        }
      }
    },
    {
      "cell_type": "code",
      "source": [
        "nome = \"Roger Sampaio\"\r\n",
        "len(nome)"
      ],
      "outputs": [
        {
          "output_type": "execute_result",
          "execution_count": 24,
          "data": {
            "text/plain": "13"
          },
          "metadata": {}
        }
      ],
      "execution_count": 24,
      "metadata": {
        "jupyter": {
          "source_hidden": false,
          "outputs_hidden": false
        },
        "nteract": {
          "transient": {
            "deleting": false
          }
        },
        "gather": {
          "logged": 1666874168834
        }
      }
    },
    {
      "cell_type": "markdown",
      "source": [
        "<h3> Tratando exceção </h3>\n",
        "Utilizaremos um bloco try ... except </br>\n",
        "Cada TRY tem seu EXCEPT."
      ],
      "metadata": {}
    },
    {
      "cell_type": "code",
      "source": [
        "valor1 = float(input('Informe o valor 1: '))\n",
        "valor2 = float(input('Informe o valor 2: '))\n",
        "try:\n",
        "    resultado = valor1/valor2\n",
        "    # No caso 0/0\n",
        "except ZeroDivisionError:\n",
        "    print('Não é possível dividir um número por 0')\n",
        "# Somente vai tratar dentro do except a exceção declarada de forma explícita, as demais não serão declaradas.\n",
        "else:\n",
        "    print('SUCESSO')\n",
        "    print(resultado)"
      ],
      "outputs": [
        {
          "output_type": "error",
          "ename": "ValueError",
          "evalue": "could not convert string to float: 'A'",
          "traceback": [
            "\u001b[0;31m---------------------------------------------------------------------------\u001b[0m",
            "\u001b[0;31mValueError\u001b[0m                                Traceback (most recent call last)",
            "\u001b[0;32m/tmp/ipykernel_8091/404299891.py\u001b[0m in \u001b[0;36m<module>\u001b[0;34m\u001b[0m\n\u001b[1;32m      1\u001b[0m \u001b[0mvalor1\u001b[0m \u001b[0;34m=\u001b[0m \u001b[0mfloat\u001b[0m\u001b[0;34m(\u001b[0m\u001b[0minput\u001b[0m\u001b[0;34m(\u001b[0m\u001b[0;34m'Informe o valor 1: '\u001b[0m\u001b[0;34m)\u001b[0m\u001b[0;34m)\u001b[0m\u001b[0;34m\u001b[0m\u001b[0;34m\u001b[0m\u001b[0m\n\u001b[0;32m----> 2\u001b[0;31m \u001b[0mvalor2\u001b[0m \u001b[0;34m=\u001b[0m \u001b[0mfloat\u001b[0m\u001b[0;34m(\u001b[0m\u001b[0minput\u001b[0m\u001b[0;34m(\u001b[0m\u001b[0;34m'Informe o valor 2: '\u001b[0m\u001b[0;34m)\u001b[0m\u001b[0;34m)\u001b[0m\u001b[0;34m\u001b[0m\u001b[0;34m\u001b[0m\u001b[0m\n\u001b[0m\u001b[1;32m      3\u001b[0m \u001b[0;32mtry\u001b[0m\u001b[0;34m:\u001b[0m\u001b[0;34m\u001b[0m\u001b[0;34m\u001b[0m\u001b[0m\n\u001b[1;32m      4\u001b[0m     \u001b[0mresultado\u001b[0m \u001b[0;34m=\u001b[0m \u001b[0mvalor1\u001b[0m\u001b[0;34m/\u001b[0m\u001b[0mvalor2\u001b[0m\u001b[0;34m\u001b[0m\u001b[0;34m\u001b[0m\u001b[0m\n\u001b[1;32m      5\u001b[0m     \u001b[0;31m# No caso 0/0\u001b[0m\u001b[0;34m\u001b[0m\u001b[0;34m\u001b[0m\u001b[0;34m\u001b[0m\u001b[0m\n",
            "\u001b[0;31mValueError\u001b[0m: could not convert string to float: 'A'"
          ]
        }
      ],
      "execution_count": 28,
      "metadata": {
        "gather": {
          "logged": 1666874547312
        }
      }
    },
    {
      "cell_type": "code",
      "source": [
        "try:\n",
        "    valor3 = float(input('Informe o valor : '))\n",
        "    resultado = valor3 ** 2\n",
        "except ValueError:\n",
        "    print('Não é um número válido!')\n",
        "else:\n",
        "    print('SUCESSO')\n",
        "    print(resultado)"
      ],
      "outputs": [
        {
          "output_type": "stream",
          "name": "stdout",
          "text": "Não é um número válido!\n"
        }
      ],
      "execution_count": 30,
      "metadata": {
        "gather": {
          "logged": 1666874641950
        }
      }
    },
    {
      "cell_type": "code",
      "source": [
        "# Tratando várias exceções, apenas 1 delas será chamada.\n",
        "try:\n",
        "    valor4 = float(input('Informe o valor 1: '))\n",
        "    valor5 = float(input('Informe o valor 2: '))\n",
        "    resultado = valor4/valor5\n",
        "except (ZeroDivisionError,ValueError):\n",
        "    print('Ocorreu um erro!')\n",
        "else:\n",
        "    print('SUCESSO')\n",
        "    print(resultado)"
      ],
      "outputs": [
        {
          "output_type": "stream",
          "name": "stdout",
          "text": "SUCESSO\n5.0\n"
        }
      ],
      "execution_count": 33,
      "metadata": {
        "gather": {
          "logged": 1666874765803
        }
      }
    },
    {
      "cell_type": "code",
      "source": [
        "# Cada try tem seu except ...\n",
        "try:\n",
        "    valor4 = float(input('Informe o valor 1: '))\n",
        "    try:\n",
        "        valor5 = float(input('Informe o valor 2: '))\n",
        "        try:\n",
        "            resultado = valor4/valor5\n",
        "        except (ZeroDivisionError):\n",
        "            print('Erro ao tentar dividir um número por 0!') \n",
        "    except (ValueError):\n",
        "        print('Um número incorreto foi informado!') \n",
        "except (ValueError):\n",
        "    print('Um número incorreto foi informado!')"
      ],
      "outputs": [
        {
          "output_type": "stream",
          "name": "stdout",
          "text": "Erro ao tentar dividir um número por 0!\n"
        }
      ],
      "execution_count": 36,
      "metadata": {
        "gather": {
          "logged": 1666874874077
        }
      }
    },
    {
      "cell_type": "code",
      "source": [
        "# Tratando de forma genérica\r\n",
        "# Obtendo o primeiro valor\r\n",
        "try:\r\n",
        "    valor6 = float(input('Informe o valor 1: '))\r\n",
        "except Exception as excecao:\r\n",
        "    print('Ocorreu um erro ao obter número 1! ',excecao)\r\n",
        "# Obtendo o segundo valor\r\n",
        "else:\r\n",
        "    try:\r\n",
        "        valor7 = float(input('Informe o valor 2: '))\r\n",
        "    except Exception as excecao:\r\n",
        "        print('Ocorreu um erro ao obter número 2! ',excecao)\r\n",
        "    else:\r\n",
        "        # Divisão\r\n",
        "        try:\r\n",
        "            resultado = valor6/valor7\r\n",
        "        except Exception as excecao:\r\n",
        "            print('Ocorreu um erro na divisão! ',excecao)\r\n",
        "        else:\r\n",
        "            print('SUCESSO.')\r\n",
        "            print('O valor da divisão é ',resultado)"
      ],
      "outputs": [
        {
          "output_type": "stream",
          "name": "stdout",
          "text": "SUCESSO.\nO valor da divisão é  5.0\n"
        }
      ],
      "execution_count": 38,
      "metadata": {
        "jupyter": {
          "source_hidden": false,
          "outputs_hidden": false
        },
        "nteract": {
          "transient": {
            "deleting": false
          }
        },
        "gather": {
          "logged": 1666875012789
        }
      }
    },
    {
      "cell_type": "code",
      "source": [
        "# Tratando de forma genérica, simplicando ainda mais\r\n",
        "try:\r\n",
        "    valor6 = float(input('Informe o valor 1: '))\r\n",
        "    valor7 = float(input('Informe o valor 2: '))\r\n",
        "    resultado = valor6/valor7\r\n",
        "except Exception as excecao:\r\n",
        "    print('Ocorreu um erro! ',excecao)\r\n",
        "    string_erro = str(type(excecao))\r\n",
        "    print('Erro: ',string_erro[string_erro.find(\"'\")+1:-2])\r\n",
        "# O comando ELSE é opcional, indicando que não ocorreu exceção\r\n",
        "else:\r\n",
        "    print('SUCESSO.')\r\n",
        "    print('O valor da divisão é ',resultado)\r\n"
      ],
      "outputs": [
        {
          "output_type": "stream",
          "name": "stdout",
          "text": "SUCESSO.\nO valor da divisão é  3.3333333333333335\n"
        }
      ],
      "execution_count": 40,
      "metadata": {
        "jupyter": {
          "source_hidden": false,
          "outputs_hidden": false
        },
        "nteract": {
          "transient": {
            "deleting": false
          }
        },
        "gather": {
          "logged": 1666875086789
        }
      }
    },
    {
      "cell_type": "markdown",
      "source": [
        "<h3> Comando finally </h3>\n",
        "Sempre ele será executado, independente de ter ocorrido exceções ou não."
      ],
      "metadata": {}
    },
    {
      "cell_type": "code",
      "source": [
        "try:\n",
        "    salario = input('Informe seu salário ')\n",
        "    print(float(salario))\n",
        "except ValueError:\n",
        "    print('Ocorreu um erro ao converter o valor!')\n",
        "finally:\n",
        "    print('Programa encerrado!')"
      ],
      "outputs": [
        {
          "output_type": "stream",
          "name": "stdout",
          "text": "Ocorreu um erro ao converter o valor!\nPrograma encerrado!\n"
        }
      ],
      "execution_count": 42,
      "metadata": {
        "gather": {
          "logged": 1666875147093
        }
      }
    },
    {
      "cell_type": "markdown",
      "source": [
        "<h3> Comando raise </h3>\n",
        "Ele serve para forçar o lançamento da exceção."
      ],
      "metadata": {}
    },
    {
      "cell_type": "code",
      "source": [
        "raise ValueError('Erro de valor')"
      ],
      "outputs": [
        {
          "output_type": "error",
          "ename": "ValueError",
          "evalue": "Erro de valor",
          "traceback": [
            "\u001b[0;31m---------------------------------------------------------------------------\u001b[0m",
            "\u001b[0;31mValueError\u001b[0m                                Traceback (most recent call last)",
            "\u001b[0;32m/tmp/ipykernel_8091/1845147824.py\u001b[0m in \u001b[0;36m<module>\u001b[0;34m\u001b[0m\n\u001b[0;32m----> 1\u001b[0;31m \u001b[0;32mraise\u001b[0m \u001b[0mValueError\u001b[0m\u001b[0;34m(\u001b[0m\u001b[0;34m'Erro de valor'\u001b[0m\u001b[0;34m)\u001b[0m\u001b[0;34m\u001b[0m\u001b[0;34m\u001b[0m\u001b[0m\n\u001b[0m",
            "\u001b[0;31mValueError\u001b[0m: Erro de valor"
          ]
        }
      ],
      "execution_count": 43,
      "metadata": {
        "gather": {
          "logged": 1666875252397
        }
      }
    },
    {
      "cell_type": "code",
      "source": [
        "# Podemos usar a cláusula ELSE com o except, útil quando não ocorre o lançamento de exceções.\n",
        "try:\n",
        "    salario = input('Informe seu salário ')\n",
        "    print(float(salario))\n",
        "except ValueError:\n",
        "    print('Ocorreu um erro ao converter o valor!')\n",
        "else:\n",
        "    print('Programa encerrado com sucesso e sem erros!')"
      ],
      "outputs": [
        {
          "output_type": "stream",
          "name": "stdout",
          "text": "Ocorreu um erro ao converter o valor!\n"
        }
      ],
      "execution_count": 45,
      "metadata": {
        "gather": {
          "logged": 1666875312021
        }
      }
    },
    {
      "cell_type": "markdown",
      "source": [
        "<h3> Exceções definidas pelo usuário. </h3>\n",
        "É possível criar nossas próprias exceções, herdando diretamente a classe Exception. "
      ],
      "metadata": {}
    },
    {
      "cell_type": "code",
      "source": [
        "class MeuErro(Exception):\n",
        "    # Método especial, chamado no momento que a classe é instanciada.\n",
        "    def __init__(self, valor):\n",
        "        print('Fui criado')\n",
        "        self.valor = valor\n",
        "    # Nova definição da string.        \n",
        "    def __str__(self):\n",
        "        # Método que retorna a representável \"printável\" do objeto\n",
        "        return repr(self.valor)\n",
        "try:\n",
        "    raise MeuErro(2*2)\n",
        "except MeuErro as e:\n",
        "    print('Minha exceção ocorreu, valor:', e.valor)"
      ],
      "outputs": [
        {
          "output_type": "stream",
          "name": "stdout",
          "text": "Fui criado\nMinha exceção ocorreu, valor: 4\n"
        }
      ],
      "execution_count": 46,
      "metadata": {
        "gather": {
          "logged": 1666875434922
        }
      }
    },
    {
      "cell_type": "markdown",
      "source": [
        "<h3> Comando eval() </h3>\n",
        "Converte o parâmetro dentro e executa algum código. https://www.programiz.com/python-programming/methods/built-in/eval"
      ],
      "metadata": {}
    },
    {
      "cell_type": "code",
      "source": [
        "eval('2 + 4')"
      ],
      "outputs": [
        {
          "output_type": "execute_result",
          "execution_count": 47,
          "data": {
            "text/plain": "6"
          },
          "metadata": {}
        }
      ],
      "execution_count": 47,
      "metadata": {
        "gather": {
          "logged": 1666875472311
        }
      }
    },
    {
      "cell_type": "code",
      "source": [
        "?eval"
      ],
      "outputs": [],
      "execution_count": 31,
      "metadata": {}
    },
    {
      "cell_type": "code",
      "source": [
        "valor = 40\n",
        "eval(\"print(valor + 30)\")"
      ],
      "outputs": [
        {
          "output_type": "stream",
          "name": "stdout",
          "text": "70\n"
        }
      ],
      "execution_count": 48,
      "metadata": {
        "gather": {
          "logged": 1666875494385
        }
      }
    }
  ],
  "metadata": {
    "kernelspec": {
      "name": "python3",
      "language": "python",
      "display_name": "Python 3 (ipykernel)"
    },
    "language_info": {
      "name": "python",
      "version": "3.8.5",
      "mimetype": "text/x-python",
      "codemirror_mode": {
        "name": "ipython",
        "version": 3
      },
      "pygments_lexer": "ipython3",
      "nbconvert_exporter": "python",
      "file_extension": ".py"
    },
    "nteract": {
      "version": "nteract-front-end@1.0.0"
    },
    "kernel_info": {
      "name": "python3"
    }
  },
  "nbformat": 4,
  "nbformat_minor": 2
}