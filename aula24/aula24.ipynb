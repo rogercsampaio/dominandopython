{
  "cells": [
    {
      "cell_type": "markdown",
      "source": [
        "<img src=\"imagens/logo_oficial.jpg\"/>"
      ],
      "metadata": {
        "nteract": {
          "transient": {
            "deleting": false
          }
        }
      }
    },
    {
      "cell_type": "markdown",
      "source": [
        "## Aula 24 - Correção de Exercíos \r\n",
        "Módulos para DATA e HORA"
      ],
      "metadata": {
        "nteract": {
          "transient": {
            "deleting": false
          }
        }
      }
    },
    {
      "cell_type": "markdown",
      "source": [
        "<h3> Exercício 1 </h3>"
      ],
      "metadata": {
        "nteract": {
          "transient": {
            "deleting": false
          }
        }
      }
    },
    {
      "cell_type": "code",
      "source": [
        "# importação dos módulos\r\n",
        "import datetime as dt"
      ],
      "outputs": [],
      "execution_count": 10,
      "metadata": {
        "jupyter": {
          "source_hidden": false,
          "outputs_hidden": false
        },
        "nteract": {
          "transient": {
            "deleting": false
          }
        },
        "gather": {
          "logged": 1671243840633
        }
      }
    },
    {
      "cell_type": "code",
      "source": [
        "def calcular_idade(data_nascimento):\r\n",
        "    ano_atual = dt.date.today().year\r\n",
        "    return ano_atual - data_nascimento.year"
      ],
      "outputs": [],
      "execution_count": 11,
      "metadata": {
        "jupyter": {
          "source_hidden": false,
          "outputs_hidden": false
        },
        "nteract": {
          "transient": {
            "deleting": false
          }
        },
        "gather": {
          "logged": 1671243841800
        }
      }
    },
    {
      "cell_type": "code",
      "source": [
        "def estimar_idade_anos(data_nascimento,qtde_anos):\r\n",
        "    return calcular_idade(data_nascimento) + qtde_anos\r\n"
      ],
      "outputs": [],
      "execution_count": 12,
      "metadata": {
        "jupyter": {
          "source_hidden": false,
          "outputs_hidden": false
        },
        "nteract": {
          "transient": {
            "deleting": false
          }
        },
        "gather": {
          "logged": 1671243843078
        }
      }
    },
    {
      "cell_type": "code",
      "source": [
        "# Captura dos dados\r\n",
        "dia_nascimento = input(\"Informe o dia. Exemplo: 02\")\r\n",
        "mes_nascimento = input(\"Informe o mês. Exemplo: 09 \")\r\n",
        "ano_nascimento = input(\"Informe o ano. Exemplo: 1990 \")\r\n",
        "# Concatena todas as strings.\r\n",
        "data_completa_str = dia_nascimento + \"/\" + mes_nascimento + \"/\" + ano_nascimento\r\n",
        "data_completa_date = dt.datetime.strptime(data_completa_str, '%d/%m/%Y').date()\r\n"
      ],
      "outputs": [],
      "execution_count": 13,
      "metadata": {
        "jupyter": {
          "source_hidden": false,
          "outputs_hidden": false
        },
        "nteract": {
          "transient": {
            "deleting": false
          }
        },
        "gather": {
          "logged": 1671243856765
        }
      }
    },
    {
      "cell_type": "code",
      "source": [
        "print(f\"A idade atual é:  {calcular_idade(data_completa_date)}\")\n",
        "print(f\"A idade daqui 20 anos será:  {estimar_idade_anos(data_completa_date,20)}\")\n",
        "idade_estimada = estimar_idade_anos(data_completa_date,20)\n",
        "if (idade_estimada >= 120):\n",
        "    print('Pessoa morreu.')\n"
      ],
      "outputs": [
        {
          "output_type": "stream",
          "name": "stdout",
          "text": "A idade atual é:  32\nA idade daqui 20 anos será:  52\n"
        }
      ],
      "execution_count": 14,
      "metadata": {
        "gather": {
          "logged": 1671243858876
        }
      }
    },
    {
      "cell_type": "markdown",
      "source": [
        "<h3> Exercício 2 </h3>"
      ],
      "metadata": {
        "nteract": {
          "transient": {
            "deleting": false
          }
        }
      }
    },
    {
      "cell_type": "code",
      "source": [
        "def obter_dia_semana_extenso(data):\r\n",
        "    # pegar o número dia da semana. 0-6. 0 é Segunda, 6 Domingo.\r\n",
        "    dias_semanas_nomes_pt = ['Segunda-Feira','Terça-Feira','Quarta-Feira','Quinta-Feira','Sexta-Feira','Sábado','Domingo']\r\n",
        "    dia_semana_index = data.weekday()\r\n",
        "    return dias_semanas_nomes_pt[dia_semana_index]"
      ],
      "outputs": [],
      "execution_count": 15,
      "metadata": {
        "jupyter": {
          "source_hidden": false,
          "outputs_hidden": false
        },
        "nteract": {
          "transient": {
            "deleting": false
          }
        },
        "gather": {
          "logged": 1671244187700
        }
      }
    },
    {
      "cell_type": "code",
      "source": [
        "def obter_mes_extenso(data):\r\n",
        "    # Extração do mês (começa em 1 = janeiro, 12 = dezembro)\r\n",
        "    mes_index = data.month\r\n",
        "    meses_nomes_pt = ['janeiro', 'fevereiro', 'março', 'abril', 'maio', 'junho', 'julho', 'agosto', 'setembro', 'outubro', 'novembro','dezembro']\r\n",
        "    return meses_nomes_pt[mes_index-1]"
      ],
      "outputs": [],
      "execution_count": 19,
      "metadata": {
        "jupyter": {
          "source_hidden": false,
          "outputs_hidden": false
        },
        "nteract": {
          "transient": {
            "deleting": false
          }
        },
        "gather": {
          "logged": 1671244221446
        }
      }
    },
    {
      "cell_type": "code",
      "source": [
        "def gerar_relatorio_datas(lista_datas):\r\n",
        "    for data_str in lista_datas:\r\n",
        "        print(\"==========================================================================================\")\r\n",
        "        print(f\"DATA: {data_str}\")\r\n",
        "        # converter para data\r\n",
        "        data_completa_date = dt.datetime.strptime(data_str, '%d/%m/%Y').date()\r\n",
        "        dia_semana_extenso = obter_dia_semana_extenso(data_completa_date)\r\n",
        "        dia_mes_extenso = obter_mes_extenso(data_completa_date)\r\n",
        "        print(f\"{dia_semana_extenso} {data_completa_date.day}, {dia_mes_extenso},{data_completa_date.year} \")"
      ],
      "outputs": [],
      "execution_count": 20,
      "metadata": {
        "jupyter": {
          "source_hidden": false,
          "outputs_hidden": false
        },
        "nteract": {
          "transient": {
            "deleting": false
          }
        },
        "gather": {
          "logged": 1671244223722
        }
      }
    },
    {
      "cell_type": "code",
      "source": [
        "lista_datas = ['20/02/2021','04/06/2001','10/03/2000','01/08/2008']\r\n",
        "gerar_relatorio_datas(lista_datas)"
      ],
      "outputs": [
        {
          "output_type": "stream",
          "name": "stdout",
          "text": "==========================================================================================\nDATA: 20/02/2021\nSábado 20, fevereiro,2021 \n==========================================================================================\nDATA: 04/06/2001\nSegunda-Feira 4, junho,2001 \n==========================================================================================\nDATA: 10/03/2000\nSexta-Feira 10, março,2000 \n==========================================================================================\nDATA: 01/08/2008\nSexta-Feira 1, agosto,2008 \n"
        }
      ],
      "execution_count": 21,
      "metadata": {
        "jupyter": {
          "source_hidden": false,
          "outputs_hidden": false
        },
        "nteract": {
          "transient": {
            "deleting": false
          }
        },
        "gather": {
          "logged": 1671244226017
        }
      }
    }
  ],
  "metadata": {
    "kernelspec": {
      "name": "python3",
      "language": "python",
      "display_name": "Python 3 (ipykernel)"
    },
    "language_info": {
      "name": "python",
      "version": "3.8.5",
      "mimetype": "text/x-python",
      "codemirror_mode": {
        "name": "ipython",
        "version": 3
      },
      "pygments_lexer": "ipython3",
      "nbconvert_exporter": "python",
      "file_extension": ".py"
    },
    "nteract": {
      "version": "nteract-front-end@1.0.0"
    },
    "kernel_info": {
      "name": "python3"
    },
    "microsoft": {
      "host": {
        "AzureML": {
          "notebookHasBeenCompleted": true
        }
      }
    }
  },
  "nbformat": 4,
  "nbformat_minor": 2
}