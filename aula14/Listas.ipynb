{
  "cells": [
    {
      "cell_type": "markdown",
      "source": [
        "# Listas\n",
        "#### Listas são estruturas de dados que armazenar diversos valores (podendo ser do mesmo tipo ou não)  e ainda possibilitam indexação."
      ],
      "metadata": {}
    },
    {
      "cell_type": "markdown",
      "source": [
        "#### Relembrando variáveis"
      ],
      "metadata": {
        "nteract": {
          "transient": {
            "deleting": false
          }
        }
      }
    },
    {
      "cell_type": "code",
      "source": [
        "# Pessoa 1\r\n",
        "nome1 = 'Roger'\r\n",
        "idade1 = 20\r\n",
        "sexo1 = 'M'\r\n",
        "\r\n",
        "# Pessoa 2\r\n",
        "nome2 = 'Carlos'\r\n",
        "idade2 = 45\r\n",
        "sexo2 = 'M'\r\n",
        "\r\n",
        "print(nome1,' ',idade1,sexo1)\r\n",
        "print(nome2,' ',idade2,sexo2)\r\n",
        "# E se fosse mais de 10? 100? 10.000? O que faríamos?"
      ],
      "outputs": [],
      "execution_count": null,
      "metadata": {
        "jupyter": {
          "source_hidden": false,
          "outputs_hidden": false
        },
        "nteract": {
          "transient": {
            "deleting": false
          }
        }
      }
    },
    {
      "cell_type": "markdown",
      "source": [
        "#### Criação de listas."
      ],
      "metadata": {}
    },
    {
      "cell_type": "code",
      "source": [
        "listaNumeros = [4,10,22,41]\n",
        "listaNumeros"
      ],
      "outputs": [
        {
          "output_type": "execute_result",
          "execution_count": 1,
          "data": {
            "text/plain": "[4, 10, 22, 41]"
          },
          "metadata": {}
        }
      ],
      "execution_count": 1,
      "metadata": {
        "gather": {
          "logged": 1663205967115
        }
      }
    },
    {
      "cell_type": "code",
      "source": [
        "type(listaNumeros)"
      ],
      "outputs": [
        {
          "output_type": "execute_result",
          "execution_count": 2,
          "data": {
            "text/plain": "list"
          },
          "metadata": {}
        }
      ],
      "execution_count": 2,
      "metadata": {
        "jupyter": {
          "source_hidden": false,
          "outputs_hidden": false
        },
        "nteract": {
          "transient": {
            "deleting": false
          }
        },
        "gather": {
          "logged": 1663205979524
        }
      }
    },
    {
      "cell_type": "code",
      "source": [
        "listaNumero2 = list([33,11,55,54,10,21])\n",
        "listaNumero2"
      ],
      "outputs": [
        {
          "output_type": "execute_result",
          "execution_count": 3,
          "data": {
            "text/plain": "[33, 11, 55, 54, 10, 21]"
          },
          "metadata": {}
        }
      ],
      "execution_count": 3,
      "metadata": {
        "gather": {
          "logged": 1663206038611
        }
      }
    },
    {
      "cell_type": "code",
      "source": [
        "type(listaNumero2)"
      ],
      "outputs": [
        {
          "output_type": "execute_result",
          "execution_count": 4,
          "data": {
            "text/plain": "list"
          },
          "metadata": {}
        }
      ],
      "execution_count": 4,
      "metadata": {
        "gather": {
          "logged": 1663206052034
        }
      }
    },
    {
      "cell_type": "markdown",
      "source": [
        "#### Acessando os elementos através da indexação. Começamos sempre em 0."
      ],
      "metadata": {}
    },
    {
      "cell_type": "code",
      "source": [
        "listaNumeros"
      ],
      "outputs": [
        {
          "output_type": "execute_result",
          "execution_count": 5,
          "data": {
            "text/plain": "[4, 10, 22, 41]"
          },
          "metadata": {}
        }
      ],
      "execution_count": 5,
      "metadata": {
        "jupyter": {
          "source_hidden": false,
          "outputs_hidden": false
        },
        "nteract": {
          "transient": {
            "deleting": false
          }
        },
        "gather": {
          "logged": 1663206094061
        }
      }
    },
    {
      "cell_type": "code",
      "source": [
        "listaNumeros[0]"
      ],
      "outputs": [
        {
          "output_type": "execute_result",
          "execution_count": 6,
          "data": {
            "text/plain": "4"
          },
          "metadata": {}
        }
      ],
      "execution_count": 6,
      "metadata": {
        "gather": {
          "logged": 1663206111425
        }
      }
    },
    {
      "cell_type": "code",
      "source": [
        "listaNumeros[2]"
      ],
      "outputs": [
        {
          "output_type": "execute_result",
          "execution_count": 7,
          "data": {
            "text/plain": "22"
          },
          "metadata": {}
        }
      ],
      "execution_count": 7,
      "metadata": {
        "gather": {
          "logged": 1663206140932
        }
      }
    },
    {
      "cell_type": "code",
      "source": [
        "listaNumeros[3]"
      ],
      "outputs": [
        {
          "output_type": "execute_result",
          "execution_count": 8,
          "data": {
            "text/plain": "41"
          },
          "metadata": {}
        }
      ],
      "execution_count": 8,
      "metadata": {
        "jupyter": {
          "source_hidden": false,
          "outputs_hidden": false
        },
        "nteract": {
          "transient": {
            "deleting": false
          }
        },
        "gather": {
          "logged": 1663206157304
        }
      }
    },
    {
      "cell_type": "code",
      "source": [
        "listaNumeros[4]"
      ],
      "outputs": [
        {
          "output_type": "error",
          "ename": "IndexError",
          "evalue": "list index out of range",
          "traceback": [
            "\u001b[0;31m---------------------------------------------------------------------------\u001b[0m",
            "\u001b[0;31mIndexError\u001b[0m                                Traceback (most recent call last)",
            "Input \u001b[0;32mIn [9]\u001b[0m, in \u001b[0;36m<cell line: 1>\u001b[0;34m()\u001b[0m\n\u001b[0;32m----> 1\u001b[0m \u001b[43mlistaNumeros\u001b[49m\u001b[43m[\u001b[49m\u001b[38;5;241;43m4\u001b[39;49m\u001b[43m]\u001b[49m\n",
            "\u001b[0;31mIndexError\u001b[0m: list index out of range"
          ]
        }
      ],
      "execution_count": 9,
      "metadata": {
        "jupyter": {
          "source_hidden": false,
          "outputs_hidden": false
        },
        "nteract": {
          "transient": {
            "deleting": false
          }
        },
        "gather": {
          "logged": 1663206171800
        }
      }
    },
    {
      "cell_type": "code",
      "source": [
        "listaNumeros"
      ],
      "outputs": [
        {
          "output_type": "execute_result",
          "execution_count": 10,
          "data": {
            "text/plain": "[4, 10, 22, 41]"
          },
          "metadata": {}
        }
      ],
      "execution_count": 10,
      "metadata": {
        "jupyter": {
          "source_hidden": false,
          "outputs_hidden": false
        },
        "nteract": {
          "transient": {
            "deleting": false
          }
        },
        "gather": {
          "logged": 1663206375124
        }
      }
    },
    {
      "cell_type": "code",
      "source": [
        "# limite inicial (inclusivo) : limite final (exclusivo)\r\n",
        "listaNumeros[0:2]"
      ],
      "outputs": [
        {
          "output_type": "execute_result",
          "execution_count": 11,
          "data": {
            "text/plain": "[4, 10]"
          },
          "metadata": {}
        }
      ],
      "execution_count": 11,
      "metadata": {
        "gather": {
          "logged": 1663206398959
        }
      }
    },
    {
      "cell_type": "code",
      "source": [
        "listaNumeros[-1]"
      ],
      "outputs": [
        {
          "output_type": "execute_result",
          "execution_count": 12,
          "data": {
            "text/plain": "41"
          },
          "metadata": {}
        }
      ],
      "execution_count": 12,
      "metadata": {
        "gather": {
          "logged": 1663206414383
        }
      }
    },
    {
      "cell_type": "code",
      "source": [
        "listaNumeros[:3]"
      ],
      "outputs": [
        {
          "output_type": "execute_result",
          "execution_count": 14,
          "data": {
            "text/plain": "[4, 10, 22]"
          },
          "metadata": {}
        }
      ],
      "execution_count": 14,
      "metadata": {
        "jupyter": {
          "source_hidden": false,
          "outputs_hidden": false
        },
        "nteract": {
          "transient": {
            "deleting": false
          }
        },
        "gather": {
          "logged": 1663206474341
        }
      }
    },
    {
      "cell_type": "code",
      "source": [
        "nome = 'Roger'"
      ],
      "outputs": [],
      "execution_count": 15,
      "metadata": {
        "jupyter": {
          "source_hidden": false,
          "outputs_hidden": false
        },
        "nteract": {
          "transient": {
            "deleting": false
          }
        },
        "gather": {
          "logged": 1663206487153
        }
      }
    },
    {
      "cell_type": "code",
      "source": [
        "type(nome)"
      ],
      "outputs": [
        {
          "output_type": "execute_result",
          "execution_count": 16,
          "data": {
            "text/plain": "str"
          },
          "metadata": {}
        }
      ],
      "execution_count": 16,
      "metadata": {
        "jupyter": {
          "source_hidden": false,
          "outputs_hidden": false
        },
        "nteract": {
          "transient": {
            "deleting": false
          }
        },
        "gather": {
          "logged": 1663206496925
        }
      }
    },
    {
      "cell_type": "code",
      "source": [
        "# Na prática strings são lista de caracteres\r\n",
        "nome[2]"
      ],
      "outputs": [
        {
          "output_type": "execute_result",
          "execution_count": 17,
          "data": {
            "text/plain": "'g'"
          },
          "metadata": {}
        }
      ],
      "execution_count": 17,
      "metadata": {
        "jupyter": {
          "source_hidden": false,
          "outputs_hidden": false
        },
        "nteract": {
          "transient": {
            "deleting": false
          }
        },
        "gather": {
          "logged": 1663206507727
        }
      }
    },
    {
      "cell_type": "markdown",
      "source": [
        "#### Obtendo o tamanho da lista"
      ],
      "metadata": {}
    },
    {
      "cell_type": "code",
      "source": [
        "listaNumeros\r\n"
      ],
      "outputs": [
        {
          "output_type": "execute_result",
          "execution_count": 18,
          "data": {
            "text/plain": "[4, 10, 22, 41]"
          },
          "metadata": {}
        }
      ],
      "execution_count": 18,
      "metadata": {
        "jupyter": {
          "source_hidden": false,
          "outputs_hidden": false
        },
        "nteract": {
          "transient": {
            "deleting": false
          }
        },
        "gather": {
          "logged": 1663206552206
        }
      }
    },
    {
      "cell_type": "code",
      "source": [
        "len(listaNumeros)"
      ],
      "outputs": [
        {
          "output_type": "execute_result",
          "execution_count": 19,
          "data": {
            "text/plain": "4"
          },
          "metadata": {}
        }
      ],
      "execution_count": 19,
      "metadata": {
        "gather": {
          "logged": 1663206557184
        }
      }
    },
    {
      "cell_type": "code",
      "source": [
        "listaFrutas = ['uva','banana','morango']\n",
        "listaFrutas"
      ],
      "outputs": [
        {
          "output_type": "execute_result",
          "execution_count": 32,
          "data": {
            "text/plain": "['uva', 'banana', 'morango']"
          },
          "metadata": {}
        }
      ],
      "execution_count": 32,
      "metadata": {
        "gather": {
          "logged": 1663206810960
        }
      }
    },
    {
      "cell_type": "code",
      "source": [
        "type(listaFrutas)"
      ],
      "outputs": [
        {
          "output_type": "execute_result",
          "execution_count": 21,
          "data": {
            "text/plain": "list"
          },
          "metadata": {}
        }
      ],
      "execution_count": 21,
      "metadata": {
        "gather": {
          "logged": 1663206578608
        }
      }
    },
    {
      "cell_type": "markdown",
      "source": [
        "#### Adicionando elementos na lista"
      ],
      "metadata": {}
    },
    {
      "cell_type": "code",
      "source": [
        "# Adicionando um novo elemento (no final da lista)\n",
        "listaFrutas.append('abacaxi')"
      ],
      "outputs": [],
      "execution_count": 33,
      "metadata": {
        "gather": {
          "logged": 1663206814856
        }
      }
    },
    {
      "cell_type": "code",
      "source": [
        "listaFrutas"
      ],
      "outputs": [
        {
          "output_type": "execute_result",
          "execution_count": 34,
          "data": {
            "text/plain": "['uva', 'banana', 'morango', 'abacaxi']"
          },
          "metadata": {}
        }
      ],
      "execution_count": 34,
      "metadata": {
        "jupyter": {
          "source_hidden": false,
          "outputs_hidden": false
        },
        "nteract": {
          "transient": {
            "deleting": false
          }
        },
        "gather": {
          "logged": 1663206815988
        }
      }
    },
    {
      "cell_type": "code",
      "source": [
        "# Adicionando um novo elemento (especificamos a posição)\n",
        "listaFrutas.insert(2,'pêra')"
      ],
      "outputs": [],
      "execution_count": 35,
      "metadata": {
        "gather": {
          "logged": 1663206835169
        }
      }
    },
    {
      "cell_type": "code",
      "source": [
        "listaFrutas"
      ],
      "outputs": [
        {
          "output_type": "execute_result",
          "execution_count": 36,
          "data": {
            "text/plain": "['uva', 'banana', 'pêra', 'morango', 'abacaxi']"
          },
          "metadata": {}
        }
      ],
      "execution_count": 36,
      "metadata": {
        "gather": {
          "logged": 1663206839690
        }
      }
    },
    {
      "cell_type": "markdown",
      "source": [
        "#### Removendo elementos"
      ],
      "metadata": {}
    },
    {
      "cell_type": "code",
      "source": [
        "# Remove o elemento\r\n",
        "listaFrutas.remove('abacaxi')"
      ],
      "outputs": [],
      "execution_count": 37,
      "metadata": {
        "gather": {
          "logged": 1663206893925
        }
      }
    },
    {
      "cell_type": "code",
      "source": [
        "listaFrutas"
      ],
      "outputs": [
        {
          "output_type": "execute_result",
          "execution_count": 38,
          "data": {
            "text/plain": "['uva', 'banana', 'pêra', 'morango']"
          },
          "metadata": {}
        }
      ],
      "execution_count": 38,
      "metadata": {
        "gather": {
          "logged": 1663206895321
        }
      }
    },
    {
      "cell_type": "code",
      "source": [
        "# Excluindo todos os elementos\n",
        "listaFrutas.clear()\n",
        "listaFrutas"
      ],
      "outputs": [
        {
          "output_type": "execute_result",
          "execution_count": 39,
          "data": {
            "text/plain": "[]"
          },
          "metadata": {}
        }
      ],
      "execution_count": 39,
      "metadata": {
        "gather": {
          "logged": 1663206917600
        }
      }
    },
    {
      "cell_type": "code",
      "source": [
        "lista = [20,4,3,4]\r\n",
        "# lista.pop(index)\r\n",
        "# Remove o elemento a partir do índice.\r\n",
        "# Argumento index é opcional, se não for passado, -1 será usado como argumento.\r\n",
        "# Se o índice passado para o método não estiver no range, lançará um exceção IndexError"
      ],
      "outputs": [],
      "execution_count": 41,
      "metadata": {
        "jupyter": {
          "source_hidden": false,
          "outputs_hidden": false
        },
        "nteract": {
          "transient": {
            "deleting": false
          }
        },
        "gather": {
          "logged": 1663206999058
        }
      }
    },
    {
      "cell_type": "code",
      "source": [
        "lista = lista.pop(2)\r\n",
        "lista"
      ],
      "outputs": [
        {
          "output_type": "execute_result",
          "execution_count": 42,
          "data": {
            "text/plain": "3"
          },
          "metadata": {}
        }
      ],
      "execution_count": 42,
      "metadata": {
        "jupyter": {
          "source_hidden": false,
          "outputs_hidden": false
        },
        "nteract": {
          "transient": {
            "deleting": false
          }
        },
        "gather": {
          "logged": 1663207002050
        }
      }
    },
    {
      "cell_type": "code",
      "source": [
        "# Lista com vários tipos de dados\n",
        "listaDados = ['Ana',1200,2005]\n",
        "listaDados"
      ],
      "outputs": [
        {
          "output_type": "execute_result",
          "execution_count": 43,
          "data": {
            "text/plain": "['Ana', 1200, 2005]"
          },
          "metadata": {}
        }
      ],
      "execution_count": 43,
      "metadata": {
        "gather": {
          "logged": 1663207037222
        }
      }
    },
    {
      "cell_type": "markdown",
      "source": [
        "#### Manipulando (alterando) elementos da lista"
      ],
      "metadata": {}
    },
    {
      "cell_type": "code",
      "source": [
        "listaDados[1] += 200 "
      ],
      "outputs": [],
      "execution_count": 44,
      "metadata": {
        "gather": {
          "logged": 1663207068919
        }
      }
    },
    {
      "cell_type": "code",
      "source": [
        "listaDados[1]"
      ],
      "outputs": [
        {
          "output_type": "execute_result",
          "execution_count": 45,
          "data": {
            "text/plain": "1400"
          },
          "metadata": {}
        }
      ],
      "execution_count": 45,
      "metadata": {
        "gather": {
          "logged": 1663207073371
        }
      }
    },
    {
      "cell_type": "code",
      "source": [
        "# Percorrendo a lista\n",
        "for item in listaDados:\n",
        "    print(item)"
      ],
      "outputs": [
        {
          "output_type": "stream",
          "name": "stdout",
          "text": "Ana\n1400\n2005\n"
        }
      ],
      "execution_count": 46,
      "metadata": {
        "gather": {
          "logged": 1663207085620
        }
      }
    },
    {
      "cell_type": "markdown",
      "source": [
        "#### Ordenando elementos na lista"
      ],
      "metadata": {}
    },
    {
      "cell_type": "code",
      "source": [
        "# Ordenar\n",
        "listaIdades = list([30,11,55,54,10,41])\n",
        "listaIdades.sort()"
      ],
      "outputs": [],
      "execution_count": 47,
      "metadata": {
        "gather": {
          "logged": 1663207124925
        }
      }
    },
    {
      "cell_type": "code",
      "source": [
        "listaIdades"
      ],
      "outputs": [
        {
          "output_type": "execute_result",
          "execution_count": 48,
          "data": {
            "text/plain": "[10, 11, 30, 41, 54, 55]"
          },
          "metadata": {}
        }
      ],
      "execution_count": 48,
      "metadata": {
        "gather": {
          "logged": 1663207129501
        }
      }
    },
    {
      "cell_type": "markdown",
      "source": [
        "#### Juntando listas (JOIN)"
      ],
      "metadata": {}
    },
    {
      "cell_type": "code",
      "source": [
        "listaA = [32,53,0,2]\n",
        "listaB = [55,5,2,1]\n",
        "listaAB = listaA + listaB\n",
        "listaAB"
      ],
      "outputs": [
        {
          "output_type": "execute_result",
          "execution_count": 49,
          "data": {
            "text/plain": "[32, 53, 0, 2, 55, 5, 2, 1]"
          },
          "metadata": {}
        }
      ],
      "execution_count": 49,
      "metadata": {
        "gather": {
          "logged": 1663217165287
        }
      }
    },
    {
      "cell_type": "markdown",
      "source": [
        "#### Copiando listas\n",
        "#### Para criar basta apenas fazer uma atribuição. Obs: Ambas listas possuirão uma relação entre elas, ou seja, apontarão para o mesmo objeto e as alterações em uma afetará a outra.  \n",
        "#### Temos uma cópia, mas ambas apontam para o mesmo objeto."
      ],
      "metadata": {}
    },
    {
      "cell_type": "code",
      "source": [
        "listC = [2, 6, 4, 6]\n",
        "listD = listC\n",
        "listD"
      ],
      "outputs": [
        {
          "output_type": "execute_result",
          "execution_count": 50,
          "data": {
            "text/plain": "[2, 6, 4, 6]"
          },
          "metadata": {}
        }
      ],
      "execution_count": 50,
      "metadata": {
        "gather": {
          "logged": 1663217226067
        }
      }
    },
    {
      "cell_type": "code",
      "source": [
        "listC"
      ],
      "outputs": [
        {
          "output_type": "execute_result",
          "execution_count": 51,
          "data": {
            "text/plain": "[2, 6, 4, 6]"
          },
          "metadata": {}
        }
      ],
      "execution_count": 51,
      "metadata": {
        "jupyter": {
          "source_hidden": false,
          "outputs_hidden": false
        },
        "nteract": {
          "transient": {
            "deleting": false
          }
        },
        "gather": {
          "logged": 1663217233765
        }
      }
    },
    {
      "cell_type": "code",
      "source": [
        "listD"
      ],
      "outputs": [
        {
          "output_type": "execute_result",
          "execution_count": 52,
          "data": {
            "text/plain": "[2, 6, 4, 6]"
          },
          "metadata": {}
        }
      ],
      "execution_count": 52,
      "metadata": {
        "jupyter": {
          "source_hidden": false,
          "outputs_hidden": false
        },
        "nteract": {
          "transient": {
            "deleting": false
          }
        },
        "gather": {
          "logged": 1663217239648
        }
      }
    },
    {
      "cell_type": "markdown",
      "source": [
        "#### Clonando listas\n",
        "#### Copiando uma lista em outra, porém sem manter a referência. Podemos usar o operador de fatia [:]. Temos cópias independentes, um clone."
      ],
      "metadata": {}
    },
    {
      "cell_type": "code",
      "source": [
        "listX = [6, 7, 8, 9]\n",
        "listY = listX[:]\n",
        "listY"
      ],
      "outputs": [
        {
          "output_type": "execute_result",
          "execution_count": 53,
          "data": {
            "text/plain": "[6, 7, 8, 9]"
          },
          "metadata": {}
        }
      ],
      "execution_count": 53,
      "metadata": {
        "gather": {
          "logged": 1663217280594
        }
      }
    },
    {
      "cell_type": "code",
      "source": [
        "# Retorna um índice de determinado valor (caso encontre). Se não encontrará lancará um erro. \n",
        "listaCores = ['azul','vermelho','marrom','branco']\n",
        "listaCores.index('brancoo')"
      ],
      "outputs": [
        {
          "output_type": "error",
          "ename": "ValueError",
          "evalue": "'brancoo' is not in list",
          "traceback": [
            "\u001b[0;31m---------------------------------------------------------------------------\u001b[0m",
            "\u001b[0;31mValueError\u001b[0m                                Traceback (most recent call last)",
            "Input \u001b[0;32mIn [55]\u001b[0m, in \u001b[0;36m<cell line: 3>\u001b[0;34m()\u001b[0m\n\u001b[1;32m      1\u001b[0m \u001b[38;5;66;03m# Retorna um índice de determinado valor (caso encontre). Se não encontrará lancará um erro. \u001b[39;00m\n\u001b[1;32m      2\u001b[0m listaCores \u001b[38;5;241m=\u001b[39m [\u001b[38;5;124m'\u001b[39m\u001b[38;5;124mazul\u001b[39m\u001b[38;5;124m'\u001b[39m,\u001b[38;5;124m'\u001b[39m\u001b[38;5;124mvermelho\u001b[39m\u001b[38;5;124m'\u001b[39m,\u001b[38;5;124m'\u001b[39m\u001b[38;5;124mmarrom\u001b[39m\u001b[38;5;124m'\u001b[39m,\u001b[38;5;124m'\u001b[39m\u001b[38;5;124mbranco\u001b[39m\u001b[38;5;124m'\u001b[39m]\n\u001b[0;32m----> 3\u001b[0m \u001b[43mlistaCores\u001b[49m\u001b[38;5;241;43m.\u001b[39;49m\u001b[43mindex\u001b[49m\u001b[43m(\u001b[49m\u001b[38;5;124;43m'\u001b[39;49m\u001b[38;5;124;43mbrancoo\u001b[39;49m\u001b[38;5;124;43m'\u001b[39;49m\u001b[43m)\u001b[49m\n",
            "\u001b[0;31mValueError\u001b[0m: 'brancoo' is not in list"
          ]
        }
      ],
      "execution_count": 55,
      "metadata": {
        "gather": {
          "logged": 1663217306702
        }
      }
    },
    {
      "cell_type": "code",
      "source": [
        "listaCores.index('rosa')"
      ],
      "outputs": [],
      "execution_count": null,
      "metadata": {}
    },
    {
      "cell_type": "markdown",
      "source": [
        "#### Verificando se algo está na lista através do operador IN"
      ],
      "metadata": {}
    },
    {
      "cell_type": "code",
      "source": [
        "'azul' in listaCores"
      ],
      "outputs": [],
      "execution_count": null,
      "metadata": {}
    },
    {
      "cell_type": "code",
      "source": [
        "'vinho' in listaCores"
      ],
      "outputs": [],
      "execution_count": null,
      "metadata": {}
    },
    {
      "cell_type": "code",
      "source": [
        "'vinho' not in listaCores"
      ],
      "outputs": [],
      "execution_count": null,
      "metadata": {}
    }
  ],
  "metadata": {
    "kernelspec": {
      "name": "python3",
      "language": "python",
      "display_name": "Python 3 (ipykernel)"
    },
    "language_info": {
      "name": "python",
      "version": "3.8.5",
      "mimetype": "text/x-python",
      "codemirror_mode": {
        "name": "ipython",
        "version": 3
      },
      "pygments_lexer": "ipython3",
      "nbconvert_exporter": "python",
      "file_extension": ".py"
    },
    "kernel_info": {
      "name": "python3"
    },
    "microsoft": {
      "host": {
        "AzureML": {
          "notebookHasBeenCompleted": true
        }
      }
    },
    "nteract": {
      "version": "nteract-front-end@1.0.0"
    }
  },
  "nbformat": 4,
  "nbformat_minor": 2
}