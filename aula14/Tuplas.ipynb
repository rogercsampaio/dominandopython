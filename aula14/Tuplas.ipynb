{
  "cells": [
    {
      "cell_type": "markdown",
      "source": [
        "## Tuplas\n",
        "#### São semelhantes as listas, porém são objetos imutáveis, ou seja, não permitem alteração."
      ],
      "metadata": {}
    },
    {
      "cell_type": "markdown",
      "source": [
        "#### Criação de tuplas "
      ],
      "metadata": {}
    },
    {
      "cell_type": "code",
      "source": [
        "# Tupla de valores numéricos\n",
        "# LISTA usamos [ ]\n",
        "# TUPLA usamos ( )\n",
        "# DICIONÁRIOS { }\n",
        "latlogPonto1 = (30,20)"
      ],
      "outputs": [],
      "execution_count": 1,
      "metadata": {
        "gather": {
          "logged": 1663216584709
        }
      }
    },
    {
      "cell_type": "code",
      "source": [
        "type(latlogPonto1)"
      ],
      "outputs": [
        {
          "output_type": "execute_result",
          "execution_count": 2,
          "data": {
            "text/plain": "tuple"
          },
          "metadata": {}
        }
      ],
      "execution_count": 2,
      "metadata": {
        "gather": {
          "logged": 1663216589882
        }
      }
    },
    {
      "cell_type": "code",
      "source": [
        "type(latlogPonto1[0])"
      ],
      "outputs": [
        {
          "output_type": "execute_result",
          "execution_count": 7,
          "data": {
            "text/plain": "int"
          },
          "metadata": {}
        }
      ],
      "execution_count": 7,
      "metadata": {
        "jupyter": {
          "source_hidden": false,
          "outputs_hidden": false
        },
        "nteract": {
          "transient": {
            "deleting": false
          }
        },
        "gather": {
          "logged": 1663216704164
        }
      }
    },
    {
      "cell_type": "code",
      "source": [
        "# Tupla de Strings\n",
        "tuplasNomes = ('Carlos','Ana')"
      ],
      "outputs": [],
      "execution_count": 3,
      "metadata": {
        "gather": {
          "logged": 1663216602591
        }
      }
    },
    {
      "cell_type": "code",
      "source": [
        "type(tuplasNomes)"
      ],
      "outputs": [
        {
          "output_type": "execute_result",
          "execution_count": 4,
          "data": {
            "text/plain": "tuple"
          },
          "metadata": {}
        }
      ],
      "execution_count": 4,
      "metadata": {
        "gather": {
          "logged": 1663216610915
        }
      }
    },
    {
      "cell_type": "code",
      "source": [
        "tuplasNomes[0]\r\n"
      ],
      "outputs": [
        {
          "output_type": "execute_result",
          "execution_count": 5,
          "data": {
            "text/plain": "'Carlos'"
          },
          "metadata": {}
        }
      ],
      "execution_count": 5,
      "metadata": {
        "jupyter": {
          "source_hidden": false,
          "outputs_hidden": false
        },
        "nteract": {
          "transient": {
            "deleting": false
          }
        },
        "gather": {
          "logged": 1663216655034
        }
      }
    },
    {
      "cell_type": "code",
      "source": [
        "type(tuplasNomes[0])"
      ],
      "outputs": [
        {
          "output_type": "execute_result",
          "execution_count": 6,
          "data": {
            "text/plain": "str"
          },
          "metadata": {}
        }
      ],
      "execution_count": 6,
      "metadata": {
        "jupyter": {
          "source_hidden": false,
          "outputs_hidden": false
        },
        "nteract": {
          "transient": {
            "deleting": false
          }
        },
        "gather": {
          "logged": 1663216666656
        }
      }
    },
    {
      "cell_type": "code",
      "source": [
        "# Tupla heterogênea\n",
        "tuplasRegistros = ('Carlos',40,'M')"
      ],
      "outputs": [],
      "execution_count": 8,
      "metadata": {
        "gather": {
          "logged": 1663216714567
        }
      }
    },
    {
      "cell_type": "code",
      "source": [
        "type(tuplasRegistros)"
      ],
      "outputs": [
        {
          "output_type": "execute_result",
          "execution_count": 9,
          "data": {
            "text/plain": "tuple"
          },
          "metadata": {}
        }
      ],
      "execution_count": 9,
      "metadata": {
        "gather": {
          "logged": 1663216717257
        }
      }
    },
    {
      "cell_type": "code",
      "source": [
        "tuplasRegistros"
      ],
      "outputs": [
        {
          "output_type": "execute_result",
          "execution_count": 10,
          "data": {
            "text/plain": "('Carlos', 40, 'M')"
          },
          "metadata": {}
        }
      ],
      "execution_count": 10,
      "metadata": {
        "jupyter": {
          "source_hidden": false,
          "outputs_hidden": false
        },
        "nteract": {
          "transient": {
            "deleting": false
          }
        },
        "gather": {
          "logged": 1663216726049
        }
      }
    },
    {
      "cell_type": "code",
      "source": [
        "# Para criação de tuplas use () ou tuple()\n",
        "tuplaRegistros2 = tuple((40221,'Ana'))"
      ],
      "outputs": [],
      "execution_count": 11,
      "metadata": {
        "gather": {
          "logged": 1663216752198
        }
      }
    },
    {
      "cell_type": "code",
      "source": [
        "type(tuplaRegistros2)"
      ],
      "outputs": [
        {
          "output_type": "execute_result",
          "execution_count": 12,
          "data": {
            "text/plain": "tuple"
          },
          "metadata": {}
        }
      ],
      "execution_count": 12,
      "metadata": {
        "gather": {
          "logged": 1663216755649
        }
      }
    },
    {
      "cell_type": "markdown",
      "source": [
        "#### Percorrendo a tupla"
      ],
      "metadata": {}
    },
    {
      "cell_type": "code",
      "source": [
        "for item in latlogPonto1:\n",
        "    print(item)"
      ],
      "outputs": [
        {
          "output_type": "stream",
          "name": "stdout",
          "text": "30\n20\n"
        }
      ],
      "execution_count": 13,
      "metadata": {
        "gather": {
          "logged": 1663216777876
        }
      }
    },
    {
      "cell_type": "markdown",
      "source": [
        "#### Tuplas são imutáveis"
      ],
      "metadata": {}
    },
    {
      "cell_type": "code",
      "source": [
        "latlogPonto1[0] = 41"
      ],
      "outputs": [
        {
          "output_type": "error",
          "ename": "TypeError",
          "evalue": "'tuple' object does not support item assignment",
          "traceback": [
            "\u001b[0;31m---------------------------------------------------------------------------\u001b[0m",
            "\u001b[0;31mTypeError\u001b[0m                                 Traceback (most recent call last)",
            "Input \u001b[0;32mIn [14]\u001b[0m, in \u001b[0;36m<cell line: 1>\u001b[0;34m()\u001b[0m\n\u001b[0;32m----> 1\u001b[0m \u001b[43mlatlogPonto1\u001b[49m\u001b[43m[\u001b[49m\u001b[38;5;241;43m0\u001b[39;49m\u001b[43m]\u001b[49m \u001b[38;5;241m=\u001b[39m \u001b[38;5;241m41\u001b[39m\n",
            "\u001b[0;31mTypeError\u001b[0m: 'tuple' object does not support item assignment"
          ]
        }
      ],
      "execution_count": 14,
      "metadata": {
        "gather": {
          "logged": 1663216793729
        }
      }
    },
    {
      "cell_type": "code",
      "source": [
        "latlogPonto1"
      ],
      "outputs": [
        {
          "output_type": "execute_result",
          "execution_count": 15,
          "data": {
            "text/plain": "(30, 20)"
          },
          "metadata": {}
        }
      ],
      "execution_count": 15,
      "metadata": {
        "jupyter": {
          "source_hidden": false,
          "outputs_hidden": false
        },
        "nteract": {
          "transient": {
            "deleting": false
          }
        },
        "gather": {
          "logged": 1663216814335
        }
      }
    },
    {
      "cell_type": "code",
      "source": [
        "# Opção para adicionar um elemento\n",
        "listaGeo = list(latlogPonto1)\n",
        "listaGeo.append(41)\n",
        "latlogPonto2 = tuple(listaGeo)"
      ],
      "outputs": [],
      "execution_count": 16,
      "metadata": {
        "gather": {
          "logged": 1663216867053
        }
      }
    },
    {
      "cell_type": "code",
      "source": [
        "for item in latlogPonto2:\n",
        "    print(item)"
      ],
      "outputs": [
        {
          "output_type": "stream",
          "name": "stdout",
          "text": "30\n20\n41\n"
        }
      ],
      "execution_count": 17,
      "metadata": {
        "gather": {
          "logged": 1663216869292
        }
      }
    },
    {
      "cell_type": "markdown",
      "source": [
        "#### Contando elementos em uma tupla"
      ],
      "metadata": {}
    },
    {
      "cell_type": "code",
      "source": [
        "tuplaNum = (41,5,7,8,1,50,2,5,101)\n",
        "tuplaNum.count(3)"
      ],
      "outputs": [
        {
          "output_type": "execute_result",
          "execution_count": 20,
          "data": {
            "text/plain": "0"
          },
          "metadata": {}
        }
      ],
      "execution_count": 20,
      "metadata": {
        "gather": {
          "logged": 1663216921221
        }
      }
    },
    {
      "cell_type": "markdown",
      "source": [
        "#### Exibir índice de determinado elemento na tupla"
      ],
      "metadata": {}
    },
    {
      "cell_type": "code",
      "source": [
        "tuplaNum.index(7)"
      ],
      "outputs": [
        {
          "output_type": "execute_result",
          "execution_count": 21,
          "data": {
            "text/plain": "2"
          },
          "metadata": {}
        }
      ],
      "execution_count": 21,
      "metadata": {
        "gather": {
          "logged": 1663216938754
        }
      }
    },
    {
      "cell_type": "markdown",
      "source": [
        "#### Verificando a existência de um elemento na tupla"
      ],
      "metadata": {}
    },
    {
      "cell_type": "code",
      "source": [
        "8 in tuplaNum"
      ],
      "outputs": [
        {
          "output_type": "execute_result",
          "execution_count": 22,
          "data": {
            "text/plain": "True"
          },
          "metadata": {}
        }
      ],
      "execution_count": 22,
      "metadata": {
        "gather": {
          "logged": 1663216958072
        }
      }
    },
    {
      "cell_type": "code",
      "source": [
        "8 not in tuplaNum"
      ],
      "outputs": [
        {
          "output_type": "execute_result",
          "execution_count": 23,
          "data": {
            "text/plain": "False"
          },
          "metadata": {}
        }
      ],
      "execution_count": 23,
      "metadata": {
        "gather": {
          "logged": 1663216964775
        }
      }
    }
  ],
  "metadata": {
    "kernelspec": {
      "name": "python3",
      "language": "python",
      "display_name": "Python 3 (ipykernel)"
    },
    "language_info": {
      "name": "python",
      "version": "3.8.5",
      "mimetype": "text/x-python",
      "codemirror_mode": {
        "name": "ipython",
        "version": 3
      },
      "pygments_lexer": "ipython3",
      "nbconvert_exporter": "python",
      "file_extension": ".py"
    },
    "kernel_info": {
      "name": "python3"
    },
    "nteract": {
      "version": "nteract-front-end@1.0.0"
    }
  },
  "nbformat": 4,
  "nbformat_minor": 2
}