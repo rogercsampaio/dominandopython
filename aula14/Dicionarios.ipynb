{
  "cells": [
    {
      "cell_type": "markdown",
      "source": [
        "## Dicionários\n",
        "#### São estruturas de dados que permitem trabalhar com mapeamento chave-valor. Exemplo: numero_telefone_pessoa: dados do contato (nome, endereço, foto, email) "
      ],
      "metadata": {}
    },
    {
      "cell_type": "markdown",
      "source": [
        "#### Criação de um dicionários. Use { } ou dict"
      ],
      "metadata": {}
    },
    {
      "cell_type": "code",
      "source": [
        "registrosVeiculos = {'ABC1212':'Fusca X',\r\n",
        "                    'EFC5412':'Gol G5'}"
      ],
      "outputs": [],
      "execution_count": 1,
      "metadata": {
        "gather": {
          "logged": 1663217883699
        }
      }
    },
    {
      "cell_type": "code",
      "source": [
        "type(registrosVeiculos)"
      ],
      "outputs": [
        {
          "output_type": "execute_result",
          "execution_count": 2,
          "data": {
            "text/plain": "dict"
          },
          "metadata": {}
        }
      ],
      "execution_count": 2,
      "metadata": {
        "gather": {
          "logged": 1663217892839
        }
      }
    },
    {
      "cell_type": "code",
      "source": [
        "registrosContatos = dict({'98934512':'Ana'})"
      ],
      "outputs": [],
      "execution_count": 3,
      "metadata": {
        "gather": {
          "logged": 1663217918471
        }
      }
    },
    {
      "cell_type": "code",
      "source": [
        "type(registrosContatos)"
      ],
      "outputs": [
        {
          "output_type": "execute_result",
          "execution_count": 4,
          "data": {
            "text/plain": "dict"
          },
          "metadata": {}
        }
      ],
      "execution_count": 4,
      "metadata": {
        "gather": {
          "logged": 1663217921643
        }
      }
    },
    {
      "cell_type": "markdown",
      "source": [
        "#### Tamanho do dicionário"
      ],
      "metadata": {}
    },
    {
      "cell_type": "code",
      "source": [
        "len(registrosVeiculos)"
      ],
      "outputs": [
        {
          "output_type": "execute_result",
          "execution_count": 5,
          "data": {
            "text/plain": "2"
          },
          "metadata": {}
        }
      ],
      "execution_count": 5,
      "metadata": {
        "gather": {
          "logged": 1663217941095
        }
      }
    },
    {
      "cell_type": "markdown",
      "source": [
        "#### Acessando elementos do dicionário"
      ],
      "metadata": {}
    },
    {
      "cell_type": "code",
      "source": [
        "registrosVeiculos"
      ],
      "outputs": [
        {
          "output_type": "execute_result",
          "execution_count": 6,
          "data": {
            "text/plain": "{'ABC1212': 'Fusca X', 'EFC5412': 'Gol G5'}"
          },
          "metadata": {}
        }
      ],
      "execution_count": 6,
      "metadata": {
        "jupyter": {
          "source_hidden": false,
          "outputs_hidden": false
        },
        "nteract": {
          "transient": {
            "deleting": false
          }
        },
        "gather": {
          "logged": 1663217949101
        }
      }
    },
    {
      "cell_type": "code",
      "source": [
        "registrosVeiculos['ABC1212']"
      ],
      "outputs": [
        {
          "output_type": "execute_result",
          "execution_count": 7,
          "data": {
            "text/plain": "'Fusca X'"
          },
          "metadata": {}
        }
      ],
      "execution_count": 7,
      "metadata": {
        "gather": {
          "logged": 1663217986014
        }
      }
    },
    {
      "cell_type": "code",
      "source": [
        "registrosVeiculos.get('EFC5412')"
      ],
      "outputs": [
        {
          "output_type": "execute_result",
          "execution_count": 8,
          "data": {
            "text/plain": "'Gol G5'"
          },
          "metadata": {}
        }
      ],
      "execution_count": 8,
      "metadata": {
        "gather": {
          "logged": 1663218011144
        }
      }
    },
    {
      "cell_type": "code",
      "source": [
        "# Dicionários tem um método chamado ITEMS que devolve uma sequência de tuplas (CHAVE,VALOR)"
      ],
      "outputs": [],
      "execution_count": null,
      "metadata": {}
    },
    {
      "cell_type": "code",
      "source": [
        "tuplasDicionario = tuple(registrosVeiculos.items())"
      ],
      "outputs": [],
      "execution_count": 9,
      "metadata": {
        "gather": {
          "logged": 1663218045337
        }
      }
    },
    {
      "cell_type": "code",
      "source": [
        "tuplasDicionario"
      ],
      "outputs": [
        {
          "output_type": "execute_result",
          "execution_count": 10,
          "data": {
            "text/plain": "(('ABC1212', 'Fusca X'), ('EFC5412', 'Gol G5'))"
          },
          "metadata": {}
        }
      ],
      "execution_count": 10,
      "metadata": {
        "gather": {
          "logged": 1663218048316
        }
      }
    },
    {
      "cell_type": "code",
      "source": [
        "type(tuplasDicionario)"
      ],
      "outputs": [
        {
          "output_type": "execute_result",
          "execution_count": 11,
          "data": {
            "text/plain": "tuple"
          },
          "metadata": {}
        }
      ],
      "execution_count": 11,
      "metadata": {
        "gather": {
          "logged": 1663218054281
        }
      }
    },
    {
      "cell_type": "code",
      "source": [
        "# Mostrando chave, valor para cada item\n",
        "for chave,valor in registrosVeiculos.items():\n",
        "    print(chave,valor)"
      ],
      "outputs": [
        {
          "output_type": "stream",
          "name": "stdout",
          "text": "ABC1212 Fusca X\nEFC5412 Gol G5\n"
        }
      ],
      "execution_count": 12,
      "metadata": {
        "gather": {
          "logged": 1663218077622
        }
      }
    },
    {
      "cell_type": "code",
      "source": [
        "# Dicionários tem um método chamado Keys que retorne todas as chaves internas\n",
        "registrosVeiculos.keys()"
      ],
      "outputs": [
        {
          "output_type": "execute_result",
          "execution_count": 13,
          "data": {
            "text/plain": "dict_keys(['ABC1212', 'EFC5412'])"
          },
          "metadata": {}
        }
      ],
      "execution_count": 13,
      "metadata": {
        "gather": {
          "logged": 1663218113237
        }
      }
    },
    {
      "cell_type": "code",
      "source": [
        "registrosVeiculos.values()"
      ],
      "outputs": [
        {
          "output_type": "execute_result",
          "execution_count": 14,
          "data": {
            "text/plain": "dict_values(['Fusca X', 'Gol G5'])"
          },
          "metadata": {}
        }
      ],
      "execution_count": 14,
      "metadata": {
        "jupyter": {
          "source_hidden": false,
          "outputs_hidden": false
        },
        "nteract": {
          "transient": {
            "deleting": false
          }
        },
        "gather": {
          "logged": 1663218127775
        }
      }
    },
    {
      "cell_type": "code",
      "source": [
        "listaPlacas = list(registrosVeiculos.keys())"
      ],
      "outputs": [],
      "execution_count": 15,
      "metadata": {
        "gather": {
          "logged": 1663218143779
        }
      }
    },
    {
      "cell_type": "code",
      "source": [
        "type(listaPlacas)"
      ],
      "outputs": [
        {
          "output_type": "execute_result",
          "execution_count": 16,
          "data": {
            "text/plain": "list"
          },
          "metadata": {}
        }
      ],
      "execution_count": 16,
      "metadata": {
        "gather": {
          "logged": 1663218146680
        }
      }
    },
    {
      "cell_type": "code",
      "source": [
        "for chave in listaPlacas:\n",
        "    print(chave)"
      ],
      "outputs": [
        {
          "output_type": "stream",
          "name": "stdout",
          "text": "ABC1212\nEFC5412\n"
        }
      ],
      "execution_count": 17,
      "metadata": {
        "gather": {
          "logged": 1663218151155
        }
      }
    },
    {
      "cell_type": "markdown",
      "source": [
        "#### Excluindo um elemento"
      ],
      "metadata": {}
    },
    {
      "cell_type": "code",
      "source": [
        "registrosVeiculos"
      ],
      "outputs": [
        {
          "output_type": "execute_result",
          "execution_count": 18,
          "data": {
            "text/plain": "{'ABC1212': 'Fusca X', 'EFC5412': 'Gol G5'}"
          },
          "metadata": {}
        }
      ],
      "execution_count": 18,
      "metadata": {
        "jupyter": {
          "source_hidden": false,
          "outputs_hidden": false
        },
        "nteract": {
          "transient": {
            "deleting": false
          }
        },
        "gather": {
          "logged": 1663218263248
        }
      }
    },
    {
      "cell_type": "code",
      "source": [
        "del(registrosVeiculos['EFC5412'])"
      ],
      "outputs": [],
      "execution_count": 19,
      "metadata": {
        "gather": {
          "logged": 1663218271927
        }
      }
    },
    {
      "cell_type": "code",
      "source": [
        "for chave,valor in registrosVeiculos.items():\n",
        "    print(chave,valor)"
      ],
      "outputs": [
        {
          "output_type": "stream",
          "name": "stdout",
          "text": "ABC1212 Fusca X\n"
        }
      ],
      "execution_count": 20,
      "metadata": {
        "gather": {
          "logged": 1663218276358
        }
      }
    },
    {
      "cell_type": "markdown",
      "source": [
        "#### Verificando se um elemento existe ou não (pela chave)"
      ],
      "metadata": {}
    },
    {
      "cell_type": "code",
      "source": [
        "'ABC1212' in registrosVeiculos"
      ],
      "outputs": [
        {
          "output_type": "execute_result",
          "execution_count": 21,
          "data": {
            "text/plain": "True"
          },
          "metadata": {}
        }
      ],
      "execution_count": 21,
      "metadata": {
        "gather": {
          "logged": 1663218298073
        }
      }
    },
    {
      "cell_type": "code",
      "source": [
        "registrosVeiculos"
      ],
      "outputs": [
        {
          "output_type": "execute_result",
          "execution_count": 23,
          "data": {
            "text/plain": "{'ABC1212': 'Fusca X'}"
          },
          "metadata": {}
        }
      ],
      "execution_count": 23,
      "metadata": {
        "jupyter": {
          "source_hidden": false,
          "outputs_hidden": false
        },
        "nteract": {
          "transient": {
            "deleting": false
          }
        },
        "gather": {
          "logged": 1663218319024
        }
      }
    },
    {
      "cell_type": "code",
      "source": [
        "'ABC5555' in registrosVeiculos"
      ],
      "outputs": [
        {
          "output_type": "execute_result",
          "execution_count": 22,
          "data": {
            "text/plain": "False"
          },
          "metadata": {}
        }
      ],
      "execution_count": 22,
      "metadata": {
        "jupyter": {
          "source_hidden": false,
          "outputs_hidden": false
        },
        "nteract": {
          "transient": {
            "deleting": false
          }
        },
        "gather": {
          "logged": 1663218310632
        }
      }
    },
    {
      "cell_type": "markdown",
      "source": [
        "#### Alterando um valor ou adicionando um novo"
      ],
      "metadata": {}
    },
    {
      "cell_type": "code",
      "source": [
        "registrosAlunos = {1: 'Carlos', 2: 'Maria', 3: 'Weslley', 4:'Juliana'}"
      ],
      "outputs": [],
      "execution_count": 24,
      "metadata": {
        "gather": {
          "logged": 1663218355616
        }
      }
    },
    {
      "cell_type": "code",
      "source": [
        "registrosAlunos[5] = 'João'\n",
        "print(registrosAlunos)"
      ],
      "outputs": [
        {
          "output_type": "stream",
          "name": "stdout",
          "text": "{1: 'Carlos', 2: 'Maria', 3: 'Weslley', 4: 'Juliana', 5: 'João'}\n"
        }
      ],
      "execution_count": 25,
      "metadata": {
        "gather": {
          "logged": 1663218368091
        }
      }
    },
    {
      "cell_type": "code",
      "source": [
        "# UPDATE: se existir o elemento, será atualizado, caso contrário, será criado.\n",
        "registrosAlunos.update({6: 'Pedro'})\n",
        "print(registrosAlunos)"
      ],
      "outputs": [
        {
          "output_type": "stream",
          "name": "stdout",
          "text": "{1: 'Carlos', 2: 'Maria', 3: 'Weslley', 4: 'Juliana', 5: 'João', 6: 'Pedro'}\n"
        }
      ],
      "execution_count": 26,
      "metadata": {
        "gather": {
          "logged": 1663218409144
        }
      }
    },
    {
      "cell_type": "code",
      "source": [
        "registrosAlunos.update({6: 'Vanessa'})\n",
        "print(registrosAlunos)"
      ],
      "outputs": [
        {
          "output_type": "stream",
          "name": "stdout",
          "text": "{1: 'Carlos', 2: 'Maria', 3: 'Weslley', 4: 'Juliana', 5: 'João', 6: 'Vanessa'}\n"
        }
      ],
      "execution_count": 27,
      "metadata": {
        "gather": {
          "logged": 1663218427589
        }
      }
    },
    {
      "cell_type": "markdown",
      "source": [
        "#### Combinação de estruturas de dados "
      ],
      "metadata": {}
    },
    {
      "cell_type": "code",
      "source": [
        "registrosAlunos2 = {'1':('Carlos','M',18),\n",
        "                   '2':('Mariana','F',20),\n",
        "                   '3':'Francisco'}"
      ],
      "outputs": [],
      "execution_count": 28,
      "metadata": {
        "gather": {
          "logged": 1663218502083
        }
      }
    },
    {
      "cell_type": "code",
      "source": [
        "type(registrosAlunos2)"
      ],
      "outputs": [
        {
          "output_type": "execute_result",
          "execution_count": 29,
          "data": {
            "text/plain": "dict"
          },
          "metadata": {}
        }
      ],
      "execution_count": 29,
      "metadata": {
        "gather": {
          "logged": 1663218503339
        }
      }
    },
    {
      "cell_type": "code",
      "source": [
        "registrosAlunos2['2']"
      ],
      "outputs": [
        {
          "output_type": "execute_result",
          "execution_count": 30,
          "data": {
            "text/plain": "('Mariana', 'F', 20)"
          },
          "metadata": {}
        }
      ],
      "execution_count": 30,
      "metadata": {
        "gather": {
          "logged": 1663218515641
        }
      }
    },
    {
      "cell_type": "code",
      "source": [
        "registrosAlunos2['2'][1]"
      ],
      "outputs": [
        {
          "output_type": "execute_result",
          "execution_count": 31,
          "data": {
            "text/plain": "'F'"
          },
          "metadata": {}
        }
      ],
      "execution_count": 31,
      "metadata": {
        "gather": {
          "logged": 1663218543995
        }
      }
    },
    {
      "cell_type": "code",
      "source": [
        "# Mostrando chave, valor para cada item\n",
        "for chave,valor in registrosAlunos2.items():\n",
        "    print(chave,valor)"
      ],
      "outputs": [
        {
          "output_type": "stream",
          "name": "stdout",
          "text": "1 ('Carlos', 'M', 18)\n2 ('Mariana', 'F', 20)\n3 Francisco\n"
        }
      ],
      "execution_count": 32,
      "metadata": {
        "gather": {
          "logged": 1663218552887
        }
      }
    }
  ],
  "metadata": {
    "kernelspec": {
      "name": "python3",
      "language": "python",
      "display_name": "Python 3 (ipykernel)"
    },
    "language_info": {
      "name": "python",
      "version": "3.8.5",
      "mimetype": "text/x-python",
      "codemirror_mode": {
        "name": "ipython",
        "version": 3
      },
      "pygments_lexer": "ipython3",
      "nbconvert_exporter": "python",
      "file_extension": ".py"
    },
    "kernel_info": {
      "name": "python3"
    },
    "nteract": {
      "version": "nteract-front-end@1.0.0"
    }
  },
  "nbformat": 4,
  "nbformat_minor": 2
}