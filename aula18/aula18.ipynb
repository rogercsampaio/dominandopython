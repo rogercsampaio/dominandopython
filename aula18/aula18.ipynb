{
  "cells": [
    {
      "cell_type": "markdown",
      "source": [
        "<img src=\"imagens/logo_oficial.jpg\"/>"
      ],
      "metadata": {
        "nteract": {
          "transient": {
            "deleting": false
          }
        }
      }
    },
    {
      "cell_type": "markdown",
      "source": [
        "# Aula 18 Arquivos CSV, Textos/\r\n",
        "Exercício: NETFLIX"
      ],
      "metadata": {
        "nteract": {
          "transient": {
            "deleting": false
          }
        }
      }
    },
    {
      "cell_type": "markdown",
      "source": [
        "### Importações"
      ],
      "metadata": {
        "nteract": {
          "transient": {
            "deleting": false
          }
        }
      }
    },
    {
      "cell_type": "code",
      "source": [
        "# pacotes aqui. \r\n",
        "import random as rd\r\n",
        "import os\r\n",
        "import csv\r\n",
        "import shutil"
      ],
      "outputs": [],
      "execution_count": 128,
      "metadata": {
        "jupyter": {
          "source_hidden": false,
          "outputs_hidden": false
        },
        "nteract": {
          "transient": {
            "deleting": false
          }
        },
        "gather": {
          "logged": 1665612927858
        }
      }
    },
    {
      "cell_type": "markdown",
      "source": [
        "## Declarações de Funções"
      ],
      "metadata": {
        "nteract": {
          "transient": {
            "deleting": false
          }
        }
      }
    },
    {
      "cell_type": "code",
      "source": [
        "def obter_validar_nome(msg_info,msg_erro):\r\n",
        "    nome = input(msg_info)\r\n",
        "    while(len(nome) == 0):\r\n",
        "        print(msg_erro)\r\n",
        "        nome = input(msg_info)\r\n",
        "    return nome"
      ],
      "outputs": [],
      "execution_count": 129,
      "metadata": {
        "jupyter": {
          "source_hidden": false,
          "outputs_hidden": false
        },
        "nteract": {
          "transient": {
            "deleting": false
          }
        },
        "gather": {
          "logged": 1665612929979
        }
      }
    },
    {
      "cell_type": "code",
      "source": [
        "'''\r\n",
        " Função que obrigatoriamente captura um número do usuário. Enquanto algo digitado não for um número, será lançado um erro.\r\n",
        " Não funciona com números negativos ou pontos flutuantes.\r\n",
        "'''\r\n",
        "def obter_numero(msg_apresentacao,msg_erro_1):\r\n",
        "    num = input(msg_apresentacao)\r\n",
        "    while(num.isdigit() == False):\r\n",
        "        print(msg_erro_1)\r\n",
        "        num = input(\"\")\r\n",
        "    return num"
      ],
      "outputs": [],
      "execution_count": 130,
      "metadata": {
        "jupyter": {
          "source_hidden": false,
          "outputs_hidden": false
        },
        "nteract": {
          "transient": {
            "deleting": false
          }
        },
        "gather": {
          "logged": 1665612931455
        }
      }
    },
    {
      "cell_type": "code",
      "source": [
        "def obter_validar_num_int(msg_apresentacao,msg_erro_1,msg_erro_2,minimo,maximo):\r\n",
        "    num = obter_numero(msg_apresentacao,msg_erro_1) \r\n",
        "    while (int(num) < minimo or int(num) > maximo):\r\n",
        "        print(msg_erro_2)\r\n",
        "        num = obter_numero(msg_apresentacao,msg_erro_1) \r\n",
        "    return int(num)"
      ],
      "outputs": [],
      "execution_count": null,
      "metadata": {
        "jupyter": {
          "source_hidden": false,
          "outputs_hidden": false
        },
        "nteract": {
          "transient": {
            "deleting": false
          }
        },
        "gather": {
          "logged": 1665607816541
        }
      }
    },
    {
      "cell_type": "code",
      "source": [
        "def obter_validar_num_real(msg_apresentacao,msg_erro_1,msg_erro_2,minimo,maximo):\r\n",
        "    num = obter_numero(msg_apresentacao,msg_erro_1) \r\n",
        "    while (float(num) < minimo or float(num) > maximo):\r\n",
        "        print(msg_erro_2)\r\n",
        "        num = obter_numero(msg_apresentacao,msg_erro_1) \r\n",
        "    return float(num)"
      ],
      "outputs": [],
      "execution_count": 131,
      "metadata": {
        "jupyter": {
          "source_hidden": false,
          "outputs_hidden": false
        },
        "nteract": {
          "transient": {
            "deleting": false
          }
        },
        "gather": {
          "logged": 1665612933562
        }
      }
    },
    {
      "cell_type": "code",
      "source": [
        "'''\r\n",
        " Função que gera um código exclusivo para cada filme, conferindo se o filme existe no arquivo CSV.\r\n",
        "'''\r\n",
        "def gerar_cod_filme():\r\n",
        "    # Gera um código aleatório\r\n",
        "    cod_filme = rd.randint(1,999999)\r\n",
        "\r\n",
        "    # Lista de códigos armazenadas\r\n",
        "    lista_cod = []\r\n",
        "\r\n",
        "    # Checa a existência do arquivo filmes2.txt\r\n",
        "    if(os.path.exists(\"arquivos/filmes.csv\") == True):\r\n",
        "        # Confere se o código do filme já existe ou não, lista de filmes\r\n",
        "        with open(\"arquivos/filmes.csv\",\"r\") as arquivo_filmes: \r\n",
        "            reader = csv.reader(arquivo_filmes) \r\n",
        "            cabecalho = next(reader)\r\n",
        "            for linha in reader:\r\n",
        "                lista_cod.append(linha[0])\r\n",
        "            \r\n",
        "            # Verifica se o código já existe ou não. Caso exista gere novamente, até não existir mais.\r\n",
        "            while(str(cod_filme) in lista_cod):\r\n",
        "                cod_filme = rd.randint(1,999999)\r\n",
        "    else:\r\n",
        "        print(\"Arquivo de filmes.csv será criado\")\r\n",
        "    return cod_filme"
      ],
      "outputs": [],
      "execution_count": 132,
      "metadata": {
        "jupyter": {
          "source_hidden": false,
          "outputs_hidden": false
        },
        "nteract": {
          "transient": {
            "deleting": false
          }
        },
        "gather": {
          "logged": 1665612935720
        }
      }
    },
    {
      "cell_type": "code",
      "source": [
        "def remover_todos_filmes(msg_confirmacao,msg_erro):\r\n",
        "    if(os.path.exists(\"arquivos/filmes.csv\") == True):\r\n",
        "        opcao_confirmacao = obter_validar_nome(msg_confirmacao,msg_erro)\r\n",
        "        if(opcao_confirmacao.upper() == 'S'):\r\n",
        "            try:\r\n",
        "                # Por padrão shutil.rmtree não remove diretórios não vazios, exceto se especificamos o parâmetro ignore_errors como True\r\n",
        "                shutil.rmtree(\"arquivos\",ignore_errors=True)\r\n",
        "            except:\r\n",
        "                print('[ERRO] Ocorreram erros ao remover os filmes.')\r\n",
        "            else:\r\n",
        "                print('[INFO] Todos os filmes foram removidos.')\r\n",
        "    else:\r\n",
        "        print('[INFO] Não há filmes para remover.')\r\n"
      ],
      "outputs": [],
      "execution_count": 133,
      "metadata": {
        "jupyter": {
          "source_hidden": false,
          "outputs_hidden": false
        },
        "nteract": {
          "transient": {
            "deleting": false
          }
        },
        "gather": {
          "logged": 1665612938758
        }
      }
    },
    {
      "cell_type": "code",
      "source": [
        "'''\r\n",
        " Função que irá cadastrar um novo filme, armazenando em um arquivo chamado filmes.txt\r\n",
        " Dados dos filmes: \r\n",
        " 1 - código (valor único inteiro e exclusivo por filme), \r\n",
        " 2 - nome, \r\n",
        " 3 - ano de lançamento, \r\n",
        " 4 - nome completo do diretor, \r\n",
        " 5 - categoria (terror, romance, ficção, suspense, drama, comédia, infantil), \r\n",
        " 6 - média das avaliações pelos usuários (0.0 – 5.0, sendo 5 a nota máxima), \r\n",
        " 7 - idade de censura (ex: 16). \r\n",
        "'''\r\n",
        "def cadastrar_filme():\r\n",
        "    # Criando um filme com os valores inicializados, sendo código do filme a referência\r\n",
        "    filme_info = {\"cod_filme\":0,\\\r\n",
        "    \"nome_filme\":\"\", \\\r\n",
        "    \"ano_lancamento\":0, \\\r\n",
        "    \"nome_completo_diretor\":\"\", \\\r\n",
        "    \"categoria\":0, \\\r\n",
        "    \"media_avaliacoes\":0.0, \\\r\n",
        "    \"idade\":0, \\\r\n",
        "    }\r\n",
        "    # Gerando o código do FILME exclusivo\r\n",
        "    cod_filme = gerar_cod_filme()\r\n",
        "    \r\n",
        "    # Capturando as informações\r\n",
        "    nome_filme = obter_validar_nome(\"Informe o nome do filme\",\"O nome do filme não pode ser vazio\")\r\n",
        "\r\n",
        "    ano_lancamento = obter_validar_num_int(\"Informe o ano de lançamento\", \\\r\n",
        "    \"[ERRO] Deve ser digitado um número\",\\\r\n",
        "    \"[ERRO] O valor deve ser um número entre 1950 e 9999\",\\\r\n",
        "    1950,\\\r\n",
        "    9999)\r\n",
        "\r\n",
        "    nome_completo_diretor = obter_validar_nome(\"Informe o nome completo do diretor\",\"[ERRO] O nome do diretor não pode ser vazio\")\r\n",
        "\r\n",
        "    categoria = obter_validar_num_int(\"Informe uma categoria: 1 terror, 2 romance, 3 ficção, 4 suspense, 5 drama, 6 comédia, 7 infantil \",\r\n",
        "    \"[ERRO] Deve ser digitado um número\", \\\r\n",
        "    \"O valor deve ser um número entre 1 e 7\", \\\r\n",
        "    min(list(range(1,8))),\r\n",
        "    max(list(range(1,8))))\r\n",
        "\r\n",
        "\r\n",
        "    media_avaliacoes = obter_validar_num_real(\"Informe uma média de avaliações. Digite o valor sem a casa decimal, exemplo: 4.2 = 42\", \"[ERRO] Deve ser digitado um número\", \\\r\n",
        "    \"O valor deve ser um número entre 0.0 e 5.0\", \\\r\n",
        "    0.0,\r\n",
        "    6.0)\r\n",
        "\r\n",
        "    idade_censura = obter_validar_num_int(\"Informe uma idade de censura: \",\r\n",
        "    \"[ERRO] Deve ser digitado um número\", \\\r\n",
        "    \"O valor deve ser um número entre 1 e 150\", \\\r\n",
        "    1,\r\n",
        "    150)\r\n",
        "\r\n",
        "    # Adicionado os valores ao dicionário\r\n",
        "    filme_info[\"cod_filme\"] = cod_filme\r\n",
        "    filme_info[\"nome_filme\"] = nome_filme\r\n",
        "    filme_info[\"ano_lancamento\"] = ano_lancamento\r\n",
        "    filme_info[\"nome_completo_diretor\"] = nome_completo_diretor\r\n",
        "    filme_info[\"categoria\"] = categoria\r\n",
        "    filme_info[\"media_avaliacoes\"] = media_avaliacoes\r\n",
        "    filme_info[\"idade_censura\"] = idade_censura\r\n",
        "\r\n",
        "    \r\n",
        "    if(os.path.exists(\"arquivos\") == False):\r\n",
        "        os.makedirs(\"arquivos\")\r\n",
        "    \r\n",
        "    if(os.path.exists(\"arquivos/filmes.csv\") == False):\r\n",
        "        with open('arquivos/filmes.csv', 'w', encoding='UTF8') as f:\r\n",
        "            w = csv.writer(f)\r\n",
        "            # Escrever o cabeçalho, ou seja, as colunas\r\n",
        "            w.writerow(filme_info.keys())\r\n",
        "            # Escreve os valores, ou seja, linhas\r\n",
        "            w.writerow(filme_info.values())\r\n",
        "            print('[INFO] Filme registro com êxito')\r\n",
        "    # Caso contrário, append\r\n",
        "    else:\r\n",
        "        with open(\"arquivos/filmes.csv\",\"a\") as arquivo_filmes: \r\n",
        "            w = csv.writer(arquivo_filmes)\r\n",
        "            # Escreve os valores, ou seja, linhas\r\n",
        "            w.writerow(filme_info.values())\r\n",
        "            print('[INFO] Filme registro com êxito')\r\n"
      ],
      "outputs": [],
      "execution_count": 134,
      "metadata": {
        "jupyter": {
          "source_hidden": false,
          "outputs_hidden": false
        },
        "nteract": {
          "transient": {
            "deleting": false
          }
        },
        "gather": {
          "logged": 1665612941772
        }
      }
    },
    {
      "cell_type": "code",
      "source": [
        "def listar_todos_filmes():\r\n",
        "    # Verifica se o arquivo existe para listar\r\n",
        "    if(os.path.exists(\"arquivos/filmes.csv\") == True):\r\n",
        "        with open(\"arquivos/filmes.csv\",\"r\") as arquivo_filmes: \r\n",
        "            reader = csv.reader(arquivo_filmes,delimiter = ',') \r\n",
        "            for linha in reader:\r\n",
        "                print(linha)\r\n",
        "    else:\r\n",
        "        print('[INFO] Não existem filmes para mostrar')"
      ],
      "outputs": [],
      "execution_count": null,
      "metadata": {
        "jupyter": {
          "source_hidden": false,
          "outputs_hidden": false
        },
        "nteract": {
          "transient": {
            "deleting": false
          }
        },
        "gather": {
          "logged": 1665613351074
        }
      }
    },
    {
      "cell_type": "code",
      "source": [
        "def mostrar_menu():\r\n",
        "    print(\"1 - Cadastrar filmes\")\r\n",
        "    print(\"2 - Excluir todos os filmes\")\r\n",
        "    print(\"3 - Listar todos os filmes\")\r\n",
        "    print(\"4 - Listar um determinado filme\")\r\n",
        "    print(\"5 - Alterar filme\")\r\n",
        "    print(\"6 - Encerrar o programa\")"
      ],
      "outputs": [],
      "execution_count": 136,
      "metadata": {
        "jupyter": {
          "source_hidden": false,
          "outputs_hidden": false
        },
        "nteract": {
          "transient": {
            "deleting": false
          }
        },
        "gather": {
          "logged": 1665612947994
        }
      }
    },
    {
      "cell_type": "markdown",
      "source": [
        "### Criação do Menu e Escolha"
      ],
      "metadata": {
        "nteract": {
          "transient": {
            "deleting": false
          }
        }
      }
    },
    {
      "cell_type": "code",
      "source": [
        "opcao = \"\"\r\n",
        "mostrar_menu()\r\n",
        "opcao = obter_validar_num_int(\"Informe uma opção: \", \\\r\n",
        "    \"[ERRO] Deve ser digitado um número\", \\\r\n",
        "    \"[ERRO] O valor deve ser um número entre 1 e 6\",\\\r\n",
        "    1, \\\r\n",
        "    6) \r\n"
      ],
      "outputs": [
        {
          "output_type": "stream",
          "name": "stdout",
          "text": "1 - Cadastrar filmes\n2 - Excluir todos os filmes\n3 - Listar todos os filmes\n4 - Listar um determinado filme\n5 - Alterar filme\n6 - Encerrar o programa\n"
        }
      ],
      "execution_count": 137,
      "metadata": {
        "jupyter": {
          "source_hidden": false,
          "outputs_hidden": false
        },
        "nteract": {
          "transient": {
            "deleting": false
          }
        },
        "gather": {
          "logged": 1665612989367
        }
      }
    },
    {
      "cell_type": "code",
      "source": [
        "while (opcao != 6):\r\n",
        "    # Cadastro de filmes\r\n",
        "    if (opcao == 1):\r\n",
        "        cadastrar_filme()\r\n",
        "    if (opcao == 2):\r\n",
        "        remover_todos_filmes(\"[INFO] Deseja realmente excluir todos os filmes, essa operação não poderá ser DESFEITA! Pressione S para SIM e outra tecla para não\",\r\n",
        "        \"[ERRO] Uma opção deve ser informada.\")\r\n",
        "    if (opcao == 3):\r\n",
        "        listar_todos_filmes()    \r\n",
        "    # if (opcao == 4):\r\n",
        "    #     listar_filme_nome_cod() \r\n",
        "    # if (opcao == 5):\r\n",
        "    #     alterar_filme_nome_cod()      \r\n",
        "    mostrar_menu()\r\n",
        "    print(\"Informe uma opção\")\r\n",
        "    opcao = obter_validar_num_int(\"Informe uma opção: \", \\\r\n",
        "    \"[ERRO] Deve ser digitado um número\", \\\r\n",
        "    \"O valor deve ser um número entre 1 e 6\",\\\r\n",
        "    1, \\\r\n",
        "    6) \r\n"
      ],
      "outputs": [
        {
          "output_type": "stream",
          "name": "stdout",
          "text": "[INFO] Não existem filmes para amostrar\n1 - Cadastrar filmes\n2 - Excluir todos os filmes\n3 - Listar todos os filmes\n4 - Listar um determinado filme\n5 - Alterar filme\n6 - Encerrar o programa\nInforme uma opção\n[ERRO] Deve ser digitado um número\nO valor deve ser um número entre 1 e 6\nArquivo de filmes.csv será criado\n[INFO] Filme registro com êxito\n1 - Cadastrar filmes\n2 - Excluir todos os filmes\n3 - Listar todos os filmes\n4 - Listar um determinado filme\n5 - Alterar filme\n6 - Encerrar o programa\nInforme uma opção\n[INFO] Filme registro com êxito\n1 - Cadastrar filmes\n2 - Excluir todos os filmes\n3 - Listar todos os filmes\n4 - Listar um determinado filme\n5 - Alterar filme\n6 - Encerrar o programa\nInforme uma opção\n['cod_filme', 'nome_filme', 'ano_lancamento', 'nome_completo_diretor', 'categoria', 'media_avaliacoes', 'idade', 'idade_censura']\n['321899', 'Roger Filme', '2001', 'Roger', '3', '5.0', '0', '15']\n['975961', 'Ane Maravilha', '2005', 'Roger', '2', '4.0', '0', '10']\n1 - Cadastrar filmes\n2 - Excluir todos os filmes\n3 - Listar todos os filmes\n4 - Listar um determinado filme\n5 - Alterar filme\n6 - Encerrar o programa\nInforme uma opção\nO nome do filme não pode ser vazio\n[ERRO] Deve ser digitado um número\n[ERRO] O nome do diretor não pode ser vazio\nO valor deve ser um número entre 1 e 7\n[ERRO] Deve ser digitado um número\n[INFO] Filme registro com êxito\n1 - Cadastrar filmes\n2 - Excluir todos os filmes\n3 - Listar todos os filmes\n4 - Listar um determinado filme\n5 - Alterar filme\n6 - Encerrar o programa\nInforme uma opção\n['cod_filme', 'nome_filme', 'ano_lancamento', 'nome_completo_diretor', 'categoria', 'media_avaliacoes', 'idade', 'idade_censura']\n['321899', 'Roger Filme', '2001', 'Roger', '3', '5.0', '0', '15']\n['975961', 'Ane Maravilha', '2005', 'Roger', '2', '4.0', '0', '10']\n['572727', 'Starwars', '2001', 'Roger', '3', '5.0', '0', '12']\n1 - Cadastrar filmes\n2 - Excluir todos os filmes\n3 - Listar todos os filmes\n4 - Listar um determinado filme\n5 - Alterar filme\n6 - Encerrar o programa\nInforme uma opção\n[INFO] Todos os filmes foram removidos.\n1 - Cadastrar filmes\n2 - Excluir todos os filmes\n3 - Listar todos os filmes\n4 - Listar um determinado filme\n5 - Alterar filme\n6 - Encerrar o programa\nInforme uma opção\n[INFO] Não existem filmes para amostrar\n1 - Cadastrar filmes\n2 - Excluir todos os filmes\n3 - Listar todos os filmes\n4 - Listar um determinado filme\n5 - Alterar filme\n6 - Encerrar o programa\nInforme uma opção\n"
        },
        {
          "output_type": "error",
          "ename": "KeyboardInterrupt",
          "evalue": "Interrupted by user",
          "traceback": [
            "\u001b[0;31m---------------------------------------------------------------------------\u001b[0m",
            "\u001b[0;31mKeyboardInterrupt\u001b[0m                         Traceback (most recent call last)",
            "Input \u001b[0;32mIn [138]\u001b[0m, in \u001b[0;36m<cell line: 1>\u001b[0;34m()\u001b[0m\n\u001b[1;32m     14\u001b[0m mostrar_menu()\n\u001b[1;32m     15\u001b[0m \u001b[38;5;28mprint\u001b[39m(\u001b[38;5;124m\"\u001b[39m\u001b[38;5;124mInforme uma opção\u001b[39m\u001b[38;5;124m\"\u001b[39m)\n\u001b[0;32m---> 16\u001b[0m opcao \u001b[38;5;241m=\u001b[39m \u001b[43mobter_validar_num_int\u001b[49m\u001b[43m(\u001b[49m\u001b[38;5;124;43m\"\u001b[39;49m\u001b[38;5;124;43mInforme uma opção: \u001b[39;49m\u001b[38;5;124;43m\"\u001b[39;49m\u001b[43m,\u001b[49m\u001b[43m \u001b[49m\u001b[43m\\\u001b[49m\n\u001b[1;32m     17\u001b[0m \u001b[43m\u001b[49m\u001b[38;5;124;43m\"\u001b[39;49m\u001b[38;5;124;43m[ERRO] Deve ser digitado um número\u001b[39;49m\u001b[38;5;124;43m\"\u001b[39;49m\u001b[43m,\u001b[49m\u001b[43m \u001b[49m\u001b[43m\\\u001b[49m\n\u001b[1;32m     18\u001b[0m \u001b[43m\u001b[49m\u001b[38;5;124;43m\"\u001b[39;49m\u001b[38;5;124;43mO valor deve ser um número entre 1 e 6\u001b[39;49m\u001b[38;5;124;43m\"\u001b[39;49m\u001b[43m,\u001b[49m\u001b[43m\\\u001b[49m\n\u001b[1;32m     19\u001b[0m \u001b[43m\u001b[49m\u001b[38;5;241;43m1\u001b[39;49m\u001b[43m,\u001b[49m\u001b[43m \u001b[49m\u001b[43m\\\u001b[49m\n\u001b[1;32m     20\u001b[0m \u001b[43m\u001b[49m\u001b[38;5;241;43m6\u001b[39;49m\u001b[43m)\u001b[49m\n",
            "Input \u001b[0;32mIn [116]\u001b[0m, in \u001b[0;36mobter_validar_num_int\u001b[0;34m(msg_apresentacao, msg_erro_1, msg_erro_2, minimo, maximo)\u001b[0m\n\u001b[1;32m      1\u001b[0m \u001b[38;5;28;01mdef\u001b[39;00m \u001b[38;5;21mobter_validar_num_int\u001b[39m(msg_apresentacao,msg_erro_1,msg_erro_2,minimo,maximo):\n\u001b[0;32m----> 2\u001b[0m     num \u001b[38;5;241m=\u001b[39m \u001b[43mobter_numero\u001b[49m\u001b[43m(\u001b[49m\u001b[43mmsg_apresentacao\u001b[49m\u001b[43m,\u001b[49m\u001b[43mmsg_erro_1\u001b[49m\u001b[43m)\u001b[49m \n\u001b[1;32m      3\u001b[0m     \u001b[38;5;28;01mwhile\u001b[39;00m (\u001b[38;5;28mint\u001b[39m(num) \u001b[38;5;241m<\u001b[39m minimo \u001b[38;5;129;01mor\u001b[39;00m \u001b[38;5;28mint\u001b[39m(num) \u001b[38;5;241m>\u001b[39m maximo):\n\u001b[1;32m      4\u001b[0m         \u001b[38;5;28mprint\u001b[39m(msg_erro_2)\n",
            "Input \u001b[0;32mIn [130]\u001b[0m, in \u001b[0;36mobter_numero\u001b[0;34m(msg_apresentacao, msg_erro_1)\u001b[0m\n\u001b[1;32m      5\u001b[0m \u001b[38;5;28;01mdef\u001b[39;00m \u001b[38;5;21mobter_numero\u001b[39m(msg_apresentacao,msg_erro_1):\n\u001b[0;32m----> 6\u001b[0m     num \u001b[38;5;241m=\u001b[39m \u001b[38;5;28;43minput\u001b[39;49m\u001b[43m(\u001b[49m\u001b[43mmsg_apresentacao\u001b[49m\u001b[43m)\u001b[49m\n\u001b[1;32m      7\u001b[0m     \u001b[38;5;28;01mwhile\u001b[39;00m(num\u001b[38;5;241m.\u001b[39misdigit() \u001b[38;5;241m==\u001b[39m \u001b[38;5;28;01mFalse\u001b[39;00m):\n\u001b[1;32m      8\u001b[0m         \u001b[38;5;28mprint\u001b[39m(msg_erro_1)\n",
            "File \u001b[0;32m/anaconda/envs/azureml_py38/lib/python3.8/site-packages/ipykernel/kernelbase.py:1044\u001b[0m, in \u001b[0;36mKernel.raw_input\u001b[0;34m(self, prompt)\u001b[0m\n\u001b[1;32m   1040\u001b[0m \u001b[38;5;28;01mif\u001b[39;00m \u001b[38;5;129;01mnot\u001b[39;00m \u001b[38;5;28mself\u001b[39m\u001b[38;5;241m.\u001b[39m_allow_stdin:\n\u001b[1;32m   1041\u001b[0m     \u001b[38;5;28;01mraise\u001b[39;00m StdinNotImplementedError(\n\u001b[1;32m   1042\u001b[0m         \u001b[38;5;124m\"\u001b[39m\u001b[38;5;124mraw_input was called, but this frontend does not support input requests.\u001b[39m\u001b[38;5;124m\"\u001b[39m\n\u001b[1;32m   1043\u001b[0m     )\n\u001b[0;32m-> 1044\u001b[0m \u001b[38;5;28;01mreturn\u001b[39;00m \u001b[38;5;28;43mself\u001b[39;49m\u001b[38;5;241;43m.\u001b[39;49m\u001b[43m_input_request\u001b[49m\u001b[43m(\u001b[49m\n\u001b[1;32m   1045\u001b[0m \u001b[43m    \u001b[49m\u001b[38;5;28;43mstr\u001b[39;49m\u001b[43m(\u001b[49m\u001b[43mprompt\u001b[49m\u001b[43m)\u001b[49m\u001b[43m,\u001b[49m\n\u001b[1;32m   1046\u001b[0m \u001b[43m    \u001b[49m\u001b[38;5;28;43mself\u001b[39;49m\u001b[38;5;241;43m.\u001b[39;49m\u001b[43m_parent_ident\u001b[49m\u001b[43m[\u001b[49m\u001b[38;5;124;43m\"\u001b[39;49m\u001b[38;5;124;43mshell\u001b[39;49m\u001b[38;5;124;43m\"\u001b[39;49m\u001b[43m]\u001b[49m\u001b[43m,\u001b[49m\n\u001b[1;32m   1047\u001b[0m \u001b[43m    \u001b[49m\u001b[38;5;28;43mself\u001b[39;49m\u001b[38;5;241;43m.\u001b[39;49m\u001b[43mget_parent\u001b[49m\u001b[43m(\u001b[49m\u001b[38;5;124;43m\"\u001b[39;49m\u001b[38;5;124;43mshell\u001b[39;49m\u001b[38;5;124;43m\"\u001b[39;49m\u001b[43m)\u001b[49m\u001b[43m,\u001b[49m\n\u001b[1;32m   1048\u001b[0m \u001b[43m    \u001b[49m\u001b[43mpassword\u001b[49m\u001b[38;5;241;43m=\u001b[39;49m\u001b[38;5;28;43;01mFalse\u001b[39;49;00m\u001b[43m,\u001b[49m\n\u001b[1;32m   1049\u001b[0m \u001b[43m\u001b[49m\u001b[43m)\u001b[49m\n",
            "File \u001b[0;32m/anaconda/envs/azureml_py38/lib/python3.8/site-packages/ipykernel/kernelbase.py:1089\u001b[0m, in \u001b[0;36mKernel._input_request\u001b[0;34m(self, prompt, ident, parent, password)\u001b[0m\n\u001b[1;32m   1086\u001b[0m             \u001b[38;5;28;01mbreak\u001b[39;00m\n\u001b[1;32m   1087\u001b[0m \u001b[38;5;28;01mexcept\u001b[39;00m \u001b[38;5;167;01mKeyboardInterrupt\u001b[39;00m:\n\u001b[1;32m   1088\u001b[0m     \u001b[38;5;66;03m# re-raise KeyboardInterrupt, to truncate traceback\u001b[39;00m\n\u001b[0;32m-> 1089\u001b[0m     \u001b[38;5;28;01mraise\u001b[39;00m \u001b[38;5;167;01mKeyboardInterrupt\u001b[39;00m(\u001b[38;5;124m\"\u001b[39m\u001b[38;5;124mInterrupted by user\u001b[39m\u001b[38;5;124m\"\u001b[39m) \u001b[38;5;28;01mfrom\u001b[39;00m \u001b[38;5;28mNone\u001b[39m\n\u001b[1;32m   1090\u001b[0m \u001b[38;5;28;01mexcept\u001b[39;00m \u001b[38;5;167;01mException\u001b[39;00m:\n\u001b[1;32m   1091\u001b[0m     \u001b[38;5;28mself\u001b[39m\u001b[38;5;241m.\u001b[39mlog\u001b[38;5;241m.\u001b[39mwarning(\u001b[38;5;124m\"\u001b[39m\u001b[38;5;124mInvalid Message:\u001b[39m\u001b[38;5;124m\"\u001b[39m, exc_info\u001b[38;5;241m=\u001b[39m\u001b[38;5;28;01mTrue\u001b[39;00m)\n",
            "\u001b[0;31mKeyboardInterrupt\u001b[0m: Interrupted by user"
          ]
        }
      ],
      "execution_count": 138,
      "metadata": {
        "jupyter": {
          "source_hidden": false,
          "outputs_hidden": false
        },
        "nteract": {
          "transient": {
            "deleting": false
          }
        },
        "gather": {
          "logged": 1665613350950
        }
      }
    }
  ],
  "metadata": {
    "kernelspec": {
      "name": "python38-azureml",
      "language": "python",
      "display_name": "Python 3.8 - AzureML"
    },
    "language_info": {
      "name": "python",
      "version": "3.8.5",
      "mimetype": "text/x-python",
      "codemirror_mode": {
        "name": "ipython",
        "version": 3
      },
      "pygments_lexer": "ipython3",
      "nbconvert_exporter": "python",
      "file_extension": ".py"
    },
    "nteract": {
      "version": "nteract-front-end@1.0.0"
    },
    "kernel_info": {
      "name": "python38-azureml"
    },
    "microsoft": {
      "host": {
        "AzureML": {
          "notebookHasBeenCompleted": true
        }
      }
    }
  },
  "nbformat": 4,
  "nbformat_minor": 2
}