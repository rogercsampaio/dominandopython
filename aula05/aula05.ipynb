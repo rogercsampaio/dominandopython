{
  "cells": [
    {
      "cell_type": "markdown",
      "source": [
        "### Correção de Exercícios - AULA 04"
      ],
      "metadata": {
        "nteract": {
          "transient": {
            "deleting": false
          }
        }
      }
    },
    {
      "cell_type": "markdown",
      "source": [
        "### Exercício 01"
      ],
      "metadata": {
        "nteract": {
          "transient": {
            "deleting": false
          }
        }
      }
    },
    {
      "cell_type": "markdown",
      "source": [
        "Objetivo: Controlar as notas de alunos de uma escola. </br>\r\n",
        "Entrada: 3 notas, quantidade de faltas </br>\r\n",
        "Saída: Média, indicação de aprovação ou não"
      ],
      "metadata": {
        "nteract": {
          "transient": {
            "deleting": false
          }
        }
      }
    },
    {
      "cell_type": "code",
      "source": [
        "n1 = float(input(\"Informe a n1: \"))"
      ],
      "outputs": [],
      "execution_count": null,
      "metadata": {
        "jupyter": {
          "source_hidden": false,
          "outputs_hidden": false
        },
        "nteract": {
          "transient": {
            "deleting": false
          }
        },
        "gather": {
          "logged": 1656691845379
        }
      }
    },
    {
      "cell_type": "code",
      "source": [
        "n1"
      ],
      "outputs": [],
      "execution_count": null,
      "metadata": {
        "jupyter": {
          "source_hidden": false,
          "outputs_hidden": false
        },
        "nteract": {
          "transient": {
            "deleting": false
          }
        },
        "gather": {
          "logged": 1656691275234
        }
      }
    },
    {
      "cell_type": "code",
      "source": [
        "type(n1)"
      ],
      "outputs": [],
      "execution_count": null,
      "metadata": {
        "jupyter": {
          "source_hidden": false,
          "outputs_hidden": false
        },
        "nteract": {
          "transient": {
            "deleting": false
          }
        },
        "gather": {
          "logged": 1656691284803
        }
      }
    },
    {
      "cell_type": "code",
      "source": [
        "n2 = float(input(\"Informe a n2: \"))"
      ],
      "outputs": [],
      "execution_count": null,
      "metadata": {
        "jupyter": {
          "source_hidden": false,
          "outputs_hidden": false
        },
        "nteract": {
          "transient": {
            "deleting": false
          }
        },
        "gather": {
          "logged": 1656691852320
        }
      }
    },
    {
      "cell_type": "code",
      "source": [
        "n3 = float(input(\"Informe a n3: \"))"
      ],
      "outputs": [],
      "execution_count": null,
      "metadata": {
        "jupyter": {
          "source_hidden": false,
          "outputs_hidden": false
        },
        "nteract": {
          "transient": {
            "deleting": false
          }
        },
        "gather": {
          "logged": 1656691859763
        }
      }
    },
    {
      "cell_type": "code",
      "source": [
        "qtde_faltas = input(\"Informe a quantidade de faltas\")\r\n",
        "qtde_faltas = int(qtde_faltas)"
      ],
      "outputs": [],
      "execution_count": null,
      "metadata": {
        "jupyter": {
          "source_hidden": false,
          "outputs_hidden": false
        },
        "nteract": {
          "transient": {
            "deleting": false
          }
        },
        "gather": {
          "logged": 1656691939703
        }
      }
    },
    {
      "cell_type": "code",
      "source": [
        "# qtde_faltas = int(input(\"Informe a quantidade de faltas\"))"
      ],
      "outputs": [],
      "execution_count": null,
      "metadata": {
        "jupyter": {
          "source_hidden": false,
          "outputs_hidden": false
        },
        "nteract": {
          "transient": {
            "deleting": false
          }
        },
        "gather": {
          "logged": 1656691362561
        }
      }
    },
    {
      "cell_type": "code",
      "source": [
        "# Cálculo da média\r\n",
        "media = (n1 + n2 + n3)/3"
      ],
      "outputs": [],
      "execution_count": null,
      "metadata": {
        "jupyter": {
          "source_hidden": false,
          "outputs_hidden": false
        },
        "nteract": {
          "transient": {
            "deleting": false
          }
        },
        "gather": {
          "logged": 1656691869113
        }
      }
    },
    {
      "cell_type": "code",
      "source": [
        "media"
      ],
      "outputs": [],
      "execution_count": null,
      "metadata": {
        "jupyter": {
          "source_hidden": false,
          "outputs_hidden": false
        },
        "nteract": {
          "transient": {
            "deleting": false
          }
        },
        "gather": {
          "logged": 1656691871348
        }
      }
    },
    {
      "cell_type": "code",
      "source": [
        "#media2 = n1 + n2 + n3/3"
      ],
      "outputs": [],
      "execution_count": null,
      "metadata": {
        "jupyter": {
          "source_hidden": false,
          "outputs_hidden": false
        },
        "nteract": {
          "transient": {
            "deleting": false
          }
        },
        "gather": {
          "logged": 1656691421067
        }
      }
    },
    {
      "cell_type": "code",
      "source": [
        "#media2"
      ],
      "outputs": [],
      "execution_count": null,
      "metadata": {
        "jupyter": {
          "source_hidden": false,
          "outputs_hidden": false
        },
        "nteract": {
          "transient": {
            "deleting": false
          }
        },
        "gather": {
          "logged": 1656691440704
        }
      }
    },
    {
      "cell_type": "code",
      "source": [
        "# Indicação de aprovação ou não\r\n",
        "foi_aprovado = media >= 7.0 and qtde_faltas < 20\r\n",
        "if (foi_aprovado):\r\n",
        "    print('Parabéns! Você foi aprovado!')\r\n",
        "else:\r\n",
        "    print('Infelizmente você foi reprovado!')"
      ],
      "outputs": [],
      "execution_count": null,
      "metadata": {
        "jupyter": {
          "source_hidden": false,
          "outputs_hidden": false
        },
        "nteract": {
          "transient": {
            "deleting": false
          }
        },
        "gather": {
          "logged": 1656691946047
        }
      }
    },
    {
      "cell_type": "code",
      "source": [
        "# String formatadas indicadas por f ou F\r\n",
        "print(f\"Média: {media}\")\r\n",
        "print(f\"Quantidade de faltas: {qtde_faltas}\")"
      ],
      "outputs": [],
      "execution_count": null,
      "metadata": {
        "jupyter": {
          "source_hidden": false,
          "outputs_hidden": false
        },
        "nteract": {
          "transient": {
            "deleting": false
          }
        },
        "gather": {
          "logged": 1656691977198
        }
      }
    },
    {
      "cell_type": "markdown",
      "source": [
        "### Exercício 02"
      ],
      "metadata": {
        "nteract": {
          "transient": {
            "deleting": false
          }
        }
      }
    },
    {
      "cell_type": "markdown",
      "source": [
        "Objetivo: Classificar triângulos. </br>\r\n",
        "Entrada: 3 lados do triângulo </br>\r\n",
        "Saída: Tipo de triângulo (equilátero, escaleno ou isósceles)"
      ],
      "metadata": {
        "nteract": {
          "transient": {
            "deleting": false
          }
        }
      }
    },
    {
      "cell_type": "code",
      "source": [
        "lado1 = float(input(\"Informe o lado 1 em cm: \"))\r\n",
        "lado2 = float(input(\"Informe o lado 2 em cm: \"))\r\n",
        "lado3 = float(input(\"Informe o lado 3 em cm: \"))"
      ],
      "outputs": [],
      "execution_count": 21,
      "metadata": {
        "jupyter": {
          "source_hidden": false,
          "outputs_hidden": false
        },
        "nteract": {
          "transient": {
            "deleting": false
          }
        },
        "gather": {
          "logged": 1657488236525
        }
      }
    },
    {
      "cell_type": "code",
      "source": [
        "lado1"
      ],
      "outputs": [
        {
          "output_type": "execute_result",
          "execution_count": 22,
          "data": {
            "text/plain": "8.0"
          },
          "metadata": {}
        }
      ],
      "execution_count": 22,
      "metadata": {
        "jupyter": {
          "source_hidden": false,
          "outputs_hidden": false
        },
        "nteract": {
          "transient": {
            "deleting": false
          }
        },
        "gather": {
          "logged": 1657488238678
        }
      }
    },
    {
      "cell_type": "code",
      "source": [
        "lado2"
      ],
      "outputs": [
        {
          "output_type": "execute_result",
          "execution_count": 23,
          "data": {
            "text/plain": "2.0"
          },
          "metadata": {}
        }
      ],
      "execution_count": 23,
      "metadata": {
        "jupyter": {
          "source_hidden": false,
          "outputs_hidden": false
        },
        "nteract": {
          "transient": {
            "deleting": false
          }
        },
        "gather": {
          "logged": 1657488243558
        }
      }
    },
    {
      "cell_type": "code",
      "source": [
        "lado3"
      ],
      "outputs": [
        {
          "output_type": "execute_result",
          "execution_count": 24,
          "data": {
            "text/plain": "1.0"
          },
          "metadata": {}
        }
      ],
      "execution_count": 24,
      "metadata": {
        "jupyter": {
          "source_hidden": false,
          "outputs_hidden": false
        },
        "nteract": {
          "transient": {
            "deleting": false
          }
        },
        "gather": {
          "logged": 1657488245640
        }
      }
    },
    {
      "cell_type": "code",
      "source": [
        "if ((lado1 == lado2) and (lado2 == lado3) and (lado3 == lado1)):\r\n",
        "    print('Triângulo equilátero, porque tem 3 lados iguais') \r\n",
        "elif ((lado1 == lado2) or (lado2 == lado3) or (lado3 == lado1)):\r\n",
        "    print('Triângulo isóscelos, porque tem 2 lados iguais') \r\n",
        "else:\r\n",
        "    print('Triângulo escaleno, porque tem todos os lados diferentes')"
      ],
      "outputs": [
        {
          "output_type": "stream",
          "name": "stdout",
          "text": "Triângulo escaleno, porque tem todos os lados diferentes\n"
        }
      ],
      "execution_count": 25,
      "metadata": {
        "jupyter": {
          "source_hidden": false,
          "outputs_hidden": false
        },
        "nteract": {
          "transient": {
            "deleting": false
          }
        },
        "gather": {
          "logged": 1657488249835
        }
      }
    },
    {
      "cell_type": "markdown",
      "source": [
        "### Exercício 03"
      ],
      "metadata": {
        "nteract": {
          "transient": {
            "deleting": false
          }
        }
      }
    },
    {
      "cell_type": "markdown",
      "source": [
        "Objetivo: Cálcular o IMC de uma pessoa. </br>\r\n",
        "Entrada: Peso e Altura </br>\r\n",
        "Saída: IMC, classificação e grau de obesidade"
      ],
      "metadata": {
        "nteract": {
          "transient": {
            "deleting": false
          }
        }
      }
    },
    {
      "cell_type": "code",
      "source": [
        "peso = float(input(\"Informe o peso em Kg: \"))"
      ],
      "outputs": [],
      "execution_count": null,
      "metadata": {
        "jupyter": {
          "source_hidden": false,
          "outputs_hidden": false
        },
        "nteract": {
          "transient": {
            "deleting": false
          }
        },
        "gather": {
          "logged": 1656693355179
        }
      }
    },
    {
      "cell_type": "code",
      "source": [
        "altura = float(input(\"Informe a altura em cm: \"))"
      ],
      "outputs": [],
      "execution_count": null,
      "metadata": {
        "jupyter": {
          "source_hidden": false,
          "outputs_hidden": false
        },
        "nteract": {
          "transient": {
            "deleting": false
          }
        },
        "gather": {
          "logged": 1656693360524
        }
      }
    },
    {
      "cell_type": "code",
      "source": [
        "classificacao = None\r\n",
        "grau_obesidade = None"
      ],
      "outputs": [],
      "execution_count": null,
      "metadata": {
        "jupyter": {
          "source_hidden": false,
          "outputs_hidden": false
        },
        "nteract": {
          "transient": {
            "deleting": false
          }
        },
        "gather": {
          "logged": 1656693362366
        }
      }
    },
    {
      "cell_type": "code",
      "source": [
        "imc = peso / (altura**2)"
      ],
      "outputs": [],
      "execution_count": null,
      "metadata": {
        "jupyter": {
          "source_hidden": false,
          "outputs_hidden": false
        },
        "nteract": {
          "transient": {
            "deleting": false
          }
        },
        "gather": {
          "logged": 1656693364025
        }
      }
    },
    {
      "cell_type": "code",
      "source": [
        "imc"
      ],
      "outputs": [],
      "execution_count": null,
      "metadata": {
        "jupyter": {
          "source_hidden": false,
          "outputs_hidden": false
        },
        "nteract": {
          "transient": {
            "deleting": false
          }
        },
        "gather": {
          "logged": 1656693367281
        }
      }
    },
    {
      "cell_type": "code",
      "source": [
        "#imc = peso / (altura * altura)"
      ],
      "outputs": [],
      "execution_count": null,
      "metadata": {
        "jupyter": {
          "source_hidden": false,
          "outputs_hidden": false
        },
        "nteract": {
          "transient": {
            "deleting": false
          }
        }
      }
    },
    {
      "cell_type": "code",
      "source": [
        "if ((peso <= 0) or (altura <= 0)):\r\n",
        "    print('Valores incorretos, o programa será encerrado!')\r\n",
        "else:\r\n",
        "    # Classificação e grau de obesidade\r\n",
        "    if(imc < 18.5):\r\n",
        "        classificacao = 'Magreza'\r\n",
        "        grau_obesidade = 0\r\n",
        "    elif (imc >= 18.5 and imc <= 24.9):\r\n",
        "        classificacao = 'Normal'\r\n",
        "        grau_obesidade = 0\r\n",
        "    elif (imc >= 25.0 and imc <= 29.9):\r\n",
        "        classificacao = 'Sobrepeso'\r\n",
        "        grau_obesidade = 1\r\n",
        "    elif (imc >= 30.0 and imc <= 39.9):\r\n",
        "        classificacao = 'Obesidade'\r\n",
        "        grau_obesidade = 2\r\n",
        "    else:\r\n",
        "        classificacao = 'Obesidade grave'\r\n",
        "        grau_obesidade = 3\r\n",
        "    "
      ],
      "outputs": [],
      "execution_count": null,
      "metadata": {
        "jupyter": {
          "source_hidden": false,
          "outputs_hidden": false
        },
        "nteract": {
          "transient": {
            "deleting": false
          }
        },
        "gather": {
          "logged": 1656693376476
        }
      }
    },
    {
      "cell_type": "code",
      "source": [
        "print(\"IMC: %3.2f\" % imc)\r\n",
        "print(\"Classificação: \",classificacao)\r\n",
        "print(\"Grau de obesidade: \",grau_obesidade)"
      ],
      "outputs": [],
      "execution_count": null,
      "metadata": {
        "jupyter": {
          "source_hidden": false,
          "outputs_hidden": false
        },
        "nteract": {
          "transient": {
            "deleting": false
          }
        },
        "gather": {
          "logged": 1656693383250
        }
      }
    },
    {
      "cell_type": "markdown",
      "source": [
        "### Exercício 04"
      ],
      "metadata": {
        "nteract": {
          "transient": {
            "deleting": false
          }
        }
      }
    },
    {
      "cell_type": "markdown",
      "source": [
        "Objetivo: Calcular a temperatura em F. </br>\r\n",
        "Entrada: Uma temperatura em °C </br>\r\n",
        "Saída: Temperatura convertida em °F"
      ],
      "metadata": {
        "nteract": {
          "transient": {
            "deleting": false
          }
        }
      }
    },
    {
      "cell_type": "code",
      "source": [
        "temperatura_celsius = float(input(\"Informe a temperatura em °C \"))"
      ],
      "outputs": [],
      "execution_count": 39,
      "metadata": {
        "jupyter": {
          "source_hidden": false,
          "outputs_hidden": false
        },
        "nteract": {
          "transient": {
            "deleting": false
          }
        },
        "gather": {
          "logged": 1657489065875
        }
      }
    },
    {
      "cell_type": "code",
      "source": [
        "temperatura_fahrenheit = (temperatura_celsius * 1.8) + 32\r\n",
        "# F = C x 1,8 + 32"
      ],
      "outputs": [],
      "execution_count": 40,
      "metadata": {
        "jupyter": {
          "source_hidden": false,
          "outputs_hidden": false
        },
        "nteract": {
          "transient": {
            "deleting": false
          }
        },
        "gather": {
          "logged": 1657489067865
        }
      }
    },
    {
      "cell_type": "code",
      "source": [
        "print(f\"Temperatura em °F {temperatura_fahrenheit}\")"
      ],
      "outputs": [
        {
          "output_type": "stream",
          "name": "stdout",
          "text": "Temperatura em °F 55.400000000000006\n"
        }
      ],
      "execution_count": 41,
      "metadata": {
        "jupyter": {
          "source_hidden": false,
          "outputs_hidden": false
        },
        "nteract": {
          "transient": {
            "deleting": false
          }
        },
        "gather": {
          "logged": 1657489088483
        }
      }
    },
    {
      "cell_type": "markdown",
      "source": [
        "### Exercício 05"
      ],
      "metadata": {
        "nteract": {
          "transient": {
            "deleting": false
          }
        }
      }
    },
    {
      "cell_type": "markdown",
      "source": [
        "Objetivo: Auxiliar em uma investigação </br>\r\n",
        "Entrada: 5 perguntas </br>\r\n",
        "Saída: Classificação de suspeita sobre o indivíduo"
      ],
      "metadata": {
        "nteract": {
          "transient": {
            "deleting": false
          }
        }
      }
    },
    {
      "cell_type": "code",
      "source": [
        "qtde_respostas_positivas = 0"
      ],
      "outputs": [],
      "execution_count": 55,
      "metadata": {
        "jupyter": {
          "source_hidden": false,
          "outputs_hidden": false
        },
        "nteract": {
          "transient": {
            "deleting": false
          }
        },
        "gather": {
          "logged": 1657489899288
        }
      }
    },
    {
      "cell_type": "code",
      "source": [
        "p1 = input(\"Telefonou para a vítima? S - SIM ou N - NÃO\")\r\n",
        "if (p1 == 'S'):\r\n",
        "    qtde_respostas_positivas += 1\r\n",
        "\r\n",
        "p2 = input(\"Esteve no local do crime? S - SIM ou N - NÃO\")\r\n",
        "if (p2 == 'S'):\r\n",
        "    qtde_respostas_positivas += 1\r\n",
        "    # qtde_respostas_positivas = qtde_respostas_positivas + 1\r\n",
        "\r\n",
        "p3 = input(\"Mora perto da vítima? S - SIM ou N - NÃO\")\r\n",
        "if (p3 == 'S'):\r\n",
        "    qtde_respostas_positivas += 1\r\n",
        "\r\n",
        "p4 = input(\"Devia para a vítima? S - SIM ou N - NÃO\")\r\n",
        "if (p4 == 'S'):\r\n",
        "    qtde_respostas_positivas += 1\r\n",
        "    \r\n",
        "p5 = input(\"Já trabalhou com a vítima? S - SIM ou N - NÃO\")\r\n",
        "if (p5 == 'S'):\r\n",
        "    qtde_respostas_positivas += 1"
      ],
      "outputs": [],
      "execution_count": 56,
      "metadata": {
        "jupyter": {
          "source_hidden": false,
          "outputs_hidden": false
        },
        "nteract": {
          "transient": {
            "deleting": false
          }
        },
        "gather": {
          "logged": 1657489913480
        }
      }
    },
    {
      "cell_type": "code",
      "source": [
        "if((p1 != 'S' and p1 != 'N') or (p2 != 'S' and p2 != 'N') or (p3 != 'S' and p3 != 'N') or (p4 != 'S' and p4 != 'N') or (p5 != 'S' and p5 != 'N')):\r\n",
        "    # Validando os dados de entrada\r\n",
        "    print(\"Algumas respostas estão incorretas. Revise\")\r\n",
        "else:\r\n",
        "    # Classificação\r\n",
        "    if (qtde_respostas_positivas <= 1):\r\n",
        "        print('Inocente.')\r\n",
        "    elif (qtde_respostas_positivas == 2):\r\n",
        "        print('Suspeita.')\r\n",
        "    elif ((qtde_respostas_positivas > 2) and (qtde_respostas_positivas <= 4)):\r\n",
        "        print('Cúmplice.')\r\n",
        "    else:\r\n",
        "        print('Assassino.')"
      ],
      "outputs": [
        {
          "output_type": "stream",
          "name": "stdout",
          "text": "Assassino.\n"
        }
      ],
      "execution_count": 57,
      "metadata": {
        "jupyter": {
          "source_hidden": false,
          "outputs_hidden": false
        },
        "nteract": {
          "transient": {
            "deleting": false
          }
        },
        "gather": {
          "logged": 1657489916683
        }
      }
    },
    {
      "cell_type": "markdown",
      "source": [
        "### Exercício 06"
      ],
      "metadata": {
        "nteract": {
          "transient": {
            "deleting": false
          }
        }
      }
    },
    {
      "cell_type": "markdown",
      "source": [
        "Objetivo: Imprimir o maior número </br>\r\n",
        "Entrada: 2 valores </br>\r\n",
        "Saída: Número maior entre 2 valores"
      ],
      "metadata": {
        "nteract": {
          "transient": {
            "deleting": false
          }
        }
      }
    },
    {
      "cell_type": "code",
      "source": [
        "valor1 = int(input(\"Informe o valor 1: \"))"
      ],
      "outputs": [],
      "execution_count": 64,
      "metadata": {
        "jupyter": {
          "source_hidden": false,
          "outputs_hidden": false
        },
        "nteract": {
          "transient": {
            "deleting": false
          }
        },
        "gather": {
          "logged": 1657490199557
        }
      }
    },
    {
      "cell_type": "code",
      "source": [
        "valor2 = int(input(\"Informe o valor 2: \"))"
      ],
      "outputs": [],
      "execution_count": 65,
      "metadata": {
        "jupyter": {
          "source_hidden": false,
          "outputs_hidden": false
        },
        "nteract": {
          "transient": {
            "deleting": false
          }
        },
        "gather": {
          "logged": 1657490203666
        }
      }
    },
    {
      "cell_type": "code",
      "source": [
        "# Obtendo o maior valor\r\n",
        "if(valor1 > valor2):\r\n",
        "    print(f\"Maior valor, número {valor1}\")\r\n",
        "elif(valor1 < valor2):\r\n",
        "    print(f\"Maior valor, número {valor2}\")\r\n",
        "else:\r\n",
        "    print(f\"Valores iguais: {valor1},{valor2}\")    "
      ],
      "outputs": [
        {
          "output_type": "stream",
          "name": "stdout",
          "text": "Valores iguais: 7,7\n"
        }
      ],
      "execution_count": 66,
      "metadata": {
        "jupyter": {
          "source_hidden": false,
          "outputs_hidden": false
        },
        "nteract": {
          "transient": {
            "deleting": false
          }
        },
        "gather": {
          "logged": 1657490205640
        }
      }
    },
    {
      "cell_type": "markdown",
      "source": [
        "### Exercício 07"
      ],
      "metadata": {
        "nteract": {
          "transient": {
            "deleting": false
          }
        }
      }
    },
    {
      "cell_type": "markdown",
      "source": [
        "Objetivo: Calcular o sinal (positivo ou negativo) de um número </br>\r\n",
        "Entrada: 1 número real </br>\r\n",
        "Saída: Indicação de número positivo ou negativo"
      ],
      "metadata": {
        "nteract": {
          "transient": {
            "deleting": false
          }
        }
      }
    },
    {
      "cell_type": "code",
      "source": [
        "valor1 = float(input(\"Informe o valor 1: \"))"
      ],
      "outputs": [],
      "execution_count": 71,
      "metadata": {
        "jupyter": {
          "source_hidden": false,
          "outputs_hidden": false
        },
        "nteract": {
          "transient": {
            "deleting": false
          }
        },
        "gather": {
          "logged": 1657490332495
        }
      }
    },
    {
      "cell_type": "code",
      "source": [
        "if(valor1 < 0):\r\n",
        "    print(\"Valor NEGATIVO.\")\r\n",
        "elif(valor1 > 0):\r\n",
        "    print(\"Valor POSITIVO.\")\r\n",
        "else: #elif(valor1 == 0):\r\n",
        "    print(\"Valor NEUTRO.\")  "
      ],
      "outputs": [
        {
          "output_type": "stream",
          "name": "stdout",
          "text": "Valor NEGATIVO.\n"
        }
      ],
      "execution_count": 72,
      "metadata": {
        "jupyter": {
          "source_hidden": false,
          "outputs_hidden": false
        },
        "nteract": {
          "transient": {
            "deleting": false
          }
        },
        "gather": {
          "logged": 1657490334021
        }
      }
    }
  ],
  "metadata": {
    "kernelspec": {
      "name": "python38-azureml",
      "language": "python",
      "display_name": "Python 3.8 - AzureML"
    },
    "language_info": {
      "name": "python",
      "version": "3.8.5",
      "mimetype": "text/x-python",
      "codemirror_mode": {
        "name": "ipython",
        "version": 3
      },
      "pygments_lexer": "ipython3",
      "nbconvert_exporter": "python",
      "file_extension": ".py"
    },
    "nteract": {
      "version": "nteract-front-end@1.0.0"
    },
    "kernel_info": {
      "name": "python38-azureml"
    }
  },
  "nbformat": 4,
  "nbformat_minor": 2
}