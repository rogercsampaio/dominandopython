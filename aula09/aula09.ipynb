{
  "cells": [
    {
      "cell_type": "markdown",
      "source": [
        "# Aula 08 - Correção de Exercícios Aula 07"
      ],
      "metadata": {
        "nteract": {
          "transient": {
            "deleting": false
          }
        }
      }
    },
    {
      "cell_type": "markdown",
      "source": [
        "### Exercício 01"
      ],
      "metadata": {
        "nteract": {
          "transient": {
            "deleting": false
          }
        }
      }
    },
    {
      "cell_type": "code",
      "source": [
        "# Solicitando o valor\r\n",
        "fat = 1\r\n",
        "msg = 'Informe o valor: '\r\n",
        "msgErro = 'Valor inválido. O valor não pode ser negativo, informe novamente.'\r\n",
        "valor = int(input(msg))\r\n",
        "while(valor < 0):\r\n",
        "    print(msgErro)\r\n",
        "    valor = int(input(msg))"
      ],
      "outputs": [],
      "execution_count": null,
      "metadata": {
        "jupyter": {
          "source_hidden": false,
          "outputs_hidden": false
        },
        "nteract": {
          "transient": {
            "deleting": false
          }
        },
        "gather": {
          "logged": 1659484055975
        }
      }
    },
    {
      "cell_type": "code",
      "source": [
        "# Calculando o fatorial\r\n",
        "for contador in range(valor,1,-1):\r\n",
        "    fat = fat * contador\r\n",
        "else:\r\n",
        "    print('Valor informado: ',valor)\r\n",
        "    print('Fatorial: ',fat)\r\n"
      ],
      "outputs": [],
      "execution_count": null,
      "metadata": {
        "jupyter": {
          "source_hidden": false,
          "outputs_hidden": false
        },
        "nteract": {
          "transient": {
            "deleting": false
          }
        },
        "gather": {
          "logged": 1659484057423
        }
      }
    },
    {
      "cell_type": "markdown",
      "source": [
        "## Exercício 02"
      ],
      "metadata": {
        "nteract": {
          "transient": {
            "deleting": false
          }
        }
      }
    },
    {
      "cell_type": "code",
      "source": [
        "## Definindo os valores padrões para variáveis\r\n",
        "quant_times = 2\r\n",
        "quant_jogadores_cada_time = 2\r\n",
        "total_jogadores = quant_times * quant_jogadores_cada_time\r\n",
        "\r\n",
        "# Idades\r\n",
        "quant_jog_maiores_idade = 0\r\n",
        "soma_idades = 0\r\n",
        "\r\n",
        "maior_idade = 0\r\n",
        "menor_idade = 100\r\n",
        "\r\n",
        "\r\n",
        "# Alturas\r\n",
        "soma_alturas = 0\r\n",
        "\r\n",
        "maior_altura = 0\r\n",
        "menor_altura = 3.0\r\n",
        "\r\n",
        "# Pesos\r\n",
        "maiores_80kg = 0\r\n"
      ],
      "outputs": [],
      "execution_count": null,
      "metadata": {
        "jupyter": {
          "source_hidden": false,
          "outputs_hidden": false
        },
        "nteract": {
          "transient": {
            "deleting": false
          }
        },
        "gather": {
          "logged": 1659486288578
        }
      }
    },
    {
      "cell_type": "code",
      "source": [
        "## Obtendo os dados dos jogadores: nome, idade, peso, altura\r\n",
        "for time in range(0,quant_times):\r\n",
        "    print('Time n',time+1)\r\n",
        "\r\n",
        "    # Dados dos jogadores\r\n",
        "    for jogador in range(0,quant_jogadores_cada_time):\r\n",
        "        print(\"Jogador n \",jogador+1)\r\n",
        "\r\n",
        "        nome = input(\"Informe o nome: \")\r\n",
        "        while(nome == \"\"):\r\n",
        "            print(\"[ERRO] O nome não pode ser vazio.\")\r\n",
        "            nome = input(\"Informe o nome: \")\r\n",
        "         \r\n",
        "        idade = int(input(\"Informe a idade: \"))\r\n",
        "        while(idade <= 0 or idade > 100):\r\n",
        "            print(\"[ERRO] O idade deve estar entre 1 - 100.\")\r\n",
        "            idade = int(input(\"Informe a idade: \"))\r\n",
        "\r\n",
        "\r\n",
        "        peso = float(input(\"Informe o peso: \"))\r\n",
        "        while(peso <= 30 or peso > 150):\r\n",
        "            print(\"[ERRO] O peso deve estar entre 30 - 150.\")\r\n",
        "            peso = float(input(\"Informe o peso: \")) \r\n",
        "\r\n",
        "        \r\n",
        "        altura = float(input(\"Informe a altura: \"))\r\n",
        "        while(altura <= 1.0 or altura > 3.0):\r\n",
        "            print(\"[ERRO] O peso deve estar entre 1 - 3.0m\")\r\n",
        "            altura = float(input(\"Informe a altura: \")) \r\n",
        "\r\n",
        "        # Cálculo\r\n",
        "        if(idade >= 18):\r\n",
        "            quant_jog_maiores_idade += 1 \r\n",
        "            # quant_jog_maiores_idade = quant_jog_maiores_idade + 1\r\n",
        "\r\n",
        "        soma_idades = soma_idades + idade\r\n",
        "\r\n",
        "        # Cálculo da maior e menor idade \r\n",
        "        if(idade > maior_idade):\r\n",
        "            maior_idade = idade\r\n",
        "        \r\n",
        "        if(idade < menor_idade):\r\n",
        "            menor_idade = idade\r\n",
        "\r\n",
        "        if(peso >= 80.0):\r\n",
        "            maiores_80kg += 1\r\n",
        "\r\n",
        "        # Cálculo da menor e maior altura\r\n",
        "        if(altura > maior_altura):\r\n",
        "            maior_altura = altura\r\n",
        "        \r\n",
        "        if(altura < menor_altura):\r\n",
        "            menor_altura = altura\r\n",
        "\r\n",
        "        soma_alturas = soma_alturas + altura\r\n"
      ],
      "outputs": [],
      "execution_count": null,
      "metadata": {
        "jupyter": {
          "source_hidden": false,
          "outputs_hidden": false
        },
        "nteract": {
          "transient": {
            "deleting": false
          }
        },
        "gather": {
          "logged": 1659486365738
        }
      }
    },
    {
      "cell_type": "code",
      "source": [
        "## Calculando e exibindo os valores no relatório final\r\n",
        "print('Total de jogadores ',total_jogadores)\r\n",
        "print('Quantidade de jogadores MAIORES DE IDADE ',quant_jog_maiores_idade)\r\n",
        "print('Quantidade de jogadores MENORES DE IDADE ',total_jogadores - quant_jog_maiores_idade)\r\n",
        "\r\n",
        "print('Média das IDADES ', soma_idades / total_jogadores)\r\n",
        "print('Média das ALTURAS ',soma_alturas / total_jogadores)\r\n",
        "\r\n",
        "print('MAIOR IDADE', maior_idade)\r\n",
        "print('MENOR IDADE', menor_idade)\r\n",
        "\r\n",
        "print('MAIOR ALTURA', maior_altura)\r\n",
        "print('MENOR ALTURA', menor_altura)\r\n",
        "\r\n",
        "if ((maiores_80kg/total_jogadores)*100 > 0):\r\n",
        "    print('Porcentagem de jogadores que possuem mais que 80 kg %',(maiores_80kg/total_jogadores)*100)\r\n",
        "else:\r\n",
        "    print('Não há jogadores maiores que 80 kg para calcular a porcentagem')"
      ],
      "outputs": [],
      "execution_count": null,
      "metadata": {
        "jupyter": {
          "source_hidden": false,
          "outputs_hidden": false
        },
        "nteract": {
          "transient": {
            "deleting": false
          }
        },
        "gather": {
          "logged": 1659486481218
        }
      }
    },
    {
      "cell_type": "markdown",
      "source": [
        "## Exercício 03"
      ],
      "metadata": {
        "nteract": {
          "transient": {
            "deleting": false
          }
        }
      }
    },
    {
      "cell_type": "code",
      "source": [
        "valor_tabuada = int(input('Informe a tabuada que deseja mostrar: '))\r\n",
        "valor_inicio = int(input('Informe o valor inicial: '))\r\n",
        "valor_final = int(input('Informe o valor final: '))\r\n",
        "while(valor_inicio > valor_final):\r\n",
        "    print('O intervalo inicial deve ser MENOR que o FINAL')\r\n",
        "    valor_inicio = int(input('Informe o valor inicial: '))\r\n",
        "    valor_final = int(input('Informe o valor final: '))\r\n"
      ],
      "outputs": [],
      "execution_count": null,
      "metadata": {
        "jupyter": {
          "source_hidden": false,
          "outputs_hidden": false
        },
        "nteract": {
          "transient": {
            "deleting": false
          }
        },
        "gather": {
          "logged": 1659486700176
        }
      }
    },
    {
      "cell_type": "code",
      "source": [
        "for item in range(valor_inicio,valor_final+1):\r\n",
        "    valor = valor_tabuada * item\r\n",
        "    print(valor_tabuada,\" * \",item,\" = \",valor)"
      ],
      "outputs": [],
      "execution_count": null,
      "metadata": {
        "jupyter": {
          "source_hidden": false,
          "outputs_hidden": false
        },
        "nteract": {
          "transient": {
            "deleting": false
          }
        },
        "gather": {
          "logged": 1659486702245
        }
      }
    },
    {
      "cell_type": "markdown",
      "source": [
        "## Exercício 04"
      ],
      "metadata": {
        "nteract": {
          "transient": {
            "deleting": false
          }
        }
      }
    },
    {
      "cell_type": "code",
      "source": [
        "## Obtendo o preço do litro\r\n",
        "preco_litro = input('Informe o preço em R$ do litro: ')\r\n",
        "preco_litro = float(preco_litro)\r\n",
        "\r\n",
        "## Obtendo o valor pago\r\n",
        "valor_pago = float(input('Informe o valor em R$ pago: '))\r\n",
        "\r\n",
        "while((preco_litro <= 0) or (valor_pago <= 0)):\r\n",
        "    print('Inválido: PREÇO ou VALOR PAGO!')\r\n",
        "    preco_litro = float(input('Informe o preço em R$ do litro: '))\r\n",
        "    valor_pago = float(input('Informe o valor em R$ pago: '))\r\n"
      ],
      "outputs": [],
      "execution_count": null,
      "metadata": {
        "jupyter": {
          "source_hidden": false,
          "outputs_hidden": false
        },
        "nteract": {
          "transient": {
            "deleting": false
          }
        },
        "gather": {
          "logged": 1659486975515
        }
      }
    },
    {
      "cell_type": "code",
      "source": [
        "## Cálculo final\r\n",
        "print(\"Valor do pagamento: \",valor_pago)\r\n",
        "print(\"Preço do litro da gasolina \",preco_litro)\r\n",
        "print(\"Quantidade de litros abastecidos: \",preco_litro * valor_pago)"
      ],
      "outputs": [],
      "execution_count": null,
      "metadata": {
        "jupyter": {
          "source_hidden": false,
          "outputs_hidden": false
        },
        "nteract": {
          "transient": {
            "deleting": false
          }
        },
        "gather": {
          "logged": 1659486978919
        }
      }
    },
    {
      "cell_type": "markdown",
      "source": [
        "## Exercício 05"
      ],
      "metadata": {
        "nteract": {
          "transient": {
            "deleting": false
          }
        }
      }
    },
    {
      "cell_type": "markdown",
      "source": [
        "**Exemplo** <br>\r\n",
        "Vamos chamar de a1, a2, a3, ...., os termos da sequência de Fibonacci, eles são o seguinte: <br>\r\n",
        "a1 = 1 <br>\r\n",
        "a2 = 1 <br>\r\n",
        "a3 = a2 + a1 = 1 + 1 = 2 <br>\r\n",
        "a4 = a3 + a2 = 2 + 1 = 3 <br>\r\n",
        "a5 = a4 + a3 = 3 + 2 = 5 <br>\r\n",
        "a6 = a5 + a4 = 5 + 3 = 8 <br>\r\n",
        "a7 = a6 + a5 = 8 + 5 = 13 <br>\r\n",
        "a8 = a7 + a6 = 13 + 8 = 21 <br>\r\n",
        "a9 = a8 + a7 = 21 + 13 = 34 <br>"
      ],
      "metadata": {
        "nteract": {
          "transient": {
            "deleting": false
          }
        }
      }
    },
    {
      "cell_type": "code",
      "source": [
        "valor = int(input(\"Que termo deseja encontrar: \"))\r\n",
        "ultimo = 1\r\n",
        "penultimo = 1\r\n",
        "termo = 1"
      ],
      "outputs": [],
      "execution_count": null,
      "metadata": {
        "jupyter": {
          "source_hidden": false,
          "outputs_hidden": false
        },
        "nteract": {
          "transient": {
            "deleting": false
          }
        },
        "gather": {
          "logged": 1660191505782
        }
      }
    },
    {
      "cell_type": "code",
      "source": [
        "\r\n",
        "# Caso seja os 2 primeiros valores da sequência\r\n",
        "if ((valor==1) or (valor==2)):\r\n",
        "    print(\"1\")\r\n",
        "else:\r\n",
        "    # A sequência começa a partir do 3\r\n",
        "    count = 3\r\n",
        "    while count <= valor:\r\n",
        "        print('CONT ',count,'ÚLTIMO ',ultimo, '+ PENÚLTIMO ',penultimo)\r\n",
        "        termo = ultimo + penultimo\r\n",
        "        penultimo = ultimo\r\n",
        "        ultimo = termo\r\n",
        "        print('TERMO ',termo)\r\n",
        "        print('-----------------------------')\r\n",
        "        count += 1\r\n",
        "    #print(termo)"
      ],
      "outputs": [],
      "execution_count": null,
      "metadata": {
        "jupyter": {
          "source_hidden": false,
          "outputs_hidden": false
        },
        "nteract": {
          "transient": {
            "deleting": false
          }
        },
        "gather": {
          "logged": 1660191507878
        }
      }
    },
    {
      "cell_type": "code",
      "source": [
        "# Gerando até a sequência 500\r\n",
        "count = 3\r\n",
        "ultimo = 1\r\n",
        "penultimo = 1\r\n",
        "termo = 1\r\n",
        "print('CONT ',1,'ÚLTIMO ',1, '+ PENÚLTIMO ',1,'= ',1)\r\n",
        "print('CONT ',2,'ÚLTIMO ',1, '+ PENÚLTIMO ',1,'= ',1)\r\n",
        "print('---------------------------------------------------------')\r\n",
        "\r\n",
        "while termo <= 500:\r\n",
        "    print('CONT ',count,'ÚLTIMO ',ultimo, '+ PENÚLTIMO ',penultimo)\r\n",
        "    termo = ultimo + penultimo\r\n",
        "    penultimo = ultimo\r\n",
        "    ultimo = termo\r\n",
        "    count = count + 1\r\n",
        "    if(termo <= 500):\r\n",
        "        print('TERMO: ',termo)\r\n",
        "    else:\r\n",
        "        break\r\n",
        "    print('---------------------------------------------------------')\r\n"
      ],
      "outputs": [],
      "execution_count": null,
      "metadata": {
        "jupyter": {
          "source_hidden": false,
          "outputs_hidden": false
        },
        "nteract": {
          "transient": {
            "deleting": false
          }
        },
        "gather": {
          "logged": 1660191685972
        }
      }
    },
    {
      "cell_type": "markdown",
      "source": [
        "## Exercício 06"
      ],
      "metadata": {
        "nteract": {
          "transient": {
            "deleting": false
          }
        }
      }
    },
    {
      "cell_type": "code",
      "source": [
        "# Declarações das variáveis\r\n",
        "codItem = 0\r\n",
        "quantidade = 0\r\n",
        "\r\n",
        "quantCachorroQ = 0\r\n",
        "quantBauru = 0\r\n",
        "quantBauruOvo = 0\r\n",
        "quantHamb = 0\r\n",
        "quantCheese = 0\r\n",
        "quantRefri = 0\r\n",
        "\r\n",
        "precoFinal = 0.0\r\n",
        "opcao = ''"
      ],
      "outputs": [],
      "execution_count": null,
      "metadata": {
        "jupyter": {
          "source_hidden": false,
          "outputs_hidden": false
        },
        "nteract": {
          "transient": {
            "deleting": false
          }
        },
        "gather": {
          "logged": 1660192903451
        }
      }
    },
    {
      "cell_type": "code",
      "source": [
        "opcao = input(\"Informe N para encerrar o programa. \")\r\n",
        "while(opcao != 'N'):\r\n",
        "    print(\"Escolha o item: \")\r\n",
        "    print(\"100 - Cachorro Quente\")\r\n",
        "    print(\"101 - Bauru simples\")\r\n",
        "    print(\"102 - Bauru com ovo\")\r\n",
        "    print(\"103 - Hambúrger\")\r\n",
        "    print(\"104 - Cheeseburguer\")\r\n",
        "    print(\"105 - Refrigerante\")\r\n",
        "    codItem = int(input())\r\n",
        "    while(codItem < 100 or codItem > 105): \r\n",
        "        print(\"Código inválido!\")\r\n",
        "        print('Informe novamente: ')\r\n",
        "        codItem = int(input())\r\n",
        "    else:\r\n",
        "        print(\"COD: \",codItem,\" - Informe a quantidade desejada: \")\r\n",
        "        quantidade = int(input(''))\r\n",
        "        while(quantidade <= 0):\r\n",
        "            print('Valor inválido.')\r\n",
        "            print(\"COD: \",codItem,\" - Informe a quantidade desejada: \")\r\n",
        "            quantidade = int(input(''))         \r\n",
        "        # Escolha do item\r\n",
        "        if (codItem == 100):\r\n",
        "            quantCachorroQ = quantCachorroQ + quantidade\r\n",
        "            precoFinal = precoFinal + (quantCachorroQ*1.20)\r\n",
        "        if (codItem == 101):\r\n",
        "            quantBauru = quantBauru + quantidade\r\n",
        "            precoFinal = precoFinal + (quantBauru*1.30)\r\n",
        "        if (codItem == 102):\r\n",
        "            quantBauruOvo = quantBauruOvo + quantidade\r\n",
        "            precoFinal = precoFinal + (quantBauruOvo*1.50)\r\n",
        "        if (codItem == 103):\r\n",
        "            quantHamb = quantHamb + quantidade\r\n",
        "            precoFinal = precoFinal + (quantHamb*1.20)\r\n",
        "        if (codItem == 104):\r\n",
        "            quantCheese = quantCheese + quantidade\r\n",
        "            precoFinal = precoFinal + (quantCheese*1.30)\r\n",
        "        if (codItem == 105):\r\n",
        "            quantRefri = quantRefri + quantidade\r\n",
        "            precoFinal = precoFinal + (quantRefri*1.00) \r\n",
        "        \r\n",
        "        #precoFinal = precoFinal + (quantCachorroQ*1.20) + (quantBauru*1.30) + (quantBauruOvo*1.50) + (quantHamb*1.20) + (quantCheese*1.30) + (quantRefri*1.00) \r\n",
        "\r\n",
        "    opcao = input(\"Informe N para encerrar o programa. \")"
      ],
      "outputs": [],
      "execution_count": null,
      "metadata": {
        "jupyter": {
          "source_hidden": false,
          "outputs_hidden": false
        },
        "nteract": {
          "transient": {
            "deleting": false
          }
        },
        "gather": {
          "logged": 1660192930753
        }
      }
    },
    {
      "cell_type": "code",
      "source": [
        "# Resultados\r\n",
        "print()\r\n",
        "print(\"Conta \")\r\n",
        "print(\"Preco Final: \",precoFinal)"
      ],
      "outputs": [],
      "execution_count": null,
      "metadata": {
        "jupyter": {
          "source_hidden": false,
          "outputs_hidden": false
        },
        "nteract": {
          "transient": {
            "deleting": false
          }
        },
        "gather": {
          "logged": 1660192939605
        }
      }
    },
    {
      "cell_type": "markdown",
      "source": [
        "## Exercício 07"
      ],
      "metadata": {
        "nteract": {
          "transient": {
            "deleting": false
          }
        }
      }
    },
    {
      "cell_type": "code",
      "source": [
        "numero = int(input(\"Informe o número: \"))\r\n",
        "\r\n",
        "cont = 0\r\n",
        "i = 0\r\n",
        "\r\n",
        "while (i <= numero) or (cont < 2):\r\n",
        "    i = i + 1\r\n",
        "    x = numero % i\r\n",
        "    if x == 0:\r\n",
        "        cont = cont + 1\r\n",
        "\r\n",
        "if (cont <= 2):\r\n",
        "    print(\"Primo\")\r\n",
        "else:\r\n",
        "    print(\"Não primo\")"
      ],
      "outputs": [],
      "execution_count": null,
      "metadata": {
        "jupyter": {
          "source_hidden": false,
          "outputs_hidden": false
        },
        "nteract": {
          "transient": {
            "deleting": false
          }
        },
        "gather": {
          "logged": 1660193462916
        }
      }
    },
    {
      "cell_type": "markdown",
      "source": [
        "## Exercício 08"
      ],
      "metadata": {
        "nteract": {
          "transient": {
            "deleting": false
          }
        }
      }
    },
    {
      "cell_type": "code",
      "source": [
        "# Definindo variáveis\r\n",
        "qtde_votos_cand_a = 0\r\n",
        "qtde_votos_cand_b = 0\r\n",
        "qtde_votos_cand_c = 0\r\n",
        "qtde_eleitores = 0"
      ],
      "outputs": [],
      "execution_count": null,
      "metadata": {
        "jupyter": {
          "source_hidden": false,
          "outputs_hidden": false
        },
        "nteract": {
          "transient": {
            "deleting": false
          }
        },
        "gather": {
          "logged": 1660193779257
        }
      }
    },
    {
      "cell_type": "code",
      "source": [
        "# Solicitando a quantidade de eleitores\r\n",
        "qtde_eleitores = input(\"Informe a quantidade de eleitores: \")\r\n",
        "while (qtde_eleitores.isdigit() == False):\r\n",
        "    print('[ERRO] A quantidade de eleitora DEVE ser um número.')\r\n",
        "    qtde_eleitores = input(\"Informe a quantidade de eleitores novamente: \")\r\n",
        "else:\r\n",
        "    qtde_eleitores = int(qtde_eleitores)\r\n",
        "    while (qtde_eleitores <= 0):\r\n",
        "        print('[ERRO] A quantidade de eleitores DEVE ser MAIOR que 0.')\r\n",
        "        qtde_eleitores = int(input(\"Informe a quantidade de eleitores novamente: \"))\r\n"
      ],
      "outputs": [],
      "execution_count": null,
      "metadata": {
        "jupyter": {
          "source_hidden": false,
          "outputs_hidden": false
        },
        "nteract": {
          "transient": {
            "deleting": false
          }
        },
        "gather": {
          "logged": 1660193783686
        }
      }
    },
    {
      "cell_type": "code",
      "source": [
        "# Obtendo os votos\r\n",
        "for eleitor in range(0,qtde_eleitores):\r\n",
        "    print('Eleitor n: ',eleitor+1)\r\n",
        "    print('Escolha seu candidato: A, B, C')\r\n",
        "    voto = input().upper()\r\n",
        "    # Validando se realmente digitou A,B,C\r\n",
        "    while((voto != 'A') and (voto != 'B') and (voto != 'C')):\r\n",
        "        print('[ERRO] Somente existem 3 opções: A, B, C.')\r\n",
        "        print('Escolha seu candidato: A, B, C')\r\n",
        "        voto = input().upper()\r\n",
        "    else:\r\n",
        "        if(voto == 'A'):\r\n",
        "            qtde_votos_cand_a += 1\r\n",
        "        elif (voto == 'B'):\r\n",
        "            qtde_votos_cand_b += 1\r\n",
        "        else:\r\n",
        "            qtde_votos_cand_c += 1\r\n"
      ],
      "outputs": [],
      "execution_count": null,
      "metadata": {
        "jupyter": {
          "source_hidden": false,
          "outputs_hidden": false
        },
        "nteract": {
          "transient": {
            "deleting": false
          }
        },
        "gather": {
          "logged": 1660193795703
        }
      }
    },
    {
      "cell_type": "code",
      "source": [
        "# Resultados\r\n",
        "print('Quantidade de eleitores: ',qtde_eleitores)\r\n",
        "print('O candidato A teve: ',qtde_votos_cand_a)\r\n",
        "print('O candidato B teve: ',qtde_votos_cand_b)\r\n",
        "print('O candidato C teve: ',qtde_votos_cand_c)"
      ],
      "outputs": [],
      "execution_count": null,
      "metadata": {
        "jupyter": {
          "source_hidden": false,
          "outputs_hidden": false
        },
        "nteract": {
          "transient": {
            "deleting": false
          }
        },
        "gather": {
          "logged": 1660193798396
        }
      }
    },
    {
      "cell_type": "markdown",
      "source": [
        "## Exercício 09"
      ],
      "metadata": {
        "nteract": {
          "transient": {
            "deleting": false
          }
        }
      }
    },
    {
      "cell_type": "code",
      "source": [
        "# Definição de variáveis.\r\n",
        "qtde0_25 = 0\r\n",
        "qtde26_50 = 0\r\n",
        "qtde51_75 = 0\r\n",
        "qtde76_100 = 0\r\n",
        "\r\n",
        "qtde_numeros = 0"
      ],
      "outputs": [],
      "execution_count": 186,
      "metadata": {
        "jupyter": {
          "source_hidden": false,
          "outputs_hidden": false
        },
        "nteract": {
          "transient": {
            "deleting": false
          }
        },
        "gather": {
          "logged": 1660194117228
        }
      }
    },
    {
      "cell_type": "code",
      "source": [
        "opcao = int(input(\"Informe um número NEGATIVO para encerrar. \"))\r\n",
        "while(opcao >= 0):\r\n",
        "    print(opcao)\r\n",
        "    # contando números\r\n",
        "    if ((opcao >= 0) and (opcao <= 25)):\r\n",
        "       qtde0_25 = qtde0_25 + 1\r\n",
        "    elif ((opcao > 25) and (opcao <= 50)): \r\n",
        "        qtde26_50 = qtde26_50 + 1\r\n",
        "    elif ((opcao > 50) and (opcao <= 75)): \r\n",
        "        qtde51_75 = qtde51_75 + 1 \r\n",
        "    elif ((opcao > 75) and (opcao <= 100)): \r\n",
        "        qtde76_100 = qtde76_100 + 1    \r\n",
        "    qtde_numeros = qtde_numeros + 1\r\n",
        "    # Número negativo não entra\r\n",
        "    opcao = int(input(\"Informe um número NEGATIVO para encerrar. \"))\r\n"
      ],
      "outputs": [
        {
          "output_type": "stream",
          "name": "stdout",
          "text": "80\n88\n2\n10\n15\n"
        }
      ],
      "execution_count": 187,
      "metadata": {
        "jupyter": {
          "source_hidden": false,
          "outputs_hidden": false
        },
        "nteract": {
          "transient": {
            "deleting": false
          }
        },
        "gather": {
          "logged": 1660194142439
        }
      }
    },
    {
      "cell_type": "code",
      "source": [
        "# Resultados\r\n",
        "print('Quantidade de números ',qtde_numeros)\r\n",
        "print('Quantidade de número 0-25',qtde0_25)\r\n",
        "print('Quantidade de número 26-50',qtde26_50)\r\n",
        "print('Quantidade de número 51-75',qtde51_75)\r\n",
        "print('Quantidade de número 76-100',qtde76_100)\r\n"
      ],
      "outputs": [
        {
          "output_type": "stream",
          "name": "stdout",
          "text": "Quantidade de números  5\nQuantidade de número 0-25 3\nQuantidade de número 26-50 0\nQuantidade de número 51-75 0\nQuantidade de número 76-100 2\n"
        }
      ],
      "execution_count": 188,
      "metadata": {
        "jupyter": {
          "source_hidden": false,
          "outputs_hidden": false
        },
        "nteract": {
          "transient": {
            "deleting": false
          }
        },
        "gather": {
          "logged": 1660194144656
        }
      }
    }
  ],
  "metadata": {
    "kernelspec": {
      "name": "python38-azureml",
      "language": "python",
      "display_name": "Python 3.8 - AzureML"
    },
    "language_info": {
      "name": "python",
      "version": "3.8.5",
      "mimetype": "text/x-python",
      "codemirror_mode": {
        "name": "ipython",
        "version": 3
      },
      "pygments_lexer": "ipython3",
      "nbconvert_exporter": "python",
      "file_extension": ".py"
    },
    "kernel_info": {
      "name": "python38-azureml"
    },
    "nteract": {
      "version": "nteract-front-end@1.0.0"
    },
    "microsoft": {
      "host": {
        "AzureML": {
          "notebookHasBeenCompleted": true
        }
      }
    }
  },
  "nbformat": 4,
  "nbformat_minor": 2
}