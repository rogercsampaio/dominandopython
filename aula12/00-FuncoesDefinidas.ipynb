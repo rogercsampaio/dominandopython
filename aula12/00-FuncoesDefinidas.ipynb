{
  "cells": [
    {
      "cell_type": "markdown",
      "source": [
        "## Capítulo 12 - Funções."
      ],
      "metadata": {}
    },
    {
      "cell_type": "markdown",
      "source": [
        "### Criação, chamada, funções definidas e anônimas, passagem de parâmetros."
      ],
      "metadata": {}
    },
    {
      "cell_type": "markdown",
      "source": [
        "A criação de funções serve para tornar mais fácil a resolução de um problema qualquer que seja ele. Parte do princípio: dividir para conquistar. Elas potencializam a reutilização do código, facilitam a manutenção dele. A todo tempo estamos usando as funções que o Python nos oferecem (chamada de nativas), mas podemos criar nossas próprias funções. "
      ],
      "metadata": {}
    },
    {
      "cell_type": "markdown",
      "source": [
        "#### Funções nativas. Exemplos:"
      ],
      "metadata": {}
    },
    {
      "cell_type": "code",
      "source": [
        "valor = 60\n",
        "# Chamamos de método ou função.\n",
        "print(valor)"
      ],
      "outputs": [],
      "execution_count": null,
      "metadata": {
        "gather": {
          "logged": 1662113372267
        }
      }
    },
    {
      "cell_type": "code",
      "source": [
        "# Exemplos: print(), input() ...\n",
        "notaAluno = input('Digite o valor da nota: ')\n",
        "print(notaAluno)"
      ],
      "outputs": [],
      "execution_count": null,
      "metadata": {
        "gather": {
          "logged": 1662113404069
        }
      }
    },
    {
      "cell_type": "code",
      "source": [
        "# Exemplo: float ()\n",
        "print('Nota convertido em real %f ' % float(notaAluno))"
      ],
      "outputs": [],
      "execution_count": null,
      "metadata": {
        "gather": {
          "logged": 1662113435586
        }
      }
    },
    {
      "cell_type": "code",
      "source": [
        "# Note que uma função sempre tem nome(parâmetros)\n",
        "type(notaAluno)"
      ],
      "outputs": [],
      "execution_count": null,
      "metadata": {
        "gather": {
          "logged": 1662113462343
        }
      }
    },
    {
      "cell_type": "code",
      "source": [
        "help(input)"
      ],
      "outputs": [],
      "execution_count": null,
      "metadata": {
        "jupyter": {
          "source_hidden": false,
          "outputs_hidden": false
        },
        "nteract": {
          "transient": {
            "deleting": false
          }
        },
        "gather": {
          "logged": 1662113536745
        }
      }
    },
    {
      "cell_type": "markdown",
      "source": [
        "#### Conceito de Objetos e Classes.\n",
        "Tudo em Python é um OBJETO e um cada tem: </br>\n",
        "1. Caracteristícas ou estado. Variáveis de instância. </br>\n",
        "2. Ações. Métodos. Funções"
      ],
      "metadata": {}
    },
    {
      "cell_type": "markdown",
      "source": [
        "<img src=\"objetos.fw.png\">"
      ],
      "metadata": {}
    },
    {
      "cell_type": "code",
      "source": [
        "lista = ['O carro','uva']\n",
        "type(lista)"
      ],
      "outputs": [],
      "execution_count": null,
      "metadata": {
        "gather": {
          "logged": 1662113933181
        }
      }
    },
    {
      "cell_type": "code",
      "source": [
        "lista"
      ],
      "outputs": [],
      "execution_count": null,
      "metadata": {
        "jupyter": {
          "source_hidden": false,
          "outputs_hidden": false
        },
        "nteract": {
          "transient": {
            "deleting": false
          }
        },
        "gather": {
          "logged": 1662113943084
        }
      }
    },
    {
      "cell_type": "code",
      "source": [
        "# documentação https://docs.python.org/pt-br/3/tutorial/datastructures.html\n",
        "help(lista)"
      ],
      "outputs": [],
      "execution_count": null,
      "metadata": {
        "gather": {
          "logged": 1662113949416
        }
      }
    },
    {
      "cell_type": "code",
      "source": [
        "lista.append('5045')"
      ],
      "outputs": [],
      "execution_count": null,
      "metadata": {
        "gather": {
          "logged": 1662114050150
        }
      }
    },
    {
      "cell_type": "code",
      "source": [
        "for item in lista:\n",
        "    print(item)"
      ],
      "outputs": [],
      "execution_count": null,
      "metadata": {
        "gather": {
          "logged": 1662114057026
        }
      }
    },
    {
      "cell_type": "code",
      "source": [
        "# Contagem de elementos\n",
        "lista.count('uva2')"
      ],
      "outputs": [],
      "execution_count": null,
      "metadata": {
        "gather": {
          "logged": 1662114257995
        }
      }
    },
    {
      "cell_type": "code",
      "source": [
        "len(lista)"
      ],
      "outputs": [],
      "execution_count": null,
      "metadata": {
        "gather": {
          "logged": 1662114268652
        }
      }
    },
    {
      "cell_type": "code",
      "source": [
        "# Cada objeto não é igual ao outro.\n",
        "# Documentação str https://docs.python.org/pt-br/3/library/string.html?highlight=string#module-string\n",
        "nome = 'Pedro Sampaio'"
      ],
      "outputs": [],
      "execution_count": null,
      "metadata": {
        "gather": {
          "logged": 1662114290195
        }
      }
    },
    {
      "cell_type": "code",
      "source": [
        "type(nome)"
      ],
      "outputs": [],
      "execution_count": null,
      "metadata": {
        "jupyter": {
          "source_hidden": false,
          "outputs_hidden": false
        },
        "nteract": {
          "transient": {
            "deleting": false
          }
        },
        "gather": {
          "logged": 1662114300154
        }
      }
    },
    {
      "cell_type": "code",
      "source": [
        "# Encontrar a posição de um caractere. \n",
        "nome.find('d')"
      ],
      "outputs": [],
      "execution_count": null,
      "metadata": {
        "gather": {
          "logged": 1662114343351
        }
      }
    },
    {
      "cell_type": "markdown",
      "source": [
        "#### Criando as nossas próprias funções: definidas. \n",
        "Devemos usar a palavra reservada 'def'."
      ],
      "metadata": {}
    },
    {
      "cell_type": "code",
      "source": [
        "# Criando a função\n",
        "def somarValores(valor1, valor2):\n",
        "    return valor1+valor2"
      ],
      "outputs": [],
      "execution_count": 24,
      "metadata": {
        "gather": {
          "logged": 1662114955426
        }
      }
    },
    {
      "cell_type": "code",
      "source": [
        "# Chamando a função\n",
        "print(somarValores(10,2))"
      ],
      "outputs": [
        {
          "output_type": "stream",
          "name": "stdout",
          "text": "12\n"
        }
      ],
      "execution_count": 25,
      "metadata": {
        "gather": {
          "logged": 1662114999157
        }
      }
    },
    {
      "cell_type": "code",
      "source": [
        "# Chamando a função\r\n",
        "print(somarValores(10,5))"
      ],
      "outputs": [
        {
          "output_type": "stream",
          "name": "stdout",
          "text": "15\n"
        }
      ],
      "execution_count": 26,
      "metadata": {
        "jupyter": {
          "source_hidden": false,
          "outputs_hidden": false
        },
        "nteract": {
          "transient": {
            "deleting": false
          }
        },
        "gather": {
          "logged": 1662115014135
        }
      }
    },
    {
      "cell_type": "code",
      "source": [
        "# Verificando o tipo.\n",
        "type(somarValores)"
      ],
      "outputs": [
        {
          "output_type": "execute_result",
          "execution_count": 27,
          "data": {
            "text/plain": "function"
          },
          "metadata": {}
        }
      ],
      "execution_count": 27,
      "metadata": {
        "gather": {
          "logged": 1662115020719
        }
      }
    },
    {
      "cell_type": "code",
      "source": [
        "print(somarValores(10))"
      ],
      "outputs": [
        {
          "output_type": "error",
          "ename": "TypeError",
          "evalue": "somarValores() missing 1 required positional argument: 'valor2'",
          "traceback": [
            "\u001b[0;31m---------------------------------------------------------------------------\u001b[0m",
            "\u001b[0;31mTypeError\u001b[0m                                 Traceback (most recent call last)",
            "Input \u001b[0;32mIn [28]\u001b[0m, in \u001b[0;36m<cell line: 1>\u001b[0;34m()\u001b[0m\n\u001b[0;32m----> 1\u001b[0m \u001b[38;5;28mprint\u001b[39m(\u001b[43msomarValores\u001b[49m\u001b[43m(\u001b[49m\u001b[38;5;241;43m10\u001b[39;49m\u001b[43m)\u001b[49m)\n",
            "\u001b[0;31mTypeError\u001b[0m: somarValores() missing 1 required positional argument: 'valor2'"
          ]
        }
      ],
      "execution_count": 28,
      "metadata": {
        "gather": {
          "logged": 1662115042729
        }
      }
    },
    {
      "cell_type": "markdown",
      "source": [
        "Definindo um parâmetro com valor padrão. Caso não seja nada passado,  valor padrão será utilizado."
      ],
      "metadata": {}
    },
    {
      "cell_type": "code",
      "source": [
        "def multiplicaValores(valor1, valor2 = 0):\n",
        "    return valor1 * valor2"
      ],
      "outputs": [],
      "execution_count": 29,
      "metadata": {
        "gather": {
          "logged": 1662115132761
        }
      }
    },
    {
      "cell_type": "code",
      "source": [
        "multiplicaValores(10,5)"
      ],
      "outputs": [
        {
          "output_type": "execute_result",
          "execution_count": 30,
          "data": {
            "text/plain": "50"
          },
          "metadata": {}
        }
      ],
      "execution_count": 30,
      "metadata": {
        "gather": {
          "logged": 1662115140209
        }
      }
    },
    {
      "cell_type": "code",
      "source": [
        "multiplicaValores(10)"
      ],
      "outputs": [
        {
          "output_type": "execute_result",
          "execution_count": 31,
          "data": {
            "text/plain": "0"
          },
          "metadata": {}
        }
      ],
      "execution_count": 31,
      "metadata": {
        "gather": {
          "logged": 1662115158325
        }
      }
    },
    {
      "cell_type": "code",
      "source": [
        "def divideValores(valor1 = 1, valor2 = 1):\n",
        "    return valor1 / valor2"
      ],
      "outputs": [],
      "execution_count": 32,
      "metadata": {
        "gather": {
          "logged": 1662115179786
        }
      }
    },
    {
      "cell_type": "code",
      "source": [
        "divideValores(10,3)"
      ],
      "outputs": [
        {
          "output_type": "execute_result",
          "execution_count": 33,
          "data": {
            "text/plain": "3.3333333333333335"
          },
          "metadata": {}
        }
      ],
      "execution_count": 33,
      "metadata": {
        "gather": {
          "logged": 1662115184632
        }
      }
    },
    {
      "cell_type": "code",
      "source": [
        "divideValores(10)"
      ],
      "outputs": [
        {
          "output_type": "execute_result",
          "execution_count": 34,
          "data": {
            "text/plain": "10.0"
          },
          "metadata": {}
        }
      ],
      "execution_count": 34,
      "metadata": {
        "gather": {
          "logged": 1662115200394
        }
      }
    },
    {
      "cell_type": "code",
      "source": [
        "divideValores(3)"
      ],
      "outputs": [
        {
          "output_type": "execute_result",
          "execution_count": 35,
          "data": {
            "text/plain": "3.0"
          },
          "metadata": {}
        }
      ],
      "execution_count": 35,
      "metadata": {
        "gather": {
          "logged": 1662115206413
        }
      }
    },
    {
      "cell_type": "code",
      "source": [
        "divideValores()"
      ],
      "outputs": [
        {
          "output_type": "execute_result",
          "execution_count": 36,
          "data": {
            "text/plain": "1.0"
          },
          "metadata": {}
        }
      ],
      "execution_count": 36,
      "metadata": {
        "gather": {
          "logged": 1662115229658
        }
      }
    },
    {
      "cell_type": "code",
      "source": [
        "def concatenaNome(primeiroNome, segundoNome = '? Desconhecido'):\n",
        "    return primeiroNome + segundoNome"
      ],
      "outputs": [],
      "execution_count": 37,
      "metadata": {
        "gather": {
          "logged": 1662115266249
        }
      }
    },
    {
      "cell_type": "code",
      "source": [
        "concatenaNome('Carlos',' Silva')"
      ],
      "outputs": [
        {
          "output_type": "execute_result",
          "execution_count": 38,
          "data": {
            "text/plain": "'Carlos Silva'"
          },
          "metadata": {}
        }
      ],
      "execution_count": 38,
      "metadata": {
        "gather": {
          "logged": 1662115274511
        }
      }
    },
    {
      "cell_type": "code",
      "source": [
        "concatenaNome('Carlos')"
      ],
      "outputs": [
        {
          "output_type": "execute_result",
          "execution_count": 39,
          "data": {
            "text/plain": "'Carlos? Desconhecido'"
          },
          "metadata": {}
        }
      ],
      "execution_count": 39,
      "metadata": {
        "gather": {
          "logged": 1662115283646
        }
      }
    },
    {
      "cell_type": "markdown",
      "source": [
        "Escopo local. Tudo que é criado dentro da função, tem o escopo local (somente existe quando a função estiver em execução). Depois que a função for encerrada, tudo nela também é destruído."
      ],
      "metadata": {}
    },
    {
      "cell_type": "code",
      "source": [
        "# Tentando acessar essa variável dentro da função\n",
        "print(primeiroNome)"
      ],
      "outputs": [
        {
          "output_type": "error",
          "ename": "NameError",
          "evalue": "name 'primeiroNome' is not defined",
          "traceback": [
            "\u001b[0;31m---------------------------------------------------------------------------\u001b[0m",
            "\u001b[0;31mNameError\u001b[0m                                 Traceback (most recent call last)",
            "Input \u001b[0;32mIn [40]\u001b[0m, in \u001b[0;36m<cell line: 2>\u001b[0;34m()\u001b[0m\n\u001b[1;32m      1\u001b[0m \u001b[38;5;66;03m# Tentando acessar essa variável dentro da função\u001b[39;00m\n\u001b[0;32m----> 2\u001b[0m \u001b[38;5;28mprint\u001b[39m(\u001b[43mprimeiroNome\u001b[49m)\n",
            "\u001b[0;31mNameError\u001b[0m: name 'primeiroNome' is not defined"
          ]
        }
      ],
      "execution_count": 40,
      "metadata": {
        "gather": {
          "logged": 1662115667286
        }
      }
    },
    {
      "cell_type": "code",
      "source": [
        "valor1 = 10\n",
        "valor2 = 70"
      ],
      "outputs": [],
      "execution_count": 45,
      "metadata": {
        "gather": {
          "logged": 1662115867625
        }
      }
    },
    {
      "cell_type": "code",
      "source": [
        "def somarNumeros (valor1,valor2):\n",
        "    print('Acessando o valor 1 dentro da função %d' % valor1)\n",
        "    print('Acessando o valor 2 dentro da função %d' % valor2)\n",
        "    # A função pode ou não retornar algo.\n",
        "    return valor1 + valor2"
      ],
      "outputs": [],
      "execution_count": 46,
      "metadata": {
        "gather": {
          "logged": 1662115869738
        }
      }
    },
    {
      "cell_type": "code",
      "source": [
        "somarNumeros(valor1,valor2)"
      ],
      "outputs": [
        {
          "output_type": "stream",
          "name": "stdout",
          "text": "Acessando o valor 1 dentro da função 10\nAcessando o valor 2 dentro da função 70\n"
        },
        {
          "output_type": "execute_result",
          "execution_count": 47,
          "data": {
            "text/plain": "80"
          },
          "metadata": {}
        }
      ],
      "execution_count": 47,
      "metadata": {
        "gather": {
          "logged": 1662115871366
        }
      }
    },
    {
      "cell_type": "code",
      "source": [
        "# Função chamando função"
      ],
      "outputs": [],
      "execution_count": null,
      "metadata": {}
    },
    {
      "cell_type": "code",
      "source": [
        "print(float(input('Digite um valor: ')))"
      ],
      "outputs": [
        {
          "output_type": "stream",
          "name": "stdout",
          "text": "5.2\n"
        }
      ],
      "execution_count": 48,
      "metadata": {
        "gather": {
          "logged": 1662115905730
        }
      }
    }
  ],
  "metadata": {
    "kernelspec": {
      "name": "python3",
      "language": "python",
      "display_name": "Python 3 (ipykernel)"
    },
    "language_info": {
      "name": "python",
      "version": "3.8.5",
      "mimetype": "text/x-python",
      "codemirror_mode": {
        "name": "ipython",
        "version": 3
      },
      "pygments_lexer": "ipython3",
      "nbconvert_exporter": "python",
      "file_extension": ".py"
    },
    "kernel_info": {
      "name": "python3"
    },
    "microsoft": {
      "host": {
        "AzureML": {
          "notebookHasBeenCompleted": true
        }
      }
    },
    "nteract": {
      "version": "nteract-front-end@1.0.0"
    }
  },
  "nbformat": 4,
  "nbformat_minor": 2
}