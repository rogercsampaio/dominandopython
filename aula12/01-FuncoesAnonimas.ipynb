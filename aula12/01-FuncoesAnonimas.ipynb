{
  "cells": [
    {
      "cell_type": "markdown",
      "source": [
        "## Capítulo 12 - Funções Anônimas"
      ],
      "metadata": {}
    },
    {
      "cell_type": "markdown",
      "source": [
        "### Criação, chamada, funções definidas e anônimas, passagem de parâmetros."
      ],
      "metadata": {}
    },
    {
      "cell_type": "markdown",
      "source": [
        "As funções anônimas são aqueles que não possuem nome. São identificadas pela palavra 'lambda' e possuem a sintaxe mais simples do que as definidas. Veja:"
      ],
      "metadata": {}
    },
    {
      "cell_type": "code",
      "source": [
        "def somarValores(v1,v2):\n",
        "    return v1 + v2"
      ],
      "outputs": [],
      "execution_count": 1,
      "metadata": {
        "gather": {
          "logged": 1662116124576
        }
      }
    },
    {
      "cell_type": "code",
      "source": [
        "type(somarValores)"
      ],
      "outputs": [
        {
          "output_type": "execute_result",
          "execution_count": 2,
          "data": {
            "text/plain": "function"
          },
          "metadata": {}
        }
      ],
      "execution_count": 2,
      "metadata": {
        "gather": {
          "logged": 1662116126652
        }
      }
    },
    {
      "cell_type": "code",
      "source": [
        "type(somarValores(50,31))"
      ],
      "outputs": [
        {
          "output_type": "execute_result",
          "execution_count": 3,
          "data": {
            "text/plain": "int"
          },
          "metadata": {}
        }
      ],
      "execution_count": 3,
      "metadata": {
        "gather": {
          "logged": 1662116132976
        }
      }
    },
    {
      "cell_type": "code",
      "source": [
        "somarValores(50,60)"
      ],
      "outputs": [
        {
          "output_type": "execute_result",
          "execution_count": 4,
          "data": {
            "text/plain": "110"
          },
          "metadata": {}
        }
      ],
      "execution_count": 4,
      "metadata": {
        "gather": {
          "logged": 1662116141005
        }
      }
    },
    {
      "cell_type": "code",
      "source": [
        "# Note que não tem nome e a palavra return.\n",
        "somarValores2 = lambda v1,v2: v1+v2"
      ],
      "outputs": [],
      "execution_count": 5,
      "metadata": {
        "gather": {
          "logged": 1662116209051
        }
      }
    },
    {
      "cell_type": "code",
      "source": [
        "type(somarValores2)"
      ],
      "outputs": [
        {
          "output_type": "execute_result",
          "execution_count": 6,
          "data": {
            "text/plain": "function"
          },
          "metadata": {}
        }
      ],
      "execution_count": 6,
      "metadata": {
        "gather": {
          "logged": 1662116218769
        }
      }
    },
    {
      "cell_type": "code",
      "source": [
        "somarValores2(52,2)"
      ],
      "outputs": [
        {
          "output_type": "execute_result",
          "execution_count": 7,
          "data": {
            "text/plain": "54"
          },
          "metadata": {}
        }
      ],
      "execution_count": 7,
      "metadata": {
        "gather": {
          "logged": 1662116227596
        }
      }
    },
    {
      "cell_type": "code",
      "source": [
        "ola = lambda: print('Olá mundo')"
      ],
      "outputs": [],
      "execution_count": 8,
      "metadata": {
        "gather": {
          "logged": 1662116263858
        }
      }
    },
    {
      "cell_type": "code",
      "source": [
        "type(ola)"
      ],
      "outputs": [
        {
          "output_type": "execute_result",
          "execution_count": 9,
          "data": {
            "text/plain": "function"
          },
          "metadata": {}
        }
      ],
      "execution_count": 9,
      "metadata": {
        "gather": {
          "logged": 1662116267467
        }
      }
    },
    {
      "cell_type": "code",
      "source": [
        "ola() # -> Olá mundo "
      ],
      "outputs": [
        {
          "output_type": "stream",
          "name": "stdout",
          "text": "Olá mundo\n"
        }
      ],
      "execution_count": 10,
      "metadata": {
        "gather": {
          "logged": 1662116275428
        }
      }
    },
    {
      "cell_type": "code",
      "source": [
        "# Exemplo de utilização. \n",
        "numeros = [0,2,3,4,5,7]\n",
        "pares = filter(lambda valor: valor % 2 == 0, numeros)\n",
        "\n",
        "for par in pares:\n",
        "    print(par)"
      ],
      "outputs": [
        {
          "output_type": "stream",
          "name": "stdout",
          "text": "0\n2\n4\n"
        }
      ],
      "execution_count": 11,
      "metadata": {
        "gather": {
          "logged": 1662116347442
        }
      }
    },
    {
      "cell_type": "code",
      "source": [],
      "outputs": [],
      "execution_count": null,
      "metadata": {}
    }
  ],
  "metadata": {
    "kernelspec": {
      "display_name": "Python 3",
      "language": "python",
      "name": "python3"
    },
    "language_info": {
      "name": "python",
      "version": "3.8.5",
      "mimetype": "text/x-python",
      "codemirror_mode": {
        "name": "ipython",
        "version": 3
      },
      "pygments_lexer": "ipython3",
      "nbconvert_exporter": "python",
      "file_extension": ".py"
    },
    "nteract": {
      "version": "nteract-front-end@1.0.0"
    }
  },
  "nbformat": 4,
  "nbformat_minor": 2
}