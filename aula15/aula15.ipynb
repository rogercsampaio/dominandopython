{
  "cells": [
    {
      "cell_type": "markdown",
      "source": [
        "## Aula 15 - Listas, Tuplas, Dicionários parte 2-2\r\n",
        "Correção de Exercícios da Aula 14"
      ],
      "metadata": {
        "nteract": {
          "transient": {
            "deleting": false
          }
        }
      }
    },
    {
      "cell_type": "markdown",
      "source": [
        "## Exercício 1"
      ],
      "metadata": {
        "nteract": {
          "transient": {
            "deleting": false
          }
        }
      }
    },
    {
      "cell_type": "code",
      "source": [
        "# Validando os valores\r\n",
        "def validar_opcao(minimo,maximo,msg_erro,opcao):\r\n",
        "    opcao = int(opcao)\r\n",
        "    while((opcao < minimo) or (opcao > maximo)):\r\n",
        "        print(msg_erro)\r\n",
        "        opcao = input('')\r\n",
        "        opcao = int(opcao)\r\n",
        "    return str(opcao)"
      ],
      "outputs": [],
      "execution_count": null,
      "metadata": {
        "jupyter": {
          "source_hidden": false,
          "outputs_hidden": false
        },
        "nteract": {
          "transient": {
            "deleting": false
          }
        },
        "gather": {
          "logged": 1663821438882
        }
      }
    },
    {
      "cell_type": "code",
      "source": [
        "# Captura dos valores\r\n",
        "lista_programas = {'1':['Windows Server',0],'2':['Unix',0],'3':['Linux',0],'4':['Netware',0],'5':['MAC OS',0],'6':['Outro',0]}\r\n",
        "total = 0\r\n",
        "opcao = 'p'\r\n",
        "while(opcao != '0'):\r\n",
        "    print('Qual o melhor Sistema Operacional para uso em servidores? ')\r\n",
        "    print('1 - Windows Server')\r\n",
        "    print('2 - Unix')\r\n",
        "    print('3 - Linux')\r\n",
        "    print('4 - Netware')\r\n",
        "    print('5 - MAC OS')\r\n",
        "    print('6 - Outro')\r\n",
        "    print('')\r\n",
        "    print('0 - Encerrar o programa.')\r\n",
        "    opcao = input('')\r\n",
        "    opcao = validar_opcao(0,6,'Opção inválida!',opcao)\r\n",
        "    if(opcao == '1'):\r\n",
        "        valor_interno = lista_programas['1'][1]\r\n",
        "        lista_programas.update({'1':[lista_programas['1'][0]\r\n",
        "        ,valor_interno+1]})\r\n",
        "    if(opcao == '2'):\r\n",
        "        valor_interno = lista_programas['2'][1]\r\n",
        "        lista_programas.update({'2':[lista_programas['2'][0]\r\n",
        "        ,valor_interno+1]})    \r\n",
        "    if(opcao == '3'):\r\n",
        "        valor_interno = lista_programas['3'][1]\r\n",
        "        lista_programas.update({'3':[lista_programas['3'][0]\r\n",
        "        ,valor_interno+1]})  \r\n",
        "    if(opcao == '4'):\r\n",
        "        valor_interno = lista_programas['4'][1]\r\n",
        "        lista_programas.update({'4':[lista_programas['4'][0]\r\n",
        "        ,valor_interno+1]})  \r\n",
        "    if(opcao == '5'):\r\n",
        "        valor_interno = lista_programas['5'][1]\r\n",
        "        lista_programas.update({'5':[lista_programas['5'][0]\r\n",
        "        ,valor_interno+1]})     \r\n",
        "    if(opcao == '6'):\r\n",
        "        valor_interno = lista_programas['6'][1]\r\n",
        "        lista_programas.update({'6':[lista_programas['6'][0]\r\n",
        "        ,valor_interno+1]}) \r\n",
        "    if (opcao != '0'): \r\n",
        "        total = total + 1  \r\n"
      ],
      "outputs": [],
      "execution_count": null,
      "metadata": {
        "jupyter": {
          "source_hidden": false,
          "outputs_hidden": false
        },
        "nteract": {
          "transient": {
            "deleting": false
          }
        },
        "gather": {
          "logged": 1663821466425
        }
      }
    },
    {
      "cell_type": "code",
      "source": [
        "## Relatório\r\n",
        "print('Qtde de votos total: ',total)\r\n",
        "print('Sistema Operacional -- VOTOS -- %')\r\n",
        "for chave,valor in lista_programas.items():\r\n",
        "    # Nome, quantidade de votos, percentual\r\n",
        "    if(total != 0):\r\n",
        "        print(valor[0],' ',valor[1],' ',(valor[1]/total) * 100)\r\n",
        "    else:\r\n",
        "        print('Não existem votos para gerar o relatório')\r\n",
        "        break"
      ],
      "outputs": [],
      "execution_count": null,
      "metadata": {
        "jupyter": {
          "source_hidden": false,
          "outputs_hidden": false
        },
        "nteract": {
          "transient": {
            "deleting": false
          }
        },
        "gather": {
          "logged": 1663821466804
        }
      }
    },
    {
      "cell_type": "markdown",
      "source": [
        "## Exercício 2"
      ],
      "metadata": {
        "nteract": {
          "transient": {
            "deleting": false
          }
        }
      }
    },
    {
      "cell_type": "code",
      "source": [
        "# Obtenção dos dados\r\n",
        "lista_carros = []\r\n",
        "lista_kms = []\r\n",
        "for item in range(0,5):\r\n",
        "    print('ITEM : ',item+1)\r\n",
        "    lista_carros.append(input(\"Informe o nome do carro: \"))\r\n",
        "    lista_kms.append(float(input(\"Informe a Km do carro: \")))\r\n",
        "preco_gasolina = float(input(\"Informe o preço da gasolina por litro: \"))"
      ],
      "outputs": [
        {
          "output_type": "stream",
          "name": "stdout",
          "text": "ITEM :  1\nITEM :  2\nITEM :  3\nITEM :  4\nITEM :  5\n"
        }
      ],
      "execution_count": 12,
      "metadata": {
        "jupyter": {
          "source_hidden": false,
          "outputs_hidden": false
        },
        "nteract": {
          "transient": {
            "deleting": false
          }
        },
        "gather": {
          "logged": 1663822047924
        }
      }
    },
    {
      "cell_type": "code",
      "source": [
        "## Relatório\r\n",
        "lista_precos = []\r\n",
        "print('Preço da gasolina ',preco_gasolina)\r\n",
        "print('-------------------------------------------------------------------')\r\n",
        "for item in range(0,5):\r\n",
        "    print('Nome ', lista_carros[item])\r\n",
        "    print('Km por litro ', lista_kms[item])\r\n",
        "    calculo_km_1000 = 1000/lista_kms[item]\r\n",
        "    print('Cálculo para 1000km ',calculo_km_1000)\r\n",
        "    print('Preço km ',calculo_km_1000,': R$ ',calculo_km_1000*preco_gasolina)\r\n",
        "    lista_precos.append(calculo_km_1000*preco_gasolina)\r\n",
        "    print('-------------------------------------------------------------------')"
      ],
      "outputs": [
        {
          "output_type": "stream",
          "name": "stdout",
          "text": "Preço da gasolina  5.0\n-------------------------------------------------------------------\nNome  FUSCA\nKm por litro  7.0\nCálculo para 1000km  142.85714285714286\nPreço km  142.85714285714286 : R$  714.2857142857143\n-------------------------------------------------------------------\nNome  GOL\nKm por litro  10.0\nCálculo para 1000km  100.0\nPreço km  100.0 : R$  500.0\n-------------------------------------------------------------------\nNome  BMW\nKm por litro  2.0\nCálculo para 1000km  500.0\nPreço km  500.0 : R$  2500.0\n-------------------------------------------------------------------\nNome  FERRARI\nKm por litro  1.0\nCálculo para 1000km  1000.0\nPreço km  1000.0 : R$  5000.0\n-------------------------------------------------------------------\nNome  X\nKm por litro  4.0\nCálculo para 1000km  250.0\nPreço km  250.0 : R$  1250.0\n-------------------------------------------------------------------\n"
        }
      ],
      "execution_count": 15,
      "metadata": {
        "jupyter": {
          "source_hidden": false,
          "outputs_hidden": false
        },
        "nteract": {
          "transient": {
            "deleting": false
          }
        },
        "gather": {
          "logged": 1663822130892
        }
      }
    },
    {
      "cell_type": "code",
      "source": [
        "# Extraindo o mais econômico\r\n",
        "min(lista_precos)"
      ],
      "outputs": [
        {
          "output_type": "execute_result",
          "execution_count": 16,
          "data": {
            "text/plain": "500.0"
          },
          "metadata": {}
        }
      ],
      "execution_count": 16,
      "metadata": {
        "jupyter": {
          "source_hidden": false,
          "outputs_hidden": false
        },
        "nteract": {
          "transient": {
            "deleting": false
          }
        },
        "gather": {
          "logged": 1663822144687
        }
      }
    },
    {
      "cell_type": "markdown",
      "source": [
        "### Exercício 3"
      ],
      "metadata": {
        "nteract": {
          "transient": {
            "deleting": false
          }
        }
      }
    },
    {
      "cell_type": "code",
      "source": [
        "# Obtendo as notas\r\n",
        "lista_notas = []\r\n",
        "for item in range(0,4):\r\n",
        "    print('NOTA: ',item+1)\r\n",
        "    nota = float(input(\"Informe uma nota 0-10: \"))\r\n",
        "    lista_notas.append(nota)"
      ],
      "outputs": [
        {
          "output_type": "stream",
          "name": "stdout",
          "text": "NOTA:  1\nNOTA:  2\nNOTA:  3\nNOTA:  4\n"
        }
      ],
      "execution_count": 17,
      "metadata": {
        "jupyter": {
          "source_hidden": false,
          "outputs_hidden": false
        },
        "nteract": {
          "transient": {
            "deleting": false
          }
        },
        "gather": {
          "logged": 1663822371015
        }
      }
    },
    {
      "cell_type": "code",
      "source": [
        "## Cálculos\r\n",
        "for nota in lista_notas:\r\n",
        "    print('Nota: ',nota)\r\n",
        "print('Média de notas: ',sum(lista_notas)/len(lista_notas))\r\n",
        "print('Nota mínima: ',min(lista_notas))\r\n",
        "print('Nota máxima: ',max(lista_notas))"
      ],
      "outputs": [
        {
          "output_type": "stream",
          "name": "stdout",
          "text": "Nota:  8.0\nNota:  2.0\nNota:  0.0\nNota:  1.0\nMédia de notas:  2.75\nNota mínima:  0.0\nNota máxima:  8.0\n"
        }
      ],
      "execution_count": 18,
      "metadata": {
        "jupyter": {
          "source_hidden": false,
          "outputs_hidden": false
        },
        "nteract": {
          "transient": {
            "deleting": false
          }
        },
        "gather": {
          "logged": 1663822372901
        }
      }
    }
  ],
  "metadata": {
    "kernelspec": {
      "name": "python38-azureml",
      "language": "python",
      "display_name": "Python 3.8 - AzureML"
    },
    "language_info": {
      "name": "python",
      "version": "3.8.5",
      "mimetype": "text/x-python",
      "codemirror_mode": {
        "name": "ipython",
        "version": 3
      },
      "pygments_lexer": "ipython3",
      "nbconvert_exporter": "python",
      "file_extension": ".py"
    },
    "kernel_info": {
      "name": "python38-azureml"
    },
    "nteract": {
      "version": "nteract-front-end@1.0.0"
    },
    "microsoft": {
      "host": {
        "AzureML": {
          "notebookHasBeenCompleted": true
        }
      }
    }
  },
  "nbformat": 4,
  "nbformat_minor": 2
}