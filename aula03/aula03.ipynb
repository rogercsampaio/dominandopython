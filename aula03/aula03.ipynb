{
  "cells": [
    {
      "cell_type": "markdown",
      "source": [
        "## Curso Dominando Python - Correção de Exercícios da Aula 02"
      ],
      "metadata": {}
    },
    {
      "cell_type": "markdown",
      "source": [
        "### Exercício 1"
      ],
      "metadata": {}
    },
    {
      "cell_type": "markdown",
      "source": [
        "Objetivo: Calcular a média de alunos em uma escola <p>\n",
        "Entrada: 3 notas <p>\n",
        "Saída: Média Aritmética"
      ],
      "metadata": {}
    },
    {
      "cell_type": "code",
      "source": [
        "nota1 = float(input(\"Informe a nota 1: \"))"
      ],
      "outputs": [],
      "execution_count": 1,
      "metadata": {
        "gather": {
          "logged": 1654644581723
        }
      }
    },
    {
      "cell_type": "code",
      "source": [
        "nota1"
      ],
      "outputs": [
        {
          "output_type": "execute_result",
          "execution_count": 2,
          "data": {
            "text/plain": "6.0"
          },
          "metadata": {}
        }
      ],
      "execution_count": 2,
      "metadata": {
        "jupyter": {
          "source_hidden": false,
          "outputs_hidden": false
        },
        "nteract": {
          "transient": {
            "deleting": false
          }
        },
        "gather": {
          "logged": 1654644595932
        }
      }
    },
    {
      "cell_type": "code",
      "source": [
        "print(nota1)"
      ],
      "outputs": [
        {
          "output_type": "stream",
          "name": "stdout",
          "text": "6.0\n"
        }
      ],
      "execution_count": 3,
      "metadata": {
        "jupyter": {
          "source_hidden": false,
          "outputs_hidden": false
        },
        "nteract": {
          "transient": {
            "deleting": false
          }
        },
        "gather": {
          "logged": 1654644606014
        }
      }
    },
    {
      "cell_type": "code",
      "source": [
        "type(nota1)"
      ],
      "outputs": [
        {
          "output_type": "execute_result",
          "execution_count": 4,
          "data": {
            "text/plain": "float"
          },
          "metadata": {}
        }
      ],
      "execution_count": 4,
      "metadata": {
        "jupyter": {
          "source_hidden": false,
          "outputs_hidden": false
        },
        "nteract": {
          "transient": {
            "deleting": false
          }
        },
        "gather": {
          "logged": 1654644616050
        }
      }
    },
    {
      "cell_type": "code",
      "source": [
        "nota2 = float(input(\"Informe a nota 2: \"))"
      ],
      "outputs": [],
      "execution_count": 5,
      "metadata": {
        "gather": {
          "logged": 1654644645227
        }
      }
    },
    {
      "cell_type": "code",
      "source": [
        "nota2"
      ],
      "outputs": [
        {
          "output_type": "execute_result",
          "execution_count": 6,
          "data": {
            "text/plain": "7.0"
          },
          "metadata": {}
        }
      ],
      "execution_count": 6,
      "metadata": {
        "jupyter": {
          "source_hidden": false,
          "outputs_hidden": false
        },
        "nteract": {
          "transient": {
            "deleting": false
          }
        },
        "gather": {
          "logged": 1654644654763
        }
      }
    },
    {
      "cell_type": "code",
      "source": [
        "nota3 = float(input(\"Informe a nota 3: \"))"
      ],
      "outputs": [],
      "execution_count": 7,
      "metadata": {
        "gather": {
          "logged": 1654644662234
        }
      }
    },
    {
      "cell_type": "code",
      "source": [
        "nota3"
      ],
      "outputs": [
        {
          "output_type": "execute_result",
          "execution_count": 8,
          "data": {
            "text/plain": "10.0"
          },
          "metadata": {}
        }
      ],
      "execution_count": 8,
      "metadata": {
        "jupyter": {
          "source_hidden": false,
          "outputs_hidden": false
        },
        "nteract": {
          "transient": {
            "deleting": false
          }
        },
        "gather": {
          "logged": 1654644681062
        }
      }
    },
    {
      "cell_type": "code",
      "source": [
        "media = (nota1 + nota2 + nota3)/3"
      ],
      "outputs": [],
      "execution_count": 9,
      "metadata": {
        "gather": {
          "logged": 1654644725631
        }
      }
    },
    {
      "cell_type": "code",
      "source": [
        "print(\"A nota final foi de: \",media)"
      ],
      "outputs": [
        {
          "output_type": "stream",
          "name": "stdout",
          "text": "A nota final foi de:  7.666666666666667\n"
        }
      ],
      "execution_count": 10,
      "metadata": {
        "gather": {
          "logged": 1654644730064
        }
      }
    },
    {
      "cell_type": "code",
      "source": [
        "type(media)"
      ],
      "outputs": [
        {
          "output_type": "execute_result",
          "execution_count": 11,
          "data": {
            "text/plain": "float"
          },
          "metadata": {}
        }
      ],
      "execution_count": 11,
      "metadata": {
        "jupyter": {
          "source_hidden": false,
          "outputs_hidden": false
        },
        "nteract": {
          "transient": {
            "deleting": false
          }
        },
        "gather": {
          "logged": 1654644771937
        }
      }
    },
    {
      "cell_type": "markdown",
      "source": [
        "### Exercício 2"
      ],
      "metadata": {}
    },
    {
      "cell_type": "markdown",
      "source": [
        "Objetivo: Calcular o antecessor e sucessor de um número qualquer <p>\n",
        "Entrada: 1 número <p>\n",
        "Saída: Antecessor e sucessor"
      ],
      "metadata": {}
    },
    {
      "cell_type": "code",
      "source": [
        "num = float(input(\"Informe o número: \"))"
      ],
      "outputs": [],
      "execution_count": 12,
      "metadata": {
        "gather": {
          "logged": 1654645858099
        }
      }
    },
    {
      "cell_type": "code",
      "source": [
        "antecessor = num - 1"
      ],
      "outputs": [],
      "execution_count": 13,
      "metadata": {
        "gather": {
          "logged": 1654645870875
        }
      }
    },
    {
      "cell_type": "code",
      "source": [
        "antecessor"
      ],
      "outputs": [
        {
          "output_type": "execute_result",
          "execution_count": 14,
          "data": {
            "text/plain": "59.0"
          },
          "metadata": {}
        }
      ],
      "execution_count": 14,
      "metadata": {
        "jupyter": {
          "source_hidden": false,
          "outputs_hidden": false
        },
        "nteract": {
          "transient": {
            "deleting": false
          }
        },
        "gather": {
          "logged": 1654645878454
        }
      }
    },
    {
      "cell_type": "code",
      "source": [
        "sucessor = num + 1"
      ],
      "outputs": [],
      "execution_count": 15,
      "metadata": {
        "gather": {
          "logged": 1654645884856
        }
      }
    },
    {
      "cell_type": "code",
      "source": [
        "print(sucessor)"
      ],
      "outputs": [
        {
          "output_type": "stream",
          "name": "stdout",
          "text": "61.0\n"
        }
      ],
      "execution_count": 16,
      "metadata": {
        "jupyter": {
          "source_hidden": false,
          "outputs_hidden": false
        },
        "nteract": {
          "transient": {
            "deleting": false
          }
        },
        "gather": {
          "logged": 1654645897410
        }
      }
    },
    {
      "cell_type": "code",
      "source": [
        "# Solução criando variáveis\n",
        "print(\"Número: \",num)\n",
        "print(\"Antecessor: \",antecessor)\n",
        "print(\"Sucessor: \",sucessor)"
      ],
      "outputs": [
        {
          "output_type": "stream",
          "name": "stdout",
          "text": "Número:  60.0\nAntecessor:  59.0\nSucessor:  61.0\n"
        }
      ],
      "execution_count": 17,
      "metadata": {
        "gather": {
          "logged": 1654645905563
        }
      }
    },
    {
      "cell_type": "code",
      "source": [
        "# Solução alternativa sem criar variáveis novas\n",
        "print(\"Número: \",num)\n",
        "print(\"Antecessor: \",num - 1)\n",
        "print(\"Sucessor: \",num + 1)"
      ],
      "outputs": [
        {
          "output_type": "stream",
          "name": "stdout",
          "text": "Número:  60.0\nAntecessor:  59.0\nSucessor:  61.0\n"
        }
      ],
      "execution_count": 18,
      "metadata": {
        "gather": {
          "logged": 1654645955047
        }
      }
    },
    {
      "cell_type": "markdown",
      "source": [
        "### Exercício 3"
      ],
      "metadata": {}
    },
    {
      "cell_type": "markdown",
      "source": [
        "Objetivo: Calcular dados financeiros de um móvel - Casas Bahia <p>\n",
        "Entrada: dados do produto (nome, categoria (móveis, eletrodomésticos, cama mesa banho), preço <p>\n",
        "Saída: valor parcelado, valor a vista."
      ],
      "metadata": {}
    },
    {
      "cell_type": "code",
      "source": [
        "nome = input(\"Informe o nome: \")"
      ],
      "outputs": [],
      "execution_count": 22,
      "metadata": {
        "gather": {
          "logged": 1654646078626
        }
      }
    },
    {
      "cell_type": "code",
      "source": [
        "nome"
      ],
      "outputs": [
        {
          "output_type": "execute_result",
          "execution_count": 23,
          "data": {
            "text/plain": "'cama'"
          },
          "metadata": {}
        }
      ],
      "execution_count": 23,
      "metadata": {
        "jupyter": {
          "source_hidden": false,
          "outputs_hidden": false
        },
        "nteract": {
          "transient": {
            "deleting": false
          }
        },
        "gather": {
          "logged": 1654646080659
        }
      }
    },
    {
      "cell_type": "code",
      "source": [
        "categoria = input(\"Informe a categoria (móveis, eletrodomésticos, cama mesa banho): \")"
      ],
      "outputs": [],
      "execution_count": 24,
      "metadata": {
        "gather": {
          "logged": 1654646099152
        }
      }
    },
    {
      "cell_type": "code",
      "source": [
        "categoria"
      ],
      "outputs": [
        {
          "output_type": "execute_result",
          "execution_count": 25,
          "data": {
            "text/plain": "'moveis'"
          },
          "metadata": {}
        }
      ],
      "execution_count": 25,
      "metadata": {
        "jupyter": {
          "source_hidden": false,
          "outputs_hidden": false
        },
        "nteract": {
          "transient": {
            "deleting": false
          }
        },
        "gather": {
          "logged": 1654646106280
        }
      }
    },
    {
      "cell_type": "code",
      "source": [
        "preco = float(input(\"Informe o preço: \"))"
      ],
      "outputs": [],
      "execution_count": 26,
      "metadata": {
        "gather": {
          "logged": 1654646121996
        }
      }
    },
    {
      "cell_type": "code",
      "source": [
        "print(preco)"
      ],
      "outputs": [
        {
          "output_type": "stream",
          "name": "stdout",
          "text": "500.0\n"
        }
      ],
      "execution_count": 27,
      "metadata": {
        "jupyter": {
          "source_hidden": false,
          "outputs_hidden": false
        },
        "nteract": {
          "transient": {
            "deleting": false
          }
        },
        "gather": {
          "logged": 1654646144151
        }
      }
    },
    {
      "cell_type": "code",
      "source": [
        "desconto5porc = preco*0.05 "
      ],
      "outputs": [],
      "execution_count": 28,
      "metadata": {
        "gather": {
          "logged": 1654646171014
        }
      }
    },
    {
      "cell_type": "code",
      "source": [
        "desconto5porc"
      ],
      "outputs": [
        {
          "output_type": "execute_result",
          "execution_count": 29,
          "data": {
            "text/plain": "25.0"
          },
          "metadata": {}
        }
      ],
      "execution_count": 29,
      "metadata": {
        "jupyter": {
          "source_hidden": false,
          "outputs_hidden": false
        },
        "nteract": {
          "transient": {
            "deleting": false
          }
        },
        "gather": {
          "logged": 1654646176752
        }
      }
    },
    {
      "cell_type": "code",
      "source": [
        "desconto10porc = preco*0.10"
      ],
      "outputs": [],
      "execution_count": 30,
      "metadata": {
        "gather": {
          "logged": 1654646197543
        }
      }
    },
    {
      "cell_type": "code",
      "source": [
        "desconto10porc"
      ],
      "outputs": [
        {
          "output_type": "execute_result",
          "execution_count": 31,
          "data": {
            "text/plain": "50.0"
          },
          "metadata": {}
        }
      ],
      "execution_count": 31,
      "metadata": {
        "jupyter": {
          "source_hidden": false,
          "outputs_hidden": false
        },
        "nteract": {
          "transient": {
            "deleting": false
          }
        },
        "gather": {
          "logged": 1654646203740
        }
      }
    },
    {
      "cell_type": "code",
      "source": [
        "preco_parcelado = preco - (preco*0.05) \r\n",
        "#preco_parcelado = preco - desconto5porc"
      ],
      "outputs": [],
      "execution_count": 32,
      "metadata": {
        "gather": {
          "logged": 1654646355919
        }
      }
    },
    {
      "cell_type": "code",
      "source": [
        "preco_parcelado"
      ],
      "outputs": [
        {
          "output_type": "execute_result",
          "execution_count": 33,
          "data": {
            "text/plain": "475.0"
          },
          "metadata": {}
        }
      ],
      "execution_count": 33,
      "metadata": {
        "jupyter": {
          "source_hidden": false,
          "outputs_hidden": false
        },
        "nteract": {
          "transient": {
            "deleting": false
          }
        },
        "gather": {
          "logged": 1654646370139
        }
      }
    },
    {
      "cell_type": "code",
      "source": [
        "preco_a_vista = preco - (preco*0.10)\r\n",
        "#preco_a_vista = preco - preco_a_vista"
      ],
      "outputs": [],
      "execution_count": 34,
      "metadata": {
        "gather": {
          "logged": 1654646400842
        }
      }
    },
    {
      "cell_type": "code",
      "source": [
        "preco_a_vista"
      ],
      "outputs": [
        {
          "output_type": "execute_result",
          "execution_count": 35,
          "data": {
            "text/plain": "450.0"
          },
          "metadata": {}
        }
      ],
      "execution_count": 35,
      "metadata": {
        "jupyter": {
          "source_hidden": false,
          "outputs_hidden": false
        },
        "nteract": {
          "transient": {
            "deleting": false
          }
        },
        "gather": {
          "logged": 1654646413522
        }
      }
    },
    {
      "cell_type": "code",
      "source": [
        "print(\"----------------------------------\")\n",
        "print(\"Nome: \",nome)\n",
        "print(\"Categoria: \",categoria)"
      ],
      "outputs": [
        {
          "output_type": "stream",
          "name": "stdout",
          "text": "----------------------------------\nNome:  cama\nCategoria:  moveis\n"
        }
      ],
      "execution_count": 36,
      "metadata": {
        "gather": {
          "logged": 1654646418459
        }
      }
    },
    {
      "cell_type": "code",
      "source": [
        "print(\"----------------------------------\")\n",
        "print(\"Preço: \",preco)\n",
        "print(\"Desconto 10%: \",desconto10porc)\n",
        "print(\"Preço a vista: \",preco_a_vista)\n",
        "print(\"----------------------------------\")\n",
        "print(\"Desconto 5%: \",desconto5porc)\n",
        "print(\"Preço parcelado: \",preco_parcelado)"
      ],
      "outputs": [
        {
          "output_type": "stream",
          "name": "stdout",
          "text": "----------------------------------\nPreço:  500.0\nDesconto 10%:  50.0\nPreço a vista:  450.0\n----------------------------------\nDesconto 5%:  25.0\nPreço parcelado:  475.0\n"
        }
      ],
      "execution_count": 37,
      "metadata": {
        "gather": {
          "logged": 1654646448076
        }
      }
    },
    {
      "cell_type": "markdown",
      "source": [
        "### Exercício 4"
      ],
      "metadata": {}
    },
    {
      "cell_type": "markdown",
      "source": [
        "Objetivo: Calcular a área de um cilindro <p>\n",
        "Entrada: área da base:raio, área lateral: altura, raio dos circulos <p>\n",
        "Saída: área total"
      ],
      "metadata": {}
    },
    {
      "cell_type": "markdown",
      "source": [
        "![image-alt-text](cilindro.PNG)"
      ],
      "metadata": {
        "nteract": {
          "transient": {
            "deleting": false
          }
        }
      }
    },
    {
      "cell_type": "code",
      "source": [
        "# Cálculo da área da base\n",
        "print(\"Área da base\")\n",
        "raio_base = input(\"Informe o raio da base: \")\n",
        "raio_base = float(raio_base)"
      ],
      "outputs": [
        {
          "output_type": "stream",
          "name": "stdout",
          "text": "Área da base\n"
        }
      ],
      "execution_count": 38,
      "metadata": {
        "gather": {
          "logged": 1654646681910
        }
      }
    },
    {
      "cell_type": "code",
      "source": [
        "type(raio_base)"
      ],
      "outputs": [
        {
          "output_type": "execute_result",
          "execution_count": 39,
          "data": {
            "text/plain": "float"
          },
          "metadata": {}
        }
      ],
      "execution_count": 39,
      "metadata": {
        "gather": {
          "logged": 1654646685674
        }
      }
    },
    {
      "cell_type": "code",
      "source": [
        "# Cálculo da área lateral\n",
        "print(\"Área lateral\")\n",
        "raio_circulos = float(input(\"Informe o raio dos círculos: \"))\n",
        "altura = float(input(\"Informe a altura: \"))"
      ],
      "outputs": [
        {
          "output_type": "stream",
          "name": "stdout",
          "text": "Área lateral\n"
        }
      ],
      "execution_count": 40,
      "metadata": {
        "gather": {
          "logged": 1654646732554
        }
      }
    },
    {
      "cell_type": "code",
      "source": [
        "raio_circulos"
      ],
      "outputs": [
        {
          "output_type": "execute_result",
          "execution_count": 41,
          "data": {
            "text/plain": "7.0"
          },
          "metadata": {}
        }
      ],
      "execution_count": 41,
      "metadata": {
        "jupyter": {
          "source_hidden": false,
          "outputs_hidden": false
        },
        "nteract": {
          "transient": {
            "deleting": false
          }
        },
        "gather": {
          "logged": 1654646746586
        }
      }
    },
    {
      "cell_type": "code",
      "source": [
        "altura"
      ],
      "outputs": [
        {
          "output_type": "execute_result",
          "execution_count": 42,
          "data": {
            "text/plain": "9.0"
          },
          "metadata": {}
        }
      ],
      "execution_count": 42,
      "metadata": {
        "jupyter": {
          "source_hidden": false,
          "outputs_hidden": false
        },
        "nteract": {
          "transient": {
            "deleting": false
          }
        },
        "gather": {
          "logged": 1654646753456
        }
      }
    },
    {
      "cell_type": "markdown",
      "source": [
        "### Fórmulas\n",
        "AB = p * raio_base^2 <p>\n",
        "AL = 2p * raio_circulos * altura <p>\n",
        "AT = 2(p.r²) + 2(p.r.altura)"
      ],
      "metadata": {}
    },
    {
      "cell_type": "code",
      "source": [
        "p = 3.14\n",
        "AB = p * (raio_base**2)\n",
        "AL = (2*p) * (raio_circulos*altura)\n",
        "AT = 2*(AB) + 2*(p * raio_circulos * altura)"
      ],
      "outputs": [],
      "execution_count": 43,
      "metadata": {
        "gather": {
          "logged": 1654646931079
        }
      }
    },
    {
      "cell_type": "code",
      "source": [
        "print(\"Á área da base é: \",AB)\n",
        "print(\"Á área lateral é: \",AL)\n",
        "print(\"Á área total é: \",AT)"
      ],
      "outputs": [
        {
          "output_type": "stream",
          "name": "stdout",
          "text": "Á área da base é:  113.04\nÁ área lateral é:  395.64000000000004\nÁ área total é:  621.72\n"
        }
      ],
      "execution_count": 44,
      "metadata": {
        "gather": {
          "logged": 1654646941239
        }
      }
    },
    {
      "cell_type": "code",
      "source": [
        "print(\"Á área da base é: \",AB)\n",
        "print(\"Á área lateral é: %3.2f\" % AL)\n",
        "print(\"Á área total é: %3.2f \" % AT)"
      ],
      "outputs": [
        {
          "output_type": "stream",
          "name": "stdout",
          "text": "Á área da base é:  113.04\nÁ área lateral é: 395.64\nÁ área total é: 621.72 \n"
        }
      ],
      "execution_count": 46,
      "metadata": {
        "gather": {
          "logged": 1654647014793
        }
      }
    },
    {
      "cell_type": "markdown",
      "source": [
        "### Exercício 5"
      ],
      "metadata": {}
    },
    {
      "cell_type": "markdown",
      "source": [
        "Objetivo: Calcular o volume de um cilindro <p>\n",
        "Entrada: raio e altura <p>\n",
        "Saída: volume total"
      ],
      "metadata": {}
    },
    {
      "cell_type": "code",
      "source": [
        "raio = float(input(\"Informe o raio: \"))\n",
        "altura = float(input(\"Informe a altura: \"))"
      ],
      "outputs": [],
      "execution_count": 47,
      "metadata": {
        "gather": {
          "logged": 1654647100087
        }
      }
    },
    {
      "cell_type": "code",
      "source": [
        "raio"
      ],
      "outputs": [
        {
          "output_type": "execute_result",
          "execution_count": 48,
          "data": {
            "text/plain": "8.0"
          },
          "metadata": {}
        }
      ],
      "execution_count": 48,
      "metadata": {
        "jupyter": {
          "source_hidden": false,
          "outputs_hidden": false
        },
        "nteract": {
          "transient": {
            "deleting": false
          }
        },
        "gather": {
          "logged": 1654647105698
        }
      }
    },
    {
      "cell_type": "code",
      "source": [
        "altura"
      ],
      "outputs": [
        {
          "output_type": "execute_result",
          "execution_count": 49,
          "data": {
            "text/plain": "4.0"
          },
          "metadata": {}
        }
      ],
      "execution_count": 49,
      "metadata": {
        "jupyter": {
          "source_hidden": false,
          "outputs_hidden": false
        },
        "nteract": {
          "transient": {
            "deleting": false
          }
        },
        "gather": {
          "logged": 1654647112293
        }
      }
    },
    {
      "cell_type": "code",
      "source": [
        "# Fórmula do Volume. V = p.r².h\n",
        "print(\"Á área da base é: \",3.14 * (raio**2) * altura)"
      ],
      "outputs": [
        {
          "output_type": "stream",
          "name": "stdout",
          "text": "Á área da base é:  803.84\n"
        }
      ],
      "execution_count": 50,
      "metadata": {
        "gather": {
          "logged": 1654647150465
        }
      }
    }
  ],
  "metadata": {
    "kernelspec": {
      "name": "python3",
      "language": "python",
      "display_name": "Python 3"
    },
    "language_info": {
      "name": "python",
      "version": "3.8.5",
      "mimetype": "text/x-python",
      "codemirror_mode": {
        "name": "ipython",
        "version": 3
      },
      "pygments_lexer": "ipython3",
      "nbconvert_exporter": "python",
      "file_extension": ".py"
    },
    "kernel_info": {
      "name": "python3"
    },
    "nteract": {
      "version": "nteract-front-end@1.0.0"
    }
  },
  "nbformat": 4,
  "nbformat_minor": 4
}