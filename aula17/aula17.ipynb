{
  "cells": [
    {
      "cell_type": "markdown",
      "source": [
        "# Aula 17 Arquivos: csv"
      ],
      "metadata": {
        "nteract": {
          "transient": {
            "deleting": false
          }
        }
      }
    },
    {
      "cell_type": "markdown",
      "source": [
        "## 1. Arquivo CSV"
      ],
      "metadata": {
        "nteract": {
          "transient": {
            "deleting": false
          }
        }
      }
    },
    {
      "cell_type": "markdown",
      "source": [
        "Segundo o Google ADS, o arquivo CSV é um arquivo de texto com formato específico para possibilitar o salvamento dos dados em um formato estruturado de tabela. Podem ter outro seprador como, por exemplo: ; ou |. Csv significa comma-separated-values” (valores separados por vírgulas). "
      ],
      "metadata": {
        "nteract": {
          "transient": {
            "deleting": false
          }
        }
      }
    },
    {
      "cell_type": "markdown",
      "source": [
        "<img src=\"imagens/exemplo_csv.jpg\"  width=\"500\" height=\"500\">"
      ],
      "metadata": {
        "nteract": {
          "transient": {
            "deleting": false
          }
        }
      }
    },
    {
      "cell_type": "markdown",
      "source": [
        "### Importação de pacotes"
      ],
      "metadata": {
        "nteract": {
          "transient": {
            "deleting": false
          }
        }
      }
    },
    {
      "cell_type": "code",
      "source": [
        "## https://docs.python.org/pt-br/3.8/library/csv.html"
      ],
      "outputs": [],
      "execution_count": null,
      "metadata": {
        "jupyter": {
          "source_hidden": false,
          "outputs_hidden": false
        },
        "nteract": {
          "transient": {
            "deleting": false
          }
        }
      }
    },
    {
      "cell_type": "code",
      "source": [
        "import csv"
      ],
      "outputs": [],
      "execution_count": null,
      "metadata": {
        "jupyter": {
          "source_hidden": false,
          "outputs_hidden": false
        },
        "nteract": {
          "transient": {
            "deleting": false
          }
        },
        "gather": {
          "logged": 1664885781521
        }
      }
    },
    {
      "cell_type": "markdown",
      "source": [
        "### Abrindo um arquivo csv"
      ],
      "metadata": {
        "nteract": {
          "transient": {
            "deleting": false
          }
        }
      }
    },
    {
      "cell_type": "code",
      "source": [
        "#i = 0\r\n",
        "lista_registros = []\r\n",
        "ficheiro = open('bases/Pokemons.csv', 'r')\r\n",
        "reader = csv.reader(ficheiro)\r\n",
        "for linha in reader:\r\n",
        "    print(linha)\r\n",
        "    lista_registros.append(linha)"
      ],
      "outputs": [],
      "execution_count": null,
      "metadata": {
        "jupyter": {
          "source_hidden": false,
          "outputs_hidden": false
        },
        "nteract": {
          "transient": {
            "deleting": false
          }
        },
        "gather": {
          "logged": 1664886769689
        }
      }
    },
    {
      "cell_type": "code",
      "source": [
        "# Objeto iterável, logo pode ser percorrido linha a linha\r\n",
        "type(reader)"
      ],
      "outputs": [],
      "execution_count": null,
      "metadata": {
        "jupyter": {
          "source_hidden": false,
          "outputs_hidden": false
        },
        "nteract": {
          "transient": {
            "deleting": false
          }
        },
        "gather": {
          "logged": 1664886694801
        }
      }
    },
    {
      "cell_type": "code",
      "source": [
        "type(ficheiro)"
      ],
      "outputs": [],
      "execution_count": null,
      "metadata": {
        "jupyter": {
          "source_hidden": false,
          "outputs_hidden": false
        },
        "nteract": {
          "transient": {
            "deleting": false
          }
        },
        "gather": {
          "logged": 1664886719349
        }
      }
    },
    {
      "cell_type": "code",
      "source": [
        "len(lista_registros)"
      ],
      "outputs": [],
      "execution_count": null,
      "metadata": {
        "jupyter": {
          "source_hidden": false,
          "outputs_hidden": false
        },
        "nteract": {
          "transient": {
            "deleting": false
          }
        },
        "gather": {
          "logged": 1664886783459
        }
      }
    },
    {
      "cell_type": "code",
      "source": [
        "# Listando os 3 primeiros pokemons\r\n",
        "for item in lista_registros[0:4]:\r\n",
        "    print(item)"
      ],
      "outputs": [],
      "execution_count": null,
      "metadata": {
        "jupyter": {
          "source_hidden": false,
          "outputs_hidden": false
        },
        "nteract": {
          "transient": {
            "deleting": false
          }
        },
        "gather": {
          "logged": 1664886829430
        }
      }
    },
    {
      "cell_type": "code",
      "source": [
        "# Corte pela metade da lista\r\n",
        "lista_registros_metade = lista_registros[0:len(lista_registros)//2]\r\n",
        "len(lista_registros_metade)"
      ],
      "outputs": [],
      "execution_count": null,
      "metadata": {
        "jupyter": {
          "source_hidden": false,
          "outputs_hidden": false
        },
        "nteract": {
          "transient": {
            "deleting": false
          }
        },
        "gather": {
          "logged": 1664886868650
        }
      }
    },
    {
      "cell_type": "code",
      "source": [
        "for item in lista_registros_metade[0:4]:\r\n",
        "    print(item)"
      ],
      "outputs": [],
      "execution_count": null,
      "metadata": {
        "jupyter": {
          "source_hidden": false,
          "outputs_hidden": false
        },
        "nteract": {
          "transient": {
            "deleting": false
          }
        },
        "gather": {
          "logged": 1664886884694
        }
      }
    },
    {
      "cell_type": "code",
      "source": [
        "ficheiro.close()"
      ],
      "outputs": [],
      "execution_count": null,
      "metadata": {
        "jupyter": {
          "source_hidden": false,
          "outputs_hidden": false
        },
        "nteract": {
          "transient": {
            "deleting": false
          }
        },
        "gather": {
          "logged": 1664887255487
        }
      }
    },
    {
      "cell_type": "code",
      "source": [
        "# Abrir o arquivo no modo de escrita. \r\n",
        "f = open('bases/Pokemons_metade.csv', 'w')\r\n",
        "\r\n",
        "# Criar a conexão com o arquivo\r\n",
        "writer = csv.writer(f)\r\n",
        "\r\n",
        "# Escrever as linhas desejadas\r\n",
        "writer.writerows(lista_registros_metade) \r\n",
        "# writer.writerow = uma única linha\r\n",
        "\r\n",
        "# Fechar o arquivos\r\n",
        "f.close()"
      ],
      "outputs": [],
      "execution_count": null,
      "metadata": {
        "jupyter": {
          "source_hidden": false,
          "outputs_hidden": false
        },
        "nteract": {
          "transient": {
            "deleting": false
          }
        },
        "gather": {
          "logged": 1664887267773
        }
      }
    },
    {
      "cell_type": "code",
      "source": [
        "type(writer)"
      ],
      "outputs": [],
      "execution_count": null,
      "metadata": {
        "jupyter": {
          "source_hidden": false,
          "outputs_hidden": false
        },
        "nteract": {
          "transient": {
            "deleting": false
          }
        }
      }
    },
    {
      "cell_type": "code",
      "source": [
        "# Abrindo o arquivo no modelo de escrita\r\n",
        "with open('bases/Pokemons_metade.csv', 'w', encoding='UTF8') as f:\r\n",
        "    # Criar o ponteiro\r\n",
        "    writer = csv.writer(f)\r\n",
        "\r\n",
        "    # Escrever as linhas desejadas, uma única vez\r\n",
        "    writer.writerows(lista_registros_metade)\r\n",
        "\r\n",
        "    # O método with open já fecha o arquivo, não necessitando do método close"
      ],
      "outputs": [],
      "execution_count": null,
      "metadata": {
        "jupyter": {
          "source_hidden": false,
          "outputs_hidden": false
        },
        "nteract": {
          "transient": {
            "deleting": false
          }
        },
        "gather": {
          "logged": 1664887389756
        }
      }
    },
    {
      "cell_type": "code",
      "source": [
        "with open('bases/Pokemons_metade.csv', 'w', encoding='UTF8') as f:\r\n",
        "    # Criar a conexão com o arquivo\r\n",
        "    writer = csv.writer(f)\r\n",
        "\r\n",
        "    # Escreve linha a linha\r\n",
        "    for row in lista_registros_metade:\r\n",
        "        writer.writerow(row)\r\n"
      ],
      "outputs": [],
      "execution_count": null,
      "metadata": {
        "jupyter": {
          "source_hidden": false,
          "outputs_hidden": false
        },
        "nteract": {
          "transient": {
            "deleting": false
          }
        },
        "gather": {
          "logged": 1664887449667
        }
      }
    },
    {
      "cell_type": "code",
      "source": [
        "ficheiro = open('bases/Pokemons_metade.csv', 'r')\r\n",
        "reader = csv.reader(ficheiro) \r\n",
        "for linha in reader:\r\n",
        "    for item in linha:\r\n",
        "        print(item)"
      ],
      "outputs": [],
      "execution_count": null,
      "metadata": {
        "jupyter": {
          "source_hidden": false,
          "outputs_hidden": false
        },
        "nteract": {
          "transient": {
            "deleting": false
          }
        },
        "gather": {
          "logged": 1664887476189
        }
      }
    },
    {
      "cell_type": "markdown",
      "source": [
        "A função reader tem alguns parâmetros como, por exemplo:</br>\r\n",
        "1. delimiter. Separador usado os valores, o padrão é a vírgula. </br>\r\n",
        "2. quotechar. Caracter usada para delimitar as strings no arquivo. O padrão é aspas duplas. </br>\r\n",
        "3. escapechar. Especifica o caractere usada para delimitar as strings no caso em que aspas duplas não sejam usadas. O padrão é sem esse valor. </br>"
      ],
      "metadata": {
        "nteract": {
          "transient": {
            "deleting": false
          }
        }
      }
    },
    {
      "cell_type": "code",
      "source": [
        "ficheiro = open('bases/Pokemons_metade.csv', 'r')\r\n",
        "reader = csv.reader(ficheiro,delimiter = ',') \r\n",
        "for linha in reader:\r\n",
        "    for item in linha:\r\n",
        "        print(item)"
      ],
      "outputs": [],
      "execution_count": null,
      "metadata": {
        "jupyter": {
          "source_hidden": false,
          "outputs_hidden": false
        },
        "nteract": {
          "transient": {
            "deleting": false
          }
        }
      }
    },
    {
      "cell_type": "markdown",
      "source": [
        "### Outros operações de arquivos incluindo pastas."
      ],
      "metadata": {
        "nteract": {
          "transient": {
            "deleting": false
          }
        }
      }
    },
    {
      "cell_type": "markdown",
      "source": [
        "Para excluir arquivos, renomear e outras operações relacionais, usamos a biblioteca os (do sistema operacional). "
      ],
      "metadata": {
        "nteract": {
          "transient": {
            "deleting": false
          }
        }
      }
    },
    {
      "cell_type": "markdown",
      "source": [
        "### Importando o módulo OS"
      ],
      "metadata": {
        "nteract": {
          "transient": {
            "deleting": false
          }
        }
      }
    },
    {
      "cell_type": "code",
      "source": [
        "import os"
      ],
      "outputs": [],
      "execution_count": 20,
      "metadata": {
        "jupyter": {
          "source_hidden": false,
          "outputs_hidden": false
        },
        "nteract": {
          "transient": {
            "deleting": false
          }
        },
        "gather": {
          "logged": 1664895383506
        }
      }
    },
    {
      "cell_type": "markdown",
      "source": [
        "### Removendo um arquivo"
      ],
      "metadata": {
        "nteract": {
          "transient": {
            "deleting": false
          }
        }
      }
    },
    {
      "cell_type": "code",
      "source": [
        "os.remove(\"demofile.txt\")\r\n",
        "# A função retornará um erro caso o arquivo não exista."
      ],
      "outputs": [
        {
          "output_type": "error",
          "ename": "FileNotFoundError",
          "evalue": "[Errno 2] No such file or directory: 'demofile.txt'",
          "traceback": [
            "\u001b[0;31m---------------------------------------------------------------------------\u001b[0m",
            "\u001b[0;31mFileNotFoundError\u001b[0m                         Traceback (most recent call last)",
            "Input \u001b[0;32mIn [21]\u001b[0m, in \u001b[0;36m<cell line: 1>\u001b[0;34m()\u001b[0m\n\u001b[0;32m----> 1\u001b[0m \u001b[43mos\u001b[49m\u001b[38;5;241;43m.\u001b[39;49m\u001b[43mremove\u001b[49m\u001b[43m(\u001b[49m\u001b[38;5;124;43m\"\u001b[39;49m\u001b[38;5;124;43mdemofile.txt\u001b[39;49m\u001b[38;5;124;43m\"\u001b[39;49m\u001b[43m)\u001b[49m\n",
            "\u001b[0;31mFileNotFoundError\u001b[0m: [Errno 2] No such file or directory: 'demofile.txt'"
          ]
        }
      ],
      "execution_count": 21,
      "metadata": {
        "jupyter": {
          "source_hidden": false,
          "outputs_hidden": false
        },
        "nteract": {
          "transient": {
            "deleting": false
          }
        },
        "gather": {
          "logged": 1664895434144
        }
      }
    },
    {
      "cell_type": "code",
      "source": [
        "os.remove(\"teste_arqtexto.txt\")"
      ],
      "outputs": [],
      "execution_count": 22,
      "metadata": {
        "jupyter": {
          "source_hidden": false,
          "outputs_hidden": false
        },
        "nteract": {
          "transient": {
            "deleting": false
          }
        },
        "gather": {
          "logged": 1664895508558
        }
      }
    },
    {
      "cell_type": "markdown",
      "source": [
        "### Verificando se o arquivo existe ou não"
      ],
      "metadata": {
        "nteract": {
          "transient": {
            "deleting": false
          }
        }
      }
    },
    {
      "cell_type": "code",
      "source": [
        "if os.path.exists(\"demofile.txt\"):\r\n",
        "  os.remove(\"demofile.txt\")\r\n",
        "else:\r\n",
        "  print(\"The file does not exist\")"
      ],
      "outputs": [
        {
          "output_type": "stream",
          "name": "stdout",
          "text": "The file does not exist\n"
        }
      ],
      "execution_count": 23,
      "metadata": {
        "jupyter": {
          "source_hidden": false,
          "outputs_hidden": false
        },
        "nteract": {
          "transient": {
            "deleting": false
          }
        },
        "gather": {
          "logged": 1664895577353
        }
      }
    },
    {
      "cell_type": "code",
      "source": [
        "os.path"
      ],
      "outputs": [
        {
          "output_type": "execute_result",
          "execution_count": 24,
          "data": {
            "text/plain": "<module 'posixpath' from '/anaconda/envs/azureml_py38/lib/python3.8/posixpath.py'>"
          },
          "metadata": {}
        }
      ],
      "execution_count": 24,
      "metadata": {
        "jupyter": {
          "source_hidden": false,
          "outputs_hidden": false
        },
        "nteract": {
          "transient": {
            "deleting": false
          }
        },
        "gather": {
          "logged": 1664895585539
        }
      }
    },
    {
      "cell_type": "markdown",
      "source": [
        "### Removendo diretórios (pastas)"
      ],
      "metadata": {
        "nteract": {
          "transient": {
            "deleting": false
          }
        }
      }
    },
    {
      "cell_type": "code",
      "source": [
        "# Remove somente se a pasta exister vazia\r\n",
        "os.rmdir(\"teste\")"
      ],
      "outputs": [],
      "execution_count": 25,
      "metadata": {
        "jupyter": {
          "source_hidden": false,
          "outputs_hidden": false
        },
        "nteract": {
          "transient": {
            "deleting": false
          }
        },
        "gather": {
          "logged": 1664895629324
        }
      }
    },
    {
      "cell_type": "markdown",
      "source": [
        "## Criando uma pasta"
      ],
      "metadata": {
        "nteract": {
          "transient": {
            "deleting": false
          }
        }
      }
    },
    {
      "cell_type": "code",
      "source": [
        "os.makedirs(\"teste\")\r\n",
        "# Caso a pasta já exista, uma exceção(erro) será lançada."
      ],
      "outputs": [
        {
          "output_type": "error",
          "ename": "FileExistsError",
          "evalue": "[Errno 17] File exists: 'teste'",
          "traceback": [
            "\u001b[0;31m---------------------------------------------------------------------------\u001b[0m",
            "\u001b[0;31mFileExistsError\u001b[0m                           Traceback (most recent call last)",
            "Input \u001b[0;32mIn [27]\u001b[0m, in \u001b[0;36m<cell line: 1>\u001b[0;34m()\u001b[0m\n\u001b[0;32m----> 1\u001b[0m \u001b[43mos\u001b[49m\u001b[38;5;241;43m.\u001b[39;49m\u001b[43mmakedirs\u001b[49m\u001b[43m(\u001b[49m\u001b[38;5;124;43m\"\u001b[39;49m\u001b[38;5;124;43mteste\u001b[39;49m\u001b[38;5;124;43m\"\u001b[39;49m\u001b[43m)\u001b[49m\n",
            "File \u001b[0;32m/anaconda/envs/azureml_py38/lib/python3.8/os.py:223\u001b[0m, in \u001b[0;36mmakedirs\u001b[0;34m(name, mode, exist_ok)\u001b[0m\n\u001b[1;32m    221\u001b[0m         \u001b[38;5;28;01mreturn\u001b[39;00m\n\u001b[1;32m    222\u001b[0m \u001b[38;5;28;01mtry\u001b[39;00m:\n\u001b[0;32m--> 223\u001b[0m     \u001b[43mmkdir\u001b[49m\u001b[43m(\u001b[49m\u001b[43mname\u001b[49m\u001b[43m,\u001b[49m\u001b[43m \u001b[49m\u001b[43mmode\u001b[49m\u001b[43m)\u001b[49m\n\u001b[1;32m    224\u001b[0m \u001b[38;5;28;01mexcept\u001b[39;00m \u001b[38;5;167;01mOSError\u001b[39;00m:\n\u001b[1;32m    225\u001b[0m     \u001b[38;5;66;03m# Cannot rely on checking for EEXIST, since the operating system\u001b[39;00m\n\u001b[1;32m    226\u001b[0m     \u001b[38;5;66;03m# could give priority to other errors like EACCES or EROFS\u001b[39;00m\n\u001b[1;32m    227\u001b[0m     \u001b[38;5;28;01mif\u001b[39;00m \u001b[38;5;129;01mnot\u001b[39;00m exist_ok \u001b[38;5;129;01mor\u001b[39;00m \u001b[38;5;129;01mnot\u001b[39;00m path\u001b[38;5;241m.\u001b[39misdir(name):\n",
            "\u001b[0;31mFileExistsError\u001b[0m: [Errno 17] File exists: 'teste'"
          ]
        }
      ],
      "execution_count": 27,
      "metadata": {
        "jupyter": {
          "source_hidden": false,
          "outputs_hidden": false
        },
        "nteract": {
          "transient": {
            "deleting": false
          }
        },
        "gather": {
          "logged": 1664895669449
        }
      }
    },
    {
      "cell_type": "code",
      "source": [
        "os.makedirs(\"teste\",exist_ok=True)\r\n",
        "# Caso a pasta já exista, irá sobreescrever, ou seja, recriar."
      ],
      "outputs": [],
      "execution_count": 28,
      "metadata": {
        "jupyter": {
          "source_hidden": false,
          "outputs_hidden": false
        },
        "nteract": {
          "transient": {
            "deleting": false
          }
        },
        "gather": {
          "logged": 1664895698252
        }
      }
    },
    {
      "cell_type": "markdown",
      "source": [
        "### Renomeando arquivo ou pasta"
      ],
      "metadata": {
        "nteract": {
          "transient": {
            "deleting": false
          }
        }
      }
    },
    {
      "cell_type": "markdown",
      "source": [
        "https://acervolima.com/python-metodo-os-rename/#:~:text=rename()%20m%C3%A9todo%20em%20Python,arquivo%20%2F%20diret%C3%B3rio%20de%20destino%20especificado.&text=Par%C3%A2metros%3A,caminho%20do%20sistema%20de%20arquivos."
      ],
      "metadata": {
        "nteract": {
          "transient": {
            "deleting": false
          }
        }
      }
    },
    {
      "cell_type": "code",
      "source": [
        "os.rename(\"teste\", \"teste2\")\r\n",
        "# Pode ocorrer alguns erros como, por exemplo: não encontrar o arquivo de origem."
      ],
      "outputs": [],
      "execution_count": 29,
      "metadata": {
        "jupyter": {
          "source_hidden": false,
          "outputs_hidden": false
        },
        "nteract": {
          "transient": {
            "deleting": false
          }
        },
        "gather": {
          "logged": 1664895724280
        }
      }
    }
  ],
  "metadata": {
    "kernelspec": {
      "name": "python38-azureml",
      "language": "python",
      "display_name": "Python 3.8 - AzureML"
    },
    "language_info": {
      "name": "python",
      "version": "3.8.5",
      "mimetype": "text/x-python",
      "codemirror_mode": {
        "name": "ipython",
        "version": 3
      },
      "pygments_lexer": "ipython3",
      "nbconvert_exporter": "python",
      "file_extension": ".py"
    },
    "kernel_info": {
      "name": "python38-azureml"
    },
    "nteract": {
      "version": "nteract-front-end@1.0.0"
    }
  },
  "nbformat": 4,
  "nbformat_minor": 2
}