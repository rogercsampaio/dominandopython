{
  "cells": [
    {
      "cell_type": "markdown",
      "source": [
        "## Projeto Dominando Python"
      ],
      "metadata": {
        "nteract": {
          "transient": {
            "deleting": false
          }
        }
      }
    },
    {
      "cell_type": "markdown",
      "source": [
        "**Aula 01 **\r\n",
        "</br>\r\n",
        "Assuntos tratados: \r\n",
        "</br>\r\n",
        "1. variáveis e tipos.\r\n",
        "</br>\r\n",
        "2. operadores aritméticos.\r\n",
        "</br>\r\n",
        "3. comandos de leitura (input) e escrita (print).\r\n",
        "\r\n"
      ],
      "metadata": {
        "nteract": {
          "transient": {
            "deleting": false
          }
        }
      }
    },
    {
      "cell_type": "markdown",
      "source": [
        "<h2> Variáveis </h2>\r\n",
        "São espaços na memória do computador utilizados para armazenar dados. Na prática criamos muitas variáveis em nossos programas para armazenar dados e efetuar algum processamento. Toda variável tem um nome e tipo associado."
      ],
      "metadata": {
        "nteract": {
          "transient": {
            "deleting": false
          }
        }
      }
    },
    {
      "cell_type": "code",
      "source": [
        "## Bulsauro x Charmander"
      ],
      "outputs": [],
      "execution_count": null,
      "metadata": {
        "jupyter": {
          "source_hidden": false,
          "outputs_hidden": false
        },
        "nteract": {
          "transient": {
            "deleting": false
          }
        }
      }
    },
    {
      "cell_type": "code",
      "source": [
        "nome = 'Bulsauro'"
      ],
      "outputs": [],
      "execution_count": 57,
      "metadata": {
        "jupyter": {
          "source_hidden": false,
          "outputs_hidden": false
        },
        "nteract": {
          "transient": {
            "deleting": false
          }
        },
        "gather": {
          "logged": 1653006729337
        }
      }
    },
    {
      "cell_type": "code",
      "source": [
        "nome"
      ],
      "outputs": [
        {
          "output_type": "execute_result",
          "execution_count": 58,
          "data": {
            "text/plain": "'Bulsauro'"
          },
          "metadata": {}
        }
      ],
      "execution_count": 58,
      "metadata": {
        "jupyter": {
          "source_hidden": false,
          "outputs_hidden": false
        },
        "nteract": {
          "transient": {
            "deleting": false
          }
        },
        "gather": {
          "logged": 1653006730610
        }
      }
    },
    {
      "cell_type": "code",
      "source": [
        "type(nome)"
      ],
      "outputs": [
        {
          "output_type": "execute_result",
          "execution_count": 3,
          "data": {
            "text/plain": "str"
          },
          "metadata": {}
        }
      ],
      "execution_count": 3,
      "metadata": {
        "jupyter": {
          "source_hidden": false,
          "outputs_hidden": false
        },
        "nteract": {
          "transient": {
            "deleting": false
          }
        },
        "gather": {
          "logged": 1653005037568
        }
      }
    },
    {
      "cell_type": "code",
      "source": [
        "tipo1 = 'grama'"
      ],
      "outputs": [],
      "execution_count": 59,
      "metadata": {
        "jupyter": {
          "source_hidden": false,
          "outputs_hidden": false
        },
        "nteract": {
          "transient": {
            "deleting": false
          }
        },
        "gather": {
          "logged": 1653006733115
        }
      }
    },
    {
      "cell_type": "code",
      "source": [
        "tipo2 = \"venenoso\""
      ],
      "outputs": [],
      "execution_count": 60,
      "metadata": {
        "jupyter": {
          "source_hidden": false,
          "outputs_hidden": false
        },
        "nteract": {
          "transient": {
            "deleting": false
          }
        },
        "gather": {
          "logged": 1653006734813
        }
      }
    },
    {
      "cell_type": "code",
      "source": [
        "tipo1"
      ],
      "outputs": [
        {
          "output_type": "execute_result",
          "execution_count": 6,
          "data": {
            "text/plain": "'grama'"
          },
          "metadata": {}
        }
      ],
      "execution_count": 6,
      "metadata": {
        "jupyter": {
          "source_hidden": false,
          "outputs_hidden": false
        },
        "nteract": {
          "transient": {
            "deleting": false
          }
        },
        "gather": {
          "logged": 1653005141117
        }
      }
    },
    {
      "cell_type": "code",
      "source": [
        "tipo2"
      ],
      "outputs": [
        {
          "output_type": "execute_result",
          "execution_count": 7,
          "data": {
            "text/plain": "'venenoso'"
          },
          "metadata": {}
        }
      ],
      "execution_count": 7,
      "metadata": {
        "jupyter": {
          "source_hidden": false,
          "outputs_hidden": false
        },
        "nteract": {
          "transient": {
            "deleting": false
          }
        },
        "gather": {
          "logged": 1653005150431
        }
      }
    },
    {
      "cell_type": "code",
      "source": [
        "type(tipo1)"
      ],
      "outputs": [
        {
          "output_type": "execute_result",
          "execution_count": 8,
          "data": {
            "text/plain": "str"
          },
          "metadata": {}
        }
      ],
      "execution_count": 8,
      "metadata": {
        "jupyter": {
          "source_hidden": false,
          "outputs_hidden": false
        },
        "nteract": {
          "transient": {
            "deleting": false
          }
        },
        "gather": {
          "logged": 1653005160892
        }
      }
    },
    {
      "cell_type": "code",
      "source": [
        "type(tipo2)"
      ],
      "outputs": [
        {
          "output_type": "execute_result",
          "execution_count": 9,
          "data": {
            "text/plain": "str"
          },
          "metadata": {}
        }
      ],
      "execution_count": 9,
      "metadata": {
        "jupyter": {
          "source_hidden": false,
          "outputs_hidden": false
        },
        "nteract": {
          "transient": {
            "deleting": false
          }
        },
        "gather": {
          "logged": 1653005163963
        }
      }
    },
    {
      "cell_type": "code",
      "source": [
        "hp = 45"
      ],
      "outputs": [],
      "execution_count": 61,
      "metadata": {
        "jupyter": {
          "source_hidden": false,
          "outputs_hidden": false
        },
        "nteract": {
          "transient": {
            "deleting": false
          }
        },
        "gather": {
          "logged": 1653006739036
        }
      }
    },
    {
      "cell_type": "code",
      "source": [
        "ataque = 49"
      ],
      "outputs": [],
      "execution_count": 62,
      "metadata": {
        "jupyter": {
          "source_hidden": false,
          "outputs_hidden": false
        },
        "nteract": {
          "transient": {
            "deleting": false
          }
        },
        "gather": {
          "logged": 1653006740801
        }
      }
    },
    {
      "cell_type": "code",
      "source": [
        "defesa = 49"
      ],
      "outputs": [],
      "execution_count": 63,
      "metadata": {
        "jupyter": {
          "source_hidden": false,
          "outputs_hidden": false
        },
        "nteract": {
          "transient": {
            "deleting": false
          }
        },
        "gather": {
          "logged": 1653006742281
        }
      }
    },
    {
      "cell_type": "code",
      "source": [
        "ataqueespecial = 65"
      ],
      "outputs": [],
      "execution_count": 64,
      "metadata": {
        "jupyter": {
          "source_hidden": false,
          "outputs_hidden": false
        },
        "nteract": {
          "transient": {
            "deleting": false
          }
        },
        "gather": {
          "logged": 1653006743640
        }
      }
    },
    {
      "cell_type": "code",
      "source": [
        "defesaespecial = 65"
      ],
      "outputs": [],
      "execution_count": 65,
      "metadata": {
        "jupyter": {
          "source_hidden": false,
          "outputs_hidden": false
        },
        "nteract": {
          "transient": {
            "deleting": false
          }
        },
        "gather": {
          "logged": 1653006744790
        }
      }
    },
    {
      "cell_type": "code",
      "source": [
        "velocidade = 45"
      ],
      "outputs": [],
      "execution_count": 66,
      "metadata": {
        "jupyter": {
          "source_hidden": false,
          "outputs_hidden": false
        },
        "nteract": {
          "transient": {
            "deleting": false
          }
        },
        "gather": {
          "logged": 1653006747271
        }
      }
    },
    {
      "cell_type": "code",
      "source": [
        "hp"
      ],
      "outputs": [
        {
          "output_type": "execute_result",
          "execution_count": 67,
          "data": {
            "text/plain": "45"
          },
          "metadata": {}
        }
      ],
      "execution_count": 67,
      "metadata": {
        "jupyter": {
          "source_hidden": false,
          "outputs_hidden": false
        },
        "nteract": {
          "transient": {
            "deleting": false
          }
        },
        "gather": {
          "logged": 1653006749144
        }
      }
    },
    {
      "cell_type": "code",
      "source": [
        "type(hp)"
      ],
      "outputs": [
        {
          "output_type": "execute_result",
          "execution_count": 16,
          "data": {
            "text/plain": "int"
          },
          "metadata": {}
        }
      ],
      "execution_count": 16,
      "metadata": {
        "jupyter": {
          "source_hidden": false,
          "outputs_hidden": false
        },
        "nteract": {
          "transient": {
            "deleting": false
          }
        },
        "gather": {
          "logged": 1653005484523
        }
      }
    },
    {
      "cell_type": "code",
      "source": [
        "salario = 5.000"
      ],
      "outputs": [],
      "execution_count": 17,
      "metadata": {
        "jupyter": {
          "source_hidden": false,
          "outputs_hidden": false
        },
        "nteract": {
          "transient": {
            "deleting": false
          }
        },
        "gather": {
          "logged": 1653005525227
        }
      }
    },
    {
      "cell_type": "code",
      "source": [
        "salario"
      ],
      "outputs": [
        {
          "output_type": "execute_result",
          "execution_count": 18,
          "data": {
            "text/plain": "5.0"
          },
          "metadata": {}
        }
      ],
      "execution_count": 18,
      "metadata": {
        "jupyter": {
          "source_hidden": false,
          "outputs_hidden": false
        },
        "nteract": {
          "transient": {
            "deleting": false
          }
        },
        "gather": {
          "logged": 1653005531689
        }
      }
    },
    {
      "cell_type": "code",
      "source": [
        "type(salario)"
      ],
      "outputs": [
        {
          "output_type": "execute_result",
          "execution_count": 19,
          "data": {
            "text/plain": "float"
          },
          "metadata": {}
        }
      ],
      "execution_count": 19,
      "metadata": {
        "jupyter": {
          "source_hidden": false,
          "outputs_hidden": false
        },
        "nteract": {
          "transient": {
            "deleting": false
          }
        },
        "gather": {
          "logged": 1653005540739
        }
      }
    },
    {
      "cell_type": "code",
      "source": [],
      "outputs": [],
      "execution_count": null,
      "metadata": {
        "jupyter": {
          "source_hidden": false,
          "outputs_hidden": false
        },
        "nteract": {
          "transient": {
            "deleting": false
          }
        }
      }
    },
    {
      "cell_type": "code",
      "source": [
        "type(ataque)"
      ],
      "outputs": [
        {
          "output_type": "execute_result",
          "execution_count": 20,
          "data": {
            "text/plain": "int"
          },
          "metadata": {}
        }
      ],
      "execution_count": 20,
      "metadata": {
        "jupyter": {
          "source_hidden": false,
          "outputs_hidden": false
        },
        "nteract": {
          "transient": {
            "deleting": false
          }
        },
        "gather": {
          "logged": 1653005566270
        }
      }
    },
    {
      "cell_type": "code",
      "source": [
        "type(defesa)"
      ],
      "outputs": [
        {
          "output_type": "execute_result",
          "execution_count": 21,
          "data": {
            "text/plain": "int"
          },
          "metadata": {}
        }
      ],
      "execution_count": 21,
      "metadata": {
        "jupyter": {
          "source_hidden": false,
          "outputs_hidden": false
        },
        "nteract": {
          "transient": {
            "deleting": false
          }
        },
        "gather": {
          "logged": 1653005571796
        }
      }
    },
    {
      "cell_type": "code",
      "source": [
        "type(velocidade)"
      ],
      "outputs": [
        {
          "output_type": "execute_result",
          "execution_count": 22,
          "data": {
            "text/plain": "int"
          },
          "metadata": {}
        }
      ],
      "execution_count": 22,
      "metadata": {
        "jupyter": {
          "source_hidden": false,
          "outputs_hidden": false
        },
        "nteract": {
          "transient": {
            "deleting": false
          }
        },
        "gather": {
          "logged": 1653005573998
        }
      }
    },
    {
      "cell_type": "code",
      "source": [
        "type(defesaespecial)"
      ],
      "outputs": [
        {
          "output_type": "execute_result",
          "execution_count": 23,
          "data": {
            "text/plain": "int"
          },
          "metadata": {}
        }
      ],
      "execution_count": 23,
      "metadata": {
        "jupyter": {
          "source_hidden": false,
          "outputs_hidden": false
        },
        "nteract": {
          "transient": {
            "deleting": false
          }
        },
        "gather": {
          "logged": 1653005576381
        }
      }
    },
    {
      "cell_type": "code",
      "source": [
        "type(ataqueespecial)"
      ],
      "outputs": [
        {
          "output_type": "execute_result",
          "execution_count": 26,
          "data": {
            "text/plain": "int"
          },
          "metadata": {}
        }
      ],
      "execution_count": 26,
      "metadata": {
        "jupyter": {
          "source_hidden": false,
          "outputs_hidden": false
        },
        "nteract": {
          "transient": {
            "deleting": false
          }
        },
        "gather": {
          "logged": 1653005615064
        }
      }
    },
    {
      "cell_type": "code",
      "source": [
        "lendario = False"
      ],
      "outputs": [],
      "execution_count": 68,
      "metadata": {
        "jupyter": {
          "source_hidden": false,
          "outputs_hidden": false
        },
        "nteract": {
          "transient": {
            "deleting": false
          }
        },
        "gather": {
          "logged": 1653006755220
        }
      }
    },
    {
      "cell_type": "code",
      "source": [
        "lendario"
      ],
      "outputs": [
        {
          "output_type": "execute_result",
          "execution_count": 28,
          "data": {
            "text/plain": "False"
          },
          "metadata": {}
        }
      ],
      "execution_count": 28,
      "metadata": {
        "jupyter": {
          "source_hidden": false,
          "outputs_hidden": false
        },
        "nteract": {
          "transient": {
            "deleting": false
          }
        },
        "gather": {
          "logged": 1653005652220
        }
      }
    },
    {
      "cell_type": "code",
      "source": [
        "type(lendario)"
      ],
      "outputs": [
        {
          "output_type": "execute_result",
          "execution_count": 29,
          "data": {
            "text/plain": "bool"
          },
          "metadata": {}
        }
      ],
      "execution_count": 29,
      "metadata": {
        "jupyter": {
          "source_hidden": false,
          "outputs_hidden": false
        },
        "nteract": {
          "transient": {
            "deleting": false
          }
        },
        "gather": {
          "logged": 1653005656378
        }
      }
    },
    {
      "cell_type": "markdown",
      "source": [
        "<h2>Tipo de Dados em Python. </h2>\r\n",
        "Cada variável sempre tem um nome e um tipo associado. O tipo é definido de acordo com o conteúdo do dado que a variável irá armazenar. Os tipos são:\r\n",
        "\r\n",
        "1. Inteiro (int)\r\n",
        "2. Ponto Flutuante ou Decimal (float)\r\n",
        "3. Tipo Complexo (complex)\r\n",
        "4. String (str)\r\n",
        "5. Boolean (bool)\r\n",
        "6. List (list)\r\n",
        "7. Tuple\r\n",
        "8. Dictionary (dic)\r\n",
        "\r\n",
        "Podemos utilizar o comando type(nome_variável) para encontrar o tipo de dado. Uma variável pode alterar seu tipo a qualquer momento a depender da operação que será feita."
      ],
      "metadata": {
        "nteract": {
          "transient": {
            "deleting": false
          }
        }
      }
    },
    {
      "cell_type": "code",
      "source": [
        "# Mostrando informações sobre variáveis e textos, comandos print\r\n",
        "print('Informações sobre o pokémon 1')"
      ],
      "outputs": [
        {
          "output_type": "stream",
          "name": "stdout",
          "text": "Informações sobre o pokémon 1\n"
        }
      ],
      "execution_count": 30,
      "metadata": {
        "jupyter": {
          "source_hidden": false,
          "outputs_hidden": false
        },
        "nteract": {
          "transient": {
            "deleting": false
          }
        },
        "gather": {
          "logged": 1653005896783
        }
      }
    },
    {
      "cell_type": "code",
      "source": [
        "nome"
      ],
      "outputs": [
        {
          "output_type": "execute_result",
          "execution_count": 31,
          "data": {
            "text/plain": "'Bulsauro'"
          },
          "metadata": {}
        }
      ],
      "execution_count": 31,
      "metadata": {
        "jupyter": {
          "source_hidden": false,
          "outputs_hidden": false
        },
        "nteract": {
          "transient": {
            "deleting": false
          }
        },
        "gather": {
          "logged": 1653005910881
        }
      }
    },
    {
      "cell_type": "code",
      "source": [
        "# Mostrando informações sobre variáveis e textos, comandos print\r\n",
        "print(nome)"
      ],
      "outputs": [
        {
          "output_type": "stream",
          "name": "stdout",
          "text": "Bulsauro\n"
        }
      ],
      "execution_count": 32,
      "metadata": {
        "jupyter": {
          "source_hidden": false,
          "outputs_hidden": false
        },
        "nteract": {
          "transient": {
            "deleting": false
          }
        },
        "gather": {
          "logged": 1653005916205
        }
      }
    },
    {
      "cell_type": "code",
      "source": [
        "print('O nome do pokémon é: %s' % nome)"
      ],
      "outputs": [
        {
          "output_type": "stream",
          "name": "stdout",
          "text": "O nome do pokémon é: Bulsauro\n"
        }
      ],
      "execution_count": 33,
      "metadata": {
        "jupyter": {
          "source_hidden": false,
          "outputs_hidden": false
        },
        "nteract": {
          "transient": {
            "deleting": false
          }
        },
        "gather": {
          "logged": 1653005985252
        }
      }
    },
    {
      "cell_type": "code",
      "source": [
        "print('O nome do pokémon é:',nome)"
      ],
      "outputs": [
        {
          "output_type": "stream",
          "name": "stdout",
          "text": "O nome do pokémon é: Bulsauro\n"
        }
      ],
      "execution_count": 36,
      "metadata": {
        "jupyter": {
          "source_hidden": false,
          "outputs_hidden": false
        },
        "nteract": {
          "transient": {
            "deleting": false
          }
        },
        "gather": {
          "logged": 1653006036977
        }
      }
    },
    {
      "cell_type": "code",
      "source": [
        "tipo1"
      ],
      "outputs": [
        {
          "output_type": "execute_result",
          "execution_count": 37,
          "data": {
            "text/plain": "'grama'"
          },
          "metadata": {}
        }
      ],
      "execution_count": 37,
      "metadata": {
        "jupyter": {
          "source_hidden": false,
          "outputs_hidden": false
        },
        "nteract": {
          "transient": {
            "deleting": false
          }
        },
        "gather": {
          "logged": 1653006053961
        }
      }
    },
    {
      "cell_type": "code",
      "source": [
        "print(tipo1)"
      ],
      "outputs": [
        {
          "output_type": "stream",
          "name": "stdout",
          "text": "grama\n"
        }
      ],
      "execution_count": 38,
      "metadata": {
        "jupyter": {
          "source_hidden": false,
          "outputs_hidden": false
        },
        "nteract": {
          "transient": {
            "deleting": false
          }
        },
        "gather": {
          "logged": 1653006070019
        }
      }
    },
    {
      "cell_type": "code",
      "source": [
        "print('O tipo 1 do pokémon é',tipo1)"
      ],
      "outputs": [
        {
          "output_type": "stream",
          "name": "stdout",
          "text": "O tipo 1 do pokémon é grama\n"
        }
      ],
      "execution_count": 39,
      "metadata": {
        "jupyter": {
          "source_hidden": false,
          "outputs_hidden": false
        },
        "nteract": {
          "transient": {
            "deleting": false
          }
        },
        "gather": {
          "logged": 1653006089897
        }
      }
    },
    {
      "cell_type": "code",
      "source": [
        "print('O tipo 2 do pokémon é',tipo2)"
      ],
      "outputs": [
        {
          "output_type": "stream",
          "name": "stdout",
          "text": "O tipo 2 do pokémon é venenoso\n"
        }
      ],
      "execution_count": 40,
      "metadata": {
        "jupyter": {
          "source_hidden": false,
          "outputs_hidden": false
        },
        "nteract": {
          "transient": {
            "deleting": false
          }
        },
        "gather": {
          "logged": 1653006096951
        }
      }
    },
    {
      "cell_type": "code",
      "source": [
        "print('O tipo 1 do pokémon é %s' % tipo1)"
      ],
      "outputs": [
        {
          "output_type": "stream",
          "name": "stdout",
          "text": "O tipo 1 do pokémon é grama\n"
        }
      ],
      "execution_count": 41,
      "metadata": {
        "jupyter": {
          "source_hidden": false,
          "outputs_hidden": false
        },
        "nteract": {
          "transient": {
            "deleting": false
          }
        },
        "gather": {
          "logged": 1653006105155
        }
      }
    },
    {
      "cell_type": "code",
      "source": [
        "print('O tipo 2 do pokémon é %s' % tipo2)"
      ],
      "outputs": [
        {
          "output_type": "stream",
          "name": "stdout",
          "text": "O tipo 2 do pokémon é venenoso\n"
        }
      ],
      "execution_count": 42,
      "metadata": {
        "jupyter": {
          "source_hidden": false,
          "outputs_hidden": false
        },
        "nteract": {
          "transient": {
            "deleting": false
          }
        },
        "gather": {
          "logged": 1653006109342
        }
      }
    },
    {
      "cell_type": "code",
      "source": [
        "print('O HP do pokémon é',hp)"
      ],
      "outputs": [
        {
          "output_type": "stream",
          "name": "stdout",
          "text": "O HP do pokémon é 45\n"
        }
      ],
      "execution_count": 43,
      "metadata": {
        "jupyter": {
          "source_hidden": false,
          "outputs_hidden": false
        },
        "nteract": {
          "transient": {
            "deleting": false
          }
        },
        "gather": {
          "logged": 1653006125667
        }
      }
    },
    {
      "cell_type": "code",
      "source": [
        "# Mostrando tudo na POKEDEX\r\n",
        "print('O nome do pokémon é %s' % nome)\r\n",
        "print('O tipo 1 do pokémon é %s' % tipo1)\r\n",
        "print('O tipo 2 do pokémon é %s' % tipo2)\r\n",
        "print('O hp do pokémon é %d' % hp)\r\n",
        "print('O ataque especial do pokémon é %d' % ataqueespecial)\r\n",
        "print('A defesa especial do pokémon é %d' % defesaespecial)\r\n",
        "print('É um pokémon LENDÁRIO? %s ' % lendario)\r\n"
      ],
      "outputs": [
        {
          "output_type": "stream",
          "name": "stdout",
          "text": "O nome do pokémon é Bulsauro\nO tipo 1 do pokémon é grama\nO tipo 2 do pokémon é venenoso\nO hp do pokémon é 45\nO ataque especial do pokémon é 65\nA defesa especial do pokémon é 65\nÉ um pokémon LENDÁRIO? False \n"
        }
      ],
      "execution_count": 44,
      "metadata": {
        "jupyter": {
          "source_hidden": false,
          "outputs_hidden": false
        },
        "nteract": {
          "transient": {
            "deleting": false
          }
        },
        "gather": {
          "logged": 1653006158921
        }
      }
    },
    {
      "cell_type": "code",
      "source": [
        "## Capturando o nosso próximo pokémon"
      ],
      "outputs": [],
      "execution_count": null,
      "metadata": {
        "jupyter": {
          "source_hidden": false,
          "outputs_hidden": false
        },
        "nteract": {
          "transient": {
            "deleting": false
          }
        }
      }
    },
    {
      "cell_type": "code",
      "source": [
        "nome_segundopokemon = 'Charmander'\r\n",
        "tipo1_segundopokemon = 'Fogo'\r\n",
        "hp_segundopokemon = 39\r\n",
        "ataque_segundopokemon = 52 \r\n",
        "defesa_segundopokemon = 43\r\n",
        "ataqueespecial_segundopokemon = 60\r\n",
        "defesaespecial_segundopokemon = 50\r\n",
        "velocidade_segundopokemon = 65\r\n",
        "lendario_segundopokemon = False\r\n"
      ],
      "outputs": [],
      "execution_count": 52,
      "metadata": {
        "jupyter": {
          "source_hidden": false,
          "outputs_hidden": false
        },
        "nteract": {
          "transient": {
            "deleting": false
          }
        },
        "gather": {
          "logged": 1653006635558
        }
      }
    },
    {
      "cell_type": "code",
      "source": [
        "type(velocidade_segundopokemon)"
      ],
      "outputs": [
        {
          "output_type": "execute_result",
          "execution_count": 53,
          "data": {
            "text/plain": "int"
          },
          "metadata": {}
        }
      ],
      "execution_count": 53,
      "metadata": {
        "jupyter": {
          "source_hidden": false,
          "outputs_hidden": false
        },
        "nteract": {
          "transient": {
            "deleting": false
          }
        },
        "gather": {
          "logged": 1653006644816
        }
      }
    },
    {
      "cell_type": "code",
      "source": [
        "type(nome_segundopokemon)"
      ],
      "outputs": [
        {
          "output_type": "execute_result",
          "execution_count": 47,
          "data": {
            "text/plain": "str"
          },
          "metadata": {}
        }
      ],
      "execution_count": 47,
      "metadata": {
        "jupyter": {
          "source_hidden": false,
          "outputs_hidden": false
        },
        "nteract": {
          "transient": {
            "deleting": false
          }
        },
        "gather": {
          "logged": 1653006422778
        }
      }
    },
    {
      "cell_type": "code",
      "source": [
        "type(lendario_segundopokemon)"
      ],
      "outputs": [
        {
          "output_type": "execute_result",
          "execution_count": 54,
          "data": {
            "text/plain": "bool"
          },
          "metadata": {}
        }
      ],
      "execution_count": 54,
      "metadata": {
        "jupyter": {
          "source_hidden": false,
          "outputs_hidden": false
        },
        "nteract": {
          "transient": {
            "deleting": false
          }
        },
        "gather": {
          "logged": 1653006660341
        }
      }
    },
    {
      "cell_type": "code",
      "source": [
        "# Mostrando tudo na POKEDEX - pókemon 2 e do primeiro? Como resolver?\r\n",
        "print('O nome do pokémon é %s' % nome_segundopokemon)\r\n",
        "print('O tipo 1 do pokémon é %s' % tipo1_segundopokemon)\r\n",
        "print('O hp do pokémon é %d' % hp_segundopokemon)\r\n",
        "print('O ataque especial do pokémon é %d' % ataqueespecial_segundopokemon)\r\n",
        "print('A defesa especial do pokémon é %d' % defesaespecial_segundopokemon)\r\n",
        "print('É um pokémon LENDÁRIO? %s ' % lendario_segundopokemon)"
      ],
      "outputs": [
        {
          "output_type": "stream",
          "name": "stdout",
          "text": "O nome do pokémon é Charmander\nO tipo 1 do pokémon é Fogo\nO hp do pokémon é 39\nO ataque especial do pokémon é 60\nA defesa especial do pokémon é 50\nÉ um pokémon LENDÁRIO? False \n"
        }
      ],
      "execution_count": 55,
      "metadata": {
        "jupyter": {
          "source_hidden": false,
          "outputs_hidden": false
        },
        "nteract": {
          "transient": {
            "deleting": false
          }
        },
        "gather": {
          "logged": 1653006703314
        }
      }
    },
    {
      "cell_type": "code",
      "source": [
        "print('O nome do pokémon é %s' % nome)"
      ],
      "outputs": [
        {
          "output_type": "stream",
          "name": "stdout",
          "text": "O nome do pokémon é Bulsauro\n"
        }
      ],
      "execution_count": 69,
      "metadata": {
        "jupyter": {
          "source_hidden": false,
          "outputs_hidden": false
        },
        "nteract": {
          "transient": {
            "deleting": false
          }
        },
        "gather": {
          "logged": 1653006763000
        }
      }
    },
    {
      "cell_type": "markdown",
      "source": [
        "<h2> Operadores Aritméticos </h2>\r\n",
        "Assim como na Matemática, podemos efetuar operações aritméticas (soma, subtração, potência, divisão, multiplicação,...) sobre os dados armazenados em variáveis. \r\n",
        "</br>\r\n",
        "Operadores: </br>\r\n",
        "1. adição +</br>\r\n",
        "2. subtração -</br>\r\n",
        "3. multiplicação *</br>\r\n",
        "4. divisão / </br>\r\n",
        "5. divisão inteira //</br>\r\n",
        "6. módulo da divisão % </br>\r\n",
        "7. potência ** </br>\r\n"
      ],
      "metadata": {
        "nteract": {
          "transient": {
            "deleting": false
          }
        }
      }
    },
    {
      "cell_type": "code",
      "source": [
        "## Simulando uma briga entre Bulsauro e Charmander. Charmander solta um Lança-Chamas. Podemos efetuar operações matemáticas entre os valores das variáveis."
      ],
      "outputs": [],
      "execution_count": null,
      "metadata": {
        "jupyter": {
          "source_hidden": false,
          "outputs_hidden": false
        },
        "nteract": {
          "transient": {
            "deleting": false
          }
        }
      }
    },
    {
      "cell_type": "code",
      "source": [
        "hpbulsauro = 39 - 10\r\n"
      ],
      "outputs": [],
      "execution_count": null,
      "metadata": {
        "jupyter": {
          "source_hidden": false,
          "outputs_hidden": false
        },
        "nteract": {
          "transient": {
            "deleting": false
          }
        },
        "gather": {
          "logged": 1651465243847
        }
      }
    },
    {
      "cell_type": "code",
      "source": [
        "print(hpbulsauro)"
      ],
      "outputs": [],
      "execution_count": null,
      "metadata": {
        "jupyter": {
          "source_hidden": false,
          "outputs_hidden": false
        },
        "nteract": {
          "transient": {
            "deleting": false
          }
        },
        "gather": {
          "logged": 1651465252986
        }
      }
    },
    {
      "cell_type": "code",
      "source": [
        "## Bulsauro soltará Seed Bomb, dano de 5"
      ],
      "outputs": [],
      "execution_count": null,
      "metadata": {
        "jupyter": {
          "source_hidden": false,
          "outputs_hidden": false
        },
        "nteract": {
          "transient": {
            "deleting": false
          }
        }
      }
    },
    {
      "cell_type": "code",
      "source": [
        "hpchamander = 39 - 5"
      ],
      "outputs": [],
      "execution_count": null,
      "metadata": {
        "jupyter": {
          "source_hidden": false,
          "outputs_hidden": false
        },
        "nteract": {
          "transient": {
            "deleting": false
          }
        },
        "gather": {
          "logged": 1651465444056
        }
      }
    },
    {
      "cell_type": "code",
      "source": [
        "hpchamander"
      ],
      "outputs": [],
      "execution_count": null,
      "metadata": {
        "jupyter": {
          "source_hidden": false,
          "outputs_hidden": false
        },
        "nteract": {
          "transient": {
            "deleting": false
          }
        },
        "gather": {
          "logged": 1651465445748
        }
      }
    },
    {
      "cell_type": "markdown",
      "source": [
        "Exibir placar atual entre ambos."
      ],
      "metadata": {
        "nteract": {
          "transient": {
            "deleting": false
          }
        }
      }
    },
    {
      "cell_type": "code",
      "source": [
        "print('1 Nessa batalha pokémon temos ... ')\r\n",
        "print('O HP do pokémon {0} está {1}'.format(nome,hpbulsauro))\r\n",
        "print('O HP do pokémon {0} está {1}'.format(nome,hpchamander))"
      ],
      "outputs": [],
      "execution_count": null,
      "metadata": {
        "jupyter": {
          "source_hidden": false,
          "outputs_hidden": false
        },
        "nteract": {
          "transient": {
            "deleting": false
          }
        },
        "gather": {
          "logged": 1651465651669
        }
      }
    },
    {
      "cell_type": "code",
      "source": [
        "# Mais ataques: chamander lança brasas. Bulsauro lançará outro Seed Bomb de 5"
      ],
      "outputs": [],
      "execution_count": null,
      "metadata": {
        "jupyter": {
          "source_hidden": false,
          "outputs_hidden": false
        },
        "nteract": {
          "transient": {
            "deleting": false
          }
        }
      }
    },
    {
      "cell_type": "code",
      "source": [
        "hpbulsauro = hpbulsauro - 20"
      ],
      "outputs": [],
      "execution_count": null,
      "metadata": {
        "jupyter": {
          "source_hidden": false,
          "outputs_hidden": false
        },
        "nteract": {
          "transient": {
            "deleting": false
          }
        },
        "gather": {
          "logged": 1651465733834
        }
      }
    },
    {
      "cell_type": "code",
      "source": [
        "hpbulsauro"
      ],
      "outputs": [],
      "execution_count": null,
      "metadata": {
        "jupyter": {
          "source_hidden": false,
          "outputs_hidden": false
        },
        "nteract": {
          "transient": {
            "deleting": false
          }
        },
        "gather": {
          "logged": 1651465735701
        }
      }
    },
    {
      "cell_type": "code",
      "source": [
        "hpchamander = hpchamander - 5"
      ],
      "outputs": [],
      "execution_count": null,
      "metadata": {
        "jupyter": {
          "source_hidden": false,
          "outputs_hidden": false
        },
        "nteract": {
          "transient": {
            "deleting": false
          }
        },
        "gather": {
          "logged": 1651465800778
        }
      }
    },
    {
      "cell_type": "code",
      "source": [
        "hpchamander"
      ],
      "outputs": [],
      "execution_count": null,
      "metadata": {
        "jupyter": {
          "source_hidden": false,
          "outputs_hidden": false
        },
        "nteract": {
          "transient": {
            "deleting": false
          }
        },
        "gather": {
          "logged": 1651465805728
        }
      }
    },
    {
      "cell_type": "code",
      "source": [
        "print('2 Nessa batalha pokémon temos ... ')\r\n",
        "print('O HP do pokémon {0} está {1}'.format(nome,hpbulsauro))\r\n",
        "print('O HP do pokémon {0} está {1}'.format(nome,hpchamander))"
      ],
      "outputs": [],
      "execution_count": null,
      "metadata": {
        "jupyter": {
          "source_hidden": false,
          "outputs_hidden": false
        },
        "nteract": {
          "transient": {
            "deleting": false
          }
        },
        "gather": {
          "logged": 1651465830981
        }
      }
    },
    {
      "cell_type": "code",
      "source": [
        "# Mais ataques: chamander lança brasas. Bulsauro morre"
      ],
      "outputs": [],
      "execution_count": null,
      "metadata": {
        "jupyter": {
          "source_hidden": false,
          "outputs_hidden": false
        },
        "nteract": {
          "transient": {
            "deleting": false
          }
        }
      }
    },
    {
      "cell_type": "code",
      "source": [
        "hpbulsauro = hpbulsauro - 20"
      ],
      "outputs": [],
      "execution_count": null,
      "metadata": {
        "jupyter": {
          "source_hidden": false,
          "outputs_hidden": false
        },
        "nteract": {
          "transient": {
            "deleting": false
          }
        },
        "gather": {
          "logged": 1651465886707
        }
      }
    },
    {
      "cell_type": "code",
      "source": [
        "hpbulsauro"
      ],
      "outputs": [],
      "execution_count": null,
      "metadata": {
        "jupyter": {
          "source_hidden": false,
          "outputs_hidden": false
        },
        "nteract": {
          "transient": {
            "deleting": false
          }
        },
        "gather": {
          "logged": 1651465889233
        }
      }
    },
    {
      "cell_type": "code",
      "source": [
        "print('3 Nessa batalha pokémon temos ... ')\r\n",
        "print('O HP do pokémon {0} está {1}'.format(nome,hpbulsauro))\r\n",
        "print('O HP do pokémon {0} está {1}'.format(nome,hpchamander))\r\n",
        "print('O pokémon {0} ganhou!'.format(nome))"
      ],
      "outputs": [],
      "execution_count": null,
      "metadata": {
        "jupyter": {
          "source_hidden": false,
          "outputs_hidden": false
        },
        "nteract": {
          "transient": {
            "deleting": false
          }
        }
      }
    },
    {
      "cell_type": "code",
      "source": [
        "# Outras manipulações - operadores aritméticos\r\n",
        "hpchamander = hpchamander + 20\r\n",
        "# Somando valores\r\n",
        "print(hpchamander)"
      ],
      "outputs": [],
      "execution_count": null,
      "metadata": {
        "jupyter": {
          "source_hidden": false,
          "outputs_hidden": false
        },
        "nteract": {
          "transient": {
            "deleting": false
          }
        }
      }
    },
    {
      "cell_type": "code",
      "source": [
        "# Outras manipulações - operadores aritméticos\r\n",
        "hpchamander = hpchamander - 5\r\n",
        "# Subtraindo valores\r\n",
        "print(hpchamander)"
      ],
      "outputs": [],
      "execution_count": null,
      "metadata": {
        "jupyter": {
          "source_hidden": false,
          "outputs_hidden": false
        },
        "nteract": {
          "transient": {
            "deleting": false
          }
        }
      }
    },
    {
      "cell_type": "code",
      "source": [
        "# Outras manipulações - operadores aritméticos\r\n",
        "hpchamander = hpchamander * 2\r\n",
        "# Multiplicando valores\r\n",
        "print(hpchamander)"
      ],
      "outputs": [],
      "execution_count": null,
      "metadata": {
        "jupyter": {
          "source_hidden": false,
          "outputs_hidden": false
        },
        "nteract": {
          "transient": {
            "deleting": false
          }
        }
      }
    },
    {
      "cell_type": "code",
      "source": [
        "# Outras manipulações - operadores aritméticos\r\n",
        "hpchamander = hpchamander / 2.0 # um valor real\r\n",
        "# Divindo valores\r\n",
        "print(hpchamander)\r\n",
        "print(type(hpchamander))"
      ],
      "outputs": [],
      "execution_count": null,
      "metadata": {
        "jupyter": {
          "source_hidden": false,
          "outputs_hidden": false
        },
        "nteract": {
          "transient": {
            "deleting": false
          }
        },
        "gather": {
          "logged": 1651466089656
        }
      }
    },
    {
      "cell_type": "code",
      "source": [
        "# Outras manipulações - operadores aritméticos\r\n",
        "hpchamander = hpchamander // 2 # (um valor inteiro)\r\n",
        "# Divindo valores\r\n",
        "print(hpchamander)\r\n",
        "print(type(hpchamander))"
      ],
      "outputs": [],
      "execution_count": null,
      "metadata": {
        "jupyter": {
          "source_hidden": false,
          "outputs_hidden": false
        },
        "nteract": {
          "transient": {
            "deleting": false
          }
        },
        "gather": {
          "logged": 1652920188352
        }
      }
    },
    {
      "cell_type": "code",
      "source": [
        "# Outras manipulações - operadores aritméticos\r\n",
        "# Potência\r\n",
        "print(hpchamander)\r\n",
        "print(hpchamander ** 2)"
      ],
      "outputs": [],
      "execution_count": null,
      "metadata": {
        "jupyter": {
          "source_hidden": false,
          "outputs_hidden": false
        },
        "nteract": {
          "transient": {
            "deleting": false
          }
        },
        "gather": {
          "logged": 1651466139926
        }
      }
    },
    {
      "cell_type": "code",
      "source": [
        "hpchamander = 39\r\n",
        "hpchamander = hpchamander * 2\r\n",
        "print(hpchamander)"
      ],
      "outputs": [],
      "execution_count": null,
      "metadata": {
        "jupyter": {
          "source_hidden": false,
          "outputs_hidden": false
        },
        "nteract": {
          "transient": {
            "deleting": false
          }
        }
      }
    },
    {
      "cell_type": "code",
      "source": [
        "hpchamander = 39\r\n",
        "hpchamander *= 2\r\n",
        "print(hpchamander)"
      ],
      "outputs": [],
      "execution_count": null,
      "metadata": {
        "jupyter": {
          "source_hidden": false,
          "outputs_hidden": false
        },
        "nteract": {
          "transient": {
            "deleting": false
          }
        },
        "gather": {
          "logged": 1651466254701
        }
      }
    },
    {
      "cell_type": "code",
      "source": [
        "hpchamander = 39\r\n",
        "hpchamander = hpchamander + 5\r\n"
      ],
      "outputs": [],
      "execution_count": null,
      "metadata": {
        "jupyter": {
          "source_hidden": false,
          "outputs_hidden": false
        },
        "nteract": {
          "transient": {
            "deleting": false
          }
        }
      }
    },
    {
      "cell_type": "code",
      "source": [
        "hpchamander += 5\r\n",
        "hpchamander"
      ],
      "outputs": [],
      "execution_count": null,
      "metadata": {
        "jupyter": {
          "source_hidden": false,
          "outputs_hidden": false
        },
        "nteract": {
          "transient": {
            "deleting": false
          }
        }
      }
    }
  ],
  "metadata": {
    "kernelspec": {
      "name": "python38-azureml",
      "language": "python",
      "display_name": "Python 3.8 - AzureML"
    },
    "language_info": {
      "name": "python",
      "version": "3.8.1",
      "mimetype": "text/x-python",
      "codemirror_mode": {
        "name": "ipython",
        "version": 3
      },
      "pygments_lexer": "ipython3",
      "nbconvert_exporter": "python",
      "file_extension": ".py"
    },
    "kernel_info": {
      "name": "python38-azureml"
    },
    "nteract": {
      "version": "nteract-front-end@1.0.0"
    }
  },
  "nbformat": 4,
  "nbformat_minor": 2
}