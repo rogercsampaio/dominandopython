{
  "cells": [
    {
      "cell_type": "markdown",
      "source": [
        "# Aula 16 - Arquivos"
      ],
      "metadata": {}
    },
    {
      "cell_type": "markdown",
      "source": [
        "Tipos de arquivos: textos, csv, planilhas (.xls), json, documentos do word (docx)..."
      ],
      "metadata": {
        "nteract": {
          "transient": {
            "deleting": false
          }
        }
      }
    },
    {
      "cell_type": "markdown",
      "source": [
        "### Arquivos texto."
      ],
      "metadata": {}
    },
    {
      "cell_type": "markdown",
      "source": [
        "Em Python podemos utilizar os arquivos como uma fonte de dados seja para escrever ou ler dados. Arquivos textos, .csv, .xls (planilhas) entre outros são alguns formatos suportados."
      ],
      "metadata": {}
    },
    {
      "cell_type": "code",
      "source": [
        "# Suponha que tenhamos os seguintes registros que iremos armazenar em um arquivo\n",
        "registros_candidatos = { \"Ana Maria\": [\"99423-1981\",\"F\",52,1.71, [\"python\",\"SQLServer\"]],\n",
        "                   \"Carlos João\": [\"99810-5610\",\"M\",41,1.63, [\"python\",\"Spark\"]],\n",
        "                   \"Carlos Henrique\": [\"99844-0112\",\"M\",32,1.81,[\"python\",\"Java\",\"MongoDB\"]]}"
      ],
      "outputs": [],
      "execution_count": 36,
      "metadata": {
        "gather": {
          "logged": 1664422745539
        }
      }
    },
    {
      "cell_type": "code",
      "source": [
        "type(registros_candidatos)"
      ],
      "outputs": [
        {
          "output_type": "execute_result",
          "execution_count": 37,
          "data": {
            "text/plain": "dict"
          },
          "metadata": {}
        }
      ],
      "execution_count": 37,
      "metadata": {
        "gather": {
          "logged": 1664422751874
        }
      }
    },
    {
      "cell_type": "code",
      "source": [
        "i = 1\r\n",
        "for chave,valor in registros_candidatos.items():\r\n",
        "    print(\"Registro: \", i)\r\n",
        "    print(chave)\r\n",
        "    print(valor)\r\n",
        "    i +=1 # i = i + 1"
      ],
      "outputs": [
        {
          "output_type": "stream",
          "name": "stdout",
          "text": "Registro:  1\nAna Maria\n['99423-1981', 'F', 52, 1.71, ['python', 'SQLServer']]\nRegistro:  2\nCarlos João\n['99810-5610', 'M', 41, 1.63, ['python', 'Spark']]\nRegistro:  3\nCarlos Henrique\n['99844-0112', 'M', 32, 1.81, ['python', 'Java', 'MongoDB']]\n"
        }
      ],
      "execution_count": 38,
      "metadata": {
        "jupyter": {
          "source_hidden": false,
          "outputs_hidden": false
        },
        "nteract": {
          "transient": {
            "deleting": false
          }
        },
        "gather": {
          "logged": 1664422879271
        }
      }
    },
    {
      "cell_type": "code",
      "source": [
        "# Função open abre o arquivo a partir de um modo especificado.\r\n",
        "arquivoRegistros = open(\"registros.txt\",\"w\")"
      ],
      "outputs": [],
      "execution_count": 39,
      "metadata": {
        "jupyter": {
          "source_hidden": false,
          "outputs_hidden": false
        },
        "nteract": {
          "transient": {
            "deleting": false
          }
        },
        "gather": {
          "logged": 1664423136133
        }
      }
    },
    {
      "cell_type": "code",
      "source": [
        "type(arquivoRegistros)"
      ],
      "outputs": [
        {
          "output_type": "execute_result",
          "execution_count": 40,
          "data": {
            "text/plain": "_io.TextIOWrapper"
          },
          "metadata": {}
        }
      ],
      "execution_count": 40,
      "metadata": {
        "jupyter": {
          "source_hidden": false,
          "outputs_hidden": false
        },
        "nteract": {
          "transient": {
            "deleting": false
          }
        },
        "gather": {
          "logged": 1664423161319
        }
      }
    },
    {
      "cell_type": "markdown",
      "source": [
        "<h3> Escrevendo nos arquivos </h3>"
      ],
      "metadata": {
        "nteract": {
          "transient": {
            "deleting": false
          }
        }
      }
    },
    {
      "cell_type": "markdown",
      "source": [
        "O método write() escreve no arquivo recebendo como parâmetro uma string. O método writelines() recebe um objeto iterável (lista, tupla, dicionário, etc)."
      ],
      "metadata": {
        "nteract": {
          "transient": {
            "deleting": false
          }
        }
      }
    },
    {
      "cell_type": "code",
      "source": [
        "# Usando o método write()\r\n",
        "for item in registros_candidatos.items():\r\n",
        "    arquivoRegistros.write(str(item))"
      ],
      "outputs": [],
      "execution_count": 41,
      "metadata": {
        "jupyter": {
          "source_hidden": false,
          "outputs_hidden": false
        },
        "nteract": {
          "transient": {
            "deleting": false
          }
        },
        "gather": {
          "logged": 1664423238109
        }
      }
    },
    {
      "cell_type": "code",
      "source": [
        "# # Usando o método writelines()\r\n",
        "# arquivoRegistros2 = open(\"registros2.txt\",\"w\")\r\n",
        "# arquivoRegistros2.writelines(str(registrosPessoas.items()))"
      ],
      "outputs": [],
      "execution_count": null,
      "metadata": {
        "jupyter": {
          "source_hidden": false,
          "outputs_hidden": false
        },
        "nteract": {
          "transient": {
            "deleting": false
          }
        }
      }
    },
    {
      "cell_type": "markdown",
      "source": [
        "<h3> <center> Modos de Uso de Arquivos </center> </h3>\n",
        "<img src=\"images/modosArquivos.png\" alt=\"Modos de Uso\" width=\"500\" height=\"600\">"
      ],
      "metadata": {}
    },
    {
      "cell_type": "markdown",
      "source": [
        "## Fechando o arquivo"
      ],
      "metadata": {
        "nteract": {
          "transient": {
            "deleting": false
          }
        }
      }
    },
    {
      "cell_type": "code",
      "source": [
        "# Fechando o arquivo, boa prática\r\n",
        "arquivoRegistros.close()"
      ],
      "outputs": [],
      "execution_count": 42,
      "metadata": {
        "jupyter": {
          "source_hidden": false,
          "outputs_hidden": false
        },
        "nteract": {
          "transient": {
            "deleting": false
          }
        },
        "gather": {
          "logged": 1664423278286
        }
      }
    },
    {
      "cell_type": "markdown",
      "source": [
        "<h3> Abrindo arquivos e lendo </h3>"
      ],
      "metadata": {}
    },
    {
      "cell_type": "code",
      "source": [
        "with open('registros.txt','r') as arq:\r\n",
        "    print(arq.readlines())\r\n",
        "# Quando você usa a expressão with open, o arquivo é automaticamente fechado após o uso"
      ],
      "outputs": [
        {
          "output_type": "stream",
          "name": "stdout",
          "text": "[\"('Ana Maria', ['99423-1981', 'F', 52, 1.71, ['python', 'SQLServer']])('Carlos João', ['99810-5610', 'M', 41, 1.63, ['python', 'Spark']])('Carlos Henrique', ['99844-0112', 'M', 32, 1.81, ['python', 'Java', 'MongoDB']])\"]\n"
        }
      ],
      "execution_count": 43,
      "metadata": {
        "jupyter": {
          "source_hidden": false,
          "outputs_hidden": false
        },
        "nteract": {
          "transient": {
            "deleting": false
          }
        },
        "gather": {
          "logged": 1664423508474
        }
      }
    },
    {
      "cell_type": "code",
      "source": [
        "arquivo = open(\"registros.txt\",\"r\")"
      ],
      "outputs": [],
      "execution_count": 55,
      "metadata": {
        "gather": {
          "logged": 1664423795944
        }
      }
    },
    {
      "cell_type": "code",
      "source": [
        "# Leitura de todas as linhas\n",
        "print(arquivo.readlines())"
      ],
      "outputs": [
        {
          "output_type": "stream",
          "name": "stdout",
          "text": "[\"('Ana Maria', ['99423-1981', 'F', 52, 1.71, ['python', 'SQLServer']])('Carlos João', ['99810-5610', 'M', 41, 1.63, ['python', 'Spark']])('Carlos Henrique', ['99844-0112', 'M', 32, 1.81, ['python', 'Java', 'MongoDB']])\"]\n"
        }
      ],
      "execution_count": 53,
      "metadata": {
        "gather": {
          "logged": 1664423755789
        }
      }
    },
    {
      "cell_type": "code",
      "source": [
        "# Ler a quantidade de n caracteres passados como parâmetro\n",
        "print(arquivo.readline(5))"
      ],
      "outputs": [
        {
          "output_type": "stream",
          "name": "stdout",
          "text": "('Ana\n"
        }
      ],
      "execution_count": 56,
      "metadata": {
        "gather": {
          "logged": 1664423802636
        }
      }
    },
    {
      "cell_type": "code",
      "source": [
        "# Fechando o arquivo (ponteiro)\n",
        "arquivo.close()"
      ],
      "outputs": [],
      "execution_count": 57,
      "metadata": {
        "gather": {
          "logged": 1664423808723
        }
      }
    },
    {
      "cell_type": "markdown",
      "source": [
        "Mais exemplos ..."
      ],
      "metadata": {}
    },
    {
      "cell_type": "code",
      "source": [
        "listaFrutas = []"
      ],
      "outputs": [],
      "execution_count": 58,
      "metadata": {
        "gather": {
          "logged": 1664423816500
        }
      }
    },
    {
      "cell_type": "code",
      "source": [
        "listaFrutas.append(\"uva\")"
      ],
      "outputs": [],
      "execution_count": 59,
      "metadata": {
        "gather": {
          "logged": 1664423823166
        }
      }
    },
    {
      "cell_type": "code",
      "source": [
        "listaFrutas.append(\"banana\")"
      ],
      "outputs": [],
      "execution_count": 60,
      "metadata": {
        "gather": {
          "logged": 1664423824706
        }
      }
    },
    {
      "cell_type": "code",
      "source": [
        "listaFrutas.append(\"abacaxi\")"
      ],
      "outputs": [],
      "execution_count": 61,
      "metadata": {
        "gather": {
          "logged": 1664423825957
        }
      }
    },
    {
      "cell_type": "code",
      "source": [
        "arquivoFrutas = open(\"frutas.txt\",\"w\")"
      ],
      "outputs": [],
      "execution_count": 62,
      "metadata": {
        "gather": {
          "logged": 1664423837936
        }
      }
    },
    {
      "cell_type": "code",
      "source": [
        "# Escrevendo no arquivo\n",
        "arquivoFrutas.write(str(listaFrutas))"
      ],
      "outputs": [
        {
          "output_type": "execute_result",
          "execution_count": 63,
          "data": {
            "text/plain": "28"
          },
          "metadata": {}
        }
      ],
      "execution_count": 63,
      "metadata": {
        "gather": {
          "logged": 1664423861904
        }
      }
    },
    {
      "cell_type": "code",
      "source": [
        "# Fechando o arquivo\n",
        "arquivoFrutas.close()"
      ],
      "outputs": [],
      "execution_count": 64,
      "metadata": {
        "gather": {
          "logged": 1664423872472
        }
      }
    },
    {
      "cell_type": "code",
      "source": [
        "# Atualizando o arquivo - modo append\n",
        "arquivoFrutas = open(\"frutas.txt\",\"a\")"
      ],
      "outputs": [],
      "execution_count": 65,
      "metadata": {
        "gather": {
          "logged": 1664423910560
        }
      }
    },
    {
      "cell_type": "code",
      "source": [
        "lista2 = []\r\n",
        "lista2.append(\"pêra\")"
      ],
      "outputs": [],
      "execution_count": 69,
      "metadata": {
        "gather": {
          "logged": 1664423947495
        }
      }
    },
    {
      "cell_type": "code",
      "source": [
        "lista2.append(\"maça\")"
      ],
      "outputs": [],
      "execution_count": 70,
      "metadata": {
        "gather": {
          "logged": 1664423949042
        }
      }
    },
    {
      "cell_type": "code",
      "source": [
        "# Escrevendo no arquivo\n",
        "arquivoFrutas.write(str(lista2))"
      ],
      "outputs": [
        {
          "output_type": "execute_result",
          "execution_count": 71,
          "data": {
            "text/plain": "16"
          },
          "metadata": {}
        }
      ],
      "execution_count": 71,
      "metadata": {
        "gather": {
          "logged": 1664423950519
        }
      }
    },
    {
      "cell_type": "code",
      "source": [
        "# Fechando o arquivo\n",
        "arquivoFrutas.close()"
      ],
      "outputs": [],
      "execution_count": 72,
      "metadata": {
        "gather": {
          "logged": 1664423953958
        }
      }
    },
    {
      "cell_type": "code",
      "source": [
        "# Abrindo o arquivo\n",
        "arquivoFrutas = open(\"frutas.txt\",\"r\")"
      ],
      "outputs": [],
      "execution_count": 73,
      "metadata": {
        "gather": {
          "logged": 1664423976659
        }
      }
    },
    {
      "cell_type": "code",
      "source": [
        "# Lendo o arquivo\n",
        "print(arquivoFrutas.readlines())"
      ],
      "outputs": [
        {
          "output_type": "stream",
          "name": "stdout",
          "text": "[\"['uva', 'banana', 'abacaxi']['pêra', 'maça']\"]\n"
        }
      ],
      "execution_count": 74,
      "metadata": {
        "gather": {
          "logged": 1664423983654
        }
      }
    },
    {
      "cell_type": "code",
      "source": [
        "arquivoFrutas.close()"
      ],
      "outputs": [],
      "execution_count": 75,
      "metadata": {
        "gather": {
          "logged": 1664423993557
        }
      }
    },
    {
      "cell_type": "markdown",
      "source": [
        "## Arquivo CSV."
      ],
      "metadata": {
        "nteract": {
          "transient": {
            "deleting": false
          }
        }
      }
    },
    {
      "cell_type": "code",
      "source": [
        "import csv\r\n",
        "i = 0\r\n",
        "lista_registros = []\r\n",
        "ficheiro = open('bases/Pokemon.csv', 'r')\r\n",
        "reader = csv.reader(ficheiro) # Trabalha uma linha por vez\r\n",
        "for linha in reader:\r\n",
        "    print(linha)\r\n",
        "    lista_registros.append(linha)\r\n",
        "    "
      ],
      "outputs": [],
      "execution_count": null,
      "metadata": {
        "jupyter": {
          "source_hidden": false,
          "outputs_hidden": false
        },
        "nteract": {
          "transient": {
            "deleting": false
          }
        },
        "gather": {
          "logged": 1664419243649
        }
      }
    },
    {
      "cell_type": "code",
      "source": [
        "len(lista_registros)"
      ],
      "outputs": [],
      "execution_count": null,
      "metadata": {
        "jupyter": {
          "source_hidden": false,
          "outputs_hidden": false
        },
        "nteract": {
          "transient": {
            "deleting": false
          }
        },
        "gather": {
          "logged": 1664419250217
        }
      }
    },
    {
      "cell_type": "code",
      "source": [
        "for item in lista_registros[0:3]:\r\n",
        "    print(item)"
      ],
      "outputs": [],
      "execution_count": null,
      "metadata": {
        "jupyter": {
          "source_hidden": false,
          "outputs_hidden": false
        },
        "nteract": {
          "transient": {
            "deleting": false
          }
        },
        "gather": {
          "logged": 1664419324176
        }
      }
    },
    {
      "cell_type": "code",
      "source": [
        "# Corte pela metade da lista\r\n",
        "lista_registros2 = lista_registros[0:len(lista_registros)//2]\r\n",
        "len(lista_registros2)"
      ],
      "outputs": [],
      "execution_count": null,
      "metadata": {
        "jupyter": {
          "source_hidden": false,
          "outputs_hidden": false
        },
        "nteract": {
          "transient": {
            "deleting": false
          }
        },
        "gather": {
          "logged": 1664419381690
        }
      }
    },
    {
      "cell_type": "code",
      "source": [
        "for item in lista_registros2[0:3]:\r\n",
        "    print(item)"
      ],
      "outputs": [],
      "execution_count": null,
      "metadata": {
        "jupyter": {
          "source_hidden": false,
          "outputs_hidden": false
        },
        "nteract": {
          "transient": {
            "deleting": false
          }
        },
        "gather": {
          "logged": 1664419395898
        }
      }
    },
    {
      "cell_type": "code",
      "source": [
        "# Abrir o arquivo no modo de escrita\r\n",
        "f = open('bases/pokemons2.csv', 'w')\r\n",
        "\r\n",
        "# Criar o ponteiro\r\n",
        "writer = csv.writer(f)\r\n",
        "\r\n",
        "# Escrever as linhas desejadas\r\n",
        "writer.writerows(lista_registros2) \r\n",
        "# writer.writerow = uma única linha\r\n",
        "\r\n",
        "# Fechar o arquivos\r\n",
        "f.close()"
      ],
      "outputs": [],
      "execution_count": null,
      "metadata": {
        "jupyter": {
          "source_hidden": false,
          "outputs_hidden": false
        },
        "nteract": {
          "transient": {
            "deleting": false
          }
        },
        "gather": {
          "logged": 1664419431440
        }
      }
    },
    {
      "cell_type": "code",
      "source": [
        "# Abrindo o arquivo no modelo de escrita\r\n",
        "with open('bases/pokemons2.csv', 'w', encoding='UTF8') as f:\r\n",
        "    # Criar o ponteiro\r\n",
        "    writer = csv.writer(f)\r\n",
        "\r\n",
        "    # Escrever as linhas desejadas\r\n",
        "    writer.writerow(lista_registros2)\r\n",
        "\r\n",
        "    # O método with open já fecha o arquivo, não necessitando do método close"
      ],
      "outputs": [],
      "execution_count": null,
      "metadata": {
        "jupyter": {
          "source_hidden": false,
          "outputs_hidden": false
        },
        "nteract": {
          "transient": {
            "deleting": false
          }
        },
        "gather": {
          "logged": 1664419465462
        }
      }
    },
    {
      "cell_type": "code",
      "source": [
        "ficheiro = open('bases/pokemons2.csv', 'r')\r\n",
        "reader = csv.reader(ficheiro) \r\n",
        "for linha in reader:\r\n",
        "    for item in linha:\r\n",
        "        print(item)"
      ],
      "outputs": [],
      "execution_count": null,
      "metadata": {
        "jupyter": {
          "source_hidden": false,
          "outputs_hidden": false
        },
        "nteract": {
          "transient": {
            "deleting": false
          }
        },
        "gather": {
          "logged": 1664419498352
        }
      }
    }
  ],
  "metadata": {
    "kernelspec": {
      "name": "python3",
      "language": "python",
      "display_name": "Python 3 (ipykernel)"
    },
    "language_info": {
      "name": "python",
      "version": "3.8.5",
      "mimetype": "text/x-python",
      "codemirror_mode": {
        "name": "ipython",
        "version": 3
      },
      "pygments_lexer": "ipython3",
      "nbconvert_exporter": "python",
      "file_extension": ".py"
    },
    "kernel_info": {
      "name": "python3"
    },
    "nteract": {
      "version": "nteract-front-end@1.0.0"
    },
    "microsoft": {
      "host": {
        "AzureML": {
          "notebookHasBeenCompleted": true
        }
      }
    }
  },
  "nbformat": 4,
  "nbformat_minor": 2
}