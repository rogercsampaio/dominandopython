{
  "cells": [
    {
      "cell_type": "markdown",
      "source": [
        "# Aula 08 - Correção de Exercícios Aula 07"
      ],
      "metadata": {
        "nteract": {
          "transient": {
            "deleting": false
          }
        }
      }
    },
    {
      "cell_type": "markdown",
      "source": [
        "### Exercício 01"
      ],
      "metadata": {
        "nteract": {
          "transient": {
            "deleting": false
          }
        }
      }
    },
    {
      "cell_type": "code",
      "source": [
        "# Solicitando o valor\r\n",
        "fat = 1\r\n",
        "msg = 'Informe o valor: '\r\n",
        "msgErro = 'Valor inválido. O valor não pode ser negativo, informe novamente.'\r\n",
        "valor = int(input(msg))\r\n",
        "while(valor < 0):\r\n",
        "    print(msgErro)\r\n",
        "    valor = int(input(msg))"
      ],
      "outputs": [],
      "execution_count": 14,
      "metadata": {
        "jupyter": {
          "source_hidden": false,
          "outputs_hidden": false
        },
        "nteract": {
          "transient": {
            "deleting": false
          }
        },
        "gather": {
          "logged": 1659484055975
        }
      }
    },
    {
      "cell_type": "code",
      "source": [
        "# Calculando o fatorial\r\n",
        "for contador in range(valor,1,-1):\r\n",
        "    fat = fat * contador\r\n",
        "else:\r\n",
        "    print('Valor informado: ',valor)\r\n",
        "    print('Fatorial: ',fat)\r\n"
      ],
      "outputs": [
        {
          "output_type": "stream",
          "name": "stdout",
          "text": "Valor informado:  3\nFatorial:  6\n"
        }
      ],
      "execution_count": 15,
      "metadata": {
        "jupyter": {
          "source_hidden": false,
          "outputs_hidden": false
        },
        "nteract": {
          "transient": {
            "deleting": false
          }
        },
        "gather": {
          "logged": 1659484057423
        }
      }
    },
    {
      "cell_type": "markdown",
      "source": [
        "## Exercício 02"
      ],
      "metadata": {
        "nteract": {
          "transient": {
            "deleting": false
          }
        }
      }
    },
    {
      "cell_type": "code",
      "source": [
        "## Definindo os valores padrões para variáveis\r\n",
        "quant_times = 2\r\n",
        "quant_jogadores_cada_time = 2\r\n",
        "total_jogadores = quant_times * quant_jogadores_cada_time\r\n",
        "\r\n",
        "# Idades\r\n",
        "quant_jog_maiores_idade = 0\r\n",
        "soma_idades = 0\r\n",
        "\r\n",
        "maior_idade = 0\r\n",
        "menor_idade = 100\r\n",
        "\r\n",
        "\r\n",
        "# Alturas\r\n",
        "soma_alturas = 0\r\n",
        "\r\n",
        "maior_altura = 0\r\n",
        "menor_altura = 3.0\r\n",
        "\r\n",
        "# Pesos\r\n",
        "maiores_80kg = 0\r\n"
      ],
      "outputs": [],
      "execution_count": 27,
      "metadata": {
        "jupyter": {
          "source_hidden": false,
          "outputs_hidden": false
        },
        "nteract": {
          "transient": {
            "deleting": false
          }
        },
        "gather": {
          "logged": 1659486288578
        }
      }
    },
    {
      "cell_type": "code",
      "source": [
        "## Obtendo os dados dos jogadores: nome, idade, peso, altura\r\n",
        "for time in range(0,quant_times):\r\n",
        "    print('Time n',time+1)\r\n",
        "\r\n",
        "    # Dados dos jogadores\r\n",
        "    for jogador in range(0,quant_jogadores_cada_time):\r\n",
        "        print(\"Jogador n \",jogador+1)\r\n",
        "\r\n",
        "        nome = input(\"Informe o nome: \")\r\n",
        "        while(nome == \"\"):\r\n",
        "            print(\"[ERRO] O nome não pode ser vazio.\")\r\n",
        "            nome = input(\"Informe o nome: \")\r\n",
        "         \r\n",
        "        idade = int(input(\"Informe a idade: \"))\r\n",
        "        while(idade <= 0 or idade > 100):\r\n",
        "            print(\"[ERRO] O idade deve estar entre 1 - 100.\")\r\n",
        "            idade = int(input(\"Informe a idade: \"))\r\n",
        "\r\n",
        "\r\n",
        "        peso = float(input(\"Informe o peso: \"))\r\n",
        "        while(peso <= 30 or peso > 150):\r\n",
        "            print(\"[ERRO] O peso deve estar entre 30 - 150.\")\r\n",
        "            peso = float(input(\"Informe o peso: \")) \r\n",
        "\r\n",
        "        \r\n",
        "        altura = float(input(\"Informe a altura: \"))\r\n",
        "        while(altura <= 1.0 or altura > 3.0):\r\n",
        "            print(\"[ERRO] O peso deve estar entre 1 - 3.0m\")\r\n",
        "            altura = float(input(\"Informe a altura: \")) \r\n",
        "\r\n",
        "        # Cálculo\r\n",
        "        if(idade >= 18):\r\n",
        "            quant_jog_maiores_idade += 1 \r\n",
        "            # quant_jog_maiores_idade = quant_jog_maiores_idade + 1\r\n",
        "\r\n",
        "        soma_idades = soma_idades + idade\r\n",
        "\r\n",
        "        # Cálculo da maior e menor idade \r\n",
        "        if(idade > maior_idade):\r\n",
        "            maior_idade = idade\r\n",
        "        \r\n",
        "        if(idade < menor_idade):\r\n",
        "            menor_idade = idade\r\n",
        "\r\n",
        "        if(peso >= 80.0):\r\n",
        "            maiores_80kg += 1\r\n",
        "\r\n",
        "        # Cálculo da menor e maior altura\r\n",
        "        if(altura > maior_altura):\r\n",
        "            maior_altura = altura\r\n",
        "        \r\n",
        "        if(altura < menor_altura):\r\n",
        "            menor_altura = altura\r\n",
        "\r\n",
        "        soma_alturas = soma_alturas + altura\r\n"
      ],
      "outputs": [
        {
          "output_type": "stream",
          "name": "stdout",
          "text": "Time n 1\nJogador n  1\n[ERRO] O peso deve estar entre 30 - 150.\nJogador n  2\nTime n 2\nJogador n  1\nJogador n  2\n"
        }
      ],
      "execution_count": 28,
      "metadata": {
        "jupyter": {
          "source_hidden": false,
          "outputs_hidden": false
        },
        "nteract": {
          "transient": {
            "deleting": false
          }
        },
        "gather": {
          "logged": 1659486365738
        }
      }
    },
    {
      "cell_type": "code",
      "source": [
        "## Calculando e exibindo os valores no relatório final\r\n",
        "print('Total de jogadores ',total_jogadores)\r\n",
        "print('Quantidade de jogadores MAIORES DE IDADE ',quant_jog_maiores_idade)\r\n",
        "print('Quantidade de jogadores MENORES DE IDADE ',total_jogadores - quant_jog_maiores_idade)\r\n",
        "\r\n",
        "print('Média das IDADES ', soma_idades / total_jogadores)\r\n",
        "print('Média das ALTURAS ',soma_alturas / total_jogadores)\r\n",
        "\r\n",
        "print('MAIOR IDADE', maior_idade)\r\n",
        "print('MENOR IDADE', menor_idade)\r\n",
        "\r\n",
        "print('MAIOR ALTURA', maior_altura)\r\n",
        "print('MENOR ALTURA', menor_altura)\r\n",
        "\r\n",
        "if ((maiores_80kg/total_jogadores)*100 > 0):\r\n",
        "    print('Porcentagem de jogadores que possuem mais que 80 kg %',(maiores_80kg/total_jogadores)*100)\r\n",
        "else:\r\n",
        "    print('Não há jogadores maiores que 80 kg para calcular a porcentagem')"
      ],
      "outputs": [
        {
          "output_type": "stream",
          "name": "stdout",
          "text": "Total de jogadores  4\nQuantidade de jogadores MAIORES DE IDADE  4\nQuantidade de jogadores MENORES DE IDADE  0\nMédia das IDADES  38.25\nMédia das ALTURAS  1.7925\nMAIOR IDADE 50\nMENOR IDADE 30\nMAIOR ALTURA 1.91\nMENOR ALTURA 1.7\nPorcentagem de jogadores que possuem mais que 80 kg % 50.0\n"
        }
      ],
      "execution_count": 30,
      "metadata": {
        "jupyter": {
          "source_hidden": false,
          "outputs_hidden": false
        },
        "nteract": {
          "transient": {
            "deleting": false
          }
        },
        "gather": {
          "logged": 1659486481218
        }
      }
    },
    {
      "cell_type": "markdown",
      "source": [
        "## Exercício 03"
      ],
      "metadata": {
        "nteract": {
          "transient": {
            "deleting": false
          }
        }
      }
    },
    {
      "cell_type": "code",
      "source": [
        "valor_tabuada = int(input('Informe a tabuada que deseja mostrar: '))\r\n",
        "valor_inicio = int(input('Informe o valor inicial: '))\r\n",
        "valor_final = int(input('Informe o valor final: '))\r\n",
        "while(valor_inicio > valor_final):\r\n",
        "    print('O intervalo inicial deve ser MENOR que o FINAL')\r\n",
        "    valor_inicio = int(input('Informe o valor inicial: '))\r\n",
        "    valor_final = int(input('Informe o valor final: '))\r\n"
      ],
      "outputs": [],
      "execution_count": 36,
      "metadata": {
        "jupyter": {
          "source_hidden": false,
          "outputs_hidden": false
        },
        "nteract": {
          "transient": {
            "deleting": false
          }
        },
        "gather": {
          "logged": 1659486700176
        }
      }
    },
    {
      "cell_type": "code",
      "source": [
        "for item in range(valor_inicio,valor_final+1):\r\n",
        "    valor = valor_tabuada * item\r\n",
        "    print(valor_tabuada,\" * \",item,\" = \",valor)"
      ],
      "outputs": [
        {
          "output_type": "stream",
          "name": "stdout",
          "text": "9  *  7  =  63\n9  *  8  =  72\n9  *  9  =  81\n9  *  10  =  90\n9  *  11  =  99\n"
        }
      ],
      "execution_count": 37,
      "metadata": {
        "jupyter": {
          "source_hidden": false,
          "outputs_hidden": false
        },
        "nteract": {
          "transient": {
            "deleting": false
          }
        },
        "gather": {
          "logged": 1659486702245
        }
      }
    },
    {
      "cell_type": "markdown",
      "source": [
        "## Exercício 04"
      ],
      "metadata": {
        "nteract": {
          "transient": {
            "deleting": false
          }
        }
      }
    },
    {
      "cell_type": "code",
      "source": [
        "## Obtendo o preço do litro\r\n",
        "preco_litro = input('Informe o preço em R$ do litro: ')\r\n",
        "preco_litro = float(preco_litro)\r\n",
        "\r\n",
        "## Obtendo o valor pago\r\n",
        "valor_pago = float(input('Informe o valor em R$ pago: '))\r\n",
        "\r\n",
        "while((preco_litro <= 0) or (valor_pago <= 0)):\r\n",
        "    print('Inválido: PREÇO ou VALOR PAGO!')\r\n",
        "    preco_litro = float(input('Informe o preço em R$ do litro: '))\r\n",
        "    valor_pago = float(input('Informe o valor em R$ pago: '))\r\n"
      ],
      "outputs": [
        {
          "output_type": "stream",
          "name": "stdout",
          "text": "Inválido: PREÇO ou VALOR PAGO!\nInválido: PREÇO ou VALOR PAGO!\nInválido: PREÇO ou VALOR PAGO!\nInválido: PREÇO ou VALOR PAGO!\n"
        }
      ],
      "execution_count": 38,
      "metadata": {
        "jupyter": {
          "source_hidden": false,
          "outputs_hidden": false
        },
        "nteract": {
          "transient": {
            "deleting": false
          }
        },
        "gather": {
          "logged": 1659486975515
        }
      }
    },
    {
      "cell_type": "code",
      "source": [
        "## Cálculo final\r\n",
        "print(\"Valor do pagamento: \",valor_pago)\r\n",
        "print(\"Preço do litro da gasolina \",preco_litro)\r\n",
        "print(\"Quantidade de litros abastecidos: \",preco_litro * valor_pago)"
      ],
      "outputs": [],
      "execution_count": 39,
      "metadata": {
        "jupyter": {
          "source_hidden": false,
          "outputs_hidden": false
        },
        "nteract": {
          "transient": {
            "deleting": false
          }
        },
        "gather": {
          "logged": 1659486978919
        }
      }
    },
    {
      "cell_type": "markdown",
      "source": [
        "## Exercício 05"
      ],
      "metadata": {
        "nteract": {
          "transient": {
            "deleting": false
          }
        }
      }
    },
    {
      "cell_type": "markdown",
      "source": [
        "## Exercício 09"
      ],
      "metadata": {
        "nteract": {
          "transient": {
            "deleting": false
          }
        }
      }
    }
  ],
  "metadata": {
    "kernelspec": {
      "name": "python38-azureml",
      "language": "python",
      "display_name": "Python 3.8 - AzureML"
    },
    "language_info": {
      "name": "python",
      "version": "3.8.5",
      "mimetype": "text/x-python",
      "codemirror_mode": {
        "name": "ipython",
        "version": 3
      },
      "pygments_lexer": "ipython3",
      "nbconvert_exporter": "python",
      "file_extension": ".py"
    },
    "kernel_info": {
      "name": "python38-azureml"
    },
    "nteract": {
      "version": "nteract-front-end@1.0.0"
    },
    "microsoft": {
      "host": {
        "AzureML": {
          "notebookHasBeenCompleted": true
        }
      }
    }
  },
  "nbformat": 4,
  "nbformat_minor": 2
}