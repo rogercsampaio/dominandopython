{
  "cells": [
    {
      "cell_type": "markdown",
      "source": [
        "# Aula 13\r\n",
        "```\r\n",
        "Correção de Exercícios - Aula 12 Funções\r\n",
        "```"
      ],
      "metadata": {
        "nteract": {
          "transient": {
            "deleting": false
          }
        }
      }
    },
    {
      "cell_type": "markdown",
      "source": [
        "## Exercício 1"
      ],
      "metadata": {
        "nteract": {
          "transient": {
            "deleting": false
          }
        }
      }
    },
    {
      "cell_type": "code",
      "source": [
        "def validar_formato_hora(formato):\r\n",
        "  while (formato != 'AM' and formato != 'PM'):\r\n",
        "    print('Formato inválido.')\r\n",
        "    formato = input('Informe o formato da hora ORIGINAL AM ou PM: ').upper() \r\n",
        "  return formato"
      ],
      "outputs": [],
      "execution_count": 99,
      "metadata": {
        "jupyter": {
          "source_hidden": false,
          "outputs_hidden": false
        },
        "nteract": {
          "transient": {
            "deleting": false
          }
        },
        "gather": {
          "logged": 1662681641270
        }
      }
    },
    {
      "cell_type": "code",
      "source": [
        "def validar_horas(hora,minuto,formato):\r\n",
        "\r\n",
        "  if(formato == 'AM'):\r\n",
        "    while(((hora < 00) or (hora > 11)) or ((minuto < 00) or (minuto > 59))): \r\n",
        "      print('Hora ou minuto inválido para formato AM.')\r\n",
        "      hora = int(input('Informe a hora que deseja converter no formato HH'))\r\n",
        "      minuto = int(input('Informe o minuto que deseja converter no formato MM'))\r\n",
        "\r\n",
        "  if(formato == 'PM'):\r\n",
        "    while(((hora < 00) or (hora > 23)) or ((minuto < 00) or (minuto > 59))): \r\n",
        "      print('Hora ou minuto inválido para formato PM.')\r\n",
        "      hora = int(input('Informe a hora que deseja converter no formato HH'))\r\n",
        "      minuto = int(input('Informe o minuto que deseja converter no formato MM'))\r\n",
        "  return hora,minuto"
      ],
      "outputs": [],
      "execution_count": 100,
      "metadata": {
        "jupyter": {
          "source_hidden": false,
          "outputs_hidden": false
        },
        "nteract": {
          "transient": {
            "deleting": false
          }
        },
        "gather": {
          "logged": 1662681645779
        }
      }
    },
    {
      "cell_type": "code",
      "source": [
        "def mostrar_horario(hora,minuto,formato):\r\n",
        "  if(formato == 'PM'):\r\n",
        "    formato = 'AM'\r\n",
        "  else:\r\n",
        "    formato = 'PM'  \r\n",
        "  print('São ',hora,':',minuto,' ',formato)"
      ],
      "outputs": [],
      "execution_count": 101,
      "metadata": {
        "jupyter": {
          "source_hidden": false,
          "outputs_hidden": false
        },
        "nteract": {
          "transient": {
            "deleting": false
          }
        },
        "gather": {
          "logged": 1662681649523
        }
      }
    },
    {
      "cell_type": "code",
      "source": [
        "def converter_formato_hora(hora,minuto,formato):\r\n",
        "  \r\n",
        "  hora_convertida = None\r\n",
        "  if(formato == 'PM'):\r\n",
        "    # PM -> AM  \r\n",
        "    if (hora == 12):\r\n",
        "        hora_convertida = '00'\r\n",
        "    if (hora == 13):\r\n",
        "        hora_convertida = '01' \r\n",
        "    if (hora == 14):\r\n",
        "        hora_convertida = '02'\r\n",
        "    if (hora == 15):\r\n",
        "        hora_convertida = '03'\r\n",
        "    if (hora == 16):\r\n",
        "        hora_convertida = '04'\r\n",
        "    if (hora == 17):\r\n",
        "        hora_convertida = '05'\r\n",
        "    if (hora == 18):\r\n",
        "        hora_convertida = '06'  \r\n",
        "    if (hora == 19):\r\n",
        "        hora_convertida = '07'\r\n",
        "    if (hora == 20):\r\n",
        "        hora_convertida = '08'       \r\n",
        "    if (hora == 21):\r\n",
        "        hora_convertida = '09'  \r\n",
        "    if (hora == 22):\r\n",
        "        hora_convertida = '10' \r\n",
        "    if (hora == 23):\r\n",
        "        hora_convertida = '11'\r\n",
        "  else:\r\n",
        "    # AM -> PM\r\n",
        "    if (hora == 00):\r\n",
        "        hora_convertida = '12'\r\n",
        "    if (hora == 1):\r\n",
        "        hora_convertida = '13' \r\n",
        "    if (hora == 2):\r\n",
        "        hora_convertida = '14'\r\n",
        "    if (hora == 3):\r\n",
        "        hora_convertida = '15'\r\n",
        "    if (hora == 4):\r\n",
        "        hora_convertida = '16'\r\n",
        "    if (hora == 5):\r\n",
        "        hora_convertida = '17'\r\n",
        "    if (hora == 6):\r\n",
        "        hora_convertida = '18'  \r\n",
        "    if (hora == 7):\r\n",
        "        hora_convertida = '19'\r\n",
        "    if (hora == 8):\r\n",
        "        hora_convertida = '20'       \r\n",
        "    if (hora == 9):\r\n",
        "        hora_convertida = '21'  \r\n",
        "    if (hora == 10):\r\n",
        "        hora_convertida = '22' \r\n",
        "    if (hora == 11):\r\n",
        "        hora_convertida = '23'  \r\n",
        "  return  hora_convertida,minuto     "
      ],
      "outputs": [],
      "execution_count": 102,
      "metadata": {
        "jupyter": {
          "source_hidden": false,
          "outputs_hidden": false
        },
        "nteract": {
          "transient": {
            "deleting": false
          }
        },
        "gather": {
          "logged": 1662681651191
        }
      }
    },
    {
      "cell_type": "code",
      "source": [
        "opcao = input('Informe N para encerrar o programa. ').upper()\r\n",
        "while(opcao != 'N'):\r\n",
        "  formato = input('Informe o formato da hora ORIGINAL AM ou PM: ').upper()\r\n",
        "  # Formato da hora\r\n",
        "  formato = validar_formato_hora(formato)\r\n",
        "  # Hora\r\n",
        "  hora = int(input('Informe a hora que deseja converter no formato HH'))\r\n",
        "  minutos = int(input('Informe os minutos que deseja converter no formato MM'))\r\n",
        "  #print(hora_minuto)\r\n",
        "  hora,minutos = validar_horas(hora,minutos,formato)\r\n",
        "  # Conversões\r\n",
        "  hora,minutos = converter_formato_hora(hora,minutos,formato)\r\n",
        "  mostrar_horario(hora,minutos,formato)\r\n",
        "  \r\n",
        "  opcao = input('Informe n para encerrar o programa. ').upper()"
      ],
      "outputs": [
        {
          "output_type": "stream",
          "name": "stdout",
          "text": "Formato inválido.\nHora ou minuto inválido para formato AM.\nHora ou minuto inválido para formato AM.\nSão  12 : 13   PM\nHora ou minuto inválido para formato PM.\nSão  02 : 45   AM\nHora ou minuto inválido para formato PM.\nSão  07 : 20   AM\n"
        }
      ],
      "execution_count": 103,
      "metadata": {
        "jupyter": {
          "source_hidden": false,
          "outputs_hidden": false
        },
        "nteract": {
          "transient": {
            "deleting": false
          }
        },
        "gather": {
          "logged": 1662681838382
        }
      }
    },
    {
      "cell_type": "code",
      "source": [],
      "outputs": [],
      "execution_count": null,
      "metadata": {
        "jupyter": {
          "source_hidden": false,
          "outputs_hidden": false
        },
        "nteract": {
          "transient": {
            "deleting": false
          }
        }
      }
    },
    {
      "cell_type": "markdown",
      "source": [
        "## Exercício 2"
      ],
      "metadata": {
        "nteract": {
          "transient": {
            "deleting": false
          }
        }
      }
    },
    {
      "cell_type": "code",
      "source": [
        "def validar_numero(num,msg_erro = 'Dados incorretos.'):\r\n",
        "  while(num.isdigit() == False):\r\n",
        "    print(msg_erro)\r\n",
        "    num = input(\"Informe um número: \")\r\n",
        "  return num"
      ],
      "outputs": [],
      "execution_count": 104,
      "metadata": {
        "jupyter": {
          "source_hidden": false,
          "outputs_hidden": false
        },
        "nteract": {
          "transient": {
            "deleting": false
          }
        },
        "gather": {
          "logged": 1662682222320
        }
      }
    },
    {
      "cell_type": "code",
      "source": [
        "def contar_digitos(num):\r\n",
        "  return len(num)"
      ],
      "outputs": [],
      "execution_count": 105,
      "metadata": {
        "jupyter": {
          "source_hidden": false,
          "outputs_hidden": false
        },
        "nteract": {
          "transient": {
            "deleting": false
          }
        },
        "gather": {
          "logged": 1662682223534
        }
      }
    },
    {
      "cell_type": "code",
      "source": [
        "numero = input(\"Informe um número: \")\r\n",
        "numero = validar_numero(numero)"
      ],
      "outputs": [],
      "execution_count": 108,
      "metadata": {
        "jupyter": {
          "source_hidden": false,
          "outputs_hidden": false
        },
        "nteract": {
          "transient": {
            "deleting": false
          }
        },
        "gather": {
          "logged": 1662682252443
        }
      }
    },
    {
      "cell_type": "code",
      "source": [
        "# Contar a quantidade de dígitos\r\n",
        "print(f'A quantidade de dígitos é {contar_digitos(numero)}')"
      ],
      "outputs": [
        {
          "output_type": "stream",
          "name": "stdout",
          "text": "A quantidade de dígitos é 5\n"
        }
      ],
      "execution_count": 109,
      "metadata": {
        "jupyter": {
          "source_hidden": false,
          "outputs_hidden": false
        },
        "nteract": {
          "transient": {
            "deleting": false
          }
        },
        "gather": {
          "logged": 1662682255503
        }
      }
    },
    {
      "cell_type": "code",
      "source": [],
      "outputs": [],
      "execution_count": null,
      "metadata": {
        "jupyter": {
          "source_hidden": false,
          "outputs_hidden": false
        },
        "nteract": {
          "transient": {
            "deleting": false
          }
        }
      }
    },
    {
      "cell_type": "markdown",
      "source": [
        "## Exercício 3"
      ],
      "metadata": {
        "nteract": {
          "transient": {
            "deleting": false
          }
        }
      }
    },
    {
      "cell_type": "code",
      "source": [
        "def valorPag(valor_prestacao,qtde_dias_atraso):\r\n",
        "    if(qtde_dias_atraso == 0):\r\n",
        "        return valor_prestacao\r\n",
        "    else:\r\n",
        "        print('MULTA R$: ',valor_prestacao * 0.03)\r\n",
        "        print('JUROS AO DIA R$: ',qtde_dias_atraso * 0.001)\r\n",
        "        return valor_prestacao + (valor_prestacao * 0.03) + (qtde_dias_atraso * 0.001)\r\n"
      ],
      "outputs": [],
      "execution_count": 110,
      "metadata": {
        "jupyter": {
          "source_hidden": false,
          "outputs_hidden": false
        },
        "nteract": {
          "transient": {
            "deleting": false
          }
        },
        "gather": {
          "logged": 1662682551685
        }
      }
    },
    {
      "cell_type": "code",
      "source": [
        "valor_prestacao = float(input(\"Informe o valor da prestação: \"))\r\n",
        "qtde_dias_atraso = int(input(\"Informe a quantidade de dias de atraso: \"))\r\n",
        "print('Valor prestação: ',valor_prestacao)\r\n",
        "print('Quantidade de dias de atraso: ',qtde_dias_atraso)\r\n",
        "print(f'O valor novo a ser pago é: {valorPag(valor_prestacao,qtde_dias_atraso)}')"
      ],
      "outputs": [
        {
          "output_type": "stream",
          "name": "stdout",
          "text": "Valor prestação:  300.0\nQuantidade de dias de atraso:  0\nO valor novo a ser pago é: 300.0\n"
        }
      ],
      "execution_count": 112,
      "metadata": {
        "jupyter": {
          "source_hidden": false,
          "outputs_hidden": false
        },
        "nteract": {
          "transient": {
            "deleting": false
          }
        },
        "gather": {
          "logged": 1662682580697
        }
      }
    },
    {
      "cell_type": "markdown",
      "source": [
        "## Exercício 4"
      ],
      "metadata": {
        "nteract": {
          "transient": {
            "deleting": false
          }
        }
      }
    },
    {
      "cell_type": "code",
      "source": [
        "import random as rd"
      ],
      "outputs": [],
      "execution_count": 113,
      "metadata": {
        "jupyter": {
          "source_hidden": false,
          "outputs_hidden": false
        },
        "nteract": {
          "transient": {
            "deleting": false
          }
        },
        "gather": {
          "logged": 1662682824329
        }
      }
    },
    {
      "cell_type": "code",
      "source": [
        "def embaralhar_palavra(palavra):\r\n",
        "  palavra = palavra.upper()  \r\n",
        "  return rd.sample(palavra,len(palavra))"
      ],
      "outputs": [],
      "execution_count": 116,
      "metadata": {
        "jupyter": {
          "source_hidden": false,
          "outputs_hidden": false
        },
        "nteract": {
          "transient": {
            "deleting": false
          }
        },
        "gather": {
          "logged": 1662682854742
        }
      }
    },
    {
      "cell_type": "code",
      "source": [
        "palavra_str = input('Informe a palavra a ser embaralhada: ')\r\n",
        "print(embaralhar_palavra(palavra_str))"
      ],
      "outputs": [
        {
          "output_type": "stream",
          "name": "stdout",
          "text": "['R', 'E', 'R', 'O', 'G']\n"
        }
      ],
      "execution_count": 120,
      "metadata": {
        "jupyter": {
          "source_hidden": false,
          "outputs_hidden": false
        },
        "nteract": {
          "transient": {
            "deleting": false
          }
        },
        "gather": {
          "logged": 1662682887891
        }
      }
    },
    {
      "cell_type": "markdown",
      "source": [
        "## Exercício 5"
      ],
      "metadata": {
        "nteract": {
          "transient": {
            "deleting": false
          }
        }
      }
    },
    {
      "cell_type": "code",
      "source": [
        "valor = int(input('Informe o valor: '))\r\n",
        "# lambda x: x * 3\r\n",
        "verificar_valor = lambda valor: 'P' if(valor >= 0) else 'N'\r\n",
        "print(verificar_valor(valor))"
      ],
      "outputs": [
        {
          "output_type": "stream",
          "name": "stdout",
          "text": "P\n"
        }
      ],
      "execution_count": 122,
      "metadata": {
        "jupyter": {
          "source_hidden": false,
          "outputs_hidden": false
        },
        "nteract": {
          "transient": {
            "deleting": false
          }
        },
        "gather": {
          "logged": 1662682998718
        }
      }
    }
  ],
  "metadata": {
    "kernelspec": {
      "name": "python38-azureml",
      "language": "python",
      "display_name": "Python 3.8 - AzureML"
    },
    "language_info": {
      "name": "python",
      "version": "3.8.5",
      "mimetype": "text/x-python",
      "codemirror_mode": {
        "name": "ipython",
        "version": 3
      },
      "pygments_lexer": "ipython3",
      "nbconvert_exporter": "python",
      "file_extension": ".py"
    },
    "kernel_info": {
      "name": "python38-azureml"
    },
    "nteract": {
      "version": "nteract-front-end@1.0.0"
    }
  },
  "nbformat": 4,
  "nbformat_minor": 2
}