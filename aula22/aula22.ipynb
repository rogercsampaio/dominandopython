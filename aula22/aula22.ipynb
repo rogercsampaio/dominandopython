{
  "cells": [
    {
      "cell_type": "markdown",
      "source": [
        "## Aula 22 - Módulos Math e Statistics.\r\n",
        "Correção de exercícios"
      ],
      "metadata": {}
    },
    {
      "cell_type": "markdown",
      "source": [
        "<img src=\"imagens/logo_oficial.jpg\"/>"
      ],
      "metadata": {
        "nteract": {
          "transient": {
            "deleting": false
          }
        }
      }
    },
    {
      "cell_type": "markdown",
      "source": [
        "<h3> Importação de Pacotes </h3>"
      ],
      "metadata": {}
    },
    {
      "cell_type": "code",
      "source": [
        "import math as matematica\r\n",
        "import statistics as est\r\n",
        "print('Bibliotecas importadas')"
      ],
      "outputs": [
        {
          "output_type": "stream",
          "name": "stdout",
          "text": "Bibliotecas importadas\n"
        }
      ],
      "execution_count": 1,
      "metadata": {
        "gather": {
          "logged": 1669572547032
        }
      }
    },
    {
      "cell_type": "markdown",
      "source": [
        "<h3> Exercício 1 </h3>"
      ],
      "metadata": {
        "nteract": {
          "transient": {
            "deleting": false
          }
        }
      }
    },
    {
      "cell_type": "markdown",
      "source": [
        "<h5> Definição de Funções </h5>"
      ],
      "metadata": {
        "nteract": {
          "transient": {
            "deleting": false
          }
        }
      }
    },
    {
      "cell_type": "code",
      "source": [
        "'''\r\n",
        " Função que obrigatoriamente captura um número do usuário. Enquanto algo digitado não for um número, será lançado um erro.\r\n",
        "'''\r\n",
        "def obter_numero(msg_apresentacao,msg_erro_1):\r\n",
        "    num = input(msg_apresentacao)\r\n",
        "    while(num.isdigit() == False):\r\n",
        "        print(msg_erro_1)\r\n",
        "        num = input(\"\")\r\n",
        "    return num"
      ],
      "outputs": [],
      "execution_count": 2,
      "metadata": {
        "jupyter": {
          "source_hidden": false,
          "outputs_hidden": false
        },
        "nteract": {
          "transient": {
            "deleting": false
          }
        },
        "gather": {
          "logged": 1669572834971
        }
      }
    },
    {
      "cell_type": "code",
      "source": [
        "def obter_validar_num_float(msg_apresentacao,msg_erro_1,msg_erro_2,minimo):\r\n",
        "    num = obter_numero(msg_apresentacao,msg_erro_1) \r\n",
        "    while (float(num) <= minimo):\r\n",
        "        print(msg_erro_2)\r\n",
        "        num = obter_numero(msg_apresentacao,msg_erro_1) \r\n",
        "    return float(num)\r\n"
      ],
      "outputs": [],
      "execution_count": 3,
      "metadata": {
        "jupyter": {
          "source_hidden": false,
          "outputs_hidden": false
        },
        "nteract": {
          "transient": {
            "deleting": false
          }
        },
        "gather": {
          "logged": 1669572838054
        }
      }
    },
    {
      "cell_type": "code",
      "source": [
        "# Captura dos dados\r\n",
        "cat1 = obter_validar_num_float(\"Informe o lado 1 (cateto)\",\"Deve ser digitado um número\", \"O valor não pode ser MENOR ou igual a 0!\",0)\r\n",
        "cat2 = obter_validar_num_float(\"Informe o lado 2 (cateto)\",\"Deve ser digitado um número\", \"O valor não pode ser MENOR ou igual a 0!\",0)"
      ],
      "outputs": [
        {
          "output_type": "stream",
          "name": "stdout",
          "text": "Deve ser digitado um número\nDeve ser digitado um número\nO valor não pode ser MENOR ou igual a 0!\n"
        }
      ],
      "execution_count": 8,
      "metadata": {
        "jupyter": {
          "source_hidden": false,
          "outputs_hidden": false
        },
        "nteract": {
          "transient": {
            "deleting": false
          }
        },
        "gather": {
          "logged": 1669572996441
        }
      }
    },
    {
      "cell_type": "code",
      "source": [
        "# Cálculo\r\n",
        "# c^2 = a^2 + b^2 \r\n",
        "# 4 + 9 = 13\r\n",
        "hipotenusa = matematica.pow(cat1,2) + matematica.pow(cat2,2) \r\n",
        "hipotenusa = hipotenusa ** 2\r\n",
        "print(\"O cateto 1 é {0}\".format(cat1))\r\n",
        "print(\"O cateto 2 é {0}\".format(cat2))\r\n",
        "print(\"A hipotenusa é {0}\".format(hipotenusa))"
      ],
      "outputs": [
        {
          "output_type": "stream",
          "name": "stdout",
          "text": "O cateto 1 é 10.0\nO cateto 2 é 12.0\nA hipotenusa é 59536.0\n"
        }
      ],
      "execution_count": 9,
      "metadata": {
        "jupyter": {
          "source_hidden": false,
          "outputs_hidden": false
        },
        "nteract": {
          "transient": {
            "deleting": false
          }
        },
        "gather": {
          "logged": 1669572999513
        }
      }
    },
    {
      "cell_type": "code",
      "source": [
        "# Escrever um arquivo txt\r\n",
        "with open(\"resultado.txt\",\"w\") as arquivo:\r\n",
        "    resultado = \"O resultado é: \" + str(hipotenusa)\r\n",
        "    arquivo.writelines(resultado)\r\n",
        "    print(\"Arquivo gravado com êxito.\")\r\n",
        "\r\n"
      ],
      "outputs": [
        {
          "output_type": "stream",
          "name": "stdout",
          "text": "Arquivo gravado com êxito.\n"
        }
      ],
      "execution_count": 10,
      "metadata": {
        "jupyter": {
          "source_hidden": false,
          "outputs_hidden": false
        },
        "nteract": {
          "transient": {
            "deleting": false
          }
        },
        "gather": {
          "logged": 1669573004139
        }
      }
    },
    {
      "cell_type": "markdown",
      "source": [
        "<h3> Exercício 2 </h3>"
      ],
      "metadata": {
        "nteract": {
          "transient": {
            "deleting": false
          }
        }
      }
    },
    {
      "cell_type": "code",
      "source": [
        "'''\r\n",
        " Função que obrigatoriamente captura um número do usuário. Enquanto algo digitado não for um número, será lançado um erro.\r\n",
        "'''\r\n",
        "def obter_numero(msg_apresentacao,msg_erro_1):\r\n",
        "    num = input(msg_apresentacao)\r\n",
        "    while(num.isdigit() == False):\r\n",
        "        print(msg_erro_1)\r\n",
        "        num = input(\"\")\r\n",
        "    return float(num)"
      ],
      "outputs": [],
      "execution_count": 21,
      "metadata": {
        "jupyter": {
          "source_hidden": false,
          "outputs_hidden": false
        },
        "nteract": {
          "transient": {
            "deleting": false
          }
        },
        "gather": {
          "logged": 1669573919824
        }
      }
    },
    {
      "cell_type": "code",
      "source": [
        "# Captura dos dados\r\n",
        "valor1 = obter_numero(\"Informe o valor 1\",\"Deve ser digitado um número\")\r\n",
        "valor2 = obter_numero(\"Informe o valor 2\",\"Deve ser digitado um número\")\r\n",
        "\r\n"
      ],
      "outputs": [],
      "execution_count": 22,
      "metadata": {
        "jupyter": {
          "source_hidden": false,
          "outputs_hidden": false
        },
        "nteract": {
          "transient": {
            "deleting": false
          }
        },
        "gather": {
          "logged": 1669573927336
        }
      }
    },
    {
      "cell_type": "code",
      "source": [
        "# Cálculos \r\n",
        "print(\"Valor 1\",valor1)\r\n",
        "print(\"Valor 2\",valor2)\r\n",
        "print(\"A soma é {0}\".format(valor1 + valor2))\r\n",
        "print(\"A subtração é {0}\".format(valor1 - valor2))\r\n",
        "print(\"A divisão é {0}\".format(valor1 / valor2))\r\n",
        "print(\"O módulo é {0}\".format(valor1 % valor2))\r\n",
        "# Verificando se é par ou ímpar\r\n",
        "teste_valor_impar_par = lambda valor1: \"PAR\" if valor1 % 2 == 0 else \"ÍMPAR\"\r\n",
        "print(\"O valor 1 é {0}\".format(teste_valor_impar_par(valor1)))\r\n",
        "print(\"O valor 2 é {0}\".format(teste_valor_impar_par(valor2)))\r\n",
        "# Demais cálculos\r\n",
        "print(\"A raiz quadrada de {0} é {1}\".format(valor1,matematica.sqrt(valor1)))\r\n",
        "print(\"A raiz quadrada de {0} é {1}\".format(valor2,matematica.sqrt(valor2)))\r\n",
        "print(\"A multiplicação é {0}\".format(valor1 * valor2))\r\n",
        "# Fatorial\r\n",
        "valor_final = valor1 * valor2\r\n",
        "valor_final = matematica.fabs(int(valor_final)) # valor absoluto\r\n",
        "print(\"O fatorial é {0}\".format(matematica.factorial(valor_final)))\r\n"
      ],
      "outputs": [
        {
          "output_type": "stream",
          "name": "stdout",
          "text": "Valor 1 2.0\nValor 2 3.0\nA soma é 5.0\nA subtração é -1.0\nA divisão é 0.6666666666666666\nO módulo é 2.0\nO valor 1 é PAR\nO valor 2 é ÍMPAR\nA raiz quadrada de 2.0 é 1.4142135623730951\nA raiz quadrada de 3.0 é 1.7320508075688772\nA multiplicação é 6.0\nO fatorial é 720\n"
        }
      ],
      "execution_count": 27,
      "metadata": {
        "jupyter": {
          "source_hidden": false,
          "outputs_hidden": false
        },
        "nteract": {
          "transient": {
            "deleting": false
          }
        },
        "gather": {
          "logged": 1669574120763
        }
      }
    },
    {
      "cell_type": "markdown",
      "source": [
        "<h3> Exercício 3 </h3>"
      ],
      "metadata": {
        "nteract": {
          "transient": {
            "deleting": false
          }
        }
      }
    },
    {
      "cell_type": "code",
      "source": [
        "# Lista de sapatos\r\n",
        "valores = [40,40,42,41,38,37,30,31,40,40,41,42,34,33,18,29,32,33,35,36,38,39,40,39]"
      ],
      "outputs": [],
      "execution_count": 30,
      "metadata": {
        "jupyter": {
          "source_hidden": false,
          "outputs_hidden": false
        },
        "nteract": {
          "transient": {
            "deleting": false
          }
        },
        "gather": {
          "logged": 1669574353769
        }
      }
    },
    {
      "cell_type": "code",
      "source": [
        "# Cálculos\r\n",
        "print(\"A média é {0}\".format(est.mean(valores)))\r\n",
        "print(\"A mediana é {0}\".format(est.median(valores)))\r\n",
        "print(\"O valor mínimo é {0}\".format(min(valores)))\r\n",
        "print(\"O valor máximo é {0}\".format(max(valores)))\r\n",
        "print(\"O desvio padrão é {0}\".format(est.stdev(valores)))\r\n",
        "print(\"A soma é {0}\".format(sum(valores)))\r\n",
        "print(\"A quantidade de números é {0}\".format(len(valores)))\r\n"
      ],
      "outputs": [
        {
          "output_type": "stream",
          "name": "stdout",
          "text": "A média é 36.166666666666664\nA mediana é 38.0\nO valor mínimo é 18\nO valor máximo é 42\nO desvio padrão é 5.522024413490799\nA soma é 868\nA quantidade de números é 24\n"
        }
      ],
      "execution_count": 33,
      "metadata": {
        "jupyter": {
          "source_hidden": false,
          "outputs_hidden": false
        },
        "nteract": {
          "transient": {
            "deleting": false
          }
        },
        "gather": {
          "logged": 1669574546675
        }
      }
    }
  ],
  "metadata": {
    "kernelspec": {
      "name": "python3",
      "language": "python",
      "display_name": "Python 3 (ipykernel)"
    },
    "language_info": {
      "name": "python",
      "version": "3.8.5",
      "mimetype": "text/x-python",
      "codemirror_mode": {
        "name": "ipython",
        "version": 3
      },
      "pygments_lexer": "ipython3",
      "nbconvert_exporter": "python",
      "file_extension": ".py"
    },
    "nteract": {
      "version": "nteract-front-end@1.0.0"
    },
    "kernel_info": {
      "name": "python3"
    },
    "microsoft": {
      "host": {
        "AzureML": {
          "notebookHasBeenCompleted": true
        }
      }
    }
  },
  "nbformat": 4,
  "nbformat_minor": 2
}