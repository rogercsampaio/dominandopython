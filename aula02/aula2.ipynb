{
  "cells": [
    {
      "cell_type": "markdown",
      "source": [
        "<h2> Operadores Aritméticos </h2>\r\n",
        "Assim como na Matemática, podemos efetuar operações aritméticas (soma, subtração, potência, divisão, multiplicação,...) sobre os dados armazenados em variáveis. \r\n",
        "</br>\r\n",
        "Operadores: </br>\r\n",
        "1. adição +</br>\r\n",
        "2. subtração -</br>\r\n",
        "3. multiplicação *</br>\r\n",
        "4. divisão / </br>\r\n",
        "5. divisão inteira //</br>\r\n",
        "6. módulo da divisão % </br>\r\n",
        "7. potência ** </br>"
      ],
      "metadata": {
        "nteract": {
          "transient": {
            "deleting": false
          }
        }
      }
    },
    {
      "cell_type": "code",
      "source": [
        "valor1 = 10.2\r\n",
        "valor2 = 30"
      ],
      "outputs": [],
      "execution_count": 1,
      "metadata": {
        "jupyter": {
          "source_hidden": false,
          "outputs_hidden": false
        },
        "nteract": {
          "transient": {
            "deleting": false
          }
        },
        "gather": {
          "logged": 1653478690196
        }
      }
    },
    {
      "cell_type": "code",
      "source": [
        "print('Soma ',valor1 + valor2)\r\n",
        "print('Subtração ',valor1 - valor2)\r\n",
        "print('Multiplicação ',valor1 * valor2)\r\n",
        "print('Divisão ',valor1 / valor2)\r\n",
        "print('Divisão como inteiro ',valor1 // valor2)\r\n",
        "print('Módulo ',valor1 % valor2)\r\n",
        "print('Potência ',valor2 ** 2)"
      ],
      "outputs": [
        {
          "output_type": "stream",
          "name": "stdout",
          "text": "Soma  40.2\nSubtração  -19.8\nMultiplicação  306.0\nDivisão  0.33999999999999997\nDivisão como inteiro  0.0\nMódulo  10.2\nPotência  900\n"
        }
      ],
      "execution_count": 2,
      "metadata": {
        "jupyter": {
          "source_hidden": false,
          "outputs_hidden": false
        },
        "nteract": {
          "transient": {
            "deleting": false
          }
        },
        "gather": {
          "logged": 1653478692322
        }
      }
    },
    {
      "cell_type": "code",
      "source": [
        "# Assim como na Matemática, aqui temos também precedência de operadores\r\n",
        "print((valor1 + valor2)*5+6.3)"
      ],
      "outputs": [
        {
          "output_type": "stream",
          "name": "stdout",
          "text": "207.3\n"
        }
      ],
      "execution_count": 3,
      "metadata": {
        "jupyter": {
          "source_hidden": false,
          "outputs_hidden": false
        },
        "nteract": {
          "transient": {
            "deleting": false
          }
        },
        "gather": {
          "logged": 1653478696183
        }
      }
    },
    {
      "cell_type": "code",
      "source": [
        "print(valor1 + valor2*5+6.3)"
      ],
      "outputs": [
        {
          "output_type": "stream",
          "name": "stdout",
          "text": "166.5\n"
        }
      ],
      "execution_count": 4,
      "metadata": {
        "jupyter": {
          "source_hidden": false,
          "outputs_hidden": false
        },
        "nteract": {
          "transient": {
            "deleting": false
          }
        },
        "gather": {
          "logged": 1653478697837
        }
      }
    },
    {
      "cell_type": "markdown",
      "source": [
        "<h2> Comandos de Leitura e Escrita </h2>\r\n",
        "input = solicitar dados </br>\r\n",
        "print = escrever resultados"
      ],
      "metadata": {
        "nteract": {
          "transient": {
            "deleting": false
          }
        }
      }
    },
    {
      "cell_type": "code",
      "source": [
        "nome = input(\"Informe seu nome\")"
      ],
      "outputs": [],
      "execution_count": 5,
      "metadata": {
        "jupyter": {
          "source_hidden": false,
          "outputs_hidden": false
        },
        "nteract": {
          "transient": {
            "deleting": false
          }
        },
        "gather": {
          "logged": 1653478704652
        }
      }
    },
    {
      "cell_type": "code",
      "source": [
        "type(nome)"
      ],
      "outputs": [
        {
          "output_type": "execute_result",
          "execution_count": 6,
          "data": {
            "text/plain": "str"
          },
          "metadata": {}
        }
      ],
      "execution_count": 6,
      "metadata": {
        "jupyter": {
          "source_hidden": false,
          "outputs_hidden": false
        },
        "nteract": {
          "transient": {
            "deleting": false
          }
        },
        "gather": {
          "logged": 1653478707069
        }
      }
    },
    {
      "cell_type": "code",
      "source": [
        "sobrenome = input(\"Informe seu sobrenome\")"
      ],
      "outputs": [],
      "execution_count": 7,
      "metadata": {
        "jupyter": {
          "source_hidden": false,
          "outputs_hidden": false
        },
        "nteract": {
          "transient": {
            "deleting": false
          }
        },
        "gather": {
          "logged": 1653478750419
        }
      }
    },
    {
      "cell_type": "code",
      "source": [
        "type(sobrenome)"
      ],
      "outputs": [
        {
          "output_type": "execute_result",
          "execution_count": 8,
          "data": {
            "text/plain": "str"
          },
          "metadata": {}
        }
      ],
      "execution_count": 8,
      "metadata": {
        "jupyter": {
          "source_hidden": false,
          "outputs_hidden": false
        },
        "nteract": {
          "transient": {
            "deleting": false
          }
        },
        "gather": {
          "logged": 1653478754630
        }
      }
    },
    {
      "cell_type": "code",
      "source": [
        "# Concatenando strings\r\n",
        "nomecompleto = nome + ' ' + sobrenome"
      ],
      "outputs": [],
      "execution_count": 12,
      "metadata": {
        "jupyter": {
          "source_hidden": false,
          "outputs_hidden": false
        },
        "nteract": {
          "transient": {
            "deleting": false
          }
        },
        "gather": {
          "logged": 1653478818851
        }
      }
    },
    {
      "cell_type": "code",
      "source": [
        "print(nomecompleto)"
      ],
      "outputs": [
        {
          "output_type": "stream",
          "name": "stdout",
          "text": "Roger Sampaio\n"
        }
      ],
      "execution_count": 13,
      "metadata": {
        "jupyter": {
          "source_hidden": false,
          "outputs_hidden": false
        },
        "nteract": {
          "transient": {
            "deleting": false
          }
        },
        "gather": {
          "logged": 1653478820557
        }
      }
    },
    {
      "cell_type": "code",
      "source": [
        "idade = input(\"Informe sua idade: \")"
      ],
      "outputs": [],
      "execution_count": 14,
      "metadata": {
        "jupyter": {
          "source_hidden": false,
          "outputs_hidden": false
        },
        "nteract": {
          "transient": {
            "deleting": false
          }
        },
        "gather": {
          "logged": 1653478831661
        }
      }
    },
    {
      "cell_type": "code",
      "source": [
        "type(idade)"
      ],
      "outputs": [
        {
          "output_type": "execute_result",
          "execution_count": 15,
          "data": {
            "text/plain": "str"
          },
          "metadata": {}
        }
      ],
      "execution_count": 15,
      "metadata": {
        "jupyter": {
          "source_hidden": false,
          "outputs_hidden": false
        },
        "nteract": {
          "transient": {
            "deleting": false
          }
        },
        "gather": {
          "logged": 1653478833977
        }
      }
    },
    {
      "cell_type": "code",
      "source": [
        "# Convertendo para um valor inteiro\r\n",
        "idade = int(idade)"
      ],
      "outputs": [],
      "execution_count": 16,
      "metadata": {
        "jupyter": {
          "source_hidden": false,
          "outputs_hidden": false
        },
        "nteract": {
          "transient": {
            "deleting": false
          }
        },
        "gather": {
          "logged": 1653478870390
        }
      }
    },
    {
      "cell_type": "code",
      "source": [
        "type(idade)"
      ],
      "outputs": [
        {
          "output_type": "execute_result",
          "execution_count": 17,
          "data": {
            "text/plain": "int"
          },
          "metadata": {}
        }
      ],
      "execution_count": 17,
      "metadata": {
        "jupyter": {
          "source_hidden": false,
          "outputs_hidden": false
        },
        "nteract": {
          "transient": {
            "deleting": false
          }
        },
        "gather": {
          "logged": 1653478880239
        }
      }
    },
    {
      "cell_type": "code",
      "source": [
        "# Convertendo para outros tipos\r\n",
        "#idade = float(idade)\r\n",
        "#idade = str(idade)\r\n",
        "#idade = bool(idade)\r\n",
        "#idade = complex(idade)"
      ],
      "outputs": [],
      "execution_count": null,
      "metadata": {
        "jupyter": {
          "source_hidden": false,
          "outputs_hidden": false
        },
        "nteract": {
          "transient": {
            "deleting": false
          }
        }
      }
    },
    {
      "cell_type": "code",
      "source": [
        "print(\"Sua idade é: \",idade)"
      ],
      "outputs": [
        {
          "output_type": "stream",
          "name": "stdout",
          "text": "Sua idade é:  31\n"
        }
      ],
      "execution_count": 19,
      "metadata": {
        "jupyter": {
          "source_hidden": false,
          "outputs_hidden": false
        },
        "nteract": {
          "transient": {
            "deleting": false
          }
        },
        "gather": {
          "logged": 1653478910145
        }
      }
    },
    {
      "cell_type": "code",
      "source": [
        "idademais10anos = idade + 10\r\n",
        "print(idademais10anos)"
      ],
      "outputs": [
        {
          "output_type": "stream",
          "name": "stdout",
          "text": "41\n"
        }
      ],
      "execution_count": 20,
      "metadata": {
        "jupyter": {
          "source_hidden": false,
          "outputs_hidden": false
        },
        "nteract": {
          "transient": {
            "deleting": false
          }
        },
        "gather": {
          "logged": 1653478925115
        }
      }
    },
    {
      "cell_type": "code",
      "source": [
        "salario = float(input(\"Informe o salário: \"))"
      ],
      "outputs": [],
      "execution_count": 21,
      "metadata": {
        "jupyter": {
          "source_hidden": false,
          "outputs_hidden": false
        },
        "nteract": {
          "transient": {
            "deleting": false
          }
        },
        "gather": {
          "logged": 1653478969957
        }
      }
    },
    {
      "cell_type": "code",
      "source": [
        "salario"
      ],
      "outputs": [
        {
          "output_type": "execute_result",
          "execution_count": 22,
          "data": {
            "text/plain": "10000.0"
          },
          "metadata": {}
        }
      ],
      "execution_count": 22,
      "metadata": {
        "jupyter": {
          "source_hidden": false,
          "outputs_hidden": false
        },
        "nteract": {
          "transient": {
            "deleting": false
          }
        },
        "gather": {
          "logged": 1653478973890
        }
      }
    },
    {
      "cell_type": "code",
      "source": [
        "type(salario)"
      ],
      "outputs": [
        {
          "output_type": "execute_result",
          "execution_count": 23,
          "data": {
            "text/plain": "float"
          },
          "metadata": {}
        }
      ],
      "execution_count": 23,
      "metadata": {
        "jupyter": {
          "source_hidden": false,
          "outputs_hidden": false
        },
        "nteract": {
          "transient": {
            "deleting": false
          }
        },
        "gather": {
          "logged": 1653478979180
        }
      }
    },
    {
      "cell_type": "code",
      "source": [
        "salario * 0.10"
      ],
      "outputs": [
        {
          "output_type": "execute_result",
          "execution_count": 24,
          "data": {
            "text/plain": "1000.0"
          },
          "metadata": {}
        }
      ],
      "execution_count": 24,
      "metadata": {
        "jupyter": {
          "source_hidden": false,
          "outputs_hidden": false
        },
        "nteract": {
          "transient": {
            "deleting": false
          }
        },
        "gather": {
          "logged": 1653478984415
        }
      }
    },
    {
      "cell_type": "code",
      "source": [
        "salario = input(\"Informe o salário: \")\r\n",
        "salario = float(salario)\r\n",
        "print(salario)"
      ],
      "outputs": [
        {
          "output_type": "stream",
          "name": "stdout",
          "text": "15000.0\n"
        }
      ],
      "execution_count": 25,
      "metadata": {
        "jupyter": {
          "source_hidden": false,
          "outputs_hidden": false
        },
        "nteract": {
          "transient": {
            "deleting": false
          }
        },
        "gather": {
          "logged": 1653479036727
        }
      }
    },
    {
      "cell_type": "markdown",
      "source": [
        "<h3> Números Complexos</h3>\r\n",
        "</br> Na Matemática os números podem ser de dois tipos: 1. real, 2. imaginário. Números reais elevados ao quadrado sempre retornam um número positivo. Números imaginários elevados ao quadrado retornam número negativo.\r\n",
        "</br> Exemplos de números reais: 5, porque 5² = 25. -5² = 25.\r\n",
        "</br> Exemplos de números imaginários: i² = -1.\r\n",
        "</br> Número complexo é uma combinação de número real + número imaginário. Ex: z = a + bi. a número real, bi número imaginário.\r\n"
      ],
      "metadata": {
        "nteract": {
          "transient": {
            "deleting": false
          }
        }
      }
    },
    {
      "cell_type": "code",
      "source": [
        "# Tipo de dados complex em python\r\n",
        "x = 3 + 4j"
      ],
      "outputs": [],
      "execution_count": 26,
      "metadata": {
        "jupyter": {
          "source_hidden": false,
          "outputs_hidden": false
        },
        "nteract": {
          "transient": {
            "deleting": false
          }
        },
        "gather": {
          "logged": 1653479152998
        }
      }
    },
    {
      "cell_type": "code",
      "source": [
        "type(x)"
      ],
      "outputs": [
        {
          "output_type": "execute_result",
          "execution_count": 27,
          "data": {
            "text/plain": "complex"
          },
          "metadata": {}
        }
      ],
      "execution_count": 27,
      "metadata": {
        "jupyter": {
          "source_hidden": false,
          "outputs_hidden": false
        },
        "nteract": {
          "transient": {
            "deleting": false
          }
        },
        "gather": {
          "logged": 1653479155858
        }
      }
    },
    {
      "cell_type": "code",
      "source": [
        "x"
      ],
      "outputs": [
        {
          "output_type": "execute_result",
          "execution_count": 28,
          "data": {
            "text/plain": "(3+4j)"
          },
          "metadata": {}
        }
      ],
      "execution_count": 28,
      "metadata": {
        "jupyter": {
          "source_hidden": false,
          "outputs_hidden": false
        },
        "nteract": {
          "transient": {
            "deleting": false
          }
        },
        "gather": {
          "logged": 1653479162848
        }
      }
    },
    {
      "cell_type": "code",
      "source": [
        "y = complex(5,2)\r\n",
        "#y = 5 + 2j"
      ],
      "outputs": [],
      "execution_count": 29,
      "metadata": {
        "jupyter": {
          "source_hidden": false,
          "outputs_hidden": false
        },
        "nteract": {
          "transient": {
            "deleting": false
          }
        },
        "gather": {
          "logged": 1653479272840
        }
      }
    },
    {
      "cell_type": "code",
      "source": [
        "type(y)"
      ],
      "outputs": [
        {
          "output_type": "execute_result",
          "execution_count": 30,
          "data": {
            "text/plain": "complex"
          },
          "metadata": {}
        }
      ],
      "execution_count": 30,
      "metadata": {
        "jupyter": {
          "source_hidden": false,
          "outputs_hidden": false
        },
        "nteract": {
          "transient": {
            "deleting": false
          }
        },
        "gather": {
          "logged": 1653479275484
        }
      }
    },
    {
      "cell_type": "code",
      "source": [
        "y"
      ],
      "outputs": [
        {
          "output_type": "execute_result",
          "execution_count": 31,
          "data": {
            "text/plain": "(5+2j)"
          },
          "metadata": {}
        }
      ],
      "execution_count": 31,
      "metadata": {
        "jupyter": {
          "source_hidden": false,
          "outputs_hidden": false
        },
        "nteract": {
          "transient": {
            "deleting": false
          }
        },
        "gather": {
          "logged": 1653479278846
        }
      }
    },
    {
      "cell_type": "code",
      "source": [
        "a = 1+2j\r\n",
        "b = complex(3,4)\r\n",
        "#b = 3 + 4j"
      ],
      "outputs": [],
      "execution_count": 32,
      "metadata": {
        "jupyter": {
          "source_hidden": false,
          "outputs_hidden": false
        },
        "nteract": {
          "transient": {
            "deleting": false
          }
        },
        "gather": {
          "logged": 1653479304225
        }
      }
    },
    {
      "cell_type": "code",
      "source": [
        "a"
      ],
      "outputs": [
        {
          "output_type": "execute_result",
          "execution_count": 34,
          "data": {
            "text/plain": "(1+2j)"
          },
          "metadata": {}
        }
      ],
      "execution_count": 34,
      "metadata": {
        "jupyter": {
          "source_hidden": false,
          "outputs_hidden": false
        },
        "nteract": {
          "transient": {
            "deleting": false
          }
        },
        "gather": {
          "logged": 1653479321888
        }
      }
    },
    {
      "cell_type": "code",
      "source": [
        "b"
      ],
      "outputs": [
        {
          "output_type": "execute_result",
          "execution_count": 35,
          "data": {
            "text/plain": "(3+4j)"
          },
          "metadata": {}
        }
      ],
      "execution_count": 35,
      "metadata": {
        "jupyter": {
          "source_hidden": false,
          "outputs_hidden": false
        },
        "nteract": {
          "transient": {
            "deleting": false
          }
        },
        "gather": {
          "logged": 1653479325884
        }
      }
    },
    {
      "cell_type": "code",
      "source": [
        "print(a + b)"
      ],
      "outputs": [
        {
          "output_type": "stream",
          "name": "stdout",
          "text": "(4+6j)\n"
        }
      ],
      "execution_count": 33,
      "metadata": {
        "jupyter": {
          "source_hidden": false,
          "outputs_hidden": false
        },
        "nteract": {
          "transient": {
            "deleting": false
          }
        },
        "gather": {
          "logged": 1653479310832
        }
      }
    },
    {
      "cell_type": "code",
      "source": [
        "print(a - b)"
      ],
      "outputs": [
        {
          "output_type": "stream",
          "name": "stdout",
          "text": "(-2-2j)\n"
        }
      ],
      "execution_count": 36,
      "metadata": {
        "jupyter": {
          "source_hidden": false,
          "outputs_hidden": false
        },
        "nteract": {
          "transient": {
            "deleting": false
          }
        },
        "gather": {
          "logged": 1653479338082
        }
      }
    },
    {
      "cell_type": "code",
      "source": [
        "print(a * b)"
      ],
      "outputs": [
        {
          "output_type": "stream",
          "name": "stdout",
          "text": "(-5+10j)\n"
        }
      ],
      "execution_count": 37,
      "metadata": {
        "jupyter": {
          "source_hidden": false,
          "outputs_hidden": false
        },
        "nteract": {
          "transient": {
            "deleting": false
          }
        },
        "gather": {
          "logged": 1653479344378
        }
      }
    },
    {
      "cell_type": "code",
      "source": [
        "print(a / b)"
      ],
      "outputs": [
        {
          "output_type": "stream",
          "name": "stdout",
          "text": "(0.44+0.08j)\n"
        }
      ],
      "execution_count": 38,
      "metadata": {
        "jupyter": {
          "source_hidden": false,
          "outputs_hidden": false
        },
        "nteract": {
          "transient": {
            "deleting": false
          }
        },
        "gather": {
          "logged": 1653479351819
        }
      }
    }
  ],
  "metadata": {
    "kernelspec": {
      "name": "python38-azureml",
      "language": "python",
      "display_name": "Python 3.8 - AzureML"
    },
    "language_info": {
      "name": "python",
      "version": "3.8.1",
      "mimetype": "text/x-python",
      "codemirror_mode": {
        "name": "ipython",
        "version": 3
      },
      "pygments_lexer": "ipython3",
      "nbconvert_exporter": "python",
      "file_extension": ".py"
    },
    "kernel_info": {
      "name": "python38-azureml"
    },
    "nteract": {
      "version": "nteract-front-end@1.0.0"
    },
    "microsoft": {
      "host": {
        "AzureML": {
          "notebookHasBeenCompleted": true
        }
      }
    }
  },
  "nbformat": 4,
  "nbformat_minor": 2
}