{
  "cells": [
    {
      "cell_type": "markdown",
      "source": [
        "## Capítulo 10 - Módulo String."
      ],
      "metadata": {}
    },
    {
      "cell_type": "markdown",
      "source": [
        "### Strings."
      ],
      "metadata": {}
    },
    {
      "cell_type": "markdown",
      "source": [
        "Estrutura de dados que permite a utilização de letras, números e símbolo. É uma cadeia de caracteres."
      ],
      "metadata": {}
    },
    {
      "cell_type": "code",
      "source": [
        "nomeCarro = \"Fusca Completão 2020\""
      ],
      "outputs": [],
      "execution_count": 1,
      "metadata": {
        "gather": {
          "logged": 1660697283416
        }
      }
    },
    {
      "cell_type": "code",
      "source": [
        "type(nomeCarro)"
      ],
      "outputs": [
        {
          "output_type": "execute_result",
          "execution_count": 2,
          "data": {
            "text/plain": "str"
          },
          "metadata": {}
        }
      ],
      "execution_count": 2,
      "metadata": {
        "gather": {
          "logged": 1660697291883
        }
      }
    },
    {
      "cell_type": "code",
      "source": [
        "nomeCarro"
      ],
      "outputs": [
        {
          "output_type": "execute_result",
          "execution_count": 3,
          "data": {
            "text/plain": "'Fusca Completão 2020'"
          },
          "metadata": {}
        }
      ],
      "execution_count": 3,
      "metadata": {
        "jupyter": {
          "source_hidden": false,
          "outputs_hidden": false
        },
        "nteract": {
          "transient": {
            "deleting": false
          }
        },
        "gather": {
          "logged": 1660697302651
        }
      }
    },
    {
      "cell_type": "markdown",
      "source": [
        "<h3> Slicing </h3>\n",
        "Significa acessar os elementos internos usando notação de índices. Sempre começa na posição 0."
      ],
      "metadata": {}
    },
    {
      "cell_type": "code",
      "source": [
        "# Acessando o primeiro nome\n",
        "# Primeiro: início, segundo: término\n",
        "print(nomeCarro[0:5])"
      ],
      "outputs": [
        {
          "output_type": "stream",
          "name": "stdout",
          "text": "Fusca\n"
        }
      ],
      "execution_count": 4,
      "metadata": {
        "gather": {
          "logged": 1660697415607
        }
      }
    },
    {
      "cell_type": "code",
      "source": [
        "nomeCarro[1]"
      ],
      "outputs": [
        {
          "output_type": "execute_result",
          "execution_count": 6,
          "data": {
            "text/plain": "'u'"
          },
          "metadata": {}
        }
      ],
      "execution_count": 6,
      "metadata": {
        "jupyter": {
          "source_hidden": false,
          "outputs_hidden": false
        },
        "nteract": {
          "transient": {
            "deleting": false
          }
        },
        "gather": {
          "logged": 1660697442903
        }
      }
    },
    {
      "cell_type": "code",
      "source": [
        "# Acessando tudo\n",
        "print(nomeCarro[:])"
      ],
      "outputs": [
        {
          "output_type": "stream",
          "name": "stdout",
          "text": "Fusca Completão 2020\n"
        }
      ],
      "execution_count": 7,
      "metadata": {
        "gather": {
          "logged": 1660697461399
        }
      }
    },
    {
      "cell_type": "code",
      "source": [
        "print(nomeCarro)"
      ],
      "outputs": [
        {
          "output_type": "stream",
          "name": "stdout",
          "text": "Fusca Completão 2020\n"
        }
      ],
      "execution_count": 8,
      "metadata": {
        "gather": {
          "logged": 1660697478287
        }
      }
    },
    {
      "cell_type": "code",
      "source": [
        "nomeCarro"
      ],
      "outputs": [
        {
          "output_type": "execute_result",
          "execution_count": 9,
          "data": {
            "text/plain": "'Fusca Completão 2020'"
          },
          "metadata": {}
        }
      ],
      "execution_count": 9,
      "metadata": {
        "jupyter": {
          "source_hidden": false,
          "outputs_hidden": false
        },
        "nteract": {
          "transient": {
            "deleting": false
          }
        },
        "gather": {
          "logged": 1660697512602
        }
      }
    },
    {
      "cell_type": "code",
      "source": [
        "# Acessando a partir do elemento 'Completão'\n",
        "print(nomeCarro[6:])"
      ],
      "outputs": [
        {
          "output_type": "stream",
          "name": "stdout",
          "text": "Completão 2020\n"
        }
      ],
      "execution_count": 10,
      "metadata": {
        "gather": {
          "logged": 1660697546983
        }
      }
    },
    {
      "cell_type": "code",
      "source": [
        "# Acessando apenas o nome 'Fusca'\n",
        "print(nomeCarro[:5])"
      ],
      "outputs": [
        {
          "output_type": "stream",
          "name": "stdout",
          "text": "Fusca\n"
        }
      ],
      "execution_count": 11,
      "metadata": {
        "gather": {
          "logged": 1660697591820
        }
      }
    },
    {
      "cell_type": "code",
      "source": [
        "nomeCarro"
      ],
      "outputs": [
        {
          "output_type": "execute_result",
          "execution_count": 12,
          "data": {
            "text/plain": "'Fusca Completão 2020'"
          },
          "metadata": {}
        }
      ],
      "execution_count": 12,
      "metadata": {
        "jupyter": {
          "source_hidden": false,
          "outputs_hidden": false
        },
        "nteract": {
          "transient": {
            "deleting": false
          }
        },
        "gather": {
          "logged": 1660697618564
        }
      }
    },
    {
      "cell_type": "code",
      "source": [
        "print(nomeCarro[-8])"
      ],
      "outputs": [
        {
          "output_type": "stream",
          "name": "stdout",
          "text": "t\n"
        }
      ],
      "execution_count": 14,
      "metadata": {
        "gather": {
          "logged": 1660697680837
        }
      }
    },
    {
      "cell_type": "code",
      "source": [
        "print(nomeCarro[-1])"
      ],
      "outputs": [
        {
          "output_type": "stream",
          "name": "stdout",
          "text": "0\n"
        }
      ],
      "execution_count": 15,
      "metadata": {
        "jupyter": {
          "source_hidden": false,
          "outputs_hidden": false
        },
        "nteract": {
          "transient": {
            "deleting": false
          }
        },
        "gather": {
          "logged": 1660697688927
        }
      }
    },
    {
      "cell_type": "code",
      "source": [
        "# Acessando tudo menos o ano do carro\n",
        "print(nomeCarro[:-5])"
      ],
      "outputs": [
        {
          "output_type": "stream",
          "name": "stdout",
          "text": "Fusca Completão\n"
        }
      ],
      "execution_count": 17,
      "metadata": {
        "gather": {
          "logged": 1660697741136
        }
      }
    },
    {
      "cell_type": "markdown",
      "source": [
        "<h3> Percorrendo elas </h3>\n",
        "\n",
        "Strings são objetos iteráveis, ou seja, podem ser utilizados em comandos de repetição."
      ],
      "metadata": {}
    },
    {
      "cell_type": "code",
      "source": [
        "nomeCarro"
      ],
      "outputs": [
        {
          "output_type": "execute_result",
          "execution_count": 18,
          "data": {
            "text/plain": "'Fusca Completão 2020'"
          },
          "metadata": {}
        }
      ],
      "execution_count": 18,
      "metadata": {
        "jupyter": {
          "source_hidden": false,
          "outputs_hidden": false
        },
        "nteract": {
          "transient": {
            "deleting": false
          }
        },
        "gather": {
          "logged": 1660697770731
        }
      }
    },
    {
      "cell_type": "code",
      "source": [
        "for item in nomeCarro:\n",
        "    print(item)"
      ],
      "outputs": [
        {
          "output_type": "stream",
          "name": "stdout",
          "text": "F\nu\ns\nc\na\n \nC\no\nm\np\nl\ne\nt\nã\no\n \n2\n0\n2\n0\n"
        }
      ],
      "execution_count": 19,
      "metadata": {
        "gather": {
          "logged": 1660697779298
        }
      }
    },
    {
      "cell_type": "markdown",
      "source": [
        "<h3> Pesquisando elementos nela </h3>\n",
        "\n",
        "Podemos verificar se um elemento está ou não nela através do operador IN"
      ],
      "metadata": {}
    },
    {
      "cell_type": "code",
      "source": [
        "nomeCarro"
      ],
      "outputs": [
        {
          "output_type": "execute_result",
          "execution_count": 20,
          "data": {
            "text/plain": "'Fusca Completão 2020'"
          },
          "metadata": {}
        }
      ],
      "execution_count": 20,
      "metadata": {
        "jupyter": {
          "source_hidden": false,
          "outputs_hidden": false
        },
        "nteract": {
          "transient": {
            "deleting": false
          }
        },
        "gather": {
          "logged": 1660697801741
        }
      }
    },
    {
      "cell_type": "code",
      "source": [
        "print('Fusca' in nomeCarro)"
      ],
      "outputs": [
        {
          "output_type": "stream",
          "name": "stdout",
          "text": "True\n"
        }
      ],
      "execution_count": 21,
      "metadata": {
        "gather": {
          "logged": 1660697830691
        }
      }
    },
    {
      "cell_type": "code",
      "source": [
        "print('2021' in nomeCarro)"
      ],
      "outputs": [
        {
          "output_type": "stream",
          "name": "stdout",
          "text": "False\n"
        }
      ],
      "execution_count": 22,
      "metadata": {
        "gather": {
          "logged": 1660697838065
        }
      }
    },
    {
      "cell_type": "code",
      "source": [
        "print('2020' not in nomeCarro)"
      ],
      "outputs": [
        {
          "output_type": "stream",
          "name": "stdout",
          "text": "False\n"
        }
      ],
      "execution_count": 23,
      "metadata": {
        "gather": {
          "logged": 1660697857132
        }
      }
    },
    {
      "cell_type": "markdown",
      "source": [
        "<h3> Métodos úteis para strings </h3>\n",
        "\n",
        "https://www.w3schools.com/python/python_ref_string.asp"
      ],
      "metadata": {}
    },
    {
      "cell_type": "markdown",
      "source": [
        "<h4> Método len </h4>\n",
        "\n",
        "len( ) = Verificar o tamanho."
      ],
      "metadata": {}
    },
    {
      "cell_type": "code",
      "source": [
        "nomeCarro"
      ],
      "outputs": [
        {
          "output_type": "execute_result",
          "execution_count": 25,
          "data": {
            "text/plain": "'Fusca Completão 2020'"
          },
          "metadata": {}
        }
      ],
      "execution_count": 25,
      "metadata": {
        "jupyter": {
          "source_hidden": false,
          "outputs_hidden": false
        },
        "nteract": {
          "transient": {
            "deleting": false
          }
        },
        "gather": {
          "logged": 1660698150650
        }
      }
    },
    {
      "cell_type": "code",
      "source": [
        "len(nomeCarro)"
      ],
      "outputs": [
        {
          "output_type": "execute_result",
          "execution_count": 24,
          "data": {
            "text/plain": "20"
          },
          "metadata": {}
        }
      ],
      "execution_count": 24,
      "metadata": {
        "gather": {
          "logged": 1660698138285
        }
      }
    },
    {
      "cell_type": "code",
      "source": [
        "texto = \"Eu gosto muito do Brasil além dele ser lindo.\""
      ],
      "outputs": [],
      "execution_count": 26,
      "metadata": {
        "gather": {
          "logged": 1660698181809
        }
      }
    },
    {
      "cell_type": "code",
      "source": [
        "len(texto)"
      ],
      "outputs": [
        {
          "output_type": "execute_result",
          "execution_count": 27,
          "data": {
            "text/plain": "45"
          },
          "metadata": {}
        }
      ],
      "execution_count": 27,
      "metadata": {
        "gather": {
          "logged": 1660698184578
        }
      }
    },
    {
      "cell_type": "markdown",
      "source": [
        "<h4> Método upper </h4>\n",
        "\n",
        "upper( ) = Converte tudo para MAIÚSCULO."
      ],
      "metadata": {}
    },
    {
      "cell_type": "code",
      "source": [
        "texto"
      ],
      "outputs": [
        {
          "output_type": "execute_result",
          "execution_count": 28,
          "data": {
            "text/plain": "'Eu gosto muito do Brasil além dele ser lindo.'"
          },
          "metadata": {}
        }
      ],
      "execution_count": 28,
      "metadata": {
        "jupyter": {
          "source_hidden": false,
          "outputs_hidden": false
        },
        "nteract": {
          "transient": {
            "deleting": false
          }
        },
        "gather": {
          "logged": 1660698230321
        }
      }
    },
    {
      "cell_type": "code",
      "source": [
        "texto.upper()"
      ],
      "outputs": [
        {
          "output_type": "execute_result",
          "execution_count": 29,
          "data": {
            "text/plain": "'EU GOSTO MUITO DO BRASIL ALÉM DELE SER LINDO.'"
          },
          "metadata": {}
        }
      ],
      "execution_count": 29,
      "metadata": {
        "gather": {
          "logged": 1660698238507
        }
      }
    },
    {
      "cell_type": "markdown",
      "source": [
        "<h4> Método lower </h4>\n",
        "\n",
        "lower( ) = Converte tudo para MINÚSCULO."
      ],
      "metadata": {}
    },
    {
      "cell_type": "code",
      "source": [
        "texto"
      ],
      "outputs": [
        {
          "output_type": "execute_result",
          "execution_count": 30,
          "data": {
            "text/plain": "'Eu gosto muito do Brasil além dele ser lindo.'"
          },
          "metadata": {}
        }
      ],
      "execution_count": 30,
      "metadata": {
        "jupyter": {
          "source_hidden": false,
          "outputs_hidden": false
        },
        "nteract": {
          "transient": {
            "deleting": false
          }
        },
        "gather": {
          "logged": 1660698278824
        }
      }
    },
    {
      "cell_type": "code",
      "source": [
        "texto.lower()"
      ],
      "outputs": [
        {
          "output_type": "execute_result",
          "execution_count": 31,
          "data": {
            "text/plain": "'eu gosto muito do brasil além dele ser lindo.'"
          },
          "metadata": {}
        }
      ],
      "execution_count": 31,
      "metadata": {
        "gather": {
          "logged": 1660698283308
        }
      }
    },
    {
      "cell_type": "markdown",
      "source": [
        "<h4> Método title </h4>\r\n",
        "\r\n",
        "title( ) = Converter o primeiro caractere de cada palavra para maiúsculo"
      ],
      "metadata": {
        "nteract": {
          "transient": {
            "deleting": false
          }
        }
      }
    },
    {
      "cell_type": "code",
      "source": [
        "texto_titulo1 = \"Essa é uma aula de python sobre strings.\"\r\n",
        "print(type(texto_titulo1))"
      ],
      "outputs": [
        {
          "output_type": "stream",
          "name": "stdout",
          "text": "<class 'str'>\n"
        }
      ],
      "execution_count": 32,
      "metadata": {
        "jupyter": {
          "source_hidden": false,
          "outputs_hidden": false
        },
        "nteract": {
          "transient": {
            "deleting": false
          }
        },
        "gather": {
          "logged": 1660698328337
        }
      }
    },
    {
      "cell_type": "code",
      "source": [
        "texto_titulo1.title()"
      ],
      "outputs": [
        {
          "output_type": "execute_result",
          "execution_count": 33,
          "data": {
            "text/plain": "'Essa É Uma Aula De Python Sobre Strings.'"
          },
          "metadata": {}
        }
      ],
      "execution_count": 33,
      "metadata": {
        "jupyter": {
          "source_hidden": false,
          "outputs_hidden": false
        },
        "nteract": {
          "transient": {
            "deleting": false
          }
        },
        "gather": {
          "logged": 1660698344615
        }
      }
    },
    {
      "cell_type": "code",
      "source": [
        "# outra maneira de criar uma string\r\n",
        "texto_titulo2 = 'Essa é uma aula de python sobre strings.'\r\n",
        "print(type(texto_titulo2))"
      ],
      "outputs": [
        {
          "output_type": "stream",
          "name": "stdout",
          "text": "<class 'str'>\n"
        }
      ],
      "execution_count": 34,
      "metadata": {
        "jupyter": {
          "source_hidden": false,
          "outputs_hidden": false
        },
        "nteract": {
          "transient": {
            "deleting": false
          }
        },
        "gather": {
          "logged": 1660698388069
        }
      }
    },
    {
      "cell_type": "code",
      "source": [
        "# outra maneira de criar uma string\r\n",
        "texto_titulo3 = '''Essa é uma aula de python sobre strings.'''\r\n",
        "print(type(texto_titulo3))"
      ],
      "outputs": [
        {
          "output_type": "stream",
          "name": "stdout",
          "text": "<class 'str'>\n"
        }
      ],
      "execution_count": 35,
      "metadata": {
        "jupyter": {
          "source_hidden": false,
          "outputs_hidden": false
        },
        "nteract": {
          "transient": {
            "deleting": false
          }
        },
        "gather": {
          "logged": 1660698396726
        }
      }
    },
    {
      "cell_type": "code",
      "source": [
        "texto_titulo3.title()"
      ],
      "outputs": [
        {
          "output_type": "execute_result",
          "execution_count": 36,
          "data": {
            "text/plain": "'Essa É Uma Aula De Python Sobre Strings.'"
          },
          "metadata": {}
        }
      ],
      "execution_count": 36,
      "metadata": {
        "jupyter": {
          "source_hidden": false,
          "outputs_hidden": false
        },
        "nteract": {
          "transient": {
            "deleting": false
          }
        },
        "gather": {
          "logged": 1660698416898
        }
      }
    },
    {
      "cell_type": "markdown",
      "source": [
        "<h4> Método isdigit </h4>\r\n",
        "\r\n",
        "isdigit( ) = Verifica se todos os caracteres da string são números."
      ],
      "metadata": {
        "nteract": {
          "transient": {
            "deleting": false
          }
        }
      }
    },
    {
      "cell_type": "code",
      "source": [
        "texto_titulo3"
      ],
      "outputs": [
        {
          "output_type": "execute_result",
          "execution_count": 37,
          "data": {
            "text/plain": "'Essa é uma aula de python sobre strings.'"
          },
          "metadata": {}
        }
      ],
      "execution_count": 37,
      "metadata": {
        "jupyter": {
          "source_hidden": false,
          "outputs_hidden": false
        },
        "nteract": {
          "transient": {
            "deleting": false
          }
        },
        "gather": {
          "logged": 1660698456642
        }
      }
    },
    {
      "cell_type": "code",
      "source": [
        "texto_titulo3.isdigit()"
      ],
      "outputs": [
        {
          "output_type": "execute_result",
          "execution_count": 38,
          "data": {
            "text/plain": "False"
          },
          "metadata": {}
        }
      ],
      "execution_count": 38,
      "metadata": {
        "jupyter": {
          "source_hidden": false,
          "outputs_hidden": false
        },
        "nteract": {
          "transient": {
            "deleting": false
          }
        },
        "gather": {
          "logged": 1660698468243
        }
      }
    },
    {
      "cell_type": "code",
      "source": [
        "'61994232765'.isdigit()"
      ],
      "outputs": [
        {
          "output_type": "execute_result",
          "execution_count": 39,
          "data": {
            "text/plain": "True"
          },
          "metadata": {}
        }
      ],
      "execution_count": 39,
      "metadata": {
        "jupyter": {
          "source_hidden": false,
          "outputs_hidden": false
        },
        "nteract": {
          "transient": {
            "deleting": false
          }
        },
        "gather": {
          "logged": 1660698481053
        }
      }
    },
    {
      "cell_type": "code",
      "source": [
        "## Podemos usar esse método para validar dados de entrada de usuário"
      ],
      "outputs": [],
      "execution_count": null,
      "metadata": {
        "jupyter": {
          "source_hidden": false,
          "outputs_hidden": false
        },
        "nteract": {
          "transient": {
            "deleting": false
          }
        }
      }
    },
    {
      "cell_type": "markdown",
      "source": [
        "<h4> Método islower </h4>\n",
        "\n",
        "islower( ) = Verifica se todas os caracteres da string são minúsculos."
      ],
      "metadata": {}
    },
    {
      "cell_type": "code",
      "source": [
        "\"Acredita-se que o sucesso se constrói todos os dias\".islower()"
      ],
      "outputs": [
        {
          "output_type": "execute_result",
          "execution_count": 40,
          "data": {
            "text/plain": "False"
          },
          "metadata": {}
        }
      ],
      "execution_count": 40,
      "metadata": {
        "gather": {
          "logged": 1660698733229
        }
      }
    },
    {
      "cell_type": "code",
      "source": [
        "\"meu nome é roger\".islower()"
      ],
      "outputs": [
        {
          "output_type": "execute_result",
          "execution_count": 41,
          "data": {
            "text/plain": "True"
          },
          "metadata": {}
        }
      ],
      "execution_count": 41,
      "metadata": {
        "jupyter": {
          "source_hidden": false,
          "outputs_hidden": false
        },
        "nteract": {
          "transient": {
            "deleting": false
          }
        },
        "gather": {
          "logged": 1660698751185
        }
      }
    },
    {
      "cell_type": "markdown",
      "source": [
        "<h4> Método isspace </h4>\n",
        "\n",
        "isspace( ) = Verifica se todos os caracteres da string são espaços em brancos."
      ],
      "metadata": {}
    },
    {
      "cell_type": "code",
      "source": [
        "\"3 Pilares do Sucesso: Tempo, Dinheiro e Tesão\".isspace()"
      ],
      "outputs": [
        {
          "output_type": "execute_result",
          "execution_count": 42,
          "data": {
            "text/plain": "False"
          },
          "metadata": {}
        }
      ],
      "execution_count": 42,
      "metadata": {
        "gather": {
          "logged": 1660698781155
        }
      }
    },
    {
      "cell_type": "code",
      "source": [
        "\" \".isspace()"
      ],
      "outputs": [
        {
          "output_type": "execute_result",
          "execution_count": 44,
          "data": {
            "text/plain": "True"
          },
          "metadata": {}
        }
      ],
      "execution_count": 44,
      "metadata": {
        "jupyter": {
          "source_hidden": false,
          "outputs_hidden": false
        },
        "nteract": {
          "transient": {
            "deleting": false
          }
        },
        "gather": {
          "logged": 1660698805935
        }
      }
    },
    {
      "cell_type": "markdown",
      "source": [
        "<h4> Método str </h4>\n",
        "\n",
        "str( ) = Converte para string."
      ],
      "metadata": {}
    },
    {
      "cell_type": "code",
      "source": [
        "valorSalario = 5.000"
      ],
      "outputs": [],
      "execution_count": 45,
      "metadata": {
        "gather": {
          "logged": 1660698828536
        }
      }
    },
    {
      "cell_type": "code",
      "source": [
        "type(valorSalario)"
      ],
      "outputs": [
        {
          "output_type": "execute_result",
          "execution_count": 46,
          "data": {
            "text/plain": "float"
          },
          "metadata": {}
        }
      ],
      "execution_count": 46,
      "metadata": {
        "gather": {
          "logged": 1660698832069
        }
      }
    },
    {
      "cell_type": "code",
      "source": [
        "print(type(str(valorSalario)))"
      ],
      "outputs": [
        {
          "output_type": "stream",
          "name": "stdout",
          "text": "<class 'str'>\n"
        }
      ],
      "execution_count": 47,
      "metadata": {
        "gather": {
          "logged": 1660698850999
        }
      }
    },
    {
      "cell_type": "code",
      "source": [
        "str(valorSalario)"
      ],
      "outputs": [
        {
          "output_type": "execute_result",
          "execution_count": 48,
          "data": {
            "text/plain": "'5.0'"
          },
          "metadata": {}
        }
      ],
      "execution_count": 48,
      "metadata": {
        "gather": {
          "logged": 1660698858707
        }
      }
    },
    {
      "cell_type": "markdown",
      "source": [
        "<h4> Método isalpha </h4>\n",
        "\n",
        "isalpha( ) = Retorna FALSE se a string contiver algum caracter que não seja letra (incluindo espaços, acentos, símbolos de pontuação)."
      ],
      "metadata": {}
    },
    {
      "cell_type": "code",
      "source": [
        "texto"
      ],
      "outputs": [
        {
          "output_type": "execute_result",
          "execution_count": 49,
          "data": {
            "text/plain": "'Eu gosto muito do Brasil além dele ser lindo.'"
          },
          "metadata": {}
        }
      ],
      "execution_count": 49,
      "metadata": {
        "jupyter": {
          "source_hidden": false,
          "outputs_hidden": false
        },
        "nteract": {
          "transient": {
            "deleting": false
          }
        },
        "gather": {
          "logged": 1660698898981
        }
      }
    },
    {
      "cell_type": "code",
      "source": [
        "texto.isalpha()"
      ],
      "outputs": [
        {
          "output_type": "execute_result",
          "execution_count": 50,
          "data": {
            "text/plain": "False"
          },
          "metadata": {}
        }
      ],
      "execution_count": 50,
      "metadata": {
        "gather": {
          "logged": 1660698906826
        }
      }
    },
    {
      "cell_type": "code",
      "source": [
        "\"Eu gosto muito de você, digo 3x seguidas\".isalpha()"
      ],
      "outputs": [
        {
          "output_type": "execute_result",
          "execution_count": 51,
          "data": {
            "text/plain": "False"
          },
          "metadata": {}
        }
      ],
      "execution_count": 51,
      "metadata": {
        "gather": {
          "logged": 1660698918881
        }
      }
    },
    {
      "cell_type": "code",
      "source": [
        "\"abc\".isalpha()"
      ],
      "outputs": [
        {
          "output_type": "execute_result",
          "execution_count": 52,
          "data": {
            "text/plain": "True"
          },
          "metadata": {}
        }
      ],
      "execution_count": 52,
      "metadata": {
        "gather": {
          "logged": 1660698930323
        }
      }
    },
    {
      "cell_type": "markdown",
      "source": [
        "<h4> Método strip </h4>\n",
        "\n",
        "strip( ) = Remove todos os espaços antes e depois da string."
      ],
      "metadata": {}
    },
    {
      "cell_type": "code",
      "source": [
        "\"      A maior nota desse semestre foi 9.1       \".strip()"
      ],
      "outputs": [
        {
          "output_type": "execute_result",
          "execution_count": 53,
          "data": {
            "text/plain": "'A maior nota desse semestre foi 9.1'"
          },
          "metadata": {}
        }
      ],
      "execution_count": 53,
      "metadata": {
        "gather": {
          "logged": 1660698983164
        }
      }
    },
    {
      "cell_type": "code",
      "source": [
        "# Removendo apenas os espaços a direita\n",
        "\"      A maior nota desse semestre foi 9.1       \".rstrip()"
      ],
      "outputs": [
        {
          "output_type": "execute_result",
          "execution_count": 54,
          "data": {
            "text/plain": "'      A maior nota desse semestre foi 9.1'"
          },
          "metadata": {}
        }
      ],
      "execution_count": 54,
      "metadata": {
        "gather": {
          "logged": 1660699016439
        }
      }
    },
    {
      "cell_type": "code",
      "source": [
        "# Removendo apenas os espaços a esquerda\n",
        "\"      A maior nota desse semestre foi 9.1       \".lstrip()"
      ],
      "outputs": [
        {
          "output_type": "execute_result",
          "execution_count": 55,
          "data": {
            "text/plain": "'A maior nota desse semestre foi 9.1       '"
          },
          "metadata": {}
        }
      ],
      "execution_count": 55,
      "metadata": {
        "gather": {
          "logged": 1660699036458
        }
      }
    },
    {
      "cell_type": "markdown",
      "source": [
        "<h4> Método find </h4>\n",
        "\n",
        "Encontre um valor na string e retorna a posição onde foi encontrado. Caso não encontre, retornará -1."
      ],
      "metadata": {}
    },
    {
      "cell_type": "code",
      "source": [
        "texto"
      ],
      "outputs": [
        {
          "output_type": "execute_result",
          "execution_count": 56,
          "data": {
            "text/plain": "'Eu gosto muito do Brasil além dele ser lindo.'"
          },
          "metadata": {}
        }
      ],
      "execution_count": 56,
      "metadata": {
        "jupyter": {
          "source_hidden": false,
          "outputs_hidden": false
        },
        "nteract": {
          "transient": {
            "deleting": false
          }
        },
        "gather": {
          "logged": 1660699229262
        }
      }
    },
    {
      "cell_type": "code",
      "source": [
        "texto.find(\"Eu\")"
      ],
      "outputs": [
        {
          "output_type": "execute_result",
          "execution_count": 57,
          "data": {
            "text/plain": "0"
          },
          "metadata": {}
        }
      ],
      "execution_count": 57,
      "metadata": {
        "gather": {
          "logged": 1660699260467
        }
      }
    },
    {
      "cell_type": "code",
      "source": [
        "texto.find(\"xxxxxx\")"
      ],
      "outputs": [
        {
          "output_type": "execute_result",
          "execution_count": 58,
          "data": {
            "text/plain": "-1"
          },
          "metadata": {}
        }
      ],
      "execution_count": 58,
      "metadata": {
        "gather": {
          "logged": 1660699271212
        }
      }
    },
    {
      "cell_type": "markdown",
      "source": [
        "<h4> Método endswith </h4>\n",
        "\n",
        "Verifica se uma string termina com uma determinada expressão. Retornará true, caso seja verdade."
      ],
      "metadata": {}
    },
    {
      "cell_type": "code",
      "source": [
        "\"Eu gosto bastante de rock\".endswith(\"rock\")"
      ],
      "outputs": [
        {
          "output_type": "execute_result",
          "execution_count": 59,
          "data": {
            "text/plain": "True"
          },
          "metadata": {}
        }
      ],
      "execution_count": 59,
      "metadata": {
        "gather": {
          "logged": 1660699316042
        }
      }
    },
    {
      "cell_type": "code",
      "source": [
        "\"Eu gosto bastante de rock-roll\".endswith(\"rock\")"
      ],
      "outputs": [
        {
          "output_type": "execute_result",
          "execution_count": 60,
          "data": {
            "text/plain": "False"
          },
          "metadata": {}
        }
      ],
      "execution_count": 60,
      "metadata": {
        "gather": {
          "logged": 1660699333234
        }
      }
    },
    {
      "cell_type": "code",
      "source": [
        "txt = \"Hello, welcome to my world.\"\r\n",
        "\r\n",
        "x = txt.startswith(\"Hello\")\r\n",
        "\r\n",
        "print(x)"
      ],
      "outputs": [
        {
          "output_type": "stream",
          "name": "stdout",
          "text": "True\n"
        }
      ],
      "execution_count": 61,
      "metadata": {
        "jupyter": {
          "source_hidden": false,
          "outputs_hidden": false
        },
        "nteract": {
          "transient": {
            "deleting": false
          }
        },
        "gather": {
          "logged": 1660699499876
        }
      }
    },
    {
      "cell_type": "markdown",
      "source": [
        "<h4> Método count </h4>\n",
        "\n",
        "Retornará o número de vezes que determinado elemento apareceu."
      ],
      "metadata": {}
    },
    {
      "cell_type": "code",
      "source": [
        "\"Eu gosto bastante de gatos, mas muito mesmo de gatos, eu amo gatos\".count(\"gatos\")"
      ],
      "outputs": [
        {
          "output_type": "execute_result",
          "execution_count": 62,
          "data": {
            "text/plain": "3"
          },
          "metadata": {}
        }
      ],
      "execution_count": 62,
      "metadata": {
        "gather": {
          "logged": 1660699572449
        }
      }
    },
    {
      "cell_type": "code",
      "source": [
        "\"python é poderoso, python é vida\".count(\"python\")"
      ],
      "outputs": [
        {
          "output_type": "execute_result",
          "execution_count": 63,
          "data": {
            "text/plain": "2"
          },
          "metadata": {}
        }
      ],
      "execution_count": 63,
      "metadata": {
        "jupyter": {
          "source_hidden": false,
          "outputs_hidden": false
        },
        "nteract": {
          "transient": {
            "deleting": false
          }
        },
        "gather": {
          "logged": 1660699599067
        }
      }
    },
    {
      "cell_type": "code",
      "source": [
        "\"python é poderoso, python é vida\".count(\"linguagem r\")"
      ],
      "outputs": [
        {
          "output_type": "execute_result",
          "execution_count": 64,
          "data": {
            "text/plain": "0"
          },
          "metadata": {}
        }
      ],
      "execution_count": 64,
      "metadata": {
        "jupyter": {
          "source_hidden": false,
          "outputs_hidden": false
        },
        "nteract": {
          "transient": {
            "deleting": false
          }
        },
        "gather": {
          "logged": 1660699623831
        }
      }
    },
    {
      "cell_type": "code",
      "source": [
        "\"python é poderoso, python é vida\".count(\" \")"
      ],
      "outputs": [
        {
          "output_type": "execute_result",
          "execution_count": 66,
          "data": {
            "text/plain": "5"
          },
          "metadata": {}
        }
      ],
      "execution_count": 66,
      "metadata": {
        "jupyter": {
          "source_hidden": false,
          "outputs_hidden": false
        },
        "nteract": {
          "transient": {
            "deleting": false
          }
        },
        "gather": {
          "logged": 1660699657671
        }
      }
    },
    {
      "cell_type": "markdown",
      "source": [
        "<h4> Método join  </h4>\n",
        "\n",
        "join( ) = Junta cada item da string usando algum delimitar específico. Inverso do split."
      ],
      "metadata": {}
    },
    {
      "cell_type": "code",
      "source": [
        "\";\".join(\"xyz\")"
      ],
      "outputs": [
        {
          "output_type": "execute_result",
          "execution_count": 67,
          "data": {
            "text/plain": "'x;y;z'"
          },
          "metadata": {}
        }
      ],
      "execution_count": 67,
      "metadata": {
        "gather": {
          "logged": 1660699696471
        }
      }
    },
    {
      "cell_type": "code",
      "source": [
        "\".\".join([\"Mike\",\"Gabriella\",\"Alessandro\",\"Italo\",\"Marques\"])"
      ],
      "outputs": [
        {
          "output_type": "execute_result",
          "execution_count": 68,
          "data": {
            "text/plain": "'Mike.Gabriella.Alessandro.Italo.Marques'"
          },
          "metadata": {}
        }
      ],
      "execution_count": 68,
      "metadata": {
        "gather": {
          "logged": 1660699721213
        }
      }
    },
    {
      "cell_type": "markdown",
      "source": [
        "<h4> Método split  </h4>\n",
        "\n",
        "split( ) = Separa uma string usando um delimitador específico. Inverso do join."
      ],
      "metadata": {}
    },
    {
      "cell_type": "code",
      "source": [
        "\"Meu esporte favorito é futebol\".split(\" \")"
      ],
      "outputs": [
        {
          "output_type": "execute_result",
          "execution_count": 69,
          "data": {
            "text/plain": "['Meu', 'esporte', 'favorito', 'é', 'futebol']"
          },
          "metadata": {}
        }
      ],
      "execution_count": 69,
      "metadata": {
        "gather": {
          "logged": 1660699759475
        }
      }
    },
    {
      "cell_type": "markdown",
      "source": [
        "<h4> Método replace  </h4>\n",
        "\n",
        "replace( ) = Substitui uma parte da string por outra."
      ],
      "metadata": {}
    },
    {
      "cell_type": "code",
      "source": [
        "\"Eu amo gatos\".replace(\" \",\"#\")"
      ],
      "outputs": [
        {
          "output_type": "execute_result",
          "execution_count": 71,
          "data": {
            "text/plain": "'Eu#amo#gatos'"
          },
          "metadata": {}
        }
      ],
      "execution_count": 71,
      "metadata": {
        "gather": {
          "logged": 1660699809711
        }
      }
    },
    {
      "cell_type": "markdown",
      "source": [
        "<h4> Método format  </h4>\n",
        "\n",
        "format( ) = Formata valores dentro da string."
      ],
      "metadata": {}
    },
    {
      "cell_type": "code",
      "source": [
        "preco = 50.0"
      ],
      "outputs": [],
      "execution_count": 72,
      "metadata": {
        "gather": {
          "logged": 1660699828440
        }
      }
    },
    {
      "cell_type": "code",
      "source": [
        "\"O preço da camisa custa {0}\".format(preco)"
      ],
      "outputs": [
        {
          "output_type": "execute_result",
          "execution_count": 73,
          "data": {
            "text/plain": "'O preço da camisa custa 50.0'"
          },
          "metadata": {}
        }
      ],
      "execution_count": 73,
      "metadata": {
        "gather": {
          "logged": 1660699850708
        }
      }
    },
    {
      "cell_type": "markdown",
      "source": [
        "<h4> Concatenar string </h4>"
      ],
      "metadata": {
        "nteract": {
          "transient": {
            "deleting": false
          }
        }
      }
    },
    {
      "cell_type": "code",
      "source": [
        "nome = \"Roger\"\r\n",
        "sobrenome = \"Sampaio\"\r\n",
        "print(nome + \" \" + sobrenome)"
      ],
      "outputs": [
        {
          "output_type": "stream",
          "name": "stdout",
          "text": "Roger Sampaio\n"
        }
      ],
      "execution_count": 74,
      "metadata": {
        "jupyter": {
          "source_hidden": false,
          "outputs_hidden": false
        },
        "nteract": {
          "transient": {
            "deleting": false
          }
        },
        "gather": {
          "logged": 1660699883230
        }
      }
    },
    {
      "cell_type": "code",
      "source": [
        "x = 'My crypto portfolio amount in dollars is '\r\n",
        "y = 5000\r\n",
        "print(\"{}{}\".format(x, y))"
      ],
      "outputs": [
        {
          "output_type": "stream",
          "name": "stdout",
          "text": "My crypto portfolio amount in dollars is 5000\n"
        }
      ],
      "execution_count": 75,
      "metadata": {
        "jupyter": {
          "source_hidden": false,
          "outputs_hidden": false
        },
        "nteract": {
          "transient": {
            "deleting": false
          }
        },
        "gather": {
          "logged": 1660699920178
        }
      }
    },
    {
      "cell_type": "code",
      "source": [
        "x = 'My crypto portfolio amount in dollars is '\r\n",
        "y = 5000\r\n",
        "print(f'{x}{y}')"
      ],
      "outputs": [
        {
          "output_type": "stream",
          "name": "stdout",
          "text": "My crypto portfolio amount in dollars is 5000\n"
        }
      ],
      "execution_count": 76,
      "metadata": {
        "jupyter": {
          "source_hidden": false,
          "outputs_hidden": false
        },
        "nteract": {
          "transient": {
            "deleting": false
          }
        },
        "gather": {
          "logged": 1660699939301
        }
      }
    }
  ],
  "metadata": {
    "kernelspec": {
      "name": "python3",
      "language": "python",
      "display_name": "Python 3 (ipykernel)"
    },
    "language_info": {
      "name": "python",
      "version": "3.8.5",
      "mimetype": "text/x-python",
      "codemirror_mode": {
        "name": "ipython",
        "version": 3
      },
      "pygments_lexer": "ipython3",
      "nbconvert_exporter": "python",
      "file_extension": ".py"
    },
    "kernel_info": {
      "name": "python3"
    },
    "nteract": {
      "version": "nteract-front-end@1.0.0"
    },
    "microsoft": {
      "host": {
        "AzureML": {
          "notebookHasBeenCompleted": true
        }
      }
    }
  },
  "nbformat": 4,
  "nbformat_minor": 2
}