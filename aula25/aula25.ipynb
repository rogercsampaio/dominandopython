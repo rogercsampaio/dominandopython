{
  "cells": [
    {
      "cell_type": "markdown",
      "source": [
        "<img src=\"imagens/logo_oficial.jpg\"/>"
      ],
      "metadata": {
        "nteract": {
          "transient": {
            "deleting": false
          }
        }
      }
    },
    {
      "cell_type": "markdown",
      "source": [
        "## Aula 25 - Orientação a Objetos\r\n",
        "Objetos, métodos, classes, variáveis de instância."
      ],
      "metadata": {
        "nteract": {
          "transient": {
            "deleting": false
          }
        }
      }
    },
    {
      "cell_type": "markdown",
      "source": [
        "Python é uma linguagem orientada a objetos (OO), ou seja utiliza o paradigma orientado a objetos. Outras linguagen desse paradigma são: JAVA, C++, C#. Esse paradigma astrai, organiza e representa o mundo real como OBJETOS com características próprias e comportamentos. Logo um programa construído em Python é uma coleção de objetos que se comunicam a todo mundo, sendo alguns objetos nativos e outros criados por você. \r\n",
        "Cada objeto é criado a partir de um template, molde chamado de CLASSE. Cada objeto é uma INSTÂNCIA DE UMA CLASSE. \r\n",
        "O objeto sempre tem: </br> </br>\r\n",
        "1 - Característica, estado, propriedades. \"Características do objeto que o representam\". Representado pelas variáveis/atributos. </br>\r\n",
        "2 - Comportamento ou operações. \"Coisas que o objeto pode fazer\". Representado pelos métodos. </br>\r\n"
      ],
      "metadata": {
        "nteract": {
          "transient": {
            "deleting": false
          }
        }
      }
    },
    {
      "cell_type": "markdown",
      "source": [
        "<img src=\"imagens/classes_objetos.jpg\"/>"
      ],
      "metadata": {
        "nteract": {
          "transient": {
            "deleting": false
          }
        }
      }
    },
    {
      "cell_type": "markdown",
      "source": [
        "Alguns Objetos Nativos\r\n",
        "<img src=\"imagens/objetos_nativos_exemplo.jpg\"/>"
      ],
      "metadata": {
        "nteract": {
          "transient": {
            "deleting": false
          }
        }
      }
    },
    {
      "cell_type": "markdown",
      "source": [
        "Pilares do paradigma orientado a objetos: </br>\r\n",
        "1 - Abstração. Representação abstrata dos objetos do mundo real no programa. Cada objeto é único, com suas próprias características e comportamentos. </br>\r\n",
        "2 - Encapsulamento. Técnica que adiciona uma camada de segurança para evitar o acesso indevido e direto ao objeto, escondendo as propriedades. Exemplo: botão ligar da televisão, a televisão liga embora simplesmente não compreendemos o que acontece internamente. </br>\r\n",
        "3 - Herança. Permite reuso de código. Conceito em que objetos compartilham característica e comportamentos em comum. Exemplo: pai, filho. </br>\r\n",
        "4 - Polimorfismo. Os objetos herdam características, comportamentos do objeto Pai, embora talvez alguns comportamentos sejam diferentes. Polimorfismo é alteração no funcionamento interno de um método herdado de um objeto Pai. Exemplo: classe Pai Eletrodoméstico e objetos Geladeira, Televisão, método ligar. A forma que cada um desses liga é ligeraimente diferente do outro. </br>"
      ],
      "metadata": {
        "nteract": {
          "transient": {
            "deleting": false
          }
        }
      }
    },
    {
      "cell_type": "markdown",
      "source": [
        "Quatro Pilares do Paradigma Orientado a Objetos\r\n",
        "<img src=\"imagens/pilares_oo.jpg\"/>"
      ],
      "metadata": {
        "nteract": {
          "transient": {
            "deleting": false
          }
        }
      }
    },
    {
      "cell_type": "code",
      "source": [
        "import datetime as dt"
      ],
      "outputs": [],
      "execution_count": 6,
      "metadata": {
        "jupyter": {
          "source_hidden": false,
          "outputs_hidden": false
        },
        "nteract": {
          "transient": {
            "deleting": false
          }
        },
        "gather": {
          "logged": 1672884244541
        }
      }
    },
    {
      "cell_type": "code",
      "source": [
        "# Exemplo de objetos Python\r\n",
        "lista_frutas = ['uva','banana','maça']"
      ],
      "outputs": [],
      "execution_count": 7,
      "metadata": {
        "jupyter": {
          "source_hidden": false,
          "outputs_hidden": false
        },
        "nteract": {
          "transient": {
            "deleting": false
          }
        },
        "gather": {
          "logged": 1672884246610
        }
      }
    },
    {
      "cell_type": "code",
      "source": [
        "type(lista_frutas)"
      ],
      "outputs": [
        {
          "output_type": "execute_result",
          "execution_count": 8,
          "data": {
            "text/plain": "list"
          },
          "metadata": {}
        }
      ],
      "execution_count": 8,
      "metadata": {
        "jupyter": {
          "source_hidden": false,
          "outputs_hidden": false
        },
        "nteract": {
          "transient": {
            "deleting": false
          }
        },
        "gather": {
          "logged": 1672884261021
        }
      }
    },
    {
      "cell_type": "code",
      "source": [
        "# Explorar todos os atributos e métodos\r\n",
        "dir(lista_frutas)"
      ],
      "outputs": [
        {
          "output_type": "execute_result",
          "execution_count": 9,
          "data": {
            "text/plain": "['__add__',\n '__class__',\n '__contains__',\n '__delattr__',\n '__delitem__',\n '__dir__',\n '__doc__',\n '__eq__',\n '__format__',\n '__ge__',\n '__getattribute__',\n '__getitem__',\n '__gt__',\n '__hash__',\n '__iadd__',\n '__imul__',\n '__init__',\n '__init_subclass__',\n '__iter__',\n '__le__',\n '__len__',\n '__lt__',\n '__mul__',\n '__ne__',\n '__new__',\n '__reduce__',\n '__reduce_ex__',\n '__repr__',\n '__reversed__',\n '__rmul__',\n '__setattr__',\n '__setitem__',\n '__sizeof__',\n '__str__',\n '__subclasshook__',\n 'append',\n 'clear',\n 'copy',\n 'count',\n 'extend',\n 'index',\n 'insert',\n 'pop',\n 'remove',\n 'reverse',\n 'sort']"
          },
          "metadata": {}
        }
      ],
      "execution_count": 9,
      "metadata": {
        "jupyter": {
          "source_hidden": false,
          "outputs_hidden": false
        },
        "nteract": {
          "transient": {
            "deleting": false
          }
        },
        "gather": {
          "logged": 1672884302266
        }
      }
    },
    {
      "cell_type": "code",
      "source": [
        "# Solicitar ajuda\r\n",
        "help(lista_frutas.remove)"
      ],
      "outputs": [
        {
          "output_type": "stream",
          "name": "stdout",
          "text": "Help on built-in function remove:\n\nremove(value, /) method of builtins.list instance\n    Remove first occurrence of value.\n    \n    Raises ValueError if the value is not present.\n\n"
        }
      ],
      "execution_count": 11,
      "metadata": {
        "jupyter": {
          "source_hidden": false,
          "outputs_hidden": false
        },
        "nteract": {
          "transient": {
            "deleting": false
          }
        },
        "gather": {
          "logged": 1672884345011
        }
      }
    },
    {
      "cell_type": "code",
      "source": [
        "# DATA\r\n",
        "data_atual = dt.datetime.now().date()\r\n",
        "print(data_atual)\r\n",
        "print(f\"O tipo de dado é : {type(data_atual)}\")"
      ],
      "outputs": [
        {
          "output_type": "stream",
          "name": "stdout",
          "text": "2023-01-05\nO tipo de dado é : <class 'datetime.date'>\n"
        }
      ],
      "execution_count": 13,
      "metadata": {
        "jupyter": {
          "source_hidden": false,
          "outputs_hidden": false
        },
        "nteract": {
          "transient": {
            "deleting": false
          }
        },
        "gather": {
          "logged": 1672884411621
        }
      }
    },
    {
      "cell_type": "code",
      "source": [
        "dir(data_atual)"
      ],
      "outputs": [
        {
          "output_type": "execute_result",
          "execution_count": 14,
          "data": {
            "text/plain": "['__add__',\n '__class__',\n '__delattr__',\n '__dir__',\n '__doc__',\n '__eq__',\n '__format__',\n '__ge__',\n '__getattribute__',\n '__gt__',\n '__hash__',\n '__init__',\n '__init_subclass__',\n '__le__',\n '__lt__',\n '__ne__',\n '__new__',\n '__radd__',\n '__reduce__',\n '__reduce_ex__',\n '__repr__',\n '__rsub__',\n '__setattr__',\n '__sizeof__',\n '__str__',\n '__sub__',\n '__subclasshook__',\n 'ctime',\n 'day',\n 'fromisocalendar',\n 'fromisoformat',\n 'fromordinal',\n 'fromtimestamp',\n 'isocalendar',\n 'isoformat',\n 'isoweekday',\n 'max',\n 'min',\n 'month',\n 'replace',\n 'resolution',\n 'strftime',\n 'timetuple',\n 'today',\n 'toordinal',\n 'weekday',\n 'year']"
          },
          "metadata": {}
        }
      ],
      "execution_count": 14,
      "metadata": {
        "jupyter": {
          "source_hidden": false,
          "outputs_hidden": false
        },
        "nteract": {
          "transient": {
            "deleting": false
          }
        },
        "gather": {
          "logged": 1672884441405
        }
      }
    },
    {
      "cell_type": "code",
      "source": [
        "help(data_atual.day)"
      ],
      "outputs": [
        {
          "output_type": "stream",
          "name": "stdout",
          "text": "Help on int object:\n\nclass int(object)\n |  int([x]) -> integer\n |  int(x, base=10) -> integer\n |  \n |  Convert a number or string to an integer, or return 0 if no arguments\n |  are given.  If x is a number, return x.__int__().  For floating point\n |  numbers, this truncates towards zero.\n |  \n |  If x is not a number or if base is given, then x must be a string,\n |  bytes, or bytearray instance representing an integer literal in the\n |  given base.  The literal can be preceded by '+' or '-' and be surrounded\n |  by whitespace.  The base defaults to 10.  Valid bases are 0 and 2-36.\n |  Base 0 means to interpret the base from the string as an integer literal.\n |  >>> int('0b100', base=0)\n |  4\n |  \n |  Built-in subclasses:\n |      bool\n |  \n |  Methods defined here:\n |  \n |  __abs__(self, /)\n |      abs(self)\n |  \n |  __add__(self, value, /)\n |      Return self+value.\n |  \n |  __and__(self, value, /)\n |      Return self&value.\n |  \n |  __bool__(self, /)\n |      self != 0\n |  \n |  __ceil__(...)\n |      Ceiling of an Integral returns itself.\n |  \n |  __divmod__(self, value, /)\n |      Return divmod(self, value).\n |  \n |  __eq__(self, value, /)\n |      Return self==value.\n |  \n |  __float__(self, /)\n |      float(self)\n |  \n |  __floor__(...)\n |      Flooring an Integral returns itself.\n |  \n |  __floordiv__(self, value, /)\n |      Return self//value.\n |  \n |  __format__(self, format_spec, /)\n |      Default object formatter.\n |  \n |  __ge__(self, value, /)\n |      Return self>=value.\n |  \n |  __getattribute__(self, name, /)\n |      Return getattr(self, name).\n |  \n |  __getnewargs__(self, /)\n |  \n |  __gt__(self, value, /)\n |      Return self>value.\n |  \n |  __hash__(self, /)\n |      Return hash(self).\n |  \n |  __index__(self, /)\n |      Return self converted to an integer, if self is suitable for use as an index into a list.\n |  \n |  __int__(self, /)\n |      int(self)\n |  \n |  __invert__(self, /)\n |      ~self\n |  \n |  __le__(self, value, /)\n |      Return self<=value.\n |  \n |  __lshift__(self, value, /)\n |      Return self<<value.\n |  \n |  __lt__(self, value, /)\n |      Return self<value.\n |  \n |  __mod__(self, value, /)\n |      Return self%value.\n |  \n |  __mul__(self, value, /)\n |      Return self*value.\n |  \n |  __ne__(self, value, /)\n |      Return self!=value.\n |  \n |  __neg__(self, /)\n |      -self\n |  \n |  __or__(self, value, /)\n |      Return self|value.\n |  \n |  __pos__(self, /)\n |      +self\n |  \n |  __pow__(self, value, mod=None, /)\n |      Return pow(self, value, mod).\n |  \n |  __radd__(self, value, /)\n |      Return value+self.\n |  \n |  __rand__(self, value, /)\n |      Return value&self.\n |  \n |  __rdivmod__(self, value, /)\n |      Return divmod(value, self).\n |  \n |  __repr__(self, /)\n |      Return repr(self).\n |  \n |  __rfloordiv__(self, value, /)\n |      Return value//self.\n |  \n |  __rlshift__(self, value, /)\n |      Return value<<self.\n |  \n |  __rmod__(self, value, /)\n |      Return value%self.\n |  \n |  __rmul__(self, value, /)\n |      Return value*self.\n |  \n |  __ror__(self, value, /)\n |      Return value|self.\n |  \n |  __round__(...)\n |      Rounding an Integral returns itself.\n |      Rounding with an ndigits argument also returns an integer.\n |  \n |  __rpow__(self, value, mod=None, /)\n |      Return pow(value, self, mod).\n |  \n |  __rrshift__(self, value, /)\n |      Return value>>self.\n |  \n |  __rshift__(self, value, /)\n |      Return self>>value.\n |  \n |  __rsub__(self, value, /)\n |      Return value-self.\n |  \n |  __rtruediv__(self, value, /)\n |      Return value/self.\n |  \n |  __rxor__(self, value, /)\n |      Return value^self.\n |  \n |  __sizeof__(self, /)\n |      Returns size in memory, in bytes.\n |  \n |  __sub__(self, value, /)\n |      Return self-value.\n |  \n |  __truediv__(self, value, /)\n |      Return self/value.\n |  \n |  __trunc__(...)\n |      Truncating an Integral returns itself.\n |  \n |  __xor__(self, value, /)\n |      Return self^value.\n |  \n |  as_integer_ratio(self, /)\n |      Return integer ratio.\n |      \n |      Return a pair of integers, whose ratio is exactly equal to the original int\n |      and with a positive denominator.\n |      \n |      >>> (10).as_integer_ratio()\n |      (10, 1)\n |      >>> (-10).as_integer_ratio()\n |      (-10, 1)\n |      >>> (0).as_integer_ratio()\n |      (0, 1)\n |  \n |  bit_length(self, /)\n |      Number of bits necessary to represent self in binary.\n |      \n |      >>> bin(37)\n |      '0b100101'\n |      >>> (37).bit_length()\n |      6\n |  \n |  conjugate(...)\n |      Returns self, the complex conjugate of any int.\n |  \n |  to_bytes(self, /, length, byteorder, *, signed=False)\n |      Return an array of bytes representing an integer.\n |      \n |      length\n |        Length of bytes object to use.  An OverflowError is raised if the\n |        integer is not representable with the given number of bytes.\n |      byteorder\n |        The byte order used to represent the integer.  If byteorder is 'big',\n |        the most significant byte is at the beginning of the byte array.  If\n |        byteorder is 'little', the most significant byte is at the end of the\n |        byte array.  To request the native byte order of the host system, use\n |        `sys.byteorder' as the byte order value.\n |      signed\n |        Determines whether two's complement is used to represent the integer.\n |        If signed is False and a negative integer is given, an OverflowError\n |        is raised.\n |  \n |  ----------------------------------------------------------------------\n |  Class methods defined here:\n |  \n |  from_bytes(bytes, byteorder, *, signed=False) from builtins.type\n |      Return the integer represented by the given array of bytes.\n |      \n |      bytes\n |        Holds the array of bytes to convert.  The argument must either\n |        support the buffer protocol or be an iterable object producing bytes.\n |        Bytes and bytearray are examples of built-in objects that support the\n |        buffer protocol.\n |      byteorder\n |        The byte order used to represent the integer.  If byteorder is 'big',\n |        the most significant byte is at the beginning of the byte array.  If\n |        byteorder is 'little', the most significant byte is at the end of the\n |        byte array.  To request the native byte order of the host system, use\n |        `sys.byteorder' as the byte order value.\n |      signed\n |        Indicates whether two's complement is used to represent the integer.\n |  \n |  ----------------------------------------------------------------------\n |  Static methods defined here:\n |  \n |  __new__(*args, **kwargs) from builtins.type\n |      Create and return a new object.  See help(type) for accurate signature.\n |  \n |  ----------------------------------------------------------------------\n |  Data descriptors defined here:\n |  \n |  denominator\n |      the denominator of a rational number in lowest terms\n |  \n |  imag\n |      the imaginary part of a complex number\n |  \n |  numerator\n |      the numerator of a rational number in lowest terms\n |  \n |  real\n |      the real part of a complex number\n\n"
        }
      ],
      "execution_count": 15,
      "metadata": {
        "jupyter": {
          "source_hidden": false,
          "outputs_hidden": false
        },
        "nteract": {
          "transient": {
            "deleting": false
          }
        },
        "gather": {
          "logged": 1672884447601
        }
      }
    },
    {
      "cell_type": "code",
      "source": [
        "help(data_atual.strftime)"
      ],
      "outputs": [
        {
          "output_type": "stream",
          "name": "stdout",
          "text": "Help on built-in function strftime:\n\nstrftime(...) method of datetime.date instance\n    format -> strftime() style string.\n\n"
        }
      ],
      "execution_count": 16,
      "metadata": {
        "jupyter": {
          "source_hidden": false,
          "outputs_hidden": false
        },
        "nteract": {
          "transient": {
            "deleting": false
          }
        },
        "gather": {
          "logged": 1672884473663
        }
      }
    },
    {
      "cell_type": "markdown",
      "source": [
        "<h3> Criação de Classes e Objetos </h3>"
      ],
      "metadata": {
        "nteract": {
          "transient": {
            "deleting": false
          }
        }
      }
    },
    {
      "cell_type": "code",
      "source": [
        "class Cachorro:\r\n",
        "    # corpo com CARACTERÍSTICAS(ATRIBUTOS) e COMPORTAMENTOS(MÉTODOS)\r\n",
        "    print('Cachorro criado.')\r\n",
        "    pass"
      ],
      "outputs": [
        {
          "output_type": "stream",
          "name": "stdout",
          "text": "Cachorro criado.\n"
        }
      ],
      "execution_count": 17,
      "metadata": {
        "jupyter": {
          "source_hidden": false,
          "outputs_hidden": false
        },
        "nteract": {
          "transient": {
            "deleting": false
          }
        },
        "gather": {
          "logged": 1672884528736
        }
      }
    },
    {
      "cell_type": "code",
      "source": [
        "# Criação de um objeto\r\n",
        "poodle = Cachorro()\r\n",
        "print(type(poodle))"
      ],
      "outputs": [
        {
          "output_type": "stream",
          "name": "stdout",
          "text": "<class '__main__.Cachorro'>\n"
        }
      ],
      "execution_count": 18,
      "metadata": {
        "jupyter": {
          "source_hidden": false,
          "outputs_hidden": false
        },
        "nteract": {
          "transient": {
            "deleting": false
          }
        },
        "gather": {
          "logged": 1672884556604
        }
      }
    },
    {
      "cell_type": "code",
      "source": [
        "# Criação de um objeto\r\n",
        "pitbull = Cachorro()\r\n",
        "print(type(pitbull))"
      ],
      "outputs": [
        {
          "output_type": "stream",
          "name": "stdout",
          "text": "<class '__main__.Cachorro'>\n"
        }
      ],
      "execution_count": 19,
      "metadata": {
        "jupyter": {
          "source_hidden": false,
          "outputs_hidden": false
        },
        "nteract": {
          "transient": {
            "deleting": false
          }
        },
        "gather": {
          "logged": 1672884587705
        }
      }
    },
    {
      "cell_type": "code",
      "source": [
        "class Cachorro:\r\n",
        "    # Método CONSTRUTOR. Todas as vezes que um objeto é criado, terá INICIALMENTE esses valores. ESTADO INICIAL\r\n",
        "    # Método CONSTRUTOR tem marcação __init__ que o diferencia dos demais criados.\r\n",
        "    # self é uma variável obrigatória e será sempre o primeiro atributo do método construtor, para DEFINIR as propriedades. Podemos passar quantos atributos quisermos\r\n",
        "    def __init__(self, raca, peso,altura,cor):\r\n",
        "            self.raca = raca\r\n",
        "            self.peso = peso\r\n",
        "            self.altura = altura\r\n",
        "            self.cor = cor\r\n",
        "            print(\"Cachorro criado\")\r\n",
        "    \r\n",
        "    def correr(self):\r\n",
        "        print(\"Correndo...\")\r\n",
        "\r\n",
        "    def latir(self):\r\n",
        "        print(\"Auauauauau...\")"
      ],
      "outputs": [],
      "execution_count": 30,
      "metadata": {
        "jupyter": {
          "source_hidden": false,
          "outputs_hidden": false
        },
        "nteract": {
          "transient": {
            "deleting": false
          }
        },
        "gather": {
          "logged": 1672885172085
        }
      }
    },
    {
      "cell_type": "code",
      "source": [
        "poodle = Cachorro()"
      ],
      "outputs": [
        {
          "output_type": "error",
          "ename": "TypeError",
          "evalue": "__init__() missing 4 required positional arguments: 'raca', 'peso', 'altura', and 'cor'",
          "traceback": [
            "\u001b[0;31m---------------------------------------------------------------------------\u001b[0m",
            "\u001b[0;31mTypeError\u001b[0m                                 Traceback (most recent call last)",
            "\u001b[0;32m/tmp/ipykernel_7119/2103742455.py\u001b[0m in \u001b[0;36m<module>\u001b[0;34m\u001b[0m\n\u001b[0;32m----> 1\u001b[0;31m \u001b[0mpoodle\u001b[0m \u001b[0;34m=\u001b[0m \u001b[0mCachorro\u001b[0m\u001b[0;34m(\u001b[0m\u001b[0;34m)\u001b[0m\u001b[0;34m\u001b[0m\u001b[0;34m\u001b[0m\u001b[0m\n\u001b[0m",
            "\u001b[0;31mTypeError\u001b[0m: __init__() missing 4 required positional arguments: 'raca', 'peso', 'altura', and 'cor'"
          ]
        }
      ],
      "execution_count": 33,
      "metadata": {
        "jupyter": {
          "source_hidden": false,
          "outputs_hidden": false
        },
        "nteract": {
          "transient": {
            "deleting": false
          }
        },
        "gather": {
          "logged": 1672885430454
        }
      }
    },
    {
      "cell_type": "code",
      "source": [
        "# Criação de um objeto\r\n",
        "poodle = Cachorro('poodle',35.0,15.0,'Branco')\r\n",
        "poodle.correr()\r\n",
        "poodle.latir()"
      ],
      "outputs": [
        {
          "output_type": "stream",
          "name": "stdout",
          "text": "Cachorro criado\nCorrendo...\nAuauauauau...\n"
        }
      ],
      "execution_count": 36,
      "metadata": {
        "jupyter": {
          "source_hidden": false,
          "outputs_hidden": false
        },
        "nteract": {
          "transient": {
            "deleting": false
          }
        },
        "gather": {
          "logged": 1672885486334
        }
      }
    },
    {
      "cell_type": "code",
      "source": [
        "poodle.correr()"
      ],
      "outputs": [
        {
          "output_type": "stream",
          "name": "stdout",
          "text": "Correndo...\n"
        }
      ],
      "execution_count": 37,
      "metadata": {
        "jupyter": {
          "source_hidden": false,
          "outputs_hidden": false
        },
        "nteract": {
          "transient": {
            "deleting": false
          }
        },
        "gather": {
          "logged": 1672885489081
        }
      }
    },
    {
      "cell_type": "code",
      "source": [
        "type(poodle)"
      ],
      "outputs": [
        {
          "output_type": "execute_result",
          "execution_count": 38,
          "data": {
            "text/plain": "__main__.Cachorro"
          },
          "metadata": {}
        }
      ],
      "execution_count": 38,
      "metadata": {
        "jupyter": {
          "source_hidden": false,
          "outputs_hidden": false
        },
        "nteract": {
          "transient": {
            "deleting": false
          }
        },
        "gather": {
          "logged": 1672885505074
        }
      }
    },
    {
      "cell_type": "code",
      "source": [
        "print(f\"O peso do CACHORRO é : {poodle.peso}\")\r\n",
        "print(f\"A altura do CACHORRO é : {poodle.altura}\")\r\n",
        "print(f\"O tipo de dado é : {type(poodle)}\")\r\n"
      ],
      "outputs": [
        {
          "output_type": "stream",
          "name": "stdout",
          "text": "O peso do CACHORRO é : 35.0\nA altura do CACHORRO é : 15.0\nO tipo de dado é : <class '__main__.Cachorro'>\n"
        }
      ],
      "execution_count": 39,
      "metadata": {
        "jupyter": {
          "source_hidden": false,
          "outputs_hidden": false
        },
        "nteract": {
          "transient": {
            "deleting": false
          }
        },
        "gather": {
          "logged": 1672885513627
        }
      }
    },
    {
      "cell_type": "code",
      "source": [
        "# Criação de um objeto\r\n",
        "pitbull = Cachorro('pitbull',43.0,18.0,'Preto')\r\n",
        "pitbull.correr()\r\n",
        "pitbull.latir()"
      ],
      "outputs": [
        {
          "output_type": "stream",
          "name": "stdout",
          "text": "Cachorro criado\nCorrendo...\nAuauauauau...\n"
        }
      ],
      "execution_count": 41,
      "metadata": {
        "jupyter": {
          "source_hidden": false,
          "outputs_hidden": false
        },
        "nteract": {
          "transient": {
            "deleting": false
          }
        },
        "gather": {
          "logged": 1672885540408
        }
      }
    },
    {
      "cell_type": "code",
      "source": [
        "print(f\"A cor do CACHORRO é : {pitbull.cor}\")\r\n",
        "print(f\"A altura do CACHORRO é : {pitbull.altura}\")\r\n",
        "print(f\"O tipo de dado é : {type(pitbull)}\")"
      ],
      "outputs": [
        {
          "output_type": "stream",
          "name": "stdout",
          "text": "A cor do CACHORRO é : Preto\nA altura do CACHORRO é : 18.0\nO tipo de dado é : <class '__main__.Cachorro'>\n"
        }
      ],
      "execution_count": 42,
      "metadata": {
        "jupyter": {
          "source_hidden": false,
          "outputs_hidden": false
        },
        "nteract": {
          "transient": {
            "deleting": false
          }
        },
        "gather": {
          "logged": 1672885544498
        }
      }
    },
    {
      "cell_type": "markdown",
      "source": [
        "## Atributos de Instância vs Atributos de CLASSE"
      ],
      "metadata": {
        "nteract": {
          "transient": {
            "deleting": false
          }
        }
      }
    },
    {
      "cell_type": "code",
      "source": [
        "  # Todos os atributos DENTRO DO CONSTRUTOR são chamadas de ATRIBUTOS DE INSTÂNCIA. Terá valores diferentes para cada INSTÂNCIA.\r\n",
        "  # Todos os atributos CRIADOS FORA CONSTRUTOR são chamados de ATRIBUTOS DE CLASSE. Terá os mesmos valores para todas as INSTÂNCIAS."
      ],
      "outputs": [],
      "execution_count": null,
      "metadata": {
        "jupyter": {
          "source_hidden": false,
          "outputs_hidden": false
        },
        "nteract": {
          "transient": {
            "deleting": false
          }
        }
      }
    },
    {
      "cell_type": "code",
      "source": [
        "class Gato:\r\n",
        "    especie = \"Felino\" # atributo de classe\r\n",
        "\r\n",
        "    def __init__(self, raca, peso,altura,cor): # atributos de instância. Note que a quantidade de atributos.\r\n",
        "            self.raca = raca\r\n",
        "            self.peso = peso\r\n",
        "            self.altura = altura\r\n",
        "            self.cor = cor\r\n",
        "            print(\"Gato criado\")\r\n",
        "\r\n",
        "    \r\n",
        "    def dormir(self):\r\n",
        "        print(\"Zzzzzzzzzz...\")\r\n",
        "\r\n",
        "    def miar(self):\r\n",
        "        print(\"Miauuuuuuu...\")\r\n"
      ],
      "outputs": [],
      "execution_count": 43,
      "metadata": {
        "jupyter": {
          "source_hidden": false,
          "outputs_hidden": false
        },
        "nteract": {
          "transient": {
            "deleting": false
          }
        },
        "gather": {
          "logged": 1672885720965
        }
      }
    },
    {
      "cell_type": "code",
      "source": [
        "# Criação de um objeto\r\n",
        "siamese = Gato()"
      ],
      "outputs": [
        {
          "output_type": "error",
          "ename": "TypeError",
          "evalue": "__init__() missing 4 required positional arguments: 'raca', 'peso', 'altura', and 'cor'",
          "traceback": [
            "\u001b[0;31m---------------------------------------------------------------------------\u001b[0m",
            "\u001b[0;31mTypeError\u001b[0m                                 Traceback (most recent call last)",
            "\u001b[0;32m/tmp/ipykernel_7119/3971926305.py\u001b[0m in \u001b[0;36m<module>\u001b[0;34m\u001b[0m\n\u001b[1;32m      1\u001b[0m \u001b[0;31m# Criação de um objeto\u001b[0m\u001b[0;34m\u001b[0m\u001b[0;34m\u001b[0m\u001b[0;34m\u001b[0m\u001b[0m\n\u001b[0;32m----> 2\u001b[0;31m \u001b[0msiamese\u001b[0m \u001b[0;34m=\u001b[0m \u001b[0mGato\u001b[0m\u001b[0;34m(\u001b[0m\u001b[0;34m)\u001b[0m\u001b[0;34m\u001b[0m\u001b[0;34m\u001b[0m\u001b[0m\n\u001b[0m",
            "\u001b[0;31mTypeError\u001b[0m: __init__() missing 4 required positional arguments: 'raca', 'peso', 'altura', and 'cor'"
          ]
        }
      ],
      "execution_count": 44,
      "metadata": {
        "jupyter": {
          "source_hidden": false,
          "outputs_hidden": false
        },
        "nteract": {
          "transient": {
            "deleting": false
          }
        },
        "gather": {
          "logged": 1672885728977
        }
      }
    },
    {
      "cell_type": "code",
      "source": [
        "# Criação de um objeto\r\n",
        "siamese = Gato('Siamese',4.2,22.0,'Castanho escuro') # Note que a quantidade de atributos.\r\n",
        "siamese.dormir()\r\n",
        "siamese.miar()\r\n",
        "siamese.especie"
      ],
      "outputs": [
        {
          "output_type": "stream",
          "name": "stdout",
          "text": "Gato criado\nZzzzzzzzzz...\nMiauuuuuuu...\n"
        },
        {
          "output_type": "execute_result",
          "execution_count": 48,
          "data": {
            "text/plain": "'Felino'"
          },
          "metadata": {}
        }
      ],
      "execution_count": 48,
      "metadata": {
        "jupyter": {
          "source_hidden": false,
          "outputs_hidden": false
        },
        "nteract": {
          "transient": {
            "deleting": false
          }
        },
        "gather": {
          "logged": 1672885791932
        }
      }
    },
    {
      "cell_type": "code",
      "source": [
        "print(f\"A raça do GATO é : {siamese.raca}\")\r\n",
        "print(f\"O peso do GATO é : {siamese.peso}\")\r\n",
        "print(f\"A altura do GATO é : {siamese.altura}\")\r\n",
        "print(f\"A cor do GATO é : {siamese.cor}\")\r\n",
        "print(f\"O tipo de dado é : {type(siamese)}\")\r\n",
        "print(f\"Espécie : {siamese.especie}\")\r\n"
      ],
      "outputs": [
        {
          "output_type": "stream",
          "name": "stdout",
          "text": "A raça do GATO é : Siamese\nO peso do GATO é : 4.2\nA altura do GATO é : 22.0\nA cor do GATO é : Castanho escuro\nO tipo de dado é : <class '__main__.Gato'>\nEspécie : Felino\n"
        }
      ],
      "execution_count": 50,
      "metadata": {
        "jupyter": {
          "source_hidden": false,
          "outputs_hidden": false
        },
        "nteract": {
          "transient": {
            "deleting": false
          }
        },
        "gather": {
          "logged": 1672885833030
        }
      }
    },
    {
      "cell_type": "code",
      "source": [
        "# Criação de um objeto\r\n",
        "siamese2 = Gato('Siamese 2',7.2,24.0,'Castanho claro') # Note que a quantidade de atributos.\r\n",
        "siamese2.peso"
      ],
      "outputs": [
        {
          "output_type": "stream",
          "name": "stdout",
          "text": "Gato criado\n"
        },
        {
          "output_type": "execute_result",
          "execution_count": 56,
          "data": {
            "text/plain": "7.2"
          },
          "metadata": {}
        }
      ],
      "execution_count": 56,
      "metadata": {
        "jupyter": {
          "source_hidden": false,
          "outputs_hidden": false
        },
        "nteract": {
          "transient": {
            "deleting": false
          }
        },
        "gather": {
          "logged": 1672885947570
        }
      }
    },
    {
      "cell_type": "code",
      "source": [
        "siamese2.especie"
      ],
      "outputs": [
        {
          "output_type": "execute_result",
          "execution_count": 55,
          "data": {
            "text/plain": "'Felino'"
          },
          "metadata": {}
        }
      ],
      "execution_count": 55,
      "metadata": {
        "jupyter": {
          "source_hidden": false,
          "outputs_hidden": false
        },
        "nteract": {
          "transient": {
            "deleting": false
          }
        },
        "gather": {
          "logged": 1672885943246
        }
      }
    },
    {
      "cell_type": "code",
      "source": [
        "siamese.peso = 25.0\r\n",
        "print(f\"O novo peso do GATO é : {siamese.peso}\")\r\n"
      ],
      "outputs": [
        {
          "output_type": "stream",
          "name": "stdout",
          "text": "O novo peso do GATO é : 25.0\n"
        }
      ],
      "execution_count": 57,
      "metadata": {
        "jupyter": {
          "source_hidden": false,
          "outputs_hidden": false
        },
        "nteract": {
          "transient": {
            "deleting": false
          }
        },
        "gather": {
          "logged": 1672885969023
        }
      }
    }
  ],
  "metadata": {
    "kernelspec": {
      "name": "python3",
      "language": "python",
      "display_name": "Python 3 (ipykernel)"
    },
    "language_info": {
      "name": "python",
      "version": "3.8.5",
      "mimetype": "text/x-python",
      "codemirror_mode": {
        "name": "ipython",
        "version": 3
      },
      "pygments_lexer": "ipython3",
      "nbconvert_exporter": "python",
      "file_extension": ".py"
    },
    "nteract": {
      "version": "nteract-front-end@1.0.0"
    },
    "kernel_info": {
      "name": "python3"
    },
    "microsoft": {
      "host": {
        "AzureML": {
          "notebookHasBeenCompleted": true
        }
      }
    }
  },
  "nbformat": 4,
  "nbformat_minor": 2
}