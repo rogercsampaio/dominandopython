{
  "cells": [
    {
      "cell_type": "markdown",
      "source": [
        "<img src=\"imagens/logo_oficial.jpg\"/>"
      ],
      "metadata": {
        "nteract": {
          "transient": {
            "deleting": false
          }
        }
      }
    },
    {
      "cell_type": "markdown",
      "source": [
        "# Aula 20 Exceções\r\n",
        "Exercício: NETFLIX Parte 2-2"
      ],
      "metadata": {
        "nteract": {
          "transient": {
            "deleting": false
          }
        }
      }
    },
    {
      "cell_type": "markdown",
      "source": [
        "### Importações"
      ],
      "metadata": {
        "nteract": {
          "transient": {
            "deleting": false
          }
        }
      }
    },
    {
      "cell_type": "code",
      "source": [
        "# pacotes aqui. \r\n",
        "import random as rd\r\n",
        "import os\r\n",
        "import csv\r\n",
        "import shutil"
      ],
      "outputs": [],
      "execution_count": 52,
      "metadata": {
        "jupyter": {
          "source_hidden": false,
          "outputs_hidden": false
        },
        "nteract": {
          "transient": {
            "deleting": false
          }
        },
        "gather": {
          "logged": 1668294175270
        }
      }
    },
    {
      "cell_type": "markdown",
      "source": [
        "## Declarações de Funções"
      ],
      "metadata": {
        "nteract": {
          "transient": {
            "deleting": false
          }
        }
      }
    },
    {
      "cell_type": "code",
      "source": [
        "def obter_validar_nome(msg_info,msg_erro):\r\n",
        "    nome = input(msg_info)\r\n",
        "    while(len(nome) == 0):\r\n",
        "        print(msg_erro)\r\n",
        "        nome = input(msg_info)\r\n",
        "    return nome"
      ],
      "outputs": [],
      "execution_count": 53,
      "metadata": {
        "jupyter": {
          "source_hidden": false,
          "outputs_hidden": false
        },
        "nteract": {
          "transient": {
            "deleting": false
          }
        },
        "gather": {
          "logged": 1668294176543
        }
      }
    },
    {
      "cell_type": "code",
      "source": [
        "def obter_validar_nome_opcoes(msg_info,msg_erro,opcao1,opcao2):\r\n",
        "    nome = input(msg_info)\r\n",
        "    while(nome != opcao1 and nome != opcao2):\r\n",
        "        print(msg_erro)\r\n",
        "        nome = input(msg_info)\r\n",
        "    return nome"
      ],
      "outputs": [],
      "execution_count": 54,
      "metadata": {
        "jupyter": {
          "source_hidden": false,
          "outputs_hidden": false
        },
        "nteract": {
          "transient": {
            "deleting": false
          }
        },
        "gather": {
          "logged": 1668294177759
        }
      }
    },
    {
      "cell_type": "code",
      "source": [
        "'''\r\n",
        " Função que obrigatoriamente captura um número do usuário. Enquanto algo digitado não for um número, será lançado um erro.\r\n",
        " Não funciona com números negativos ou pontos flutuantes.\r\n",
        "'''\r\n",
        "def obter_numero(msg_apresentacao,msg_erro_1):\r\n",
        "    num = input(msg_apresentacao)\r\n",
        "    while(num.isdigit() == False):\r\n",
        "        print(msg_erro_1)\r\n",
        "        num = input(\"\")\r\n",
        "    return num"
      ],
      "outputs": [],
      "execution_count": 55,
      "metadata": {
        "jupyter": {
          "source_hidden": false,
          "outputs_hidden": false
        },
        "nteract": {
          "transient": {
            "deleting": false
          }
        },
        "gather": {
          "logged": 1668294180063
        }
      }
    },
    {
      "cell_type": "code",
      "source": [
        "def obter_validar_num_int(msg_apresentacao,msg_erro_1,msg_erro_2,minimo,maximo):\r\n",
        "    num = obter_numero(msg_apresentacao,msg_erro_1) \r\n",
        "    while (int(num) < minimo or int(num) > maximo):\r\n",
        "        print(msg_erro_2)\r\n",
        "        num = obter_numero(msg_apresentacao,msg_erro_1) \r\n",
        "    return int(num)"
      ],
      "outputs": [],
      "execution_count": 56,
      "metadata": {
        "jupyter": {
          "source_hidden": false,
          "outputs_hidden": false
        },
        "nteract": {
          "transient": {
            "deleting": false
          }
        },
        "gather": {
          "logged": 1668294181526
        }
      }
    },
    {
      "cell_type": "code",
      "source": [
        "def obter_validar_num_real(msg_apresentacao,msg_erro_1,msg_erro_2,minimo,maximo):\r\n",
        "    num = obter_numero(msg_apresentacao,msg_erro_1) \r\n",
        "    while (float(num) < minimo or float(num) > maximo):\r\n",
        "        print(msg_erro_2)\r\n",
        "        num = obter_numero(msg_apresentacao,msg_erro_1) \r\n",
        "    return float(num)"
      ],
      "outputs": [],
      "execution_count": 57,
      "metadata": {
        "jupyter": {
          "source_hidden": false,
          "outputs_hidden": false
        },
        "nteract": {
          "transient": {
            "deleting": false
          }
        },
        "gather": {
          "logged": 1668294183530
        }
      }
    },
    {
      "cell_type": "code",
      "source": [
        "'''\r\n",
        " Função que gera um código exclusivo para cada filme, conferindo se o filme existe no arquivo CSV.\r\n",
        "'''\r\n",
        "def gerar_cod_filme():\r\n",
        "    # Gera um código aleatório\r\n",
        "    cod_filme = rd.randint(1,999999)\r\n",
        "\r\n",
        "    # Lista de códigos armazenadas\r\n",
        "    lista_cod = []\r\n",
        "\r\n",
        "    # Checa a existência do arquivo filmes2.txt\r\n",
        "    if(os.path.exists(\"arquivos/filmes.csv\") == True):\r\n",
        "        # Confere se o código do filme já existe ou não, lista de filmes\r\n",
        "        with open(\"arquivos/filmes.csv\",\"r\") as arquivo_filmes: \r\n",
        "            reader = csv.reader(arquivo_filmes) \r\n",
        "            cabecalho = next(reader)\r\n",
        "            for linha in reader:\r\n",
        "                lista_cod.append(linha[0])\r\n",
        "            \r\n",
        "            # Verifica se o código já existe ou não. Caso exista gere novamente, até não existir mais.\r\n",
        "            while(str(cod_filme) in lista_cod):\r\n",
        "                cod_filme = rd.randint(1,999999)\r\n",
        "    else:\r\n",
        "        print(\"Arquivo de filmes.csv será criado\")\r\n",
        "    return cod_filme"
      ],
      "outputs": [],
      "execution_count": 58,
      "metadata": {
        "jupyter": {
          "source_hidden": false,
          "outputs_hidden": false
        },
        "nteract": {
          "transient": {
            "deleting": false
          }
        },
        "gather": {
          "logged": 1668294185528
        }
      }
    },
    {
      "cell_type": "code",
      "source": [
        "def remover_todos_filmes(msg_confirmacao,msg_erro):\r\n",
        "    if(os.path.exists(\"arquivos/filmes.csv\") == True):\r\n",
        "        opcao_confirmacao = obter_validar_nome(msg_confirmacao,msg_erro)\r\n",
        "        if(opcao_confirmacao.upper() == 'S'):\r\n",
        "            try:\r\n",
        "                # Por padrão shutil.rmtree não remove diretórios não vazios, exceto se especificamos o parâmetro ignore_errors como True\r\n",
        "                shutil.rmtree(\"arquivos\",ignore_errors=True)\r\n",
        "            except:\r\n",
        "                print('[ERRO] Ocorreram erros ao remover os filmes.')\r\n",
        "            else:\r\n",
        "                print('[INFO] Todos os filmes foram removidos.')\r\n",
        "    else:\r\n",
        "        print('[INFO] Não há filmes para remover.')\r\n"
      ],
      "outputs": [],
      "execution_count": 59,
      "metadata": {
        "jupyter": {
          "source_hidden": false,
          "outputs_hidden": false
        },
        "nteract": {
          "transient": {
            "deleting": false
          }
        },
        "gather": {
          "logged": 1668294188034
        }
      }
    },
    {
      "cell_type": "code",
      "source": [
        "'''\r\n",
        " Função que irá cadastrar um novo filme, armazenando em um arquivo chamado filmes.txt\r\n",
        " Dados dos filmes: \r\n",
        " 1 - código (valor único inteiro e exclusivo por filme), \r\n",
        " 2 - nome, \r\n",
        " 3 - ano de lançamento, \r\n",
        " 4 - nome completo do diretor, \r\n",
        " 5 - categoria (terror, romance, ficção, suspense, drama, comédia, infantil), \r\n",
        " 6 - média das avaliações pelos usuários (0.0 – 5.0, sendo 5 a nota máxima), \r\n",
        " 7 - idade de censura (ex: 16). \r\n",
        "'''\r\n",
        "def cadastrar_filme():\r\n",
        "    # Criando um filme com os valores inicializados, sendo código do filme a referência\r\n",
        "    filme_info = {\"cod_filme\":0,\\\r\n",
        "    \"nome_filme\":\"\", \\\r\n",
        "    \"ano_lancamento\":0, \\\r\n",
        "    \"nome_completo_diretor\":\"\", \\\r\n",
        "    \"categoria\":0, \\\r\n",
        "    \"media_avaliacoes\":0.0, \\\r\n",
        "    \"idade_censura\":0, \\\r\n",
        "    }\r\n",
        "    # Gerando o código do FILME exclusivo\r\n",
        "    cod_filme = gerar_cod_filme()\r\n",
        "    \r\n",
        "    # Capturando as informações\r\n",
        "    nome_filme = obter_validar_nome(\"Informe o nome do filme\",\"O nome do filme não pode ser vazio\")\r\n",
        "\r\n",
        "    ano_lancamento = obter_validar_num_int(\"Informe o ano de lançamento\", \\\r\n",
        "    \"[ERRO] Deve ser digitado um número\",\\\r\n",
        "    \"[ERRO] O valor deve ser um número entre 1950 e 9999\",\\\r\n",
        "    1950,\\\r\n",
        "    9999)\r\n",
        "\r\n",
        "    nome_completo_diretor = obter_validar_nome(\"Informe o nome completo do diretor\",\"[ERRO] O nome do diretor não pode ser vazio\")\r\n",
        "\r\n",
        "    categoria = obter_validar_num_int(\"Informe uma categoria: 1 terror, 2 romance, 3 ficção, 4 suspense, 5 drama, 6 comédia, 7 infantil \",\r\n",
        "    \"[ERRO] Deve ser digitado um número\", \\\r\n",
        "    \"O valor deve ser um número entre 1 e 7\", \\\r\n",
        "    min(list(range(1,8))),\r\n",
        "    max(list(range(1,8))))\r\n",
        "\r\n",
        "\r\n",
        "    media_avaliacoes = obter_validar_num_real(\"Informe uma média de avaliações. Digite o valor sem a casa decimal, exemplo: 4.2 = 42\", \"[ERRO] Deve ser digitado um número\", \\\r\n",
        "    \"O valor deve ser um número entre 0.0 e 5.0\", \\\r\n",
        "    0.0,\r\n",
        "    6.0)\r\n",
        "\r\n",
        "    idade_censura = obter_validar_num_int(\"Informe uma idade de censura: \",\r\n",
        "    \"[ERRO] Deve ser digitado um número\", \\\r\n",
        "    \"O valor deve ser um número entre 1 e 150\", \\\r\n",
        "    1,\r\n",
        "    150)\r\n",
        "\r\n",
        "    # Adicionado os valores ao dicionário\r\n",
        "    filme_info[\"cod_filme\"] = cod_filme\r\n",
        "    filme_info[\"nome_filme\"] = nome_filme\r\n",
        "    filme_info[\"ano_lancamento\"] = ano_lancamento\r\n",
        "    filme_info[\"nome_completo_diretor\"] = nome_completo_diretor\r\n",
        "    filme_info[\"categoria\"] = categoria\r\n",
        "    filme_info[\"media_avaliacoes\"] = media_avaliacoes\r\n",
        "    filme_info[\"idade_censura\"] = idade_censura\r\n",
        "\r\n",
        "    \r\n",
        "    if(os.path.exists(\"arquivos\") == False):\r\n",
        "        os.makedirs(\"arquivos\")\r\n",
        "    \r\n",
        "    if(os.path.exists(\"arquivos/filmes.csv\") == False):\r\n",
        "        with open('arquivos/filmes.csv', 'w', encoding='UTF8') as f:\r\n",
        "            w = csv.writer(f)\r\n",
        "            # Escrever o cabeçalho, ou seja, as colunas\r\n",
        "            w.writerow(filme_info.keys())\r\n",
        "            # Escreve os valores, ou seja, linhas\r\n",
        "            w.writerow(filme_info.values())\r\n",
        "            print('[INFO] Filme registro com êxito')\r\n",
        "    # Caso contrário, append\r\n",
        "    else:\r\n",
        "        with open(\"arquivos/filmes.csv\",\"a\") as arquivo_filmes: \r\n",
        "            w = csv.writer(arquivo_filmes)\r\n",
        "            # Escreve os valores, ou seja, linhas\r\n",
        "            w.writerow(filme_info.values())\r\n",
        "            print('[INFO] Filme registro com êxito')\r\n"
      ],
      "outputs": [],
      "execution_count": 60,
      "metadata": {
        "jupyter": {
          "source_hidden": false,
          "outputs_hidden": false
        },
        "nteract": {
          "transient": {
            "deleting": false
          }
        },
        "gather": {
          "logged": 1668294189534
        }
      }
    },
    {
      "cell_type": "code",
      "source": [
        "# Receberá  um item de uma lista com vários elementos\r\n",
        "def obter_info_filmes_alteracao(filme_original):\r\n",
        "    print('Alteração do filme')\r\n",
        "    # Capturando as informações\r\n",
        "    opcao = obter_validar_nome(\"Deseja alterar o nome do filme? S - SIM\",\"A opção não poderá ser VAZIA.\")\r\n",
        "    if(opcao.upper() == 'S'):\r\n",
        "        nome_filme = obter_validar_nome(\"Informe o nome do filme\",\"O nome do filme não pode ser vazio\")\r\n",
        "        filme_original[1] = nome_filme\r\n",
        "    \r\n",
        "    opcao = obter_validar_nome(\"Deseja alterar o ano do filme? S - SIM\",\"A opção não poderá ser VAZIA.\")\r\n",
        "    if(opcao.upper() == 'S'):\r\n",
        "        ano_lancamento = obter_validar_num_int(\"Informe o ano de lançamento\", \\\r\n",
        "        \"[ERRO] Deve ser digitado um número\",\\\r\n",
        "        \"[ERRO] O valor deve ser um número entre 1950 e 9999\",\\\r\n",
        "        1950,\\\r\n",
        "        9999)\r\n",
        "        filme_original[2] = ano_lancamento\r\n",
        "\r\n",
        "    opcao = obter_validar_nome(\"Deseja alterar o nome completo do diretor? S - SIM\",\"A opção não poderá ser VAZIA.\")\r\n",
        "    if(opcao.upper() == 'S'):\r\n",
        "        nome_completo_diretor = obter_validar_nome(\"Informe o nome completo do diretor\",\"[ERRO] O nome do diretor não pode ser vazio\")\r\n",
        "        filme_original[3] = nome_completo_diretor\r\n",
        "\r\n",
        "    opcao = obter_validar_nome(\"Deseja alterar a categoria do filme? S - SIM\",\"A opção não poderá ser VAZIA.\")\r\n",
        "    if(opcao.upper() == 'S'):\r\n",
        "        categoria = obter_validar_num_int(\"Informe uma categoria: 1 terror, 2 romance, 3 ficção, 4 suspense, 5 drama, 6 comédia, 7 infantil \",\r\n",
        "        \"[ERRO] Deve ser digitado um número\", \\\r\n",
        "        \"O valor deve ser um número entre 1 e 7\", \\\r\n",
        "        min(list(range(1,8))),\r\n",
        "        max(list(range(1,8))))\r\n",
        "        filme_original[4] = categoria\r\n",
        "\r\n",
        "    opcao = obter_validar_nome(\"Deseja alterar a média de avaliações? S - SIM\",\"A opção não poderá ser VAZIA.\")\r\n",
        "    if(opcao.upper() == 'S'):\r\n",
        "        media_avaliacoes = obter_validar_num_real(\"Informe uma média de avaliações. Digite o valor sem a casa decimal, exemplo: 4.2 = 42\", \"[ERRO] Deve ser digitado um número\", \\\r\n",
        "        \"O valor deve ser um número entre 0.0 e 5.0\", \\\r\n",
        "        0.0,\r\n",
        "        6.0)\r\n",
        "        filme_original[5] = media_avaliacoes\r\n",
        "    \r\n",
        "    opcao = obter_validar_nome(\"Deseja alterar a idade S - SIM\",\"A opção não poderá ser VAZIA.\")\r\n",
        "    if(opcao.upper() == 'S'):\r\n",
        "        idade_censura = obter_validar_num_int(\"Informe uma idade de censura: \",\r\n",
        "        \"[ERRO] Deve ser digitado um número\", \\\r\n",
        "        \"O valor deve ser um número entre 1 e 150\", \\\r\n",
        "        1,\r\n",
        "        150)\r\n",
        "        filme_original[6] = idade_censura\r\n",
        "    return filme_original\r\n"
      ],
      "outputs": [],
      "execution_count": 61,
      "metadata": {
        "jupyter": {
          "source_hidden": false,
          "outputs_hidden": false
        },
        "nteract": {
          "transient": {
            "deleting": false
          }
        },
        "gather": {
          "logged": 1668294194997
        }
      }
    },
    {
      "cell_type": "code",
      "source": [
        "def alterar_filme_cod_nome():\r\n",
        "    lista_filmes = []\r\n",
        "    if(os.path.exists(\"arquivos/filmes.csv\") == True):\r\n",
        "        with open(\"arquivos/filmes.csv\",\"r\") as arquivo_filmes: \r\n",
        "                reader = csv.reader(arquivo_filmes,delimiter = ',') \r\n",
        "                for row in reader:\r\n",
        "                    print(row)\r\n",
        "                    lista_filmes.append(row)\r\n",
        "                \r\n",
        "        item_lista = []\r\n",
        "        index_int = 0\r\n",
        "        pos_filme = 0\r\n",
        "\r\n",
        "        # Define qual critério usar\r\n",
        "        cod_filme_pesquisar = None\r\n",
        "        nome_filme_pesquisar = None\r\n",
        "\r\n",
        "        opcao = obter_validar_nome_opcoes(\"Deseja pesquisar o filme pelo nome ou código? N - para nome, C para código \",\"[ERRO] Uma opção deverá ser informado!\",'C','N')         \r\n",
        "        if(opcao.upper() == 'C'):\r\n",
        "            cod_filme_pesquisar = obter_numero(\"Informe o código do filme\",\"[ERRO] Um código de filme deverá ser informado!\") \r\n",
        "        if(opcao.upper() == 'N'):\r\n",
        "            nome_filme_pesquisar = obter_validar_nome(\"Informe o nome do filme\",\"[ERRO] Um nome de filme deverá ser informado!.\")\r\n",
        "        \r\n",
        "        for item_lista in lista_filmes:\r\n",
        "            # Cabeçalho - para evitar erro de conversão no cabeçalho\r\n",
        "            if (index_int != 0):\r\n",
        "                    # Pesquisa pelo código\r\n",
        "                    if(opcao.upper() == 'C'):\r\n",
        "                        if(int(cod_filme_pesquisar) == int(item_lista[0])):\r\n",
        "                            # Adiciona uma lista com esses elementos\r\n",
        "                            item_lista = obter_info_filmes_alteracao([item_lista[0],item_lista[1],item_lista[2],item_lista[3],item_lista[4],item_lista[5],item_lista[6]])\r\n",
        "                            pos_filme = index_int\r\n",
        "                            break\r\n",
        "                    # Pesquisa pelo nome\r\n",
        "                    if(opcao.upper() == 'N'):\r\n",
        "                        if(nome_filme_pesquisar == item_lista[1]):\r\n",
        "                            # Adiciona uma lista com esses elementos\r\n",
        "                            item_lista = obter_info_filmes_alteracao([item_lista[0],item_lista[1],item_lista[2],item_lista[3],item_lista[4],item_lista[5],item_lista[6]])\r\n",
        "                            pos_filme = index_int   \r\n",
        "                            break\r\n",
        "            index_int = index_int + 1\r\n",
        "                \r\n",
        "        # Atualizar a lista se somente encontrar.\r\n",
        "        if(pos_filme != 0):\r\n",
        "            lista_filmes[pos_filme] = item_lista\r\n",
        "            # Reescrever a lista final atualizada no arquivo.\r\n",
        "            with open('arquivos/filmes.csv', 'w', encoding='UTF8') as f:\r\n",
        "                w = csv.writer(f)\r\n",
        "                header = ['cod_filme','nome_filme','ano_lancamento','nome_completo_diretor','categoria','media_avaliacoes','idade_censura']\r\n",
        "                w.writerow(header)\r\n",
        "                i = 0\r\n",
        "                for item_lista in lista_filmes:\r\n",
        "                    if (i != 0):\r\n",
        "                        w.writerow(item_lista)\r\n",
        "                    i = i + 1\r\n",
        "                print('[INFO] Filmes registrados com êxito')\r\n",
        "        else:\r\n",
        "            print('[INFO] Filme não localizado.')\r\n",
        "    else:\r\n",
        "        print('[INFO] Não há filmes a mostrar!')\r\n",
        "\r\n"
      ],
      "outputs": [],
      "execution_count": 68,
      "metadata": {
        "jupyter": {
          "source_hidden": false,
          "outputs_hidden": false
        },
        "nteract": {
          "transient": {
            "deleting": false
          }
        },
        "gather": {
          "logged": 1668295081343
        }
      }
    },
    {
      "cell_type": "code",
      "source": [
        "def listar_filme_nome_cod():\r\n",
        "    flag = False\r\n",
        "    if(os.path.exists(\"arquivos/filmes.csv\") == True):\r\n",
        "        with open(\"arquivos/filmes.csv\",\"r\") as arquivo_filmes: \r\n",
        "            reader = csv.DictReader(arquivo_filmes)\r\n",
        "            opcao = obter_validar_nome(\"Deseja pesquisar o filme pelo nome ou código? N - para nome, C para código ou outra letra para voltar ao menu anterior \",\"[ERRO] Uma opção deverá ser informado!\")\r\n",
        "            if(opcao.upper() == 'N'):\r\n",
        "                nome_filme_pesquisar = obter_validar_nome(\"Informe o nome do filme\",\"[ERRO] Um nome deverá ser informado!\")\r\n",
        "                for row in reader:\r\n",
        "                    nome_filme = row[\"nome_filme\"]\r\n",
        "                    if (nome_filme_pesquisar == nome_filme):\r\n",
        "                        print('Filme localizado.')\r\n",
        "                        print('COD: ',row[\"cod_filme\"])\r\n",
        "                        print('NOME: ',row[\"nome_filme\"])\r\n",
        "                        print('ANO DE LANÇAMENTO: ',row[\"ano_lancamento\"])\r\n",
        "                        print('DIRETOR: ',row[\"nome_completo_diretor\"])    \r\n",
        "                        print('CATEGORIA: ',row[\"categoria\"])  \r\n",
        "                        print('MÉDIA DE AVALIAÇÕES: ',row[\"media_avaliacoes\"])  \r\n",
        "                        print('CENSURA DE IDADE: ',row[\"idade_censura\"])  \r\n",
        "                        flag = True\r\n",
        "                if(flag == False):\r\n",
        "                    print('Filme pesquisado pelo nome não localizado')\r\n",
        "                    \r\n",
        "            elif(opcao.upper() == 'C'):\r\n",
        "                cod_filme_pesquisar = obter_numero(\"Informe o código do filme\",\"[ERRO] Um código de filme deverá ser informado!\") \r\n",
        "                for row in reader:\r\n",
        "                    cod = row[\"cod_filme\"]\r\n",
        "                    if (cod_filme_pesquisar == cod):\r\n",
        "                        print('Filme localizado.')\r\n",
        "                        print('COD: ',row[\"cod_filme\"])\r\n",
        "                        print('NOME: ',row[\"nome_filme\"])\r\n",
        "                        print('ANO DE LANÇAMENTO: ',row[\"ano_lancamento\"])\r\n",
        "                        print('DIRETOR: ',row[\"nome_completo_diretor\"])    \r\n",
        "                        print('CATEGORIA: ',row[\"categoria\"])  \r\n",
        "                        print('MÉDIA DE AVALIAÇÕES: ',row[\"media_avaliacoes\"])  \r\n",
        "                        print('CENSURA DE IDADE: ',row[\"idade_censura\"])  \r\n",
        "                        flag = True\r\n",
        "                if(flag == False):\r\n",
        "                    print('Filme pesquisado pelo código não localizado')\r\n",
        "\r\n",
        "            else:\r\n",
        "                print(\"[INFO] Retornando ao menu principal ...\")\r\n",
        "        return\r\n",
        "    else:\r\n",
        "        print('[INFO] Não existem filmes para mostrar')"
      ],
      "outputs": [],
      "execution_count": 63,
      "metadata": {
        "jupyter": {
          "source_hidden": false,
          "outputs_hidden": false
        },
        "nteract": {
          "transient": {
            "deleting": false
          }
        },
        "gather": {
          "logged": 1668294201316
        }
      }
    },
    {
      "cell_type": "code",
      "source": [
        "def listar_todos_filmes():\r\n",
        "    # Verifica se o arquivo existe para listar\r\n",
        "    if(os.path.exists(\"arquivos/filmes.csv\") == True):\r\n",
        "        with open(\"arquivos/filmes.csv\",\"r\") as arquivo_filmes: \r\n",
        "            reader = csv.reader(arquivo_filmes,delimiter = ',') \r\n",
        "            for linha in reader:\r\n",
        "                print(linha)\r\n",
        "    else:\r\n",
        "        print('[INFO] Não existem filmes para mostrar')"
      ],
      "outputs": [],
      "execution_count": 64,
      "metadata": {
        "jupyter": {
          "source_hidden": false,
          "outputs_hidden": false
        },
        "nteract": {
          "transient": {
            "deleting": false
          }
        },
        "gather": {
          "logged": 1668294203802
        }
      }
    },
    {
      "cell_type": "code",
      "source": [
        "def mostrar_menu():\r\n",
        "    print(\"1 - Cadastrar filmes\")\r\n",
        "    print(\"2 - Excluir todos os filmes\")\r\n",
        "    print(\"3 - Listar todos os filmes\")\r\n",
        "    print(\"4 - Listar um determinado filme\")\r\n",
        "    print(\"5 - Alterar filme\")\r\n",
        "    print(\"6 - Encerrar o programa\")"
      ],
      "outputs": [],
      "execution_count": 65,
      "metadata": {
        "jupyter": {
          "source_hidden": false,
          "outputs_hidden": false
        },
        "nteract": {
          "transient": {
            "deleting": false
          }
        },
        "gather": {
          "logged": 1668294206216
        }
      }
    },
    {
      "cell_type": "markdown",
      "source": [
        "### Criação do Menu e Escolha"
      ],
      "metadata": {
        "nteract": {
          "transient": {
            "deleting": false
          }
        }
      }
    },
    {
      "cell_type": "code",
      "source": [
        "opcao = \"\"\r\n",
        "mostrar_menu()\r\n",
        "opcao = obter_validar_num_int(\"Informe uma opção: \", \\\r\n",
        "    \"[ERRO] Deve ser digitado um número\", \\\r\n",
        "    \"[ERRO] O valor deve ser um número entre 1 e 6\",\\\r\n",
        "    1, \\\r\n",
        "    6) \r\n"
      ],
      "outputs": [
        {
          "output_type": "stream",
          "name": "stdout",
          "text": "1 - Cadastrar filmes\n2 - Excluir todos os filmes\n3 - Listar todos os filmes\n4 - Listar um determinado filme\n5 - Alterar filme\n6 - Encerrar o programa\n"
        }
      ],
      "execution_count": 69,
      "metadata": {
        "jupyter": {
          "source_hidden": false,
          "outputs_hidden": false
        },
        "nteract": {
          "transient": {
            "deleting": false
          }
        },
        "gather": {
          "logged": 1668295105964
        }
      }
    },
    {
      "cell_type": "code",
      "source": [
        "while (opcao != 6):\r\n",
        "    # Cadastro de filmes\r\n",
        "    if (opcao == 1):\r\n",
        "        cadastrar_filme()\r\n",
        "    if (opcao == 2):\r\n",
        "        remover_todos_filmes(\"[INFO] Deseja realmente excluir todos os filmes, essa operação não poderá ser DESFEITA! Pressione S para SIM e outra tecla para não\",\r\n",
        "        \"[ERRO] Uma opção deve ser informada.\")\r\n",
        "    if (opcao == 3):\r\n",
        "        listar_todos_filmes()    \r\n",
        "    if (opcao == 4):\r\n",
        "        listar_filme_nome_cod()\r\n",
        "    if (opcao == 5):\r\n",
        "        alterar_filme_cod_nome()   \r\n",
        "    mostrar_menu()\r\n",
        "    print(\"Informe uma opção\")\r\n",
        "    opcao = obter_validar_num_int(\"Informe uma opção: \", \\\r\n",
        "    \"[ERRO] Deve ser digitado um número\", \\\r\n",
        "    \"O valor deve ser um número entre 1 e 6\",\\\r\n",
        "    1, \\\r\n",
        "    6) \r\n"
      ],
      "outputs": [
        {
          "output_type": "stream",
          "name": "stdout",
          "text": "['cod_filme', 'nome_filme', 'ano_lancamento', 'nome_completo_diretor', 'categoria', 'media_avaliacoes', 'idade_censura']\n['461976', 'Star Wars 2', '2001', 'Roger', '3', '5.0', '14']\n['896843', 'The Walking Dead', '2000', 'Ane', '3', '4.0', '18']\nAlteração do filme\n[INFO] Filmes registrados com êxito\n1 - Cadastrar filmes\n2 - Excluir todos os filmes\n3 - Listar todos os filmes\n4 - Listar um determinado filme\n5 - Alterar filme\n6 - Encerrar o programa\nInforme uma opção\n['cod_filme', 'nome_filme', 'ano_lancamento', 'nome_completo_diretor', 'categoria', 'media_avaliacoes', 'idade_censura']\n['461976', 'Star Wars 2', '2001', 'Roger', '3', '5.0', '14']\n['896843', 'The Walking Dead', '2004', 'Ane', '3', '4.0', '18']\n1 - Cadastrar filmes\n2 - Excluir todos os filmes\n3 - Listar todos os filmes\n4 - Listar um determinado filme\n5 - Alterar filme\n6 - Encerrar o programa\nInforme uma opção\n['cod_filme', 'nome_filme', 'ano_lancamento', 'nome_completo_diretor', 'categoria', 'media_avaliacoes', 'idade_censura']\n['461976', 'Star Wars 2', '2001', 'Roger', '3', '5.0', '14']\n['896843', 'The Walking Dead', '2004', 'Ane', '3', '4.0', '18']\nAlteração do filme\n[INFO] Filmes registrados com êxito\n1 - Cadastrar filmes\n2 - Excluir todos os filmes\n3 - Listar todos os filmes\n4 - Listar um determinado filme\n5 - Alterar filme\n6 - Encerrar o programa\nInforme uma opção\n['cod_filme', 'nome_filme', 'ano_lancamento', 'nome_completo_diretor', 'categoria', 'media_avaliacoes', 'idade_censura']\n['461976', 'Star Wars 2', '2001', 'Roger Cavalcante Sampaio', '3', '5.0', '18']\n['896843', 'The Walking Dead', '2004', 'Ane', '3', '4.0', '18']\n1 - Cadastrar filmes\n2 - Excluir todos os filmes\n3 - Listar todos os filmes\n4 - Listar um determinado filme\n5 - Alterar filme\n6 - Encerrar o programa\nInforme uma opção\n['cod_filme', 'nome_filme', 'ano_lancamento', 'nome_completo_diretor', 'categoria', 'media_avaliacoes', 'idade_censura']\n['461976', 'Star Wars 2', '2001', 'Roger Cavalcante Sampaio', '3', '5.0', '18']\n['896843', 'The Walking Dead', '2004', 'Ane', '3', '4.0', '18']\n[INFO] Filme não localizado.\n1 - Cadastrar filmes\n2 - Excluir todos os filmes\n3 - Listar todos os filmes\n4 - Listar um determinado filme\n5 - Alterar filme\n6 - Encerrar o programa\nInforme uma opção\n['cod_filme', 'nome_filme', 'ano_lancamento', 'nome_completo_diretor', 'categoria', 'media_avaliacoes', 'idade_censura']\n['461976', 'Star Wars 2', '2001', 'Roger Cavalcante Sampaio', '3', '5.0', '18']\n['896843', 'The Walking Dead', '2004', 'Ane', '3', '4.0', '18']\n[INFO] Filme não localizado.\n1 - Cadastrar filmes\n2 - Excluir todos os filmes\n3 - Listar todos os filmes\n4 - Listar um determinado filme\n5 - Alterar filme\n6 - Encerrar o programa\nInforme uma opção\n['cod_filme', 'nome_filme', 'ano_lancamento', 'nome_completo_diretor', 'categoria', 'media_avaliacoes', 'idade_censura']\n['461976', 'Star Wars 2', '2001', 'Roger Cavalcante Sampaio', '3', '5.0', '18']\n['896843', 'The Walking Dead', '2004', 'Ane', '3', '4.0', '18']\n1 - Cadastrar filmes\n2 - Excluir todos os filmes\n3 - Listar todos os filmes\n4 - Listar um determinado filme\n5 - Alterar filme\n6 - Encerrar o programa\nInforme uma opção\n"
        }
      ],
      "execution_count": 70,
      "metadata": {
        "jupyter": {
          "source_hidden": false,
          "outputs_hidden": false
        },
        "nteract": {
          "transient": {
            "deleting": false
          }
        },
        "gather": {
          "logged": 1668295275092
        }
      }
    }
  ],
  "metadata": {
    "kernelspec": {
      "name": "python38-azureml",
      "language": "python",
      "display_name": "Python 3.8 - AzureML"
    },
    "language_info": {
      "name": "python",
      "version": "3.8.5",
      "mimetype": "text/x-python",
      "codemirror_mode": {
        "name": "ipython",
        "version": 3
      },
      "pygments_lexer": "ipython3",
      "nbconvert_exporter": "python",
      "file_extension": ".py"
    },
    "nteract": {
      "version": "nteract-front-end@1.0.0"
    },
    "kernel_info": {
      "name": "python38-azureml"
    },
    "microsoft": {
      "host": {
        "AzureML": {
          "notebookHasBeenCompleted": true
        }
      }
    }
  },
  "nbformat": 4,
  "nbformat_minor": 2
}