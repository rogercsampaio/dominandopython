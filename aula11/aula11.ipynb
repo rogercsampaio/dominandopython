{
  "cells": [
    {
      "cell_type": "markdown",
      "source": [
        "# Aula 11: Correção de Exercícios da Aula 10"
      ],
      "metadata": {
        "nteract": {
          "transient": {
            "deleting": false
          }
        }
      }
    },
    {
      "cell_type": "markdown",
      "source": [
        "### Exercício 1"
      ],
      "metadata": {
        "nteract": {
          "transient": {
            "deleting": false
          }
        }
      }
    },
    {
      "cell_type": "code",
      "source": [
        "# Solicitar a primeira string e validar\r\n",
        "primeira_str = input(\"Informe a string 1: \")\r\n",
        "while(len(primeira_str) == 0):\r\n",
        "    print('A string 1 não pode ser vazia!')\r\n",
        "    print('Informe novamente.')\r\n",
        "    primeira_str = input(\"Informe a string 1: \")"
      ],
      "outputs": [],
      "execution_count": 9,
      "metadata": {
        "jupyter": {
          "source_hidden": false,
          "outputs_hidden": false
        },
        "nteract": {
          "transient": {
            "deleting": false
          }
        },
        "gather": {
          "logged": 1661394598619
        }
      }
    },
    {
      "cell_type": "code",
      "source": [
        "# Solicitar a segunda string e validar\r\n",
        "segunda_str = input(\"Informe a string 2: \")\r\n",
        "while(len(segunda_str) == 0):\r\n",
        "    print('A string 2 não pode ser vazia!')\r\n",
        "    print('Informe novamente.')\r\n",
        "    segunda_str = input(\"Informe a string 2: \")"
      ],
      "outputs": [],
      "execution_count": 10,
      "metadata": {
        "jupyter": {
          "source_hidden": false,
          "outputs_hidden": false
        },
        "nteract": {
          "transient": {
            "deleting": false
          }
        },
        "gather": {
          "logged": 1661394611517
        }
      }
    },
    {
      "cell_type": "code",
      "source": [
        "# Analisar as strings\r\n",
        "# Uma Forma de escrever\r\n",
        "print(f\"Tamanho da primeira string {len(primeira_str)}\")"
      ],
      "outputs": [
        {
          "output_type": "stream",
          "name": "stdout",
          "text": "Tamanho da primeira string 15\n"
        }
      ],
      "execution_count": 3,
      "metadata": {
        "jupyter": {
          "source_hidden": false,
          "outputs_hidden": false
        },
        "nteract": {
          "transient": {
            "deleting": false
          }
        },
        "gather": {
          "logged": 1661394540829
        }
      }
    },
    {
      "cell_type": "code",
      "source": [
        "# Uma Forma de escrever\r\n",
        "print(\"Tamanho da primeira string %d\" % len(primeira_str))"
      ],
      "outputs": [
        {
          "output_type": "stream",
          "name": "stdout",
          "text": "Tamanho da primeira string 15\n"
        }
      ],
      "execution_count": 4,
      "metadata": {
        "jupyter": {
          "source_hidden": false,
          "outputs_hidden": false
        },
        "nteract": {
          "transient": {
            "deleting": false
          }
        },
        "gather": {
          "logged": 1661394544330
        }
      }
    },
    {
      "cell_type": "code",
      "source": [
        "# Uma Forma de escrever\r\n",
        "print(\"Tamanho da primeira string \",len(primeira_str))"
      ],
      "outputs": [
        {
          "output_type": "stream",
          "name": "stdout",
          "text": "Tamanho da primeira string  15\n"
        }
      ],
      "execution_count": 5,
      "metadata": {
        "jupyter": {
          "source_hidden": false,
          "outputs_hidden": false
        },
        "nteract": {
          "transient": {
            "deleting": false
          }
        },
        "gather": {
          "logged": 1661394546896
        }
      }
    },
    {
      "cell_type": "code",
      "source": [
        "# Uma Forma de escrever\r\n",
        "print(\"Tamanho da primeira string \" + str(len(primeira_str)))"
      ],
      "outputs": [
        {
          "output_type": "stream",
          "name": "stdout",
          "text": "Tamanho da primeira string 15\n"
        }
      ],
      "execution_count": 6,
      "metadata": {
        "jupyter": {
          "source_hidden": false,
          "outputs_hidden": false
        },
        "nteract": {
          "transient": {
            "deleting": false
          }
        },
        "gather": {
          "logged": 1661394549441
        }
      }
    },
    {
      "cell_type": "code",
      "source": [
        "# Uma Forma de escrever\r\n",
        "tamanho_str1 = len(primeira_str)\r\n",
        "print(\"Tamanho da primeira string {0}\".format(tamanho_str1))"
      ],
      "outputs": [
        {
          "output_type": "stream",
          "name": "stdout",
          "text": "Tamanho da primeira string 15\n"
        }
      ],
      "execution_count": 7,
      "metadata": {
        "jupyter": {
          "source_hidden": false,
          "outputs_hidden": false
        },
        "nteract": {
          "transient": {
            "deleting": false
          }
        },
        "gather": {
          "logged": 1661394555692
        }
      }
    },
    {
      "cell_type": "code",
      "source": [
        "# Analisar as strings\r\n",
        "print(f\"String 1: {primeira_str}\")\r\n",
        "print(f\"String 2: {segunda_str}\")\r\n",
        "\r\n",
        "print(f\"Tamanho da primeira string: {len(primeira_str)} caracteres\")\r\n",
        "print(f\"Tamanho da segunda string: {len(segunda_str)} caracteres\")\r\n",
        "\r\n",
        "# Verificar o tamanho entre elas\r\n",
        "if(len(primeira_str) == len(segunda_str)):\r\n",
        "    print(\"As duas strings são de tamanhos iguais\")\r\n",
        "else:\r\n",
        "    print(\"As duas strings são de tamanhos diferentes\")\r\n",
        "\r\n",
        "# Verificar o conteúdo de cada uma\r\n",
        "if(primeira_str != segunda_str):\r\n",
        "    print(\"As duas strings possuem conteúdos diferentes.\")\r\n",
        "else:\r\n",
        "    print(\"As duas strings possuem conteúdos iguais.\")\r\n"
      ],
      "outputs": [
        {
          "output_type": "stream",
          "name": "stdout",
          "text": "String 1: Python é legal\nString 2: Python é opensource.\nTamanho da primeira string: 14 caracteres\nTamanho da segunda string: 20 caracteres\nAs duas strings são de tamanhos diferentes\nAs duas strings possuem conteúdos diferentes.\n"
        }
      ],
      "execution_count": 11,
      "metadata": {
        "jupyter": {
          "source_hidden": false,
          "outputs_hidden": false
        },
        "nteract": {
          "transient": {
            "deleting": false
          }
        },
        "gather": {
          "logged": 1661394616802
        }
      }
    },
    {
      "cell_type": "markdown",
      "source": [
        "### Exercício 2"
      ],
      "metadata": {
        "nteract": {
          "transient": {
            "deleting": false
          }
        }
      }
    },
    {
      "cell_type": "code",
      "source": [
        "# Solicitação de dados\r\n",
        "nome = input(\"Informe seu nome: \")\r\n",
        "while(nome == \"\"):\r\n",
        "    print('O nome não pode ser VAZIO.')\r\n",
        "    nome = input(\"Informe seu nome: \")\r\n"
      ],
      "outputs": [
        {
          "output_type": "stream",
          "name": "stdout",
          "text": "O nome não pode ser VAZIO.\n"
        }
      ],
      "execution_count": 12,
      "metadata": {
        "jupyter": {
          "source_hidden": false,
          "outputs_hidden": false
        },
        "nteract": {
          "transient": {
            "deleting": false
          }
        },
        "gather": {
          "logged": 1661394918092
        }
      }
    },
    {
      "cell_type": "code",
      "source": [
        "# Execução\r\n",
        "# Uma maneira de inverter\r\n",
        "nome_invertido = nome[::-1].upper()\r\n",
        "nome_invertido"
      ],
      "outputs": [
        {
          "output_type": "execute_result",
          "execution_count": 13,
          "data": {
            "text/plain": "'REGOR'"
          },
          "metadata": {}
        }
      ],
      "execution_count": 13,
      "metadata": {
        "jupyter": {
          "source_hidden": false,
          "outputs_hidden": false
        },
        "nteract": {
          "transient": {
            "deleting": false
          }
        },
        "gather": {
          "logged": 1661394920176
        }
      }
    },
    {
      "cell_type": "code",
      "source": [
        "# Outra maneira de inverter\r\n",
        "nome_invertido2 = ''.join(reversed(nome)).upper()\r\n",
        "nome_invertido2\r\n"
      ],
      "outputs": [
        {
          "output_type": "execute_result",
          "execution_count": 14,
          "data": {
            "text/plain": "'REGOR'"
          },
          "metadata": {}
        }
      ],
      "execution_count": 14,
      "metadata": {
        "jupyter": {
          "source_hidden": false,
          "outputs_hidden": false
        },
        "nteract": {
          "transient": {
            "deleting": false
          }
        },
        "gather": {
          "logged": 1661394928100
        }
      }
    },
    {
      "cell_type": "markdown",
      "source": [
        "### Exercício 3"
      ],
      "metadata": {
        "nteract": {
          "transient": {
            "deleting": false
          }
        }
      }
    },
    {
      "cell_type": "code",
      "source": [
        "dt_nascimento = input(\"Informe a data de nascimento no formato dd/mm/aaaa \")"
      ],
      "outputs": [],
      "execution_count": 15,
      "metadata": {
        "jupyter": {
          "source_hidden": false,
          "outputs_hidden": false
        },
        "nteract": {
          "transient": {
            "deleting": false
          }
        },
        "gather": {
          "logged": 1661395089323
        }
      }
    },
    {
      "cell_type": "code",
      "source": [
        "dt_nascimento_corte = dt_nascimento.split(\"/\")"
      ],
      "outputs": [],
      "execution_count": 16,
      "metadata": {
        "jupyter": {
          "source_hidden": false,
          "outputs_hidden": false
        },
        "nteract": {
          "transient": {
            "deleting": false
          }
        },
        "gather": {
          "logged": 1661395090948
        }
      }
    },
    {
      "cell_type": "code",
      "source": [
        "dt_nascimento_corte"
      ],
      "outputs": [
        {
          "output_type": "execute_result",
          "execution_count": 17,
          "data": {
            "text/plain": "['01', '02', '1988']"
          },
          "metadata": {}
        }
      ],
      "execution_count": 17,
      "metadata": {
        "jupyter": {
          "source_hidden": false,
          "outputs_hidden": false
        },
        "nteract": {
          "transient": {
            "deleting": false
          }
        },
        "gather": {
          "logged": 1661395093605
        }
      }
    },
    {
      "cell_type": "code",
      "source": [
        "dt_nascimento_corte[2]"
      ],
      "outputs": [
        {
          "output_type": "execute_result",
          "execution_count": 22,
          "data": {
            "text/plain": "'1988'"
          },
          "metadata": {}
        }
      ],
      "execution_count": 22,
      "metadata": {
        "jupyter": {
          "source_hidden": false,
          "outputs_hidden": false
        },
        "nteract": {
          "transient": {
            "deleting": false
          }
        },
        "gather": {
          "logged": 1661395135949
        }
      }
    },
    {
      "cell_type": "code",
      "source": [
        "mes_extenso = ''\r\n",
        "if (dt_nascimento_corte[1] == '01'):\r\n",
        "    mes_extenso = 'janeiro'\r\n",
        "\r\n",
        "if (dt_nascimento_corte[1] == '02'):\r\n",
        "    mes_extenso = 'fevereiro'\r\n",
        "\r\n",
        "if (dt_nascimento_corte[1] == '03'):\r\n",
        "    mes_extenso = 'março'\r\n",
        "\r\n",
        "if (dt_nascimento_corte[1] == '04'):\r\n",
        "    mes_extenso = 'abril'\r\n",
        "\r\n",
        "if (dt_nascimento_corte[1] == '05'):\r\n",
        "    mes_extenso = 'maio'\r\n",
        "\r\n",
        "if (dt_nascimento_corte[1] == '06'):\r\n",
        "    mes_extenso = 'junho'        \r\n",
        "\r\n",
        "if (dt_nascimento_corte[1] == '07'):\r\n",
        "    mes_extenso = 'julho'\r\n",
        "\r\n",
        "if (dt_nascimento_corte[1] == '08'):\r\n",
        "    mes_extenso = 'agosto'    \r\n",
        "\r\n",
        "if (dt_nascimento_corte[1] == '09'):\r\n",
        "    mes_extenso = 'setembro'   \r\n",
        "\r\n",
        "if (dt_nascimento_corte[1] == '10'):\r\n",
        "    mes_extenso = 'outubro'   \r\n",
        "\r\n",
        "if (dt_nascimento_corte[1] == '11'):\r\n",
        "    mes_extenso = 'novembro'           \r\n",
        "\r\n",
        "if (dt_nascimento_corte[1] == '12'):\r\n",
        "    mes_extenso = 'dezembro'\r\n",
        "\r\n",
        "print(dt_nascimento_corte[0] + \" de \" + mes_extenso + \" de \" + dt_nascimento_corte[2])\r\n"
      ],
      "outputs": [
        {
          "output_type": "stream",
          "name": "stdout",
          "text": "01 de fevereiro de 1988\n"
        }
      ],
      "execution_count": 24,
      "metadata": {
        "jupyter": {
          "source_hidden": false,
          "outputs_hidden": false
        },
        "nteract": {
          "transient": {
            "deleting": false
          }
        },
        "gather": {
          "logged": 1661395158528
        }
      }
    },
    {
      "cell_type": "markdown",
      "source": [],
      "metadata": {
        "nteract": {
          "transient": {
            "deleting": false
          }
        }
      }
    },
    {
      "cell_type": "markdown",
      "source": [
        "### Exercício 4"
      ],
      "metadata": {
        "nteract": {
          "transient": {
            "deleting": false
          }
        }
      }
    },
    {
      "cell_type": "code",
      "source": [
        "# Solicitação do texto e validação\r\n",
        "txt = input(\"Informe o texto para verificar se é palíndromo: \")\r\n",
        "while(txt == \"\"):\r\n",
        "    print('O texto não pode ser VAZIO.')\r\n",
        "    txt = input(\"Informe o texto para verificar se é palíndromo: \")"
      ],
      "outputs": [],
      "execution_count": 33,
      "metadata": {
        "jupyter": {
          "source_hidden": false,
          "outputs_hidden": false
        },
        "nteract": {
          "transient": {
            "deleting": false
          }
        },
        "gather": {
          "logged": 1661395908915
        }
      }
    },
    {
      "cell_type": "code",
      "source": [
        "# Analisar\r\n",
        "# Tirando os espacos\r\n",
        "txt = txt.replace(\" \",\"\")\r\n",
        "# strip - resolveria?\r\n",
        "\r\n",
        "# Invertendo o texto\r\n",
        "txt_invertido = txt[::-1]\r\n",
        "\r\n",
        "if(txt == txt_invertido):\r\n",
        "  print(\"É um palíndromo\")\r\n",
        "else:\r\n",
        "  print(\"Não é um palíndromo\")"
      ],
      "outputs": [
        {
          "output_type": "stream",
          "name": "stdout",
          "text": "Não é um palíndromo\n"
        }
      ],
      "execution_count": 34,
      "metadata": {
        "jupyter": {
          "source_hidden": false,
          "outputs_hidden": false
        },
        "nteract": {
          "transient": {
            "deleting": false
          }
        },
        "gather": {
          "logged": 1661395910801
        }
      }
    },
    {
      "cell_type": "markdown",
      "source": [
        "## Exercício 5"
      ],
      "metadata": {
        "nteract": {
          "transient": {
            "deleting": false
          }
        }
      }
    },
    {
      "cell_type": "code",
      "source": [
        "telefone = input(\"Informe o telefone: \")"
      ],
      "outputs": [],
      "execution_count": 39,
      "metadata": {
        "jupyter": {
          "source_hidden": false,
          "outputs_hidden": false
        },
        "nteract": {
          "transient": {
            "deleting": false
          }
        },
        "gather": {
          "logged": 1661396422491
        }
      }
    },
    {
      "cell_type": "code",
      "source": [
        "# Validar somente números\r\n",
        "# Se tiver o -, tiremos para validar\r\n",
        "telefone_sem_hifen = telefone.replace(\"-\",\"\")\r\n",
        "while(telefone_sem_hifen.isdigit() == False):\r\n",
        "  print(\"O telefone deve conter somente números \")\r\n",
        "  telefone = input(\"Informe o telefone: \")\r\n",
        "  telefone_sem_hifen = telefone.replace(\"-\",\"\")"
      ],
      "outputs": [],
      "execution_count": 40,
      "metadata": {
        "jupyter": {
          "source_hidden": false,
          "outputs_hidden": false
        },
        "nteract": {
          "transient": {
            "deleting": false
          }
        },
        "gather": {
          "logged": 1661396424444
        }
      }
    },
    {
      "cell_type": "code",
      "source": [
        "while(len(telefone_sem_hifen) != 7 and len(telefone_sem_hifen) != 8):\r\n",
        "  print(\"O telefone deve conter obrigatoriamente 7 ou 8 dígitos. \")\r\n",
        "  telefone = input(\"Informe o telefone: \")\r\n",
        "  telefone_sem_hifen = telefone.replace(\"-\",\"\")"
      ],
      "outputs": [],
      "execution_count": 41,
      "metadata": {
        "jupyter": {
          "source_hidden": false,
          "outputs_hidden": false
        },
        "nteract": {
          "transient": {
            "deleting": false
          }
        },
        "gather": {
          "logged": 1661396426987
        }
      }
    },
    {
      "cell_type": "code",
      "source": [
        "# Contar mas sem o -\r\n",
        "if(len(telefone_sem_hifen) == 7):\r\n",
        "  print('Telefone possui 7 dígitos. Vou acrescentar o digito três na frente.')\r\n",
        "  # Acrescenta o 3\r\n",
        "  telefone = '3' + telefone\r\n",
        "\r\n",
        "print('Telefone corrigido sem formatação: ',telefone)\r\n",
        "\r\n",
        "# Se não tiver o -\r\n",
        "if(telefone.find(\"-\") == -1):\r\n",
        "  print('Telefone corrigido com formatação: ',telefone[0:4]+\"-\" + telefone[5:])\r\n",
        "# Caso tenha o -\r\n",
        "else:\r\n",
        "  print('Telefone corrigido com formatação: ',telefone[:])\r\n",
        "\r\n",
        "# DESAFIO: Como seria validar a posição do hífen?"
      ],
      "outputs": [
        {
          "output_type": "stream",
          "name": "stdout",
          "text": "Telefone possui 7 dígitos. Vou acrescentar o digito três na frente.\nTelefone corrigido sem formatação:  33356765\nTelefone corrigido com formatação:  3335-765\n"
        }
      ],
      "execution_count": 42,
      "metadata": {
        "jupyter": {
          "source_hidden": false,
          "outputs_hidden": false
        },
        "nteract": {
          "transient": {
            "deleting": false
          }
        },
        "gather": {
          "logged": 1661396429064
        }
      }
    }
  ],
  "metadata": {
    "kernelspec": {
      "name": "python38-azureml",
      "language": "python",
      "display_name": "Python 3.8 - AzureML"
    },
    "language_info": {
      "name": "python",
      "version": "3.8.5",
      "mimetype": "text/x-python",
      "codemirror_mode": {
        "name": "ipython",
        "version": 3
      },
      "pygments_lexer": "ipython3",
      "nbconvert_exporter": "python",
      "file_extension": ".py"
    },
    "kernel_info": {
      "name": "python38-azureml"
    },
    "nteract": {
      "version": "nteract-front-end@1.0.0"
    },
    "microsoft": {
      "host": {
        "AzureML": {
          "notebookHasBeenCompleted": true
        }
      }
    }
  },
  "nbformat": 4,
  "nbformat_minor": 2
}